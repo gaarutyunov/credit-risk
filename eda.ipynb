{
 "nbformat": 4,
 "nbformat_minor": 0,
 "metadata": {
  "colab": {
   "name": "lending club.ipynb",
   "provenance": [],
   "collapsed_sections": []
  },
  "kernelspec": {
   "name": "python3",
   "display_name": "Python 3"
  },
  "language_info": {
   "name": "python"
  }
 },
 "cells": [
  {
   "cell_type": "code",
   "source": [
    "import pandas as pd\n",
    "import numpy as np\n",
    "import sklearn as sk\n",
    "import matplotlib.pyplot as plt\n",
    "%config InlineBackend.figure_format='retina'\n",
    "plt.rcParams[\"figure.dpi\"] = 70\n",
    "import seaborn as sns\n",
    "\n",
    "%load_ext autoreload\n",
    "%autoreload 2"
   ],
   "metadata": {
    "id": "2Ln7B5RGhOH5",
    "pycharm": {
     "name": "#%%\n"
    }
   },
   "execution_count": 21,
   "outputs": []
  },
  {
   "cell_type": "markdown",
   "source": [
    "[Неплохой разбор, есть определения переменных](http://rstudio-pubs-static.s3.amazonaws.com/290261_676d9bb194ae4c9882f599e7c0a808f2.html)"
   ],
   "metadata": {
    "id": "ZOiE4tk_42hJ",
    "pycharm": {
     "name": "#%% md\n"
    }
   }
  },
  {
   "cell_type": "code",
   "execution_count": 38,
   "outputs": [
    {
     "name": "stderr",
     "output_type": "stream",
     "text": [
      "[autoreload of utils failed: Traceback (most recent call last):\n",
      "  File \"/Users/user/opt/anaconda3/lib/python3.9/site-packages/IPython/extensions/autoreload.py\", line 245, in check\n",
      "    superreload(m, reload, self.old_objects)\n",
      "  File \"/Users/user/opt/anaconda3/lib/python3.9/site-packages/IPython/extensions/autoreload.py\", line 394, in superreload\n",
      "    module = reload(module)\n",
      "  File \"/Users/user/opt/anaconda3/lib/python3.9/imp.py\", line 314, in reload\n",
      "    return importlib.reload(module)\n",
      "  File \"/Users/user/opt/anaconda3/lib/python3.9/importlib/__init__.py\", line 169, in reload\n",
      "    _bootstrap._exec(spec, module)\n",
      "  File \"<frozen importlib._bootstrap>\", line 613, in _exec\n",
      "  File \"<frozen importlib._bootstrap_external>\", line 846, in exec_module\n",
      "  File \"<frozen importlib._bootstrap_external>\", line 983, in get_code\n",
      "  File \"<frozen importlib._bootstrap_external>\", line 913, in source_to_code\n",
      "  File \"<frozen importlib._bootstrap>\", line 228, in _call_with_frames_removed\n",
      "  File \"/Users/user/credit-risk/utils.py\", line 8\n",
      "    'rejected_2007_to_2018Q4.csv'}\n",
      "                                 ^\n",
      "SyntaxError: invalid syntax\n",
      "]\n"
     ]
    }
   ],
   "source": [
    "df = pd.read_csv('data/rejected_2007_to_2018Q4.csv')"
   ],
   "metadata": {
    "collapsed": false,
    "pycharm": {
     "name": "#%%\n"
    }
   }
  },
  {
   "cell_type": "code",
   "source": [
    "from utils import load_csv_compressed\n",
    "\n",
    "accepted = load_csv_compressed('data/accepted_2007_to_2018Q4.csv')"
   ],
   "metadata": {
    "colab": {
     "base_uri": "https://localhost:8080/"
    },
    "id": "VMfzWUvZheHP",
    "outputId": "98e9baa9-8b89-4a31-f2af-0f91281b17c1",
    "pycharm": {
     "name": "#%%\n"
    }
   },
   "execution_count": 55,
   "outputs": []
  },
  {
   "cell_type": "code",
   "source": [
    "accepted['label'] = accepted['loan_status'].replace(('Fully Paid', \n",
    "                                                      'Charged Off',\n",
    "                                                      'Does not meet the credit policy. Status:Fully Paid',\n",
    "                                                      'Does not meet the credit policy. Status:Charged Off',\n",
    "                                                     'Default'\n",
    "                                                    ),\n",
    "                                                               (0, 1, 0, 1, 1))"
   ],
   "metadata": {
    "id": "RvaposDSkEB8",
    "pycharm": {
     "name": "#%%\n"
    }
   },
   "execution_count": 3,
   "outputs": []
  },
  {
   "cell_type": "code",
   "source": [
    "accepted['label'] = accepted['label'].replace('Default', 1)"
   ],
   "metadata": {
    "id": "JTrpWx-xl1VE",
    "pycharm": {
     "name": "#%%\n"
    }
   },
   "execution_count": 4,
   "outputs": []
  },
  {
   "cell_type": "code",
   "source": [
    "accepted.drop(index=accepted[~accepted.label.isin([0, 1])].index, inplace=True)"
   ],
   "metadata": {
    "id": "yU8iwRKbkUcP",
    "pycharm": {
     "name": "#%%\n"
    }
   },
   "execution_count": 5,
   "outputs": []
  },
  {
   "cell_type": "code",
   "source": [
    "accepted.drop(columns=accepted.columns[((accepted.isna().sum() / accepted.shape[0] * 100) > 10).values], inplace=True)"
   ],
   "metadata": {
    "id": "wksEL0wjnf31",
    "pycharm": {
     "name": "#%%\n"
    }
   },
   "execution_count": 6,
   "outputs": []
  },
  {
   "cell_type": "code",
   "source": [
    "numeric = accepted.select_dtypes(include=np.number).columns\n",
    "categorical = accepted.select_dtypes(exclude=np.number).columns"
   ],
   "metadata": {
    "id": "BcjNLxNvrJn1",
    "pycharm": {
     "name": "#%%\n"
    }
   },
   "execution_count": 7,
   "outputs": []
  },
  {
   "cell_type": "code",
   "source": [
    "corr = accepted[numeric].corr()"
   ],
   "metadata": {
    "colab": {
     "base_uri": "https://localhost:8080/",
     "height": 488
    },
    "id": "sqBh1o1wtprA",
    "outputId": "4f449d80-2363-48b8-fb52-4bf11f355540",
    "pycharm": {
     "name": "#%%\n"
    }
   },
   "execution_count": 8,
   "outputs": [
    {
     "output_type": "execute_result",
     "data": {
      "text/plain": [
       "                            loan_amnt  funded_amnt  funded_amnt_inv  int_rate  \\\n",
       "loan_amnt                    1.000000     0.999545         0.998214  0.141432   \n",
       "funded_amnt                  0.999545     1.000000         0.998777  0.141519   \n",
       "funded_amnt_inv              0.998214     0.998777         1.000000  0.141589   \n",
       "int_rate                     0.141432     0.141519         0.141589  1.000000   \n",
       "installment                  0.953435     0.954105         0.952714  0.153703   \n",
       "...                               ...          ...              ...       ...   \n",
       "tax_liens                    0.007577     0.007712         0.008014  0.011762   \n",
       "tot_hi_cred_lim              0.335855     0.335854         0.335883 -0.119004   \n",
       "total_bal_ex_mort            0.276394     0.276394         0.276401  0.003636   \n",
       "total_bc_limit               0.372893     0.372901         0.372934 -0.229684   \n",
       "total_il_high_credit_limit   0.200108     0.200105         0.200109 -0.004205   \n",
       "\n",
       "                            installment  annual_inc       dti  delinq_2yrs  \\\n",
       "loan_amnt                      0.953435    0.311851  0.032548    -0.002912   \n",
       "funded_amnt                    0.954105    0.311742  0.032952    -0.002716   \n",
       "funded_amnt_inv                0.952714    0.311208  0.034054    -0.002410   \n",
       "int_rate                       0.153703   -0.072114  0.146776     0.048301   \n",
       "installment                    1.000000    0.302610  0.036243     0.006540   \n",
       "...                                 ...         ...       ...          ...   \n",
       "tax_liens                      0.014536    0.037787 -0.022950     0.011228   \n",
       "tot_hi_cred_lim                0.303059    0.411355  0.014401     0.058160   \n",
       "total_bal_ex_mort              0.261041    0.316955  0.226223     0.031896   \n",
       "total_bc_limit                 0.340721    0.270169  0.026529    -0.075717   \n",
       "total_il_high_credit_limit     0.185375    0.263116  0.255081     0.062092   \n",
       "\n",
       "                            fico_range_low  fico_range_high  ...  \\\n",
       "loan_amnt                         0.101525         0.101524  ...   \n",
       "funded_amnt                       0.100681         0.100680  ...   \n",
       "funded_amnt_inv                   0.099887         0.099886  ...   \n",
       "int_rate                         -0.405484        -0.405481  ...   \n",
       "installment                       0.051547         0.051547  ...   \n",
       "...                                    ...              ...  ...   \n",
       "tax_liens                        -0.057701        -0.057701  ...   \n",
       "tot_hi_cred_lim                   0.196957         0.196958  ...   \n",
       "total_bal_ex_mort                 0.032828         0.032825  ...   \n",
       "total_bc_limit                    0.375048         0.375048  ...   \n",
       "total_il_high_credit_limit        0.063575         0.063573  ...   \n",
       "\n",
       "                            num_tl_90g_dpd_24m  num_tl_op_past_12m  \\\n",
       "loan_amnt                            -0.022199           -0.020764   \n",
       "funded_amnt                          -0.022201           -0.020766   \n",
       "funded_amnt_inv                      -0.022215           -0.020782   \n",
       "int_rate                              0.026725            0.208280   \n",
       "installment                          -0.016670           -0.000408   \n",
       "...                                        ...                 ...   \n",
       "tax_liens                             0.002163            0.016856   \n",
       "tot_hi_cred_lim                       0.005857            0.088273   \n",
       "total_bal_ex_mort                     0.015696            0.119801   \n",
       "total_bc_limit                       -0.058701            0.042170   \n",
       "total_il_high_credit_limit            0.033093            0.141629   \n",
       "\n",
       "                            pct_tl_nvr_dlq  percent_bc_gt_75  \\\n",
       "loan_amnt                         0.089646          0.021674   \n",
       "funded_amnt                       0.089646          0.021673   \n",
       "funded_amnt_inv                   0.089660          0.021622   \n",
       "int_rate                         -0.063515          0.251162   \n",
       "installment                       0.072058          0.041112   \n",
       "...                                    ...               ...   \n",
       "tax_liens                        -0.033913         -0.018514   \n",
       "tot_hi_cred_lim                   0.025668         -0.018067   \n",
       "total_bal_ex_mort                 0.063874          0.061256   \n",
       "total_bc_limit                    0.215088         -0.215060   \n",
       "total_il_high_credit_limit        0.016161          0.009938   \n",
       "\n",
       "                            pub_rec_bankruptcies  tax_liens  tot_hi_cred_lim  \\\n",
       "loan_amnt                              -0.094254   0.007577         0.335855   \n",
       "funded_amnt                            -0.094056   0.007712         0.335854   \n",
       "funded_amnt_inv                        -0.093681   0.008014         0.335883   \n",
       "int_rate                                0.058847   0.011762        -0.119004   \n",
       "installment                            -0.086347   0.014536         0.303059   \n",
       "...                                          ...        ...              ...   \n",
       "tax_liens                               0.035863   1.000000        -0.001579   \n",
       "tot_hi_cred_lim                        -0.107868  -0.001579         1.000000   \n",
       "total_bal_ex_mort                      -0.078053  -0.002010         0.507682   \n",
       "total_bc_limit                         -0.154062  -0.024981         0.397174   \n",
       "total_il_high_credit_limit             -0.036123   0.005971         0.400466   \n",
       "\n",
       "                            total_bal_ex_mort  total_bc_limit  \\\n",
       "loan_amnt                            0.276394        0.372893   \n",
       "funded_amnt                          0.276394        0.372901   \n",
       "funded_amnt_inv                      0.276401        0.372934   \n",
       "int_rate                             0.003636       -0.229684   \n",
       "installment                          0.261041        0.340721   \n",
       "...                                       ...             ...   \n",
       "tax_liens                           -0.002010       -0.024981   \n",
       "tot_hi_cred_lim                      0.507682        0.397174   \n",
       "total_bal_ex_mort                    1.000000        0.285927   \n",
       "total_bc_limit                       0.285927        1.000000   \n",
       "total_il_high_credit_limit           0.872655        0.117485   \n",
       "\n",
       "                            total_il_high_credit_limit  \n",
       "loan_amnt                                     0.200108  \n",
       "funded_amnt                                   0.200105  \n",
       "funded_amnt_inv                               0.200109  \n",
       "int_rate                                     -0.004205  \n",
       "installment                                   0.185375  \n",
       "...                                                ...  \n",
       "tax_liens                                     0.005971  \n",
       "tot_hi_cred_lim                               0.400466  \n",
       "total_bal_ex_mort                             0.872655  \n",
       "total_bc_limit                                0.117485  \n",
       "total_il_high_credit_limit                    1.000000  \n",
       "\n",
       "[68 rows x 68 columns]"
      ],
      "text/html": [
       "\n",
       "  <div id=\"df-a1ddf7d6-b2cb-4427-8a3c-6a949cad6a62\">\n",
       "    <div class=\"colab-df-container\">\n",
       "      <div>\n",
       "<style scoped>\n",
       "    .dataframe tbody tr th:only-of-type {\n",
       "        vertical-align: middle;\n",
       "    }\n",
       "\n",
       "    .dataframe tbody tr th {\n",
       "        vertical-align: top;\n",
       "    }\n",
       "\n",
       "    .dataframe thead th {\n",
       "        text-align: right;\n",
       "    }\n",
       "</style>\n",
       "<table border=\"1\" class=\"dataframe\">\n",
       "  <thead>\n",
       "    <tr style=\"text-align: right;\">\n",
       "      <th></th>\n",
       "      <th>loan_amnt</th>\n",
       "      <th>funded_amnt</th>\n",
       "      <th>funded_amnt_inv</th>\n",
       "      <th>int_rate</th>\n",
       "      <th>installment</th>\n",
       "      <th>annual_inc</th>\n",
       "      <th>dti</th>\n",
       "      <th>delinq_2yrs</th>\n",
       "      <th>fico_range_low</th>\n",
       "      <th>fico_range_high</th>\n",
       "      <th>...</th>\n",
       "      <th>num_tl_90g_dpd_24m</th>\n",
       "      <th>num_tl_op_past_12m</th>\n",
       "      <th>pct_tl_nvr_dlq</th>\n",
       "      <th>percent_bc_gt_75</th>\n",
       "      <th>pub_rec_bankruptcies</th>\n",
       "      <th>tax_liens</th>\n",
       "      <th>tot_hi_cred_lim</th>\n",
       "      <th>total_bal_ex_mort</th>\n",
       "      <th>total_bc_limit</th>\n",
       "      <th>total_il_high_credit_limit</th>\n",
       "    </tr>\n",
       "  </thead>\n",
       "  <tbody>\n",
       "    <tr>\n",
       "      <th>loan_amnt</th>\n",
       "      <td>1.000000</td>\n",
       "      <td>0.999545</td>\n",
       "      <td>0.998214</td>\n",
       "      <td>0.141432</td>\n",
       "      <td>0.953435</td>\n",
       "      <td>0.311851</td>\n",
       "      <td>0.032548</td>\n",
       "      <td>-0.002912</td>\n",
       "      <td>0.101525</td>\n",
       "      <td>0.101524</td>\n",
       "      <td>...</td>\n",
       "      <td>-0.022199</td>\n",
       "      <td>-0.020764</td>\n",
       "      <td>0.089646</td>\n",
       "      <td>0.021674</td>\n",
       "      <td>-0.094254</td>\n",
       "      <td>0.007577</td>\n",
       "      <td>0.335855</td>\n",
       "      <td>0.276394</td>\n",
       "      <td>0.372893</td>\n",
       "      <td>0.200108</td>\n",
       "    </tr>\n",
       "    <tr>\n",
       "      <th>funded_amnt</th>\n",
       "      <td>0.999545</td>\n",
       "      <td>1.000000</td>\n",
       "      <td>0.998777</td>\n",
       "      <td>0.141519</td>\n",
       "      <td>0.954105</td>\n",
       "      <td>0.311742</td>\n",
       "      <td>0.032952</td>\n",
       "      <td>-0.002716</td>\n",
       "      <td>0.100681</td>\n",
       "      <td>0.100680</td>\n",
       "      <td>...</td>\n",
       "      <td>-0.022201</td>\n",
       "      <td>-0.020766</td>\n",
       "      <td>0.089646</td>\n",
       "      <td>0.021673</td>\n",
       "      <td>-0.094056</td>\n",
       "      <td>0.007712</td>\n",
       "      <td>0.335854</td>\n",
       "      <td>0.276394</td>\n",
       "      <td>0.372901</td>\n",
       "      <td>0.200105</td>\n",
       "    </tr>\n",
       "    <tr>\n",
       "      <th>funded_amnt_inv</th>\n",
       "      <td>0.998214</td>\n",
       "      <td>0.998777</td>\n",
       "      <td>1.000000</td>\n",
       "      <td>0.141589</td>\n",
       "      <td>0.952714</td>\n",
       "      <td>0.311208</td>\n",
       "      <td>0.034054</td>\n",
       "      <td>-0.002410</td>\n",
       "      <td>0.099887</td>\n",
       "      <td>0.099886</td>\n",
       "      <td>...</td>\n",
       "      <td>-0.022215</td>\n",
       "      <td>-0.020782</td>\n",
       "      <td>0.089660</td>\n",
       "      <td>0.021622</td>\n",
       "      <td>-0.093681</td>\n",
       "      <td>0.008014</td>\n",
       "      <td>0.335883</td>\n",
       "      <td>0.276401</td>\n",
       "      <td>0.372934</td>\n",
       "      <td>0.200109</td>\n",
       "    </tr>\n",
       "    <tr>\n",
       "      <th>int_rate</th>\n",
       "      <td>0.141432</td>\n",
       "      <td>0.141519</td>\n",
       "      <td>0.141589</td>\n",
       "      <td>1.000000</td>\n",
       "      <td>0.153703</td>\n",
       "      <td>-0.072114</td>\n",
       "      <td>0.146776</td>\n",
       "      <td>0.048301</td>\n",
       "      <td>-0.405484</td>\n",
       "      <td>-0.405481</td>\n",
       "      <td>...</td>\n",
       "      <td>0.026725</td>\n",
       "      <td>0.208280</td>\n",
       "      <td>-0.063515</td>\n",
       "      <td>0.251162</td>\n",
       "      <td>0.058847</td>\n",
       "      <td>0.011762</td>\n",
       "      <td>-0.119004</td>\n",
       "      <td>0.003636</td>\n",
       "      <td>-0.229684</td>\n",
       "      <td>-0.004205</td>\n",
       "    </tr>\n",
       "    <tr>\n",
       "      <th>installment</th>\n",
       "      <td>0.953435</td>\n",
       "      <td>0.954105</td>\n",
       "      <td>0.952714</td>\n",
       "      <td>0.153703</td>\n",
       "      <td>1.000000</td>\n",
       "      <td>0.302610</td>\n",
       "      <td>0.036243</td>\n",
       "      <td>0.006540</td>\n",
       "      <td>0.051547</td>\n",
       "      <td>0.051547</td>\n",
       "      <td>...</td>\n",
       "      <td>-0.016670</td>\n",
       "      <td>-0.000408</td>\n",
       "      <td>0.072058</td>\n",
       "      <td>0.041112</td>\n",
       "      <td>-0.086347</td>\n",
       "      <td>0.014536</td>\n",
       "      <td>0.303059</td>\n",
       "      <td>0.261041</td>\n",
       "      <td>0.340721</td>\n",
       "      <td>0.185375</td>\n",
       "    </tr>\n",
       "    <tr>\n",
       "      <th>...</th>\n",
       "      <td>...</td>\n",
       "      <td>...</td>\n",
       "      <td>...</td>\n",
       "      <td>...</td>\n",
       "      <td>...</td>\n",
       "      <td>...</td>\n",
       "      <td>...</td>\n",
       "      <td>...</td>\n",
       "      <td>...</td>\n",
       "      <td>...</td>\n",
       "      <td>...</td>\n",
       "      <td>...</td>\n",
       "      <td>...</td>\n",
       "      <td>...</td>\n",
       "      <td>...</td>\n",
       "      <td>...</td>\n",
       "      <td>...</td>\n",
       "      <td>...</td>\n",
       "      <td>...</td>\n",
       "      <td>...</td>\n",
       "      <td>...</td>\n",
       "    </tr>\n",
       "    <tr>\n",
       "      <th>tax_liens</th>\n",
       "      <td>0.007577</td>\n",
       "      <td>0.007712</td>\n",
       "      <td>0.008014</td>\n",
       "      <td>0.011762</td>\n",
       "      <td>0.014536</td>\n",
       "      <td>0.037787</td>\n",
       "      <td>-0.022950</td>\n",
       "      <td>0.011228</td>\n",
       "      <td>-0.057701</td>\n",
       "      <td>-0.057701</td>\n",
       "      <td>...</td>\n",
       "      <td>0.002163</td>\n",
       "      <td>0.016856</td>\n",
       "      <td>-0.033913</td>\n",
       "      <td>-0.018514</td>\n",
       "      <td>0.035863</td>\n",
       "      <td>1.000000</td>\n",
       "      <td>-0.001579</td>\n",
       "      <td>-0.002010</td>\n",
       "      <td>-0.024981</td>\n",
       "      <td>0.005971</td>\n",
       "    </tr>\n",
       "    <tr>\n",
       "      <th>tot_hi_cred_lim</th>\n",
       "      <td>0.335855</td>\n",
       "      <td>0.335854</td>\n",
       "      <td>0.335883</td>\n",
       "      <td>-0.119004</td>\n",
       "      <td>0.303059</td>\n",
       "      <td>0.411355</td>\n",
       "      <td>0.014401</td>\n",
       "      <td>0.058160</td>\n",
       "      <td>0.196957</td>\n",
       "      <td>0.196958</td>\n",
       "      <td>...</td>\n",
       "      <td>0.005857</td>\n",
       "      <td>0.088273</td>\n",
       "      <td>0.025668</td>\n",
       "      <td>-0.018067</td>\n",
       "      <td>-0.107868</td>\n",
       "      <td>-0.001579</td>\n",
       "      <td>1.000000</td>\n",
       "      <td>0.507682</td>\n",
       "      <td>0.397174</td>\n",
       "      <td>0.400466</td>\n",
       "    </tr>\n",
       "    <tr>\n",
       "      <th>total_bal_ex_mort</th>\n",
       "      <td>0.276394</td>\n",
       "      <td>0.276394</td>\n",
       "      <td>0.276401</td>\n",
       "      <td>0.003636</td>\n",
       "      <td>0.261041</td>\n",
       "      <td>0.316955</td>\n",
       "      <td>0.226223</td>\n",
       "      <td>0.031896</td>\n",
       "      <td>0.032828</td>\n",
       "      <td>0.032825</td>\n",
       "      <td>...</td>\n",
       "      <td>0.015696</td>\n",
       "      <td>0.119801</td>\n",
       "      <td>0.063874</td>\n",
       "      <td>0.061256</td>\n",
       "      <td>-0.078053</td>\n",
       "      <td>-0.002010</td>\n",
       "      <td>0.507682</td>\n",
       "      <td>1.000000</td>\n",
       "      <td>0.285927</td>\n",
       "      <td>0.872655</td>\n",
       "    </tr>\n",
       "    <tr>\n",
       "      <th>total_bc_limit</th>\n",
       "      <td>0.372893</td>\n",
       "      <td>0.372901</td>\n",
       "      <td>0.372934</td>\n",
       "      <td>-0.229684</td>\n",
       "      <td>0.340721</td>\n",
       "      <td>0.270169</td>\n",
       "      <td>0.026529</td>\n",
       "      <td>-0.075717</td>\n",
       "      <td>0.375048</td>\n",
       "      <td>0.375048</td>\n",
       "      <td>...</td>\n",
       "      <td>-0.058701</td>\n",
       "      <td>0.042170</td>\n",
       "      <td>0.215088</td>\n",
       "      <td>-0.215060</td>\n",
       "      <td>-0.154062</td>\n",
       "      <td>-0.024981</td>\n",
       "      <td>0.397174</td>\n",
       "      <td>0.285927</td>\n",
       "      <td>1.000000</td>\n",
       "      <td>0.117485</td>\n",
       "    </tr>\n",
       "    <tr>\n",
       "      <th>total_il_high_credit_limit</th>\n",
       "      <td>0.200108</td>\n",
       "      <td>0.200105</td>\n",
       "      <td>0.200109</td>\n",
       "      <td>-0.004205</td>\n",
       "      <td>0.185375</td>\n",
       "      <td>0.263116</td>\n",
       "      <td>0.255081</td>\n",
       "      <td>0.062092</td>\n",
       "      <td>0.063575</td>\n",
       "      <td>0.063573</td>\n",
       "      <td>...</td>\n",
       "      <td>0.033093</td>\n",
       "      <td>0.141629</td>\n",
       "      <td>0.016161</td>\n",
       "      <td>0.009938</td>\n",
       "      <td>-0.036123</td>\n",
       "      <td>0.005971</td>\n",
       "      <td>0.400466</td>\n",
       "      <td>0.872655</td>\n",
       "      <td>0.117485</td>\n",
       "      <td>1.000000</td>\n",
       "    </tr>\n",
       "  </tbody>\n",
       "</table>\n",
       "<p>68 rows × 68 columns</p>\n",
       "</div>\n",
       "      <button class=\"colab-df-convert\" onclick=\"convertToInteractive('df-a1ddf7d6-b2cb-4427-8a3c-6a949cad6a62')\"\n",
       "              title=\"Convert this dataframe to an interactive table.\"\n",
       "              style=\"display:none;\">\n",
       "        \n",
       "  <svg xmlns=\"http://www.w3.org/2000/svg\" height=\"24px\"viewBox=\"0 0 24 24\"\n",
       "       width=\"24px\">\n",
       "    <path d=\"M0 0h24v24H0V0z\" fill=\"none\"/>\n",
       "    <path d=\"M18.56 5.44l.94 2.06.94-2.06 2.06-.94-2.06-.94-.94-2.06-.94 2.06-2.06.94zm-11 1L8.5 8.5l.94-2.06 2.06-.94-2.06-.94L8.5 2.5l-.94 2.06-2.06.94zm10 10l.94 2.06.94-2.06 2.06-.94-2.06-.94-.94-2.06-.94 2.06-2.06.94z\"/><path d=\"M17.41 7.96l-1.37-1.37c-.4-.4-.92-.59-1.43-.59-.52 0-1.04.2-1.43.59L10.3 9.45l-7.72 7.72c-.78.78-.78 2.05 0 2.83L4 21.41c.39.39.9.59 1.41.59.51 0 1.02-.2 1.41-.59l7.78-7.78 2.81-2.81c.8-.78.8-2.07 0-2.86zM5.41 20L4 18.59l7.72-7.72 1.47 1.35L5.41 20z\"/>\n",
       "  </svg>\n",
       "      </button>\n",
       "      \n",
       "  <style>\n",
       "    .colab-df-container {\n",
       "      display:flex;\n",
       "      flex-wrap:wrap;\n",
       "      gap: 12px;\n",
       "    }\n",
       "\n",
       "    .colab-df-convert {\n",
       "      background-color: #E8F0FE;\n",
       "      border: none;\n",
       "      border-radius: 50%;\n",
       "      cursor: pointer;\n",
       "      display: none;\n",
       "      fill: #1967D2;\n",
       "      height: 32px;\n",
       "      padding: 0 0 0 0;\n",
       "      width: 32px;\n",
       "    }\n",
       "\n",
       "    .colab-df-convert:hover {\n",
       "      background-color: #E2EBFA;\n",
       "      box-shadow: 0px 1px 2px rgba(60, 64, 67, 0.3), 0px 1px 3px 1px rgba(60, 64, 67, 0.15);\n",
       "      fill: #174EA6;\n",
       "    }\n",
       "\n",
       "    [theme=dark] .colab-df-convert {\n",
       "      background-color: #3B4455;\n",
       "      fill: #D2E3FC;\n",
       "    }\n",
       "\n",
       "    [theme=dark] .colab-df-convert:hover {\n",
       "      background-color: #434B5C;\n",
       "      box-shadow: 0px 1px 3px 1px rgba(0, 0, 0, 0.15);\n",
       "      filter: drop-shadow(0px 1px 2px rgba(0, 0, 0, 0.3));\n",
       "      fill: #FFFFFF;\n",
       "    }\n",
       "  </style>\n",
       "\n",
       "      <script>\n",
       "        const buttonEl =\n",
       "          document.querySelector('#df-a1ddf7d6-b2cb-4427-8a3c-6a949cad6a62 button.colab-df-convert');\n",
       "        buttonEl.style.display =\n",
       "          google.colab.kernel.accessAllowed ? 'block' : 'none';\n",
       "\n",
       "        async function convertToInteractive(key) {\n",
       "          const element = document.querySelector('#df-a1ddf7d6-b2cb-4427-8a3c-6a949cad6a62');\n",
       "          const dataTable =\n",
       "            await google.colab.kernel.invokeFunction('convertToInteractive',\n",
       "                                                     [key], {});\n",
       "          if (!dataTable) return;\n",
       "\n",
       "          const docLinkHtml = 'Like what you see? Visit the ' +\n",
       "            '<a target=\"_blank\" href=https://colab.research.google.com/notebooks/data_table.ipynb>data table notebook</a>'\n",
       "            + ' to learn more about interactive tables.';\n",
       "          element.innerHTML = '';\n",
       "          dataTable['output_type'] = 'display_data';\n",
       "          await google.colab.output.renderOutput(dataTable, element);\n",
       "          const docLink = document.createElement('div');\n",
       "          docLink.innerHTML = docLinkHtml;\n",
       "          element.appendChild(docLink);\n",
       "        }\n",
       "      </script>\n",
       "    </div>\n",
       "  </div>\n",
       "  "
      ]
     },
     "metadata": {},
     "execution_count": 8
    }
   ]
  },
  {
   "cell_type": "code",
   "source": [
    "# plt.figure(figsize=(50, 50))\n",
    "\n",
    "# mask = np.triu(np.ones_like(corr, dtype=bool))\n",
    "\n",
    "# sns.heatmap(corr, vmin=-1, vmax=1, annot=True, mask=mask)"
   ],
   "metadata": {
    "id": "zVWe6r0Hq8Ki",
    "pycharm": {
     "name": "#%%\n"
    }
   },
   "execution_count": 9,
   "outputs": []
  },
  {
   "cell_type": "code",
   "source": [
    "accepted.drop(columns='policy_code', inplace=True)"
   ],
   "metadata": {
    "id": "xY5o3XbWvP-t",
    "pycharm": {
     "name": "#%%\n"
    }
   },
   "execution_count": 10,
   "outputs": []
  },
  {
   "cell_type": "code",
   "source": [
    "def calcDrop(res):\n",
    "    # All variables with correlation > cutoff\n",
    "    all_corr_vars = list(set(res['v1'].tolist() + res['v2'].tolist()))\n",
    "    \n",
    "    # All unique variables in drop column\n",
    "    poss_drop = list(set(res['drop'].tolist()))\n",
    "\n",
    "    # Keep any variable not in drop column\n",
    "    keep = list(set(all_corr_vars).difference(set(poss_drop)))\n",
    "     \n",
    "    # Drop any variables in same row as a keep variable\n",
    "    p = res[ res['v1'].isin(keep)  | res['v2'].isin(keep) ][['v1', 'v2']]\n",
    "    q = list(set(p['v1'].tolist() + p['v2'].tolist()))\n",
    "    drop = (list(set(q).difference(set(keep))))\n",
    "\n",
    "    # Remove drop variables from possible drop \n",
    "    poss_drop = list(set(poss_drop).difference(set(drop)))\n",
    "    \n",
    "    # subset res dataframe to include possible drop pairs\n",
    "    m = res[ res['v1'].isin(poss_drop)  | res['v2'].isin(poss_drop) ][['v1', 'v2','drop']]\n",
    "        \n",
    "    # remove rows that are decided (drop), take set and add to drops\n",
    "    more_drop = set(list(m[~m['v1'].isin(drop) & ~m['v2'].isin(drop)]['drop']))\n",
    "    for item in more_drop:\n",
    "        drop.append(item)\n",
    "         \n",
    "    return drop\n",
    "    \n",
    "\n",
    "def corrX(df, cut = 0.9) :\n",
    "    # Get correlation matrix and upper triagle\n",
    "    corr_mtx = df.corr().abs()\n",
    "    avg_corr = corr_mtx.mean(axis = 1)\n",
    "    up = corr_mtx.where(np.triu(np.ones(corr_mtx.shape), k=1).astype(np.bool))\n",
    "    \n",
    "    dropcols = list()\n",
    "    \n",
    "    res = pd.DataFrame(columns=(['v1', 'v2', 'v1.target', \n",
    "                                 'v2.target','corr', 'drop' ]))\n",
    "    \n",
    "    for row in range(len(up)-1):\n",
    "        col_idx = row + 1\n",
    "        for col in range (col_idx, len(up)):\n",
    "            if(corr_mtx.iloc[row, col] > cut):\n",
    "                if(avg_corr.iloc[row] > avg_corr.iloc[col]): \n",
    "                    dropcols.append(row)\n",
    "                    drop = corr_mtx.columns[row]\n",
    "                else: \n",
    "                    dropcols.append(col)\n",
    "                    drop = corr_mtx.columns[col]\n",
    "                \n",
    "                s = pd.Series([ corr_mtx.index[row],\n",
    "                up.columns[col],\n",
    "                avg_corr[row],\n",
    "                avg_corr[col],\n",
    "                up.iloc[row,col],\n",
    "                drop],\n",
    "                index = res.columns)\n",
    "        \n",
    "                res = res.append(s, ignore_index = True)\n",
    "    \n",
    "    dropcols_names = calcDrop(res)\n",
    "    \n",
    "    return dropcols_names"
   ],
   "metadata": {
    "id": "toLmWS3arosO",
    "pycharm": {
     "name": "#%%\n"
    }
   },
   "execution_count": 11,
   "outputs": []
  },
  {
   "cell_type": "code",
   "source": [
    "to_drop = corrX(accepted, cut = .6)"
   ],
   "metadata": {
    "colab": {
     "base_uri": "https://localhost:8080/"
    },
    "id": "_Zo22xZuygvx",
    "outputId": "1b88183a-8d59-4ffe-cdd1-082575b600e9",
    "pycharm": {
     "name": "#%%\n"
    }
   },
   "execution_count": 12,
   "outputs": [
    {
     "output_type": "stream",
     "name": "stderr",
     "text": [
      "/usr/local/lib/python3.7/dist-packages/ipykernel_launcher.py:34: DeprecationWarning: `np.bool` is a deprecated alias for the builtin `bool`. To silence this warning, use `bool` by itself. Doing this will not modify any behavior and is safe. If you specifically wanted the numpy scalar type, use `np.bool_` here.\n",
      "Deprecated in NumPy 1.20; for more details and guidance: https://numpy.org/devdocs/release/1.20.0-notes.html#deprecations\n"
     ]
    },
    {
     "output_type": "execute_result",
     "data": {
      "text/plain": [
       "['out_prncp_inv',\n",
       " 'total_rec_prncp',\n",
       " 'mo_sin_rcnt_rev_tl_op',\n",
       " 'acc_open_past_24mths',\n",
       " 'revol_util',\n",
       " 'total_rev_hi_lim',\n",
       " 'bc_util',\n",
       " 'delinq_2yrs',\n",
       " 'num_rev_tl_bal_gt_0',\n",
       " 'funded_amnt_inv',\n",
       " 'num_rev_accts',\n",
       " 'pub_rec',\n",
       " 'num_bc_sats',\n",
       " 'total_bc_limit',\n",
       " 'num_op_rev_tl',\n",
       " 'num_actv_rev_tl',\n",
       " 'total_bal_ex_mort',\n",
       " 'total_acc',\n",
       " 'total_pymnt',\n",
       " 'tot_hi_cred_lim',\n",
       " 'recoveries',\n",
       " 'fico_range_low',\n",
       " 'loan_amnt',\n",
       " 'tot_cur_bal',\n",
       " 'last_fico_range_high',\n",
       " 'funded_amnt',\n",
       " 'acc_now_delinq',\n",
       " 'total_pymnt_inv',\n",
       " 'open_acc']"
      ]
     },
     "metadata": {},
     "execution_count": 12
    }
   ]
  },
  {
   "cell_type": "code",
   "source": [
    "to_drop.remove('loan_amnt')"
   ],
   "metadata": {
    "id": "l0OYmUSWzO9M",
    "pycharm": {
     "name": "#%%\n"
    }
   },
   "execution_count": 13,
   "outputs": []
  },
  {
   "cell_type": "code",
   "source": [
    "len(to_drop)"
   ],
   "metadata": {
    "colab": {
     "base_uri": "https://localhost:8080/"
    },
    "id": "00d0apZ1zb9Q",
    "outputId": "6e5c8a57-b1d6-4812-f303-542361b2e242",
    "pycharm": {
     "name": "#%%\n"
    }
   },
   "execution_count": 14,
   "outputs": [
    {
     "output_type": "execute_result",
     "data": {
      "text/plain": [
       "28"
      ]
     },
     "metadata": {},
     "execution_count": 14
    }
   ]
  },
  {
   "cell_type": "code",
   "source": [
    "numeric = accepted.select_dtypes(include=np.number).columns\n",
    "categorical = accepted.select_dtypes(exclude=np.number).columns"
   ],
   "metadata": {
    "id": "a2shuWru0Kwk",
    "pycharm": {
     "name": "#%%\n"
    }
   },
   "execution_count": 15,
   "outputs": []
  },
  {
   "cell_type": "code",
   "source": [
    "to_drop += ['installment', 'total_rec_int', 'last_pymnt_amnt', 'id']"
   ],
   "metadata": {
    "id": "j4azTcC41pSK",
    "pycharm": {
     "name": "#%%\n"
    }
   },
   "execution_count": 16,
   "outputs": []
  },
  {
   "cell_type": "code",
   "source": [
    "# corr_new = accepted[numeric].drop(columns = to_drop).corr()\n",
    "\n",
    "# plt.figure(figsize=(50, 50))\n",
    "\n",
    "# mask = np.triu(np.ones_like(corr_new, dtype=bool))\n",
    "\n",
    "# sns.heatmap(corr_new, vmin=-1, vmax=1, annot=True, mask=mask)"
   ],
   "metadata": {
    "id": "htsqiNxtzov6",
    "pycharm": {
     "name": "#%%\n"
    }
   },
   "execution_count": 17,
   "outputs": []
  },
  {
   "cell_type": "code",
   "source": [
    "accepted['label'] = pd.to_numeric(accepted['label'])"
   ],
   "metadata": {
    "id": "tvq8HJHn3sKo",
    "pycharm": {
     "name": "#%%\n"
    }
   },
   "execution_count": 18,
   "outputs": []
  },
  {
   "cell_type": "code",
   "source": [
    "to_drop_categorical = ['last_pymnt_d', 'last_credit_pull_d', 'url', 'issue_d', 'debt_settlement_flag', 'hardship_flag', 'zip_code', 'title', 'pymnt_plan']"
   ],
   "metadata": {
    "id": "GvHnKz2C3wEr",
    "pycharm": {
     "name": "#%%\n"
    }
   },
   "execution_count": 19,
   "outputs": []
  },
  {
   "cell_type": "code",
   "source": [
    "accepted.drop(columns=to_drop + to_drop_categorical, inplace=True)"
   ],
   "metadata": {
    "id": "ra4QMJos55BW",
    "pycharm": {
     "name": "#%%\n"
    }
   },
   "execution_count": 20,
   "outputs": []
  },
  {
   "cell_type": "code",
   "source": [
    "accepted.drop(columns=['id', 'last_pymnt_amnt'], inplace=True)"
   ],
   "metadata": {
    "id": "Hw2hxa9a59wE",
    "pycharm": {
     "name": "#%%\n"
    }
   },
   "execution_count": 26,
   "outputs": []
  },
  {
   "cell_type": "code",
   "source": [
    "with pd.option_context('display.max_rows', 0): \n",
    "  count = accepted['emp_title'].value_counts().sort_values(ascending=False)\n",
    "  print(count[count > 1000])"
   ],
   "metadata": {
    "colab": {
     "base_uri": "https://localhost:8080/"
    },
    "id": "HLG05fQO9C7R",
    "outputId": "25fbc248-fedc-4b40-a6a2-a4d6d2775999",
    "pycharm": {
     "name": "#%%\n"
    }
   },
   "execution_count": 39,
   "outputs": [
    {
     "output_type": "stream",
     "name": "stdout",
     "text": [
      "Teacher               21268\n",
      "Manager               19472\n",
      "Owner                 10302\n",
      "Registered Nurse       8774\n",
      "RN                     8522\n",
      "Supervisor             8290\n",
      "Driver                 7559\n",
      "Sales                  7488\n",
      "Project Manager        6381\n",
      "Office Manager         5526\n",
      "General Manager        5191\n",
      "Director               5032\n",
      "                      ...  \n",
      "mechanic               1193\n",
      "Secretary              1183\n",
      "Manager                1118\n",
      "Financial Analyst      1113\n",
      "Superintendent         1110\n",
      "Bartender              1088\n",
      "Financial Advisor      1086\n",
      "Physician              1082\n",
      "Officer                1080\n",
      "Pharmacist             1065\n",
      "CNA                    1046\n",
      "Accounting Manager     1010\n",
      "Name: emp_title, Length: 78, dtype: int64\n"
     ]
    }
   ]
  },
  {
   "cell_type": "code",
   "source": [
    "import yaml\n",
    "\n",
    "print(yaml.dump(accepted.columns.values.tolist(), explicit_start=True, default_flow_style=False))"
   ],
   "metadata": {
    "colab": {
     "base_uri": "https://localhost:8080/"
    },
    "id": "8D_PeQHM9_hj",
    "outputId": "3ae5e1c8-0056-49d8-e639-f521433f70b5",
    "pycharm": {
     "name": "#%%\n"
    }
   },
   "execution_count": 41,
   "outputs": [
    {
     "output_type": "stream",
     "name": "stdout",
     "text": [
      "---\n",
      "- loan_amnt\n",
      "- term\n",
      "- int_rate\n",
      "- grade\n",
      "- sub_grade\n",
      "- emp_title\n",
      "- emp_length\n",
      "- home_ownership\n",
      "- annual_inc\n",
      "- verification_status\n",
      "- purpose\n",
      "- addr_state\n",
      "- dti\n",
      "- earliest_cr_line\n",
      "- fico_range_high\n",
      "- inq_last_6mths\n",
      "- revol_bal\n",
      "- initial_list_status\n",
      "- out_prncp\n",
      "- total_rec_late_fee\n",
      "- collection_recovery_fee\n",
      "- last_fico_range_low\n",
      "- collections_12_mths_ex_med\n",
      "- application_type\n",
      "- tot_coll_amt\n",
      "- avg_cur_bal\n",
      "- bc_open_to_buy\n",
      "- chargeoff_within_12_mths\n",
      "- delinq_amnt\n",
      "- mo_sin_old_il_acct\n",
      "- mo_sin_old_rev_tl_op\n",
      "- mo_sin_rcnt_tl\n",
      "- mort_acc\n",
      "- mths_since_recent_bc\n",
      "- num_accts_ever_120_pd\n",
      "- num_actv_bc_tl\n",
      "- num_bc_tl\n",
      "- num_il_tl\n",
      "- num_sats\n",
      "- num_tl_120dpd_2m\n",
      "- num_tl_30dpd\n",
      "- num_tl_90g_dpd_24m\n",
      "- num_tl_op_past_12m\n",
      "- pct_tl_nvr_dlq\n",
      "- percent_bc_gt_75\n",
      "- pub_rec_bankruptcies\n",
      "- tax_liens\n",
      "- total_il_high_credit_limit\n",
      "- disbursement_method\n",
      "- label\n",
      "\n"
     ]
    }
   ]
  },
  {
   "cell_type": "code",
   "execution_count": 1,
   "outputs": [],
   "source": [
    "from pipeline import get_preprocessing_pipeline"
   ],
   "metadata": {
    "collapsed": false,
    "pycharm": {
     "name": "#%%\n"
    }
   }
  },
  {
   "cell_type": "code",
   "execution_count": 2,
   "outputs": [
    {
     "data": {
      "text/plain": "Pipeline(memory='./cache',\n         steps=[('ColumnSelector',\n                 ColumnSelector(columns=['loan_amnt', 'loan_status', 'term', 'int_rate', 'grade', 'sub_grade', 'emp_title', 'emp_length', 'home_ownership', 'annual_inc', 'verification_status', 'purpose', 'addr_state', 'dti', 'earliest_cr_line', 'fico_range_high', 'inq_last_6mths', 'revol_bal', 'initial_list_status', 'out_prncp', 'tota...mths_since_recent_bc', 'num_accts_ever_120_pd', 'num_actv_bc_tl', 'num_bc_tl', 'num_il_tl', 'num_sats', 'num_tl_120dpd_2m', 'num_tl_30dpd', 'num_tl_90g_dpd_24m', 'num_tl_op_past_12m', 'pct_tl_nvr_dlq', 'percent_bc_gt_75', 'pub_rec_bankruptcies', 'tax_liens', 'total_il_high_credit_limit', 'disbursement_method'])),\n                ('WingsOfEvidence', WingsOfEvidence(verbose=True))])"
     },
     "execution_count": 2,
     "metadata": {},
     "output_type": "execute_result"
    }
   ],
   "source": [
    "pipeline = get_preprocessing_pipeline()\n",
    "pipeline"
   ],
   "metadata": {
    "collapsed": false,
    "pycharm": {
     "name": "#%%\n"
    }
   }
  },
  {
   "cell_type": "code",
   "execution_count": 3,
   "outputs": [
    {
     "data": {
      "text/plain": "<IPython.core.display.HTML object>",
      "text/html": "<style type='text/css'>\n.datatable table.frame { margin-bottom: 0; }\n.datatable table.frame thead { border-bottom: none; }\n.datatable table.frame tr.coltypes td {  color: #FFFFFF;  line-height: 6px;  padding: 0 0.5em;}\n.datatable .bool    { background: #DDDD99; }\n.datatable .object  { background: #565656; }\n.datatable .int     { background: #5D9E5D; }\n.datatable .float   { background: #4040CC; }\n.datatable .str     { background: #CC4040; }\n.datatable .time    { background: #40CC40; }\n.datatable .row_index {  background: var(--jp-border-color3);  border-right: 1px solid var(--jp-border-color0);  color: var(--jp-ui-font-color3);  font-size: 9px;}\n.datatable .frame tbody td { text-align: left; }\n.datatable .frame tr.coltypes .row_index {  background: var(--jp-border-color0);}\n.datatable th:nth-child(2) { padding-left: 12px; }\n.datatable .hellipsis {  color: var(--jp-cell-editor-border-color);}\n.datatable .vellipsis {  background: var(--jp-layout-color0);  color: var(--jp-cell-editor-border-color);}\n.datatable .na {  color: var(--jp-cell-editor-border-color);  font-size: 80%;}\n.datatable .sp {  opacity: 0.25;}\n.datatable .footer { font-size: 9px; }\n.datatable .frame_dimensions {  background: var(--jp-border-color3);  border-top: 1px solid var(--jp-border-color0);  color: var(--jp-ui-font-color3);  display: inline-block;  opacity: 0.6;  padding: 1px 10px 1px 5px;}\n</style>\n"
     },
     "metadata": {},
     "output_type": "display_data"
    }
   ],
   "source": [
    "import datatable as dt"
   ],
   "metadata": {
    "collapsed": false,
    "pycharm": {
     "name": "#%%\n"
    }
   }
  },
  {
   "cell_type": "code",
   "execution_count": 4,
   "outputs": [],
   "source": [
    "accepted = dt.fread('data/archive/accepted.csv')"
   ],
   "metadata": {
    "collapsed": false,
    "pycharm": {
     "name": "#%%\n"
    }
   }
  },
  {
   "cell_type": "code",
   "execution_count": null,
   "outputs": [],
   "source": [
    "pipeline.fit_transform(accepted)"
   ],
   "metadata": {
    "collapsed": false,
    "pycharm": {
     "name": "#%%\n"
    }
   }
  },
  {
   "cell_type": "code",
   "execution_count": null,
   "outputs": [],
   "source": [],
   "metadata": {
    "collapsed": false,
    "pycharm": {
     "name": "#%%\n"
    }
   }
  }
 ]
}