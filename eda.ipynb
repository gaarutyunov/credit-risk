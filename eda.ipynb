{
 "cells": [
  {
   "cell_type": "code",
   "execution_count": 1,
   "metadata": {
    "id": "2Ln7B5RGhOH5",
    "pycharm": {
     "name": "#%%\n"
    }
   },
   "outputs": [],
   "source": [
    "import pandas as pd\n",
    "import numpy as np\n",
    "import sklearn as sk\n",
    "import matplotlib.pyplot as plt\n",
    "%config InlineBackend.figure_format='retina'\n",
    "plt.rcParams[\"figure.dpi\"] = 70\n",
    "import seaborn as sns\n",
    "\n",
    "%load_ext autoreload\n",
    "%autoreload 2"
   ]
  },
  {
   "cell_type": "code",
   "execution_count": 2,
   "metadata": {
    "colab": {
     "base_uri": "https://localhost:8080/"
    },
    "id": "VMfzWUvZheHP",
    "outputId": "98e9baa9-8b89-4a31-f2af-0f91281b17c1",
    "pycharm": {
     "name": "#%%\n"
    }
   },
   "outputs": [],
   "source": [
    "from utils import load_csv_compressed\n",
    "\n",
    "accepted = load_csv_compressed('data/accepted_2007_to_2018Q4.csv')"
   ]
  },
  {
   "cell_type": "markdown",
   "source": [
    "### Предобработка некоторых столбцов"
   ],
   "metadata": {
    "collapsed": false,
    "pycharm": {
     "name": "#%% md\n"
    }
   }
  },
  {
   "cell_type": "code",
   "execution_count": 3,
   "metadata": {
    "id": "RvaposDSkEB8",
    "pycharm": {
     "name": "#%%\n"
    }
   },
   "outputs": [],
   "source": [
    "accepted.rename(columns={'loan_status': 'label'}, inplace=True)\n",
    "accepted['label'] = accepted['label'].replace(('Fully Paid',\n",
    "                                                'Charged Off',\n",
    "                                                'Does not meet the credit policy. Status:Fully Paid',\n",
    "                                                'Does not meet the credit policy. Status:Charged Off',\n",
    "                                                'Default'),\n",
    "                                                (0, 1, 0, 1, 1))\n",
    "\n",
    "rows_with_other_labels = accepted[~accepted.label.isin([0, 1])].index\n",
    "accepted.drop(index=rows_with_other_labels, inplace=True)\n",
    "\n",
    "accepted['label'] = pd.to_numeric(accepted['label'])\n",
    "\n",
    "for col in ['verification_status', 'verification_status_joint']:\n",
    "    accepted[col] = accepted[col].map({'Not Verified': False, 'Source Verified': True})\n",
    "    accepted[col] = accepted[col].astype(bool)"
   ]
  },
  {
   "cell_type": "code",
   "execution_count": 5,
   "metadata": {
    "pycharm": {
     "name": "#%%\n"
    }
   },
   "outputs": [],
   "source": [
    "# Трансформируем даты\n",
    "#def get_all_date_features(df):\n",
    "#\n",
    "#    date_features = []\n",
    "#    for col in df:\n",
    "#        if np.issubdtype(df[col].dtype, np.number):\n",
    "#            continue\n",
    "#\n",
    "#        try:\n",
    "#            pd.to_datetime(df[col].dropna().iloc[:10])\n",
    "#            date_features.append(col)\n",
    "#        except:\n",
    "#            pass\n",
    "#\n",
    "#    return date_features\n",
    "#\n",
    "#\n",
    "#date_features = get_all_date_features(accepted)\n",
    "#accepted[date_features].apply(pd.to_datetime, inplace=True)\n",
    "#accepted[date_features] = (accepted[date_features] - accepted['issue_d'])"
   ]
  },
  {
   "cell_type": "markdown",
   "source": [
    "### Отбор признаков"
   ],
   "metadata": {
    "collapsed": false,
    "pycharm": {
     "name": "#%% md\n"
    }
   }
  },
  {
   "cell_type": "code",
   "execution_count": 4,
   "metadata": {
    "pycharm": {
     "name": "#%%\n"
    }
   },
   "outputs": [],
   "source": [
    "# Используем словарь значений столбцов (будет ниже) -> файл docs/accepted_columns_description.xlsx\n",
    "to_drop = ['id', 'member_id', 'url', 'zip_code', 'desc', 'disbursement_method', # Useless\n",
    "           'emp_length',  # Распределение по таргету и рок аук так себе\n",
    "           'num_tl_120dpd_2m', 'policy_code',  # Одно значение\n",
    "           'grade', 'sub_grade',  # Результаты скоринга / данные после начала кредитования\n",
    "           'settlement_percentage', 'settlement_term', 'debt_settlement_flag',\n",
    "           'settlement_status', 'settlement_amount', 'term',\n",
    "           'loan_amnt', 'installment', 'total_rec_int', 'last_pymnt_amnt',\n",
    "           'deferral_term', 'title', 'pymnt_plan',\n",
    "           'sec_app_open_act_il', 'orig_projected_additional_accrued_interest',\n",
    "           'hardship_amount', 'hardship_dpd', 'hardship_flag',\n",
    "           'hardship_last_payment_amount', 'hardship_last_payment_amount',\n",
    "           'hardship_length', 'hardship_loan_status', 'hardship_payoff_balance_amount',\n",
    "           'hardship_reason', 'hardship_status', 'hardship_type',\n",
    "           'initial_list_status',\n",
    "           'earliest_cr_line', 'next_pymnt_d', 'sec_app_earliest_cr_line', 'hardship_start_date',  # Даты\n",
    "           'hardship_end_date', 'payment_plan_start_date', 'debt_settlement_flag_date', 'settlement_date',\n",
    "           'issue_d', 'last_pymnt_d', 'last_credit_pull_d',\n",
    "           ]\n",
    "\n",
    "# Пока что не выкинуты\n",
    "probably_leakage = ['sec_app_fico_range_high', 'sec_app_fico_range_high']\n",
    "\n",
    "accepted.drop(columns=to_drop, inplace=True, errors='ignore')"
   ]
  },
  {
   "cell_type": "code",
   "execution_count": 6,
   "metadata": {
    "pycharm": {
     "name": "#%%\n"
    }
   },
   "outputs": [
    {
     "name": "stdout",
     "output_type": "stream",
     "text": [
      "Колво уникальных значений:\n"
     ]
    },
    {
     "data": {
      "text/html": [
       "<div>\n",
       "<style scoped>\n",
       "    .dataframe tbody tr th:only-of-type {\n",
       "        vertical-align: middle;\n",
       "    }\n",
       "\n",
       "    .dataframe tbody tr th {\n",
       "        vertical-align: top;\n",
       "    }\n",
       "\n",
       "    .dataframe thead th {\n",
       "        text-align: right;\n",
       "    }\n",
       "</style>\n",
       "<table border=\"1\" class=\"dataframe\">\n",
       "  <thead>\n",
       "    <tr style=\"text-align: right;\">\n",
       "      <th></th>\n",
       "      <th>col</th>\n",
       "      <th>unique_count</th>\n",
       "    </tr>\n",
       "  </thead>\n",
       "  <tbody>\n",
       "    <tr>\n",
       "      <th>103</th>\n",
       "      <td>disbursement_method</td>\n",
       "      <td>2</td>\n",
       "    </tr>\n",
       "    <tr>\n",
       "      <th>34</th>\n",
       "      <td>application_type</td>\n",
       "      <td>2</td>\n",
       "    </tr>\n",
       "    <tr>\n",
       "      <th>37</th>\n",
       "      <td>verification_status_joint</td>\n",
       "      <td>2</td>\n",
       "    </tr>\n",
       "    <tr>\n",
       "      <th>7</th>\n",
       "      <td>label</td>\n",
       "      <td>2</td>\n",
       "    </tr>\n",
       "    <tr>\n",
       "      <th>6</th>\n",
       "      <td>verification_status</td>\n",
       "      <td>2</td>\n",
       "    </tr>\n",
       "    <tr>\n",
       "      <th>...</th>\n",
       "      <td>...</td>\n",
       "      <td>...</td>\n",
       "    </tr>\n",
       "    <tr>\n",
       "      <th>3</th>\n",
       "      <td>emp_title</td>\n",
       "      <td>379863</td>\n",
       "    </tr>\n",
       "    <tr>\n",
       "      <th>40</th>\n",
       "      <td>tot_cur_bal</td>\n",
       "      <td>400464</td>\n",
       "    </tr>\n",
       "    <tr>\n",
       "      <th>88</th>\n",
       "      <td>tot_hi_cred_lim</td>\n",
       "      <td>427447</td>\n",
       "    </tr>\n",
       "    <tr>\n",
       "      <th>25</th>\n",
       "      <td>total_pymnt_inv</td>\n",
       "      <td>1014400</td>\n",
       "    </tr>\n",
       "    <tr>\n",
       "      <th>24</th>\n",
       "      <td>total_pymnt</td>\n",
       "      <td>1157608</td>\n",
       "    </tr>\n",
       "  </tbody>\n",
       "</table>\n",
       "<p>104 rows × 2 columns</p>\n",
       "</div>"
      ],
      "text/plain": [
       "                           col  unique_count\n",
       "103        disbursement_method             2\n",
       "34            application_type             2\n",
       "37   verification_status_joint             2\n",
       "7                        label             2\n",
       "6          verification_status             2\n",
       "..                         ...           ...\n",
       "3                    emp_title        379863\n",
       "40                 tot_cur_bal        400464\n",
       "88             tot_hi_cred_lim        427447\n",
       "25             total_pymnt_inv       1014400\n",
       "24                 total_pymnt       1157608\n",
       "\n",
       "[104 rows x 2 columns]"
      ]
     },
     "execution_count": 6,
     "metadata": {},
     "output_type": "execute_result"
    }
   ],
   "source": [
    "print('Колво уникальных значений:')\n",
    "\n",
    "unique_counts_df = pd.DataFrame({'col': col,\n",
    "                                 'unique_count': len(accepted[col].value_counts())} for col in accepted)\n",
    "\n",
    "unique_counts_df.sort_values('unique_count')"
   ]
  },
  {
   "cell_type": "markdown",
   "source": [
    "### Работа с пропущенными значениями"
   ],
   "metadata": {
    "collapsed": false,
    "pycharm": {
     "name": "#%% md\n"
    }
   }
  },
  {
   "cell_type": "code",
   "execution_count": 5,
   "metadata": {
    "pycharm": {
     "name": "#%%\n"
    }
   },
   "outputs": [
    {
     "name": "stderr",
     "output_type": "stream",
     "text": [
      "/Users/user/opt/anaconda3/lib/python3.9/site-packages/numpy/core/fromnumeric.py:85: FutureWarning: Dropping of nuisance columns in DataFrame reductions (with 'numeric_only=None') is deprecated; in a future version this will raise TypeError.  Select only valid columns before calling the reduction.\n",
      "  return reduction(axis=axis, out=out, **passkwargs)\n"
     ]
    }
   ],
   "source": [
    "fill_max = ['bc_open_to_buy',\n",
    "            'mths_since_last_delinq',\n",
    "            'mths_since_last_major_derog',\n",
    "            'mths_since_last_record',\n",
    "            'mths_since_rcnt_il',\n",
    "            'mths_since_recent_bc',\n",
    "            'mths_since_recent_bc_dlq',\n",
    "            'mths_since_recent_inq',\n",
    "            'mths_since_recent_revol_delinq',\n",
    "            'pct_tl_nvr_dlq',\n",
    "            'sec_app_mths_since_last_major_derog']\n",
    "\n",
    "fill_mean = ['annual_inc', 'dti', 'sec_app_fico_range_low', 'sec_app_fico_range_high',\n",
    "             'total_rev_hi_lim', 'total_bc_limit', 'total_il_high_credit_limit',\n",
    "             'tot_hi_cred_lim', 'il_util', 'sec_app_revol_util', 'bc_util']\n",
    "\n",
    "fill_min = list(set(accepted.columns) - set(fill_max) - set(fill_mean) - {'label'})\n",
    "\n",
    "for cols, func in zip([fill_min, fill_mean, fill_max],\n",
    "                      [lambda x: np.min(x, axis=0), lambda x: np.mean(x, axis=0), lambda x: np.max(x, axis=0)]):\n",
    "\n",
    "    fillna_vals = func(accepted[cols])\n",
    "    accepted[cols] = accepted[cols].fillna(fillna_vals)"
   ]
  },
  {
   "cell_type": "code",
   "execution_count": 51,
   "metadata": {
    "pycharm": {
     "name": "#%%\n"
    },
    "scrolled": true
   },
   "outputs": [
    {
     "name": "stdout",
     "output_type": "stream",
     "text": [
      "verification_status_joint - no description found\n",
      "\n",
      "emp_title - The job title supplied by the Borrower when applying for the loan.*\n",
      "\n"
     ]
    }
   ],
   "source": [
    "# Смотрим описание столбцов\n",
    "notes_df = pd.read_excel('docs/accepted_columns_description.xlsx')[['Column_name', 'Description']]\n",
    "notes_df = notes_df.dropna()\n",
    "\n",
    "for col in fill_min:\n",
    "    res = notes_df[notes_df['Column_name'].str.contains(col)]\n",
    "    for i, row in res.iterrows():\n",
    "        if accepted[col].isna().mean() == 0:\n",
    "            continue\n",
    "\n",
    "        print(row['Column_name'], '-', row['Description'])\n",
    "        print()\n",
    "\n",
    "    if not res.shape[0]:\n",
    "        print(col, '- no description found')\n",
    "        print()"
   ]
  },
  {
   "cell_type": "markdown",
   "source": [
    "### Трансформация признаков"
   ],
   "metadata": {
    "collapsed": false,
    "pycharm": {
     "name": "#%% md\n"
    }
   }
  },
  {
   "cell_type": "code",
   "execution_count": 6,
   "outputs": [
    {
     "name": "stderr",
     "output_type": "stream",
     "text": [
      "/var/folders/s1/gst6jrv56w17ldv8z5q__xcm0000gn/T/ipykernel_14809/4190354004.py:2: SettingWithCopyWarning: \n",
      "A value is trying to be set on a copy of a slice from a DataFrame\n",
      "\n",
      "See the caveats in the documentation: https://pandas.pydata.org/pandas-docs/stable/user_guide/indexing.html#returning-a-view-versus-a-copy\n",
      "  accepted[col][accepted[col] == 'acc_now_delinq'] = 1\n"
     ]
    }
   ],
   "source": [
    "col = 'pub_rec_bankruptcies'\n",
    "accepted[col][accepted[col] == 'acc_now_delinq'] = 1\n",
    "accepted['was_person_bankrupt'] = (accepted[col].astype(int) >= 1)\n",
    "accepted.drop(columns=col, inplace=True)"
   ],
   "metadata": {
    "collapsed": false,
    "pycharm": {
     "name": "#%%\n"
    }
   }
  },
  {
   "cell_type": "code",
   "execution_count": 10,
   "outputs": [
    {
     "name": "stdout",
     "output_type": "stream",
     "text": [
      "Категориальные признаки: emp_title, home_ownership, purpose, addr_state, application_type\n"
     ]
    }
   ],
   "source": [
    "categorical = accepted.select_dtypes(exclude=[np.number, np.int64, bool]).columns\n",
    "print(f'Категориальные признаки: {\", \".join(categorical)}')"
   ],
   "metadata": {
    "collapsed": false,
    "pycharm": {
     "name": "#%%\n"
    }
   }
  },
  {
   "cell_type": "markdown",
   "source": [
    "#### emp_title"
   ],
   "metadata": {
    "collapsed": false,
    "pycharm": {
     "name": "#%% md\n"
    }
   }
  },
  {
   "cell_type": "code",
   "execution_count": 11,
   "outputs": [
    {
     "data": {
      "text/plain": "teacher                                    25691\nmanager                                    24898\nowner                                      15489\nregistered nurse                           12092\ndriver                                     11439\n                                           ...  \naestheticism and massage therapist             1\ndtp                                            1\naccount director, business travel sales        1\nlead test technician                           1\nexec dir internal audit                        1\nName: emp_title, Length: 327845, dtype: int64"
     },
     "execution_count": 11,
     "metadata": {},
     "output_type": "execute_result"
    }
   ],
   "source": [
    "accepted['emp_title'] = accepted['emp_title'].str.lower()\n",
    "accepted['emp_title'].value_counts()"
   ],
   "metadata": {
    "collapsed": false,
    "pycharm": {
     "name": "#%%\n"
    }
   }
  },
  {
   "cell_type": "code",
   "execution_count": 12,
   "outputs": [
    {
     "data": {
      "text/plain": "teacher                       25691\nmanager                       24898\nregistered nurse              21697\nowner                         15489\ndriver                        11439\n                              ...  \nmanager, digital analytics        1\nwater coordinator                 1\nadminstration assistance          1\ntechincal liaison                 1\nexec dir internal audit           1\nName: emp_title, Length: 324167, dtype: int64"
     },
     "execution_count": 12,
     "metadata": {},
     "output_type": "execute_result"
    }
   ],
   "source": [
    "# Аббревиатура и расшифровка\n",
    "abbr_to_occupation = {}\n",
    "\n",
    "occupations = accepted['emp_title'].value_counts(ascending=True).index\n",
    "\n",
    "for occ in occupations:\n",
    "    occ_split = occ.split()\n",
    "\n",
    "    if len(occ_split) < 2:\n",
    "        continue\n",
    "\n",
    "    abbr = ''.join([s[0] for s in occ_split])\n",
    "    abbr_to_occupation[abbr] = occ\n",
    "\n",
    "accepted['emp_title'] = [abbr_to_occupation.get(occ, occ) for occ in accepted['emp_title']]\n",
    "accepted['emp_title'].value_counts()"
   ],
   "metadata": {
    "collapsed": false,
    "pycharm": {
     "name": "#%%\n"
    }
   }
  },
  {
   "cell_type": "code",
   "execution_count": 13,
   "outputs": [
    {
     "name": "stderr",
     "output_type": "stream",
     "text": [
      "/var/folders/s1/gst6jrv56w17ldv8z5q__xcm0000gn/T/ipykernel_14809/254788296.py:4: SettingWithCopyWarning: \n",
      "A value is trying to be set on a copy of a slice from a DataFrame\n",
      "\n",
      "See the caveats in the documentation: https://pandas.pydata.org/pandas-docs/stable/user_guide/indexing.html#returning-a-view-versus-a-copy\n",
      "  accepted['emp_title'][not_selected_jobs_mask] = 'other'\n"
     ]
    },
    {
     "data": {
      "text/plain": "other                 1157916\nteacher                 25691\nmanager                 24898\nregistered nurse        21697\nowner                   15489\ndriver                  11439\nsupervisor              11050\nsales                   10467\nproject manager          7539\ngeneral manager          7458\noffice manager           7416\ntruck driver             6034\ndirector                 5446\nengineer                 5088\npresident                4961\nvice president           4943\nsales manager            4558\noperations manager       4232\npolice officer           4132\nstore manager            3886\naccountant               3759\nName: emp_title, dtype: int64"
     },
     "execution_count": 13,
     "metadata": {},
     "output_type": "execute_result"
    }
   ],
   "source": [
    "selected_jobs = accepted['emp_title'].value_counts().index[:20]\n",
    "\n",
    "not_selected_jobs_mask = ~accepted['emp_title'].isin(selected_jobs)\n",
    "accepted['emp_title'][not_selected_jobs_mask] = 'other'\n",
    "accepted['emp_title'].value_counts()"
   ],
   "metadata": {
    "collapsed": false,
    "pycharm": {
     "name": "#%%\n"
    }
   }
  },
  {
   "cell_type": "markdown",
   "source": [
    "#### purpose"
   ],
   "metadata": {
    "collapsed": false,
    "pycharm": {
     "name": "#%% md\n"
    }
   }
  },
  {
   "cell_type": "code",
   "execution_count": 14,
   "outputs": [
    {
     "data": {
      "text/plain": "debt_consolidation    781442\ncredit_card           295625\nhome_improvement       87721\nother                  78301\nmajor_purchase         29550\nmedical                15614\nsmall_business         15577\ncar                    14652\nmoving                  9526\nvacation                9084\nhouse                   7298\nwedding                 2350\nrenewable_energy         936\neducational              423\nName: purpose, dtype: int64"
     },
     "execution_count": 14,
     "metadata": {},
     "output_type": "execute_result"
    }
   ],
   "source": [
    "accepted['purpose'].value_counts()"
   ],
   "metadata": {
    "collapsed": false,
    "pycharm": {
     "name": "#%%\n"
    }
   }
  },
  {
   "cell_type": "code",
   "execution_count": 15,
   "outputs": [
    {
     "data": {
      "text/plain": "debt_consolidation    781442\ncredit_card           295625\nconsumer_expenses     113807\nother                  78301\nmajor_purchase         29550\nmedical                15614\nsmall_business         15577\nmoving                  9526\nhouse                   7298\nrenewable_energy         936\neducational              423\nName: purpose, dtype: int64"
     },
     "execution_count": 15,
     "metadata": {},
     "output_type": "execute_result"
    }
   ],
   "source": [
    "home_ownership_map = {purp: purp for purp\n",
    "                      in accepted['purpose'].value_counts().index}\n",
    "home_ownership_map['home_improvement'] = 'consumer_expenses'\n",
    "home_ownership_map['car'] = 'consumer_expenses'\n",
    "home_ownership_map['vacation'] = 'consumer_expenses'\n",
    "home_ownership_map['wedding'] = 'consumer_expenses'\n",
    "\n",
    "accepted['purpose'] = accepted['purpose'].map(home_ownership_map)\n",
    "accepted['purpose'].value_counts()"
   ],
   "metadata": {
    "collapsed": false,
    "pycharm": {
     "name": "#%%\n"
    }
   }
  },
  {
   "cell_type": "markdown",
   "source": [
    "#### addr_state"
   ],
   "metadata": {
    "collapsed": false,
    "pycharm": {
     "name": "#%% md\n"
    }
   }
  },
  {
   "cell_type": "code",
   "execution_count": 16,
   "outputs": [],
   "source": [
    "col = 'addr_state'\n",
    "\n",
    "us_state_to_urbanization = pd.read_excel('docs/us_urbanization.xlsx', index_col=0)['Urbanization']\n",
    "\n",
    "accepted['addr_urbanization'] = accepted[col].map(us_state_to_urbanization)\n",
    "accepted.drop(columns=col, inplace=True)"
   ],
   "metadata": {
    "collapsed": false,
    "pycharm": {
     "name": "#%%\n"
    }
   }
  },
  {
   "cell_type": "markdown",
   "source": [
    "#### application_type"
   ],
   "metadata": {
    "collapsed": false,
    "pycharm": {
     "name": "#%% md\n"
    }
   }
  },
  {
   "cell_type": "code",
   "execution_count": 17,
   "outputs": [],
   "source": [
    "col = 'application_type'\n",
    "\n",
    "accepted['is_joint'] = (accepted[col] == 'Joint App')\n",
    "accepted.drop(columns=col, inplace=True)"
   ],
   "metadata": {
    "collapsed": false,
    "pycharm": {
     "name": "#%%\n"
    }
   }
  },
  {
   "cell_type": "code",
   "execution_count": 18,
   "outputs": [
    {
     "name": "stdout",
     "output_type": "stream",
     "text": [
      "Категориальные признаки: emp_title, home_ownership, purpose\n"
     ]
    }
   ],
   "source": [
    "categorical = accepted.select_dtypes(exclude=[np.number, np.int64, bool]).columns\n",
    "print(f'Категориальные признаки: {\", \".join(categorical)}')"
   ],
   "metadata": {
    "collapsed": false,
    "pycharm": {
     "name": "#%%\n"
    }
   }
  },
  {
   "cell_type": "markdown",
   "source": [
    "### Отбор по корреляции"
   ],
   "metadata": {
    "collapsed": false,
    "pycharm": {
     "name": "#%% md\n"
    }
   }
  },
  {
   "cell_type": "code",
   "execution_count": 22,
   "outputs": [],
   "source": [
    "cols = accepted.columns[:5]"
   ],
   "metadata": {
    "collapsed": false,
    "pycharm": {
     "name": "#%%\n"
    }
   }
  },
  {
   "cell_type": "code",
   "execution_count": 24,
   "outputs": [
    {
     "data": {
      "text/plain": "                 funded_amnt  funded_amnt_inv  int_rate\nfunded_amnt         1.000000         0.998147  0.115228\nfunded_amnt_inv     0.998147         1.000000  0.115004\nint_rate            0.115228         0.115004  1.000000",
      "text/html": "<div>\n<style scoped>\n    .dataframe tbody tr th:only-of-type {\n        vertical-align: middle;\n    }\n\n    .dataframe tbody tr th {\n        vertical-align: top;\n    }\n\n    .dataframe thead th {\n        text-align: right;\n    }\n</style>\n<table border=\"1\" class=\"dataframe\">\n  <thead>\n    <tr style=\"text-align: right;\">\n      <th></th>\n      <th>funded_amnt</th>\n      <th>funded_amnt_inv</th>\n      <th>int_rate</th>\n    </tr>\n  </thead>\n  <tbody>\n    <tr>\n      <th>funded_amnt</th>\n      <td>1.000000</td>\n      <td>0.998147</td>\n      <td>0.115228</td>\n    </tr>\n    <tr>\n      <th>funded_amnt_inv</th>\n      <td>0.998147</td>\n      <td>1.000000</td>\n      <td>0.115004</td>\n    </tr>\n    <tr>\n      <th>int_rate</th>\n      <td>0.115228</td>\n      <td>0.115004</td>\n      <td>1.000000</td>\n    </tr>\n  </tbody>\n</table>\n</div>"
     },
     "execution_count": 24,
     "metadata": {},
     "output_type": "execute_result"
    }
   ],
   "source": [
    "corrs"
   ],
   "metadata": {
    "collapsed": false,
    "pycharm": {
     "name": "#%%\n"
    }
   }
  },
  {
   "cell_type": "code",
   "execution_count": 28,
   "outputs": [
    {
     "data": {
      "text/plain": "array([[ True,  True,  True],\n       [ True,  True,  True],\n       [ True,  True,  True]])"
     },
     "execution_count": 28,
     "metadata": {},
     "output_type": "execute_result"
    }
   ],
   "source": [
    "np.full(corrs.shape, True)"
   ],
   "metadata": {
    "collapsed": false,
    "pycharm": {
     "name": "#%%\n"
    }
   }
  },
  {
   "cell_type": "code",
   "execution_count": 39,
   "metadata": {},
   "outputs": [],
   "source": [
    "# Смотрим корреляции Пирсона численных признаков\n",
    "\n",
    "corrs = accepted.drop(columns='label').corr(method='spearman').abs()\n",
    "# Формируем верхнетреугольную матрицу для устранения дубликатов\n",
    "triupper_mask = np.triu(np.full(corrs.shape, True))\n",
    "corrs = corrs.where(triupper_mask).stack().reset_index()\n",
    "# Переводим в удобный формат и сортируем, а также удаляем единичные корреляции\n",
    "corrs = corrs.rename(columns={\n",
    "    'level_0': '1_feature',\n",
    "    'level_1': '2_feature',\n",
    "    0: 'value'})\n",
    "corrs = corrs.sort_values(by='value', ascending=False)\n",
    "corrs = corrs[corrs['1_feature'] != corrs['2_feature']]"
   ]
  },
  {
   "cell_type": "code",
   "execution_count": 40,
   "metadata": {},
   "outputs": [
    {
     "data": {
      "text/plain": "                   1_feature                2_feature     value\n773           fico_range_low          fico_range_high  1.000000\n1648               out_prncp            out_prncp_inv  1.000000\n4960  sec_app_fico_range_low  sec_app_fico_range_high  1.000000\n2276    last_fico_range_high      last_fico_range_low  1.000000\n2634        annual_inc_joint                 is_joint  0.999918\n2703               dti_joint                 is_joint  0.999760\n2566        annual_inc_joint                dti_joint  0.999659\n1811             total_pymnt          total_pymnt_inv  0.998472\n4950         revol_bal_joint         sec_app_open_acc  0.998359\n1                funded_amnt          funded_amnt_inv  0.998147",
      "text/html": "<div>\n<style scoped>\n    .dataframe tbody tr th:only-of-type {\n        vertical-align: middle;\n    }\n\n    .dataframe tbody tr th {\n        vertical-align: top;\n    }\n\n    .dataframe thead th {\n        text-align: right;\n    }\n</style>\n<table border=\"1\" class=\"dataframe\">\n  <thead>\n    <tr style=\"text-align: right;\">\n      <th></th>\n      <th>1_feature</th>\n      <th>2_feature</th>\n      <th>value</th>\n    </tr>\n  </thead>\n  <tbody>\n    <tr>\n      <th>773</th>\n      <td>fico_range_low</td>\n      <td>fico_range_high</td>\n      <td>1.000000</td>\n    </tr>\n    <tr>\n      <th>1648</th>\n      <td>out_prncp</td>\n      <td>out_prncp_inv</td>\n      <td>1.000000</td>\n    </tr>\n    <tr>\n      <th>4960</th>\n      <td>sec_app_fico_range_low</td>\n      <td>sec_app_fico_range_high</td>\n      <td>1.000000</td>\n    </tr>\n    <tr>\n      <th>2276</th>\n      <td>last_fico_range_high</td>\n      <td>last_fico_range_low</td>\n      <td>1.000000</td>\n    </tr>\n    <tr>\n      <th>2634</th>\n      <td>annual_inc_joint</td>\n      <td>is_joint</td>\n      <td>0.999918</td>\n    </tr>\n    <tr>\n      <th>2703</th>\n      <td>dti_joint</td>\n      <td>is_joint</td>\n      <td>0.999760</td>\n    </tr>\n    <tr>\n      <th>2566</th>\n      <td>annual_inc_joint</td>\n      <td>dti_joint</td>\n      <td>0.999659</td>\n    </tr>\n    <tr>\n      <th>1811</th>\n      <td>total_pymnt</td>\n      <td>total_pymnt_inv</td>\n      <td>0.998472</td>\n    </tr>\n    <tr>\n      <th>4950</th>\n      <td>revol_bal_joint</td>\n      <td>sec_app_open_acc</td>\n      <td>0.998359</td>\n    </tr>\n    <tr>\n      <th>1</th>\n      <td>funded_amnt</td>\n      <td>funded_amnt_inv</td>\n      <td>0.998147</td>\n    </tr>\n  </tbody>\n</table>\n</div>"
     },
     "execution_count": 40,
     "metadata": {},
     "output_type": "execute_result"
    }
   ],
   "source": [
    "corrs.head(10)"
   ]
  },
  {
   "cell_type": "code",
   "execution_count": 46,
   "outputs": [
    {
     "data": {
      "text/plain": "(4950, 3)"
     },
     "execution_count": 46,
     "metadata": {},
     "output_type": "execute_result"
    }
   ],
   "source": [
    "corrs.shape"
   ],
   "metadata": {
    "collapsed": false,
    "pycharm": {
     "name": "#%%\n"
    }
   }
  },
  {
   "cell_type": "code",
   "execution_count": 50,
   "outputs": [],
   "source": [
    "corrs = corrs[(corrs['1_feature'] != 'label') & (corrs['2_feature'] != 'label')]"
   ],
   "metadata": {
    "collapsed": false,
    "pycharm": {
     "name": "#%%\n"
    }
   }
  },
  {
   "cell_type": "code",
   "execution_count": 51,
   "metadata": {},
   "outputs": [],
   "source": [
    "# Если между признаками корреляция более 0.6 (эмпирический порог), то удаляем наименее коррелирующий с таргетом\n",
    "to_drop = []\n",
    "\n",
    "for _, row in corrs[corrs['value'] >= 0.6].iterrows():\n",
    "\n",
    "    feature1, feature2 = row[['1_feature', '2_feature']]\n",
    "    feature1_label_corr = accepted[[feature1, 'label']].corr()[feature1]['label']\n",
    "    feature2_label_corr = accepted[[feature2, 'label']].corr()[feature2]['label']\n",
    "\n",
    "    if feature1_label_corr >= feature2_label_corr:\n",
    "        to_drop.append(row['2_feature'])\n",
    "    else:\n",
    "        to_drop.append(row['1_feature'])\n",
    "\n",
    "to_drop = np.unique(to_drop)\n",
    "accepted.drop(columns=to_drop, inplace=True)"
   ]
  },
  {
   "cell_type": "code",
   "execution_count": 58,
   "outputs": [
    {
     "data": {
      "text/plain": "(1348099, 45)"
     },
     "execution_count": 58,
     "metadata": {},
     "output_type": "execute_result"
    }
   ],
   "source": [
    "accepted.shape"
   ],
   "metadata": {
    "collapsed": false,
    "pycharm": {
     "name": "#%%\n"
    }
   }
  },
  {
   "cell_type": "code",
   "execution_count": 17,
   "metadata": {
    "pycharm": {
     "name": "#%%\n"
    }
   },
   "outputs": [
    {
     "data": {
      "text/html": [
       "<div>\n",
       "<style scoped>\n",
       "    .dataframe tbody tr th:only-of-type {\n",
       "        vertical-align: middle;\n",
       "    }\n",
       "\n",
       "    .dataframe tbody tr th {\n",
       "        vertical-align: top;\n",
       "    }\n",
       "\n",
       "    .dataframe thead th {\n",
       "        text-align: right;\n",
       "    }\n",
       "</style>\n",
       "<table border=\"1\" class=\"dataframe\">\n",
       "  <thead>\n",
       "    <tr style=\"text-align: right;\">\n",
       "      <th></th>\n",
       "      <th>Column_name</th>\n",
       "      <th>Description</th>\n",
       "    </tr>\n",
       "  </thead>\n",
       "  <tbody>\n",
       "    <tr>\n",
       "      <th>19</th>\n",
       "      <td>disbursement_method</td>\n",
       "      <td>The method by which the borrower receives thei...</td>\n",
       "    </tr>\n",
       "  </tbody>\n",
       "</table>\n",
       "</div>"
      ],
      "text/plain": [
       "            Column_name                                        Description\n",
       "19  disbursement_method  The method by which the borrower receives thei..."
      ]
     },
     "execution_count": 17,
     "metadata": {},
     "output_type": "execute_result"
    }
   ],
   "source": [
    "notes_df[notes_df['Column_name'].str.contains('disbursement_method')]"
   ]
  },
  {
   "cell_type": "code",
   "execution_count": 20,
   "metadata": {
    "pycharm": {
     "name": "#%%\n"
    }
   },
   "outputs": [
    {
     "ename": "KeyError",
     "evalue": "'emp_length'",
     "output_type": "error",
     "traceback": [
      "\u001B[1;31m---------------------------------------------------------------------------\u001B[0m",
      "\u001B[1;31mKeyError\u001B[0m                                  Traceback (most recent call last)",
      "File \u001B[1;32m~\\AppData\\Roaming\\Python\\Python38\\site-packages\\pandas\\core\\indexes\\base.py:3361\u001B[0m, in \u001B[0;36mIndex.get_loc\u001B[1;34m(self, key, method, tolerance)\u001B[0m\n\u001B[0;32m   3360\u001B[0m \u001B[38;5;28;01mtry\u001B[39;00m:\n\u001B[1;32m-> 3361\u001B[0m     \u001B[38;5;28;01mreturn\u001B[39;00m \u001B[38;5;28;43mself\u001B[39;49m\u001B[38;5;241;43m.\u001B[39;49m\u001B[43m_engine\u001B[49m\u001B[38;5;241;43m.\u001B[39;49m\u001B[43mget_loc\u001B[49m\u001B[43m(\u001B[49m\u001B[43mcasted_key\u001B[49m\u001B[43m)\u001B[49m\n\u001B[0;32m   3362\u001B[0m \u001B[38;5;28;01mexcept\u001B[39;00m \u001B[38;5;167;01mKeyError\u001B[39;00m \u001B[38;5;28;01mas\u001B[39;00m err:\n",
      "File \u001B[1;32m~\\AppData\\Roaming\\Python\\Python38\\site-packages\\pandas\\_libs\\index.pyx:76\u001B[0m, in \u001B[0;36mpandas._libs.index.IndexEngine.get_loc\u001B[1;34m()\u001B[0m\n",
      "File \u001B[1;32m~\\AppData\\Roaming\\Python\\Python38\\site-packages\\pandas\\_libs\\index.pyx:108\u001B[0m, in \u001B[0;36mpandas._libs.index.IndexEngine.get_loc\u001B[1;34m()\u001B[0m\n",
      "File \u001B[1;32mpandas\\_libs\\hashtable_class_helper.pxi:5198\u001B[0m, in \u001B[0;36mpandas._libs.hashtable.PyObjectHashTable.get_item\u001B[1;34m()\u001B[0m\n",
      "File \u001B[1;32mpandas\\_libs\\hashtable_class_helper.pxi:5206\u001B[0m, in \u001B[0;36mpandas._libs.hashtable.PyObjectHashTable.get_item\u001B[1;34m()\u001B[0m\n",
      "\u001B[1;31mKeyError\u001B[0m: 'emp_length'",
      "\nThe above exception was the direct cause of the following exception:\n",
      "\u001B[1;31mKeyError\u001B[0m                                  Traceback (most recent call last)",
      "Input \u001B[1;32mIn [20]\u001B[0m, in \u001B[0;36m<cell line: 3>\u001B[1;34m()\u001B[0m\n\u001B[0;32m      1\u001B[0m \u001B[38;5;28;01mfrom\u001B[39;00m \u001B[38;5;21;01msklearn\u001B[39;00m\u001B[38;5;21;01m.\u001B[39;00m\u001B[38;5;21;01mmetrics\u001B[39;00m \u001B[38;5;28;01mimport\u001B[39;00m roc_auc_score\n\u001B[1;32m----> 3\u001B[0m non_nan_emp_length \u001B[38;5;241m=\u001B[39m \u001B[38;5;241m~\u001B[39m\u001B[43maccepted\u001B[49m\u001B[43m[\u001B[49m\u001B[38;5;124;43m'\u001B[39;49m\u001B[38;5;124;43memp_length\u001B[39;49m\u001B[38;5;124;43m'\u001B[39;49m\u001B[43m]\u001B[49m\u001B[38;5;241m.\u001B[39misna()\n\u001B[0;32m      4\u001B[0m roc_auc_score(accepted[\u001B[38;5;124m'\u001B[39m\u001B[38;5;124mlabel\u001B[39m\u001B[38;5;124m'\u001B[39m][non_nan_emp_length], accepted[\u001B[38;5;124m'\u001B[39m\u001B[38;5;124memp_length\u001B[39m\u001B[38;5;124m'\u001B[39m][non_nan_emp_length])\n",
      "File \u001B[1;32m~\\AppData\\Roaming\\Python\\Python38\\site-packages\\pandas\\core\\frame.py:3458\u001B[0m, in \u001B[0;36mDataFrame.__getitem__\u001B[1;34m(self, key)\u001B[0m\n\u001B[0;32m   3456\u001B[0m \u001B[38;5;28;01mif\u001B[39;00m \u001B[38;5;28mself\u001B[39m\u001B[38;5;241m.\u001B[39mcolumns\u001B[38;5;241m.\u001B[39mnlevels \u001B[38;5;241m>\u001B[39m \u001B[38;5;241m1\u001B[39m:\n\u001B[0;32m   3457\u001B[0m     \u001B[38;5;28;01mreturn\u001B[39;00m \u001B[38;5;28mself\u001B[39m\u001B[38;5;241m.\u001B[39m_getitem_multilevel(key)\n\u001B[1;32m-> 3458\u001B[0m indexer \u001B[38;5;241m=\u001B[39m \u001B[38;5;28;43mself\u001B[39;49m\u001B[38;5;241;43m.\u001B[39;49m\u001B[43mcolumns\u001B[49m\u001B[38;5;241;43m.\u001B[39;49m\u001B[43mget_loc\u001B[49m\u001B[43m(\u001B[49m\u001B[43mkey\u001B[49m\u001B[43m)\u001B[49m\n\u001B[0;32m   3459\u001B[0m \u001B[38;5;28;01mif\u001B[39;00m is_integer(indexer):\n\u001B[0;32m   3460\u001B[0m     indexer \u001B[38;5;241m=\u001B[39m [indexer]\n",
      "File \u001B[1;32m~\\AppData\\Roaming\\Python\\Python38\\site-packages\\pandas\\core\\indexes\\base.py:3363\u001B[0m, in \u001B[0;36mIndex.get_loc\u001B[1;34m(self, key, method, tolerance)\u001B[0m\n\u001B[0;32m   3361\u001B[0m         \u001B[38;5;28;01mreturn\u001B[39;00m \u001B[38;5;28mself\u001B[39m\u001B[38;5;241m.\u001B[39m_engine\u001B[38;5;241m.\u001B[39mget_loc(casted_key)\n\u001B[0;32m   3362\u001B[0m     \u001B[38;5;28;01mexcept\u001B[39;00m \u001B[38;5;167;01mKeyError\u001B[39;00m \u001B[38;5;28;01mas\u001B[39;00m err:\n\u001B[1;32m-> 3363\u001B[0m         \u001B[38;5;28;01mraise\u001B[39;00m \u001B[38;5;167;01mKeyError\u001B[39;00m(key) \u001B[38;5;28;01mfrom\u001B[39;00m \u001B[38;5;21;01merr\u001B[39;00m\n\u001B[0;32m   3365\u001B[0m \u001B[38;5;28;01mif\u001B[39;00m is_scalar(key) \u001B[38;5;129;01mand\u001B[39;00m isna(key) \u001B[38;5;129;01mand\u001B[39;00m \u001B[38;5;129;01mnot\u001B[39;00m \u001B[38;5;28mself\u001B[39m\u001B[38;5;241m.\u001B[39mhasnans:\n\u001B[0;32m   3366\u001B[0m     \u001B[38;5;28;01mraise\u001B[39;00m \u001B[38;5;167;01mKeyError\u001B[39;00m(key)\n",
      "\u001B[1;31mKeyError\u001B[0m: 'emp_length'"
     ]
    }
   ],
   "source": [
    "from sklearn.metrics import roc_auc_score\n",
    "\n",
    "non_nan_emp_length = ~accepted['emp_length'].isna()\n",
    "roc_auc_score(accepted['label'][non_nan_emp_length], accepted['emp_length'][non_nan_emp_length])"
   ]
  },
  {
   "cell_type": "code",
   "execution_count": 9,
   "metadata": {
    "id": "a2shuWru0Kwk",
    "pycharm": {
     "name": "#%%\n"
    }
   },
   "outputs": [],
   "source": [
    "numeric = accepted.select_dtypes(include=np.number).columns\n",
    "categorical = accepted.select_dtypes(exclude=np.number).columns"
   ]
  },
  {
   "cell_type": "code",
   "execution_count": 15,
   "metadata": {
    "colab": {
     "base_uri": "https://localhost:8080/"
    },
    "id": "8D_PeQHM9_hj",
    "outputId": "3ae5e1c8-0056-49d8-e639-f521433f70b5",
    "pycharm": {
     "name": "#%%\n"
    }
   },
   "outputs": [
    {
     "name": "stdout",
     "output_type": "stream",
     "text": [
      "---\n",
      "- loan_amnt\n",
      "- term\n",
      "- int_rate\n",
      "- emp_title\n",
      "- emp_length\n",
      "- home_ownership\n",
      "- annual_inc\n",
      "- verification_status\n",
      "- loan_status\n",
      "- purpose\n",
      "- addr_state\n",
      "- dti\n",
      "- earliest_cr_line\n",
      "- fico_range_high\n",
      "- inq_last_6mths\n",
      "- revol_bal\n",
      "- initial_list_status\n",
      "- out_prncp\n",
      "- total_rec_late_fee\n",
      "- collection_recovery_fee\n",
      "- last_fico_range_low\n",
      "- collections_12_mths_ex_med\n",
      "- application_type\n",
      "- tot_coll_amt\n",
      "- avg_cur_bal\n",
      "- bc_open_to_buy\n",
      "- chargeoff_within_12_mths\n",
      "- delinq_amnt\n",
      "- mo_sin_old_il_acct\n",
      "- mo_sin_old_rev_tl_op\n",
      "- mo_sin_rcnt_tl\n",
      "- mort_acc\n",
      "- mths_since_recent_bc\n",
      "- num_accts_ever_120_pd\n",
      "- num_actv_bc_tl\n",
      "- num_bc_tl\n",
      "- num_il_tl\n",
      "- num_sats\n",
      "- num_tl_120dpd_2m\n",
      "- num_tl_30dpd\n",
      "- num_tl_90g_dpd_24m\n",
      "- num_tl_op_past_12m\n",
      "- pct_tl_nvr_dlq\n",
      "- percent_bc_gt_75\n",
      "- pub_rec_bankruptcies\n",
      "- tax_liens\n",
      "- total_il_high_credit_limit\n",
      "- disbursement_method\n",
      "- label\n",
      "\n"
     ]
    }
   ],
   "source": [
    "import yaml\n",
    "\n",
    "print(yaml.dump(accepted.columns.values.tolist(), explicit_start=True, default_flow_style=False))"
   ]
  },
  {
   "cell_type": "code",
   "execution_count": 16,
   "metadata": {
    "pycharm": {
     "name": "#%%\n"
    }
   },
   "outputs": [
    {
     "name": "stdout",
     "output_type": "stream",
     "text": [
      "---\n",
      "- loan_amnt\n",
      "- int_rate\n",
      "- annual_inc\n",
      "- dti\n",
      "- fico_range_high\n",
      "- inq_last_6mths\n",
      "- revol_bal\n",
      "- out_prncp\n",
      "- total_rec_late_fee\n",
      "- collection_recovery_fee\n",
      "- last_fico_range_low\n",
      "- collections_12_mths_ex_med\n",
      "- tot_coll_amt\n",
      "- avg_cur_bal\n",
      "- bc_open_to_buy\n",
      "- chargeoff_within_12_mths\n",
      "- delinq_amnt\n",
      "- mo_sin_old_il_acct\n",
      "- mo_sin_old_rev_tl_op\n",
      "- mo_sin_rcnt_tl\n",
      "- mort_acc\n",
      "- mths_since_recent_bc\n",
      "- num_accts_ever_120_pd\n",
      "- num_actv_bc_tl\n",
      "- num_bc_tl\n",
      "- num_il_tl\n",
      "- num_sats\n",
      "- num_tl_120dpd_2m\n",
      "- num_tl_30dpd\n",
      "- num_tl_90g_dpd_24m\n",
      "- num_tl_op_past_12m\n",
      "- pct_tl_nvr_dlq\n",
      "- percent_bc_gt_75\n",
      "- pub_rec_bankruptcies\n",
      "- tax_liens\n",
      "- total_il_high_credit_limit\n",
      "- label\n",
      "\n",
      "---\n",
      "- term\n",
      "- emp_title\n",
      "- emp_length\n",
      "- home_ownership\n",
      "- verification_status\n",
      "- loan_status\n",
      "- purpose\n",
      "- addr_state\n",
      "- earliest_cr_line\n",
      "- initial_list_status\n",
      "- application_type\n",
      "- disbursement_method\n",
      "\n"
     ]
    }
   ],
   "source": [
    "numeric = accepted.select_dtypes(include=np.number).columns.values.tolist()\n",
    "categorical = accepted.select_dtypes(exclude=np.number).columns.values.tolist()\n",
    "\n",
    "print(yaml.dump(numeric, explicit_start=True, default_flow_style=False))\n",
    "print(yaml.dump(categorical, explicit_start=True, default_flow_style=False))"
   ]
  },
  {
   "cell_type": "code",
   "execution_count": 2,
   "metadata": {
    "pycharm": {
     "name": "#%%\n"
    }
   },
   "outputs": [
    {
     "name": "stdout",
     "output_type": "stream",
     "text": [
      "preprocessing_pipeline:\n",
      "  _target_: pipeline.make_pipeline\n",
      "  steps_config:\n",
      "  - CSVReader:\n",
      "      _target_: pipeline.CSVReader\n",
      "      file: data/accepted_2007_to_2018Q4.csv\n",
      "      columns:\n",
      "      - loan_amnt\n",
      "      - term\n",
      "      - int_rate\n",
      "      - emp_title\n",
      "      - emp_length\n",
      "      - home_ownership\n",
      "      - annual_inc\n",
      "      - verification_status\n",
      "      - loan_status\n",
      "      - purpose\n",
      "      - addr_state\n",
      "      - dti\n",
      "      - earliest_cr_line\n",
      "      - fico_range_high\n",
      "      - inq_last_6mths\n",
      "      - revol_bal\n",
      "      - initial_list_status\n",
      "      - out_prncp\n",
      "      - total_rec_late_fee\n",
      "      - collection_recovery_fee\n",
      "      - last_fico_range_low\n",
      "      - collections_12_mths_ex_med\n",
      "      - application_type\n",
      "      - tot_coll_amt\n",
      "      - avg_cur_bal\n",
      "      - bc_open_to_buy\n",
      "      - chargeoff_within_12_mths\n",
      "      - delinq_amnt\n",
      "      - mo_sin_old_il_acct\n",
      "      - mo_sin_old_rev_tl_op\n",
      "      - mo_sin_rcnt_tl\n",
      "      - mort_acc\n",
      "      - mths_since_recent_bc\n",
      "      - num_accts_ever_120_pd\n",
      "      - num_actv_bc_tl\n",
      "      - num_bc_tl\n",
      "      - num_il_tl\n",
      "      - num_sats\n",
      "      - num_tl_120dpd_2m\n",
      "      - num_tl_30dpd\n",
      "      - num_tl_90g_dpd_24m\n",
      "      - num_tl_op_past_12m\n",
      "      - pct_tl_nvr_dlq\n",
      "      - percent_bc_gt_75\n",
      "      - pub_rec_bankruptcies\n",
      "      - tax_liens\n",
      "      - total_il_high_credit_limit\n",
      "      - disbursement_method\n",
      "  - LabelTransformer:\n",
      "      _target_: pipeline.LabelTransformer\n",
      "  - ImputeNumerical:\n",
      "      _target_: pipeline.ApplyToColumns\n",
      "      inner:\n",
      "        _target_: sklearn.impute.SimpleImputer\n",
      "        strategy: mean\n",
      "        verbose: 10\n",
      "      columns:\n",
      "      - loan_amnt\n",
      "      - int_rate\n",
      "      - annual_inc\n",
      "      - dti\n",
      "      - fico_range_high\n",
      "      - inq_last_6mths\n",
      "      - revol_bal\n",
      "      - out_prncp\n",
      "      - total_rec_late_fee\n",
      "      - collection_recovery_fee\n",
      "      - last_fico_range_low\n",
      "      - collections_12_mths_ex_med\n",
      "      - tot_coll_amt\n",
      "      - avg_cur_bal\n",
      "      - bc_open_to_buy\n",
      "      - chargeoff_within_12_mths\n",
      "      - delinq_amnt\n",
      "      - mo_sin_old_il_acct\n",
      "      - mo_sin_old_rev_tl_op\n",
      "      - mo_sin_rcnt_tl\n",
      "      - mort_acc\n",
      "      - mths_since_recent_bc\n",
      "      - num_accts_ever_120_pd\n",
      "      - num_actv_bc_tl\n",
      "      - num_bc_tl\n",
      "      - num_il_tl\n",
      "      - num_sats\n",
      "      - num_tl_120dpd_2m\n",
      "      - num_tl_30dpd\n",
      "      - num_tl_90g_dpd_24m\n",
      "      - num_tl_op_past_12m\n",
      "      - pct_tl_nvr_dlq\n",
      "      - percent_bc_gt_75\n",
      "      - pub_rec_bankruptcies\n",
      "      - tax_liens\n",
      "      - total_il_high_credit_limit\n",
      "  - ImputeCategorical:\n",
      "      _target_: pipeline.ApplyToColumns\n",
      "      inner:\n",
      "        _target_: sklearn.impute.SimpleImputer\n",
      "        strategy: most_frequent\n",
      "        verbose: 10\n",
      "      columns:\n",
      "      - term\n",
      "      - emp_title\n",
      "      - emp_length\n",
      "      - home_ownership\n",
      "      - verification_status\n",
      "      - purpose\n",
      "      - addr_state\n",
      "      - earliest_cr_line\n",
      "      - initial_list_status\n",
      "      - application_type\n",
      "      - disbursement_method\n",
      "  - WingsOfEvidence:\n",
      "      _target_: wing.WingsOfEvidence\n",
      "      bin_minimal_size: 0.05\n",
      "      bin_size_increase: 0.05\n",
      "      is_monotone: false\n",
      "      verbose: true\n",
      "      columns_to_apply:\n",
      "      - loan_amnt\n",
      "      - term\n",
      "      - int_rate\n",
      "      - emp_title\n",
      "      - emp_length\n",
      "      - home_ownership\n",
      "      - annual_inc\n",
      "      - verification_status\n",
      "      - purpose\n",
      "      - addr_state\n",
      "      - dti\n",
      "      - earliest_cr_line\n",
      "      - fico_range_high\n",
      "      - inq_last_6mths\n",
      "      - revol_bal\n",
      "      - initial_list_status\n",
      "      - out_prncp\n",
      "      - total_rec_late_fee\n",
      "      - collection_recovery_fee\n",
      "      - last_fico_range_low\n",
      "      - collections_12_mths_ex_med\n",
      "      - application_type\n",
      "      - tot_coll_amt\n",
      "      - avg_cur_bal\n",
      "      - bc_open_to_buy\n",
      "      - chargeoff_within_12_mths\n",
      "      - delinq_amnt\n",
      "      - mo_sin_old_il_acct\n",
      "      - mo_sin_old_rev_tl_op\n",
      "      - mo_sin_rcnt_tl\n",
      "      - mort_acc\n",
      "      - mths_since_recent_bc\n",
      "      - num_accts_ever_120_pd\n",
      "      - num_actv_bc_tl\n",
      "      - num_bc_tl\n",
      "      - num_il_tl\n",
      "      - num_sats\n",
      "      - num_tl_120dpd_2m\n",
      "      - num_tl_30dpd\n",
      "      - num_tl_90g_dpd_24m\n",
      "      - num_tl_op_past_12m\n",
      "      - pct_tl_nvr_dlq\n",
      "      - percent_bc_gt_75\n",
      "      - pub_rec_bankruptcies\n",
      "      - tax_liens\n",
      "      - total_il_high_credit_limit\n",
      "      - disbursement_method\n",
      "\n"
     ]
    },
    {
     "data": {
      "text/plain": [
       "LabelInferPipeline(memory='./cache',\n",
       "                   steps=[('ImputeNumerical',\n",
       "                           ApplyToColumns(columns=['loan_amnt', 'int_rate', 'annual_inc', 'dti', 'fico_range_high', 'inq_last_6mths', 'revol_bal', 'out_prncp', 'total_rec_late_fee', 'collection_recovery_fee', 'last_fico_range_low', 'collections_12_mths_ex_med', 'tot_coll_amt', 'avg_cur_bal', 'bc_open_to_buy', 'chargeoff_within_1...\n",
       "                           WingsOfEvidence(columns_to_apply=['loan_amnt', 'term', 'int_rate', 'emp_title', 'emp_length', 'home_ownership', 'annual_inc', 'verification_status', 'purpose', 'addr_state', 'dti', 'earliest_cr_line', 'fico_range_high', 'inq_last_6mths', 'revol_bal', 'initial_list_status', 'out_prncp', 'total_rec_late_fee', 'collection_recovery_fee', 'last_fico_range_low', 'collections_12_mths_ex_med', 'application_type', 'tot_coll_amt', 'avg_cur_bal', 'bc_open_to_buy', 'chargeoff_within_12_mths', 'delinq_amnt', 'mo_sin_old_il_acct', 'mo_sin_old_rev_tl_op', 'mo_sin_rcnt_tl', 'mort_acc', 'mths_since_recent_bc', 'num_accts_ever_120_pd', 'num_actv_bc_tl', 'num_bc_tl', 'num_il_tl', 'num_sats', 'num_tl_120dpd_2m', 'num_tl_30dpd', 'num_tl_90g_dpd_24m', 'num_tl_op_past_12m', 'pct_tl_nvr_dlq', 'percent_bc_gt_75', 'pub_rec_bankruptcies', 'tax_liens', 'total_il_high_credit_limit', 'disbursement_method'],\n",
       "                                           verbose=True))])"
      ]
     },
     "execution_count": 2,
     "metadata": {},
     "output_type": "execute_result"
    }
   ],
   "source": [
    "from pipeline import get_preprocessing_pipeline\n",
    "\n",
    "pipeline = get_preprocessing_pipeline(\n",
    "    name='log_reg',\n",
    "    overrides=[\n",
    "        '+preprocessing_pipeline.steps_config.2.ImputeNumerical.inner.verbose=10',\n",
    "        '+preprocessing_pipeline.steps_config.3.ImputeCategorical.inner.verbose=10',\n",
    "    ],\n",
    "    debug=True\n",
    ")\n",
    "pipeline"
   ]
  },
  {
   "cell_type": "code",
   "execution_count": null,
   "metadata": {
    "pycharm": {
     "name": "#%%\n"
    }
   },
   "outputs": [],
   "source": [
    "X = pipeline.fit_transform([], y=[])"
   ]
  }
 ],
 "metadata": {
  "colab": {
   "collapsed_sections": [],
   "name": "lending club.ipynb",
   "provenance": []
  },
  "kernelspec": {
   "display_name": "Python 3 (ipykernel)",
   "language": "python",
   "name": "python3"
  },
  "language_info": {
   "codemirror_mode": {
    "name": "ipython",
    "version": 3
   },
   "file_extension": ".py",
   "mimetype": "text/x-python",
   "name": "python",
   "nbconvert_exporter": "python",
   "pygments_lexer": "ipython3",
   "version": "3.8.5"
  }
 },
 "nbformat": 4,
 "nbformat_minor": 1
}