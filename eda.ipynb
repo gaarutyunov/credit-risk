{
 "nbformat": 4,
 "nbformat_minor": 0,
 "metadata": {
  "colab": {
   "name": "lending club.ipynb",
   "provenance": [],
   "collapsed_sections": []
  },
  "kernelspec": {
   "name": "python3",
   "display_name": "Python 3"
  },
  "language_info": {
   "name": "python"
  }
 },
 "cells": [
  {
   "cell_type": "code",
   "source": [
    "import pandas as pd\n",
    "import numpy as np\n",
    "import sklearn as sk\n",
    "import matplotlib.pyplot as plt\n",
    "%config InlineBackend.figure_format='retina'\n",
    "plt.rcParams[\"figure.dpi\"] = 70\n",
    "import seaborn as sns\n",
    "\n",
    "%load_ext autoreload\n",
    "%autoreload 2"
   ],
   "metadata": {
    "id": "2Ln7B5RGhOH5",
    "pycharm": {
     "name": "#%%\n"
    }
   },
   "execution_count": 1,
   "outputs": []
  },
  {
   "cell_type": "code",
   "source": [
    "from utils import load_csv_compressed\n",
    "\n",
    "accepted = load_csv_compressed('data/accepted_2007_to_2018Q4.csv')"
   ],
   "metadata": {
    "colab": {
     "base_uri": "https://localhost:8080/"
    },
    "id": "VMfzWUvZheHP",
    "outputId": "98e9baa9-8b89-4a31-f2af-0f91281b17c1",
    "pycharm": {
     "name": "#%%\n"
    }
   },
   "execution_count": 2,
   "outputs": []
  },
  {
   "cell_type": "code",
   "source": [
    "accepted['label'] = accepted['loan_status'].replace(('Fully Paid', \n",
    "                                                     'Charged Off',\n",
    "                                                     'Does not meet the credit policy. Status:Fully Paid',\n",
    "                                                     'Does not meet the credit policy. Status:Charged Off',\n",
    "                                                     'Default'\n",
    "                                                    ),\n",
    "                                                     (0, 1, 0, 1, 1))\n",
    "accepted.drop(index=accepted[~accepted.label.isin([0, 1])].index, inplace=True)\n",
    "\n",
    "accepted['label'] = accepted['label'].replace('Default', 1)\n",
    "accepted['label'] = pd.to_numeric(accepted['label'])"
   ],
   "metadata": {
    "id": "RvaposDSkEB8",
    "pycharm": {
     "name": "#%%\n"
    }
   },
   "execution_count": 4,
   "outputs": []
  },
  {
   "cell_type": "code",
   "source": [
    "cols_with_frequent_nan = accepted.columns[accepted.isna().mean() > 0.1]\n",
    "accepted.drop(columns=cols_with_frequent_nan, inplace=True)\n",
    "accepted.drop(columns='policy_code', inplace=True)"
   ],
   "metadata": {
    "id": "wksEL0wjnf31",
    "pycharm": {
     "name": "#%%\n"
    }
   },
   "execution_count": 5,
   "outputs": []
  },
  {
   "cell_type": "code",
   "source": [
    "numeric = accepted.select_dtypes(include=np.number).columns\n",
    "categorical = accepted.select_dtypes(exclude=np.number).columns"
   ],
   "metadata": {
    "id": "BcjNLxNvrJn1",
    "pycharm": {
     "name": "#%%\n"
    }
   },
   "execution_count": 6,
   "outputs": []
  },
  {
   "cell_type": "code",
   "source": [
    "def calcDrop(res):\n",
    "    # All variables with correlation > cutoff\n",
    "    all_corr_vars = list(set(res['v1'].tolist() + res['v2'].tolist()))\n",
    "    \n",
    "    # All unique variables in drop column\n",
    "    poss_drop = list(set(res['drop'].tolist()))\n",
    "\n",
    "    # Keep any variable not in drop column\n",
    "    keep = list(set(all_corr_vars).difference(set(poss_drop)))\n",
    "     \n",
    "    # Drop any variables in same row as a keep variable\n",
    "    p = res[ res['v1'].isin(keep)  | res['v2'].isin(keep) ][['v1', 'v2']]\n",
    "    q = list(set(p['v1'].tolist() + p['v2'].tolist()))\n",
    "    drop = (list(set(q).difference(set(keep))))\n",
    "\n",
    "    # Remove drop variables from possible drop \n",
    "    poss_drop = list(set(poss_drop).difference(set(drop)))\n",
    "    \n",
    "    # subset res dataframe to include possible drop pairs\n",
    "    m = res[ res['v1'].isin(poss_drop)  | res['v2'].isin(poss_drop) ][['v1', 'v2','drop']]\n",
    "        \n",
    "    # remove rows that are decided (drop), take set and add to drops\n",
    "    more_drop = set(list(m[~m['v1'].isin(drop) & ~m['v2'].isin(drop)]['drop']))\n",
    "    for item in more_drop:\n",
    "        drop.append(item)\n",
    "         \n",
    "    return drop\n",
    "    \n",
    "\n",
    "def corrX(df, cut = 0.9) :\n",
    "    # Get correlation matrix and upper triagle\n",
    "    corr_mtx = df.corr().abs()\n",
    "    avg_corr = corr_mtx.mean(axis = 1)\n",
    "    up = corr_mtx.where(np.triu(np.ones(corr_mtx.shape), k=1).astype(bool))\n",
    "    \n",
    "    dropcols = list()\n",
    "    \n",
    "    res = pd.DataFrame(columns=(['v1', 'v2', 'v1.target', \n",
    "                                 'v2.target','corr', 'drop' ]))\n",
    "    \n",
    "    for row in range(len(up)-1):\n",
    "        col_idx = row + 1\n",
    "        for col in range (col_idx, len(up)):\n",
    "            if(corr_mtx.iloc[row, col] > cut):\n",
    "                if(avg_corr.iloc[row] > avg_corr.iloc[col]): \n",
    "                    dropcols.append(row)\n",
    "                    drop = corr_mtx.columns[row]\n",
    "                else: \n",
    "                    dropcols.append(col)\n",
    "                    drop = corr_mtx.columns[col]\n",
    "                \n",
    "                s = pd.Series([ corr_mtx.index[row],\n",
    "                up.columns[col],\n",
    "                avg_corr[row],\n",
    "                avg_corr[col],\n",
    "                up.iloc[row,col],\n",
    "                drop],\n",
    "                index = res.columns)\n",
    "        \n",
    "                res = res.append(s, ignore_index = True)\n",
    "    \n",
    "    dropcols_names = calcDrop(res)\n",
    "    \n",
    "    return dropcols_names"
   ],
   "metadata": {
    "id": "toLmWS3arosO",
    "pycharm": {
     "name": "#%%\n"
    }
   },
   "execution_count": 7,
   "outputs": []
  },
  {
   "cell_type": "code",
   "source": [
    "to_drop = corrX(accepted, cut=.6)\n",
    "to_drop.remove('loan_amnt')\n",
    "\n",
    "to_drop += ['installment', 'total_rec_int', 'last_pymnt_amnt', 'id',\n",
    "            'grade', 'sub_grade']  # Результаты скоринга\n",
    "\n",
    "len(to_drop)"
   ],
   "metadata": {
    "colab": {
     "base_uri": "https://localhost:8080/"
    },
    "id": "_Zo22xZuygvx",
    "outputId": "1b88183a-8d59-4ffe-cdd1-082575b600e9",
    "pycharm": {
     "name": "#%%\n"
    }
   },
   "execution_count": 8,
   "outputs": [
    {
     "name": "stderr",
     "output_type": "stream",
     "text": [
      "/var/folders/5f/tg63xq8x6jl7df71n9v3_g9c0000gn/T/ipykernel_26290/3170085932.py:60: FutureWarning: The frame.append method is deprecated and will be removed from pandas in a future version. Use pandas.concat instead.\n",
      "  res = res.append(s, ignore_index = True)\n",
      "/var/folders/5f/tg63xq8x6jl7df71n9v3_g9c0000gn/T/ipykernel_26290/3170085932.py:60: FutureWarning: The frame.append method is deprecated and will be removed from pandas in a future version. Use pandas.concat instead.\n",
      "  res = res.append(s, ignore_index = True)\n",
      "/var/folders/5f/tg63xq8x6jl7df71n9v3_g9c0000gn/T/ipykernel_26290/3170085932.py:60: FutureWarning: The frame.append method is deprecated and will be removed from pandas in a future version. Use pandas.concat instead.\n",
      "  res = res.append(s, ignore_index = True)\n",
      "/var/folders/5f/tg63xq8x6jl7df71n9v3_g9c0000gn/T/ipykernel_26290/3170085932.py:60: FutureWarning: The frame.append method is deprecated and will be removed from pandas in a future version. Use pandas.concat instead.\n",
      "  res = res.append(s, ignore_index = True)\n",
      "/var/folders/5f/tg63xq8x6jl7df71n9v3_g9c0000gn/T/ipykernel_26290/3170085932.py:60: FutureWarning: The frame.append method is deprecated and will be removed from pandas in a future version. Use pandas.concat instead.\n",
      "  res = res.append(s, ignore_index = True)\n",
      "/var/folders/5f/tg63xq8x6jl7df71n9v3_g9c0000gn/T/ipykernel_26290/3170085932.py:60: FutureWarning: The frame.append method is deprecated and will be removed from pandas in a future version. Use pandas.concat instead.\n",
      "  res = res.append(s, ignore_index = True)\n",
      "/var/folders/5f/tg63xq8x6jl7df71n9v3_g9c0000gn/T/ipykernel_26290/3170085932.py:60: FutureWarning: The frame.append method is deprecated and will be removed from pandas in a future version. Use pandas.concat instead.\n",
      "  res = res.append(s, ignore_index = True)\n",
      "/var/folders/5f/tg63xq8x6jl7df71n9v3_g9c0000gn/T/ipykernel_26290/3170085932.py:60: FutureWarning: The frame.append method is deprecated and will be removed from pandas in a future version. Use pandas.concat instead.\n",
      "  res = res.append(s, ignore_index = True)\n",
      "/var/folders/5f/tg63xq8x6jl7df71n9v3_g9c0000gn/T/ipykernel_26290/3170085932.py:60: FutureWarning: The frame.append method is deprecated and will be removed from pandas in a future version. Use pandas.concat instead.\n",
      "  res = res.append(s, ignore_index = True)\n",
      "/var/folders/5f/tg63xq8x6jl7df71n9v3_g9c0000gn/T/ipykernel_26290/3170085932.py:60: FutureWarning: The frame.append method is deprecated and will be removed from pandas in a future version. Use pandas.concat instead.\n",
      "  res = res.append(s, ignore_index = True)\n",
      "/var/folders/5f/tg63xq8x6jl7df71n9v3_g9c0000gn/T/ipykernel_26290/3170085932.py:60: FutureWarning: The frame.append method is deprecated and will be removed from pandas in a future version. Use pandas.concat instead.\n",
      "  res = res.append(s, ignore_index = True)\n",
      "/var/folders/5f/tg63xq8x6jl7df71n9v3_g9c0000gn/T/ipykernel_26290/3170085932.py:60: FutureWarning: The frame.append method is deprecated and will be removed from pandas in a future version. Use pandas.concat instead.\n",
      "  res = res.append(s, ignore_index = True)\n",
      "/var/folders/5f/tg63xq8x6jl7df71n9v3_g9c0000gn/T/ipykernel_26290/3170085932.py:60: FutureWarning: The frame.append method is deprecated and will be removed from pandas in a future version. Use pandas.concat instead.\n",
      "  res = res.append(s, ignore_index = True)\n",
      "/var/folders/5f/tg63xq8x6jl7df71n9v3_g9c0000gn/T/ipykernel_26290/3170085932.py:60: FutureWarning: The frame.append method is deprecated and will be removed from pandas in a future version. Use pandas.concat instead.\n",
      "  res = res.append(s, ignore_index = True)\n",
      "/var/folders/5f/tg63xq8x6jl7df71n9v3_g9c0000gn/T/ipykernel_26290/3170085932.py:60: FutureWarning: The frame.append method is deprecated and will be removed from pandas in a future version. Use pandas.concat instead.\n",
      "  res = res.append(s, ignore_index = True)\n",
      "/var/folders/5f/tg63xq8x6jl7df71n9v3_g9c0000gn/T/ipykernel_26290/3170085932.py:60: FutureWarning: The frame.append method is deprecated and will be removed from pandas in a future version. Use pandas.concat instead.\n",
      "  res = res.append(s, ignore_index = True)\n",
      "/var/folders/5f/tg63xq8x6jl7df71n9v3_g9c0000gn/T/ipykernel_26290/3170085932.py:60: FutureWarning: The frame.append method is deprecated and will be removed from pandas in a future version. Use pandas.concat instead.\n",
      "  res = res.append(s, ignore_index = True)\n",
      "/var/folders/5f/tg63xq8x6jl7df71n9v3_g9c0000gn/T/ipykernel_26290/3170085932.py:60: FutureWarning: The frame.append method is deprecated and will be removed from pandas in a future version. Use pandas.concat instead.\n",
      "  res = res.append(s, ignore_index = True)\n",
      "/var/folders/5f/tg63xq8x6jl7df71n9v3_g9c0000gn/T/ipykernel_26290/3170085932.py:60: FutureWarning: The frame.append method is deprecated and will be removed from pandas in a future version. Use pandas.concat instead.\n",
      "  res = res.append(s, ignore_index = True)\n",
      "/var/folders/5f/tg63xq8x6jl7df71n9v3_g9c0000gn/T/ipykernel_26290/3170085932.py:60: FutureWarning: The frame.append method is deprecated and will be removed from pandas in a future version. Use pandas.concat instead.\n",
      "  res = res.append(s, ignore_index = True)\n",
      "/var/folders/5f/tg63xq8x6jl7df71n9v3_g9c0000gn/T/ipykernel_26290/3170085932.py:60: FutureWarning: The frame.append method is deprecated and will be removed from pandas in a future version. Use pandas.concat instead.\n",
      "  res = res.append(s, ignore_index = True)\n",
      "/var/folders/5f/tg63xq8x6jl7df71n9v3_g9c0000gn/T/ipykernel_26290/3170085932.py:60: FutureWarning: The frame.append method is deprecated and will be removed from pandas in a future version. Use pandas.concat instead.\n",
      "  res = res.append(s, ignore_index = True)\n",
      "/var/folders/5f/tg63xq8x6jl7df71n9v3_g9c0000gn/T/ipykernel_26290/3170085932.py:60: FutureWarning: The frame.append method is deprecated and will be removed from pandas in a future version. Use pandas.concat instead.\n",
      "  res = res.append(s, ignore_index = True)\n",
      "/var/folders/5f/tg63xq8x6jl7df71n9v3_g9c0000gn/T/ipykernel_26290/3170085932.py:60: FutureWarning: The frame.append method is deprecated and will be removed from pandas in a future version. Use pandas.concat instead.\n",
      "  res = res.append(s, ignore_index = True)\n",
      "/var/folders/5f/tg63xq8x6jl7df71n9v3_g9c0000gn/T/ipykernel_26290/3170085932.py:60: FutureWarning: The frame.append method is deprecated and will be removed from pandas in a future version. Use pandas.concat instead.\n",
      "  res = res.append(s, ignore_index = True)\n",
      "/var/folders/5f/tg63xq8x6jl7df71n9v3_g9c0000gn/T/ipykernel_26290/3170085932.py:60: FutureWarning: The frame.append method is deprecated and will be removed from pandas in a future version. Use pandas.concat instead.\n",
      "  res = res.append(s, ignore_index = True)\n",
      "/var/folders/5f/tg63xq8x6jl7df71n9v3_g9c0000gn/T/ipykernel_26290/3170085932.py:60: FutureWarning: The frame.append method is deprecated and will be removed from pandas in a future version. Use pandas.concat instead.\n",
      "  res = res.append(s, ignore_index = True)\n",
      "/var/folders/5f/tg63xq8x6jl7df71n9v3_g9c0000gn/T/ipykernel_26290/3170085932.py:60: FutureWarning: The frame.append method is deprecated and will be removed from pandas in a future version. Use pandas.concat instead.\n",
      "  res = res.append(s, ignore_index = True)\n",
      "/var/folders/5f/tg63xq8x6jl7df71n9v3_g9c0000gn/T/ipykernel_26290/3170085932.py:60: FutureWarning: The frame.append method is deprecated and will be removed from pandas in a future version. Use pandas.concat instead.\n",
      "  res = res.append(s, ignore_index = True)\n",
      "/var/folders/5f/tg63xq8x6jl7df71n9v3_g9c0000gn/T/ipykernel_26290/3170085932.py:60: FutureWarning: The frame.append method is deprecated and will be removed from pandas in a future version. Use pandas.concat instead.\n",
      "  res = res.append(s, ignore_index = True)\n",
      "/var/folders/5f/tg63xq8x6jl7df71n9v3_g9c0000gn/T/ipykernel_26290/3170085932.py:60: FutureWarning: The frame.append method is deprecated and will be removed from pandas in a future version. Use pandas.concat instead.\n",
      "  res = res.append(s, ignore_index = True)\n",
      "/var/folders/5f/tg63xq8x6jl7df71n9v3_g9c0000gn/T/ipykernel_26290/3170085932.py:60: FutureWarning: The frame.append method is deprecated and will be removed from pandas in a future version. Use pandas.concat instead.\n",
      "  res = res.append(s, ignore_index = True)\n",
      "/var/folders/5f/tg63xq8x6jl7df71n9v3_g9c0000gn/T/ipykernel_26290/3170085932.py:60: FutureWarning: The frame.append method is deprecated and will be removed from pandas in a future version. Use pandas.concat instead.\n",
      "  res = res.append(s, ignore_index = True)\n",
      "/var/folders/5f/tg63xq8x6jl7df71n9v3_g9c0000gn/T/ipykernel_26290/3170085932.py:60: FutureWarning: The frame.append method is deprecated and will be removed from pandas in a future version. Use pandas.concat instead.\n",
      "  res = res.append(s, ignore_index = True)\n",
      "/var/folders/5f/tg63xq8x6jl7df71n9v3_g9c0000gn/T/ipykernel_26290/3170085932.py:60: FutureWarning: The frame.append method is deprecated and will be removed from pandas in a future version. Use pandas.concat instead.\n",
      "  res = res.append(s, ignore_index = True)\n",
      "/var/folders/5f/tg63xq8x6jl7df71n9v3_g9c0000gn/T/ipykernel_26290/3170085932.py:60: FutureWarning: The frame.append method is deprecated and will be removed from pandas in a future version. Use pandas.concat instead.\n",
      "  res = res.append(s, ignore_index = True)\n",
      "/var/folders/5f/tg63xq8x6jl7df71n9v3_g9c0000gn/T/ipykernel_26290/3170085932.py:60: FutureWarning: The frame.append method is deprecated and will be removed from pandas in a future version. Use pandas.concat instead.\n",
      "  res = res.append(s, ignore_index = True)\n",
      "/var/folders/5f/tg63xq8x6jl7df71n9v3_g9c0000gn/T/ipykernel_26290/3170085932.py:60: FutureWarning: The frame.append method is deprecated and will be removed from pandas in a future version. Use pandas.concat instead.\n",
      "  res = res.append(s, ignore_index = True)\n",
      "/var/folders/5f/tg63xq8x6jl7df71n9v3_g9c0000gn/T/ipykernel_26290/3170085932.py:60: FutureWarning: The frame.append method is deprecated and will be removed from pandas in a future version. Use pandas.concat instead.\n",
      "  res = res.append(s, ignore_index = True)\n",
      "/var/folders/5f/tg63xq8x6jl7df71n9v3_g9c0000gn/T/ipykernel_26290/3170085932.py:60: FutureWarning: The frame.append method is deprecated and will be removed from pandas in a future version. Use pandas.concat instead.\n",
      "  res = res.append(s, ignore_index = True)\n",
      "/var/folders/5f/tg63xq8x6jl7df71n9v3_g9c0000gn/T/ipykernel_26290/3170085932.py:60: FutureWarning: The frame.append method is deprecated and will be removed from pandas in a future version. Use pandas.concat instead.\n",
      "  res = res.append(s, ignore_index = True)\n",
      "/var/folders/5f/tg63xq8x6jl7df71n9v3_g9c0000gn/T/ipykernel_26290/3170085932.py:60: FutureWarning: The frame.append method is deprecated and will be removed from pandas in a future version. Use pandas.concat instead.\n",
      "  res = res.append(s, ignore_index = True)\n",
      "/var/folders/5f/tg63xq8x6jl7df71n9v3_g9c0000gn/T/ipykernel_26290/3170085932.py:60: FutureWarning: The frame.append method is deprecated and will be removed from pandas in a future version. Use pandas.concat instead.\n",
      "  res = res.append(s, ignore_index = True)\n",
      "/var/folders/5f/tg63xq8x6jl7df71n9v3_g9c0000gn/T/ipykernel_26290/3170085932.py:60: FutureWarning: The frame.append method is deprecated and will be removed from pandas in a future version. Use pandas.concat instead.\n",
      "  res = res.append(s, ignore_index = True)\n",
      "/var/folders/5f/tg63xq8x6jl7df71n9v3_g9c0000gn/T/ipykernel_26290/3170085932.py:60: FutureWarning: The frame.append method is deprecated and will be removed from pandas in a future version. Use pandas.concat instead.\n",
      "  res = res.append(s, ignore_index = True)\n",
      "/var/folders/5f/tg63xq8x6jl7df71n9v3_g9c0000gn/T/ipykernel_26290/3170085932.py:60: FutureWarning: The frame.append method is deprecated and will be removed from pandas in a future version. Use pandas.concat instead.\n",
      "  res = res.append(s, ignore_index = True)\n",
      "/var/folders/5f/tg63xq8x6jl7df71n9v3_g9c0000gn/T/ipykernel_26290/3170085932.py:60: FutureWarning: The frame.append method is deprecated and will be removed from pandas in a future version. Use pandas.concat instead.\n",
      "  res = res.append(s, ignore_index = True)\n",
      "/var/folders/5f/tg63xq8x6jl7df71n9v3_g9c0000gn/T/ipykernel_26290/3170085932.py:60: FutureWarning: The frame.append method is deprecated and will be removed from pandas in a future version. Use pandas.concat instead.\n",
      "  res = res.append(s, ignore_index = True)\n",
      "/var/folders/5f/tg63xq8x6jl7df71n9v3_g9c0000gn/T/ipykernel_26290/3170085932.py:60: FutureWarning: The frame.append method is deprecated and will be removed from pandas in a future version. Use pandas.concat instead.\n",
      "  res = res.append(s, ignore_index = True)\n",
      "/var/folders/5f/tg63xq8x6jl7df71n9v3_g9c0000gn/T/ipykernel_26290/3170085932.py:60: FutureWarning: The frame.append method is deprecated and will be removed from pandas in a future version. Use pandas.concat instead.\n",
      "  res = res.append(s, ignore_index = True)\n",
      "/var/folders/5f/tg63xq8x6jl7df71n9v3_g9c0000gn/T/ipykernel_26290/3170085932.py:60: FutureWarning: The frame.append method is deprecated and will be removed from pandas in a future version. Use pandas.concat instead.\n",
      "  res = res.append(s, ignore_index = True)\n",
      "/var/folders/5f/tg63xq8x6jl7df71n9v3_g9c0000gn/T/ipykernel_26290/3170085932.py:60: FutureWarning: The frame.append method is deprecated and will be removed from pandas in a future version. Use pandas.concat instead.\n",
      "  res = res.append(s, ignore_index = True)\n",
      "/var/folders/5f/tg63xq8x6jl7df71n9v3_g9c0000gn/T/ipykernel_26290/3170085932.py:60: FutureWarning: The frame.append method is deprecated and will be removed from pandas in a future version. Use pandas.concat instead.\n",
      "  res = res.append(s, ignore_index = True)\n",
      "/var/folders/5f/tg63xq8x6jl7df71n9v3_g9c0000gn/T/ipykernel_26290/3170085932.py:60: FutureWarning: The frame.append method is deprecated and will be removed from pandas in a future version. Use pandas.concat instead.\n",
      "  res = res.append(s, ignore_index = True)\n",
      "/var/folders/5f/tg63xq8x6jl7df71n9v3_g9c0000gn/T/ipykernel_26290/3170085932.py:60: FutureWarning: The frame.append method is deprecated and will be removed from pandas in a future version. Use pandas.concat instead.\n",
      "  res = res.append(s, ignore_index = True)\n",
      "/var/folders/5f/tg63xq8x6jl7df71n9v3_g9c0000gn/T/ipykernel_26290/3170085932.py:60: FutureWarning: The frame.append method is deprecated and will be removed from pandas in a future version. Use pandas.concat instead.\n",
      "  res = res.append(s, ignore_index = True)\n",
      "/var/folders/5f/tg63xq8x6jl7df71n9v3_g9c0000gn/T/ipykernel_26290/3170085932.py:60: FutureWarning: The frame.append method is deprecated and will be removed from pandas in a future version. Use pandas.concat instead.\n",
      "  res = res.append(s, ignore_index = True)\n",
      "/var/folders/5f/tg63xq8x6jl7df71n9v3_g9c0000gn/T/ipykernel_26290/3170085932.py:60: FutureWarning: The frame.append method is deprecated and will be removed from pandas in a future version. Use pandas.concat instead.\n",
      "  res = res.append(s, ignore_index = True)\n",
      "/var/folders/5f/tg63xq8x6jl7df71n9v3_g9c0000gn/T/ipykernel_26290/3170085932.py:60: FutureWarning: The frame.append method is deprecated and will be removed from pandas in a future version. Use pandas.concat instead.\n",
      "  res = res.append(s, ignore_index = True)\n",
      "/var/folders/5f/tg63xq8x6jl7df71n9v3_g9c0000gn/T/ipykernel_26290/3170085932.py:60: FutureWarning: The frame.append method is deprecated and will be removed from pandas in a future version. Use pandas.concat instead.\n",
      "  res = res.append(s, ignore_index = True)\n",
      "/var/folders/5f/tg63xq8x6jl7df71n9v3_g9c0000gn/T/ipykernel_26290/3170085932.py:60: FutureWarning: The frame.append method is deprecated and will be removed from pandas in a future version. Use pandas.concat instead.\n",
      "  res = res.append(s, ignore_index = True)\n",
      "/var/folders/5f/tg63xq8x6jl7df71n9v3_g9c0000gn/T/ipykernel_26290/3170085932.py:60: FutureWarning: The frame.append method is deprecated and will be removed from pandas in a future version. Use pandas.concat instead.\n",
      "  res = res.append(s, ignore_index = True)\n",
      "/var/folders/5f/tg63xq8x6jl7df71n9v3_g9c0000gn/T/ipykernel_26290/3170085932.py:60: FutureWarning: The frame.append method is deprecated and will be removed from pandas in a future version. Use pandas.concat instead.\n",
      "  res = res.append(s, ignore_index = True)\n",
      "/var/folders/5f/tg63xq8x6jl7df71n9v3_g9c0000gn/T/ipykernel_26290/3170085932.py:60: FutureWarning: The frame.append method is deprecated and will be removed from pandas in a future version. Use pandas.concat instead.\n",
      "  res = res.append(s, ignore_index = True)\n",
      "/var/folders/5f/tg63xq8x6jl7df71n9v3_g9c0000gn/T/ipykernel_26290/3170085932.py:60: FutureWarning: The frame.append method is deprecated and will be removed from pandas in a future version. Use pandas.concat instead.\n",
      "  res = res.append(s, ignore_index = True)\n",
      "/var/folders/5f/tg63xq8x6jl7df71n9v3_g9c0000gn/T/ipykernel_26290/3170085932.py:60: FutureWarning: The frame.append method is deprecated and will be removed from pandas in a future version. Use pandas.concat instead.\n",
      "  res = res.append(s, ignore_index = True)\n",
      "/var/folders/5f/tg63xq8x6jl7df71n9v3_g9c0000gn/T/ipykernel_26290/3170085932.py:60: FutureWarning: The frame.append method is deprecated and will be removed from pandas in a future version. Use pandas.concat instead.\n",
      "  res = res.append(s, ignore_index = True)\n",
      "/var/folders/5f/tg63xq8x6jl7df71n9v3_g9c0000gn/T/ipykernel_26290/3170085932.py:60: FutureWarning: The frame.append method is deprecated and will be removed from pandas in a future version. Use pandas.concat instead.\n",
      "  res = res.append(s, ignore_index = True)\n",
      "/var/folders/5f/tg63xq8x6jl7df71n9v3_g9c0000gn/T/ipykernel_26290/3170085932.py:60: FutureWarning: The frame.append method is deprecated and will be removed from pandas in a future version. Use pandas.concat instead.\n",
      "  res = res.append(s, ignore_index = True)\n",
      "/var/folders/5f/tg63xq8x6jl7df71n9v3_g9c0000gn/T/ipykernel_26290/3170085932.py:60: FutureWarning: The frame.append method is deprecated and will be removed from pandas in a future version. Use pandas.concat instead.\n",
      "  res = res.append(s, ignore_index = True)\n",
      "/var/folders/5f/tg63xq8x6jl7df71n9v3_g9c0000gn/T/ipykernel_26290/3170085932.py:60: FutureWarning: The frame.append method is deprecated and will be removed from pandas in a future version. Use pandas.concat instead.\n",
      "  res = res.append(s, ignore_index = True)\n",
      "/var/folders/5f/tg63xq8x6jl7df71n9v3_g9c0000gn/T/ipykernel_26290/3170085932.py:60: FutureWarning: The frame.append method is deprecated and will be removed from pandas in a future version. Use pandas.concat instead.\n",
      "  res = res.append(s, ignore_index = True)\n",
      "/var/folders/5f/tg63xq8x6jl7df71n9v3_g9c0000gn/T/ipykernel_26290/3170085932.py:60: FutureWarning: The frame.append method is deprecated and will be removed from pandas in a future version. Use pandas.concat instead.\n",
      "  res = res.append(s, ignore_index = True)\n",
      "/var/folders/5f/tg63xq8x6jl7df71n9v3_g9c0000gn/T/ipykernel_26290/3170085932.py:60: FutureWarning: The frame.append method is deprecated and will be removed from pandas in a future version. Use pandas.concat instead.\n",
      "  res = res.append(s, ignore_index = True)\n",
      "/var/folders/5f/tg63xq8x6jl7df71n9v3_g9c0000gn/T/ipykernel_26290/3170085932.py:60: FutureWarning: The frame.append method is deprecated and will be removed from pandas in a future version. Use pandas.concat instead.\n",
      "  res = res.append(s, ignore_index = True)\n",
      "/var/folders/5f/tg63xq8x6jl7df71n9v3_g9c0000gn/T/ipykernel_26290/3170085932.py:60: FutureWarning: The frame.append method is deprecated and will be removed from pandas in a future version. Use pandas.concat instead.\n",
      "  res = res.append(s, ignore_index = True)\n",
      "/var/folders/5f/tg63xq8x6jl7df71n9v3_g9c0000gn/T/ipykernel_26290/3170085932.py:60: FutureWarning: The frame.append method is deprecated and will be removed from pandas in a future version. Use pandas.concat instead.\n",
      "  res = res.append(s, ignore_index = True)\n",
      "/var/folders/5f/tg63xq8x6jl7df71n9v3_g9c0000gn/T/ipykernel_26290/3170085932.py:60: FutureWarning: The frame.append method is deprecated and will be removed from pandas in a future version. Use pandas.concat instead.\n",
      "  res = res.append(s, ignore_index = True)\n",
      "/var/folders/5f/tg63xq8x6jl7df71n9v3_g9c0000gn/T/ipykernel_26290/3170085932.py:60: FutureWarning: The frame.append method is deprecated and will be removed from pandas in a future version. Use pandas.concat instead.\n",
      "  res = res.append(s, ignore_index = True)\n"
     ]
    },
    {
     "data": {
      "text/plain": "34"
     },
     "execution_count": 8,
     "metadata": {},
     "output_type": "execute_result"
    }
   ]
  },
  {
   "cell_type": "code",
   "source": [
    "numeric = accepted.select_dtypes(include=np.number).columns\n",
    "categorical = accepted.select_dtypes(exclude=np.number).columns"
   ],
   "metadata": {
    "id": "a2shuWru0Kwk",
    "pycharm": {
     "name": "#%%\n"
    }
   },
   "execution_count": 9,
   "outputs": []
  },
  {
   "cell_type": "code",
   "source": [
    "#corr_new = accepted[numeric].drop(columns = to_drop).corr()\n",
    "#plt.figure(figsize=(50, 50))\n",
    "#mask = np.triu(np.ones_like(corr_new, dtype=bool))\n",
    "#sns.heatmap(corr_new, vmin=-1, vmax=1, annot=True, mask=mask)"
   ],
   "metadata": {
    "id": "htsqiNxtzov6",
    "pycharm": {
     "name": "#%%\n"
    }
   },
   "execution_count": 10,
   "outputs": []
  },
  {
   "cell_type": "code",
   "source": [
    "to_drop_categorical = ['last_pymnt_d', 'last_credit_pull_d', 'url', 'issue_d', 'debt_settlement_flag', 'hardship_flag', 'zip_code', 'title', 'pymnt_plan']"
   ],
   "metadata": {
    "id": "GvHnKz2C3wEr",
    "pycharm": {
     "name": "#%%\n"
    }
   },
   "execution_count": 11,
   "outputs": []
  },
  {
   "cell_type": "code",
   "source": [
    "accepted.drop(columns=to_drop + to_drop_categorical, inplace=True)"
   ],
   "metadata": {
    "id": "ra4QMJos55BW",
    "pycharm": {
     "name": "#%%\n"
    }
   },
   "execution_count": 12,
   "outputs": []
  },
  {
   "cell_type": "code",
   "source": [
    "count = accepted['emp_title'].value_counts().sort_values(ascending=False)\n",
    "count[count > 1000]"
   ],
   "metadata": {
    "colab": {
     "base_uri": "https://localhost:8080/"
    },
    "id": "HLG05fQO9C7R",
    "outputId": "25fbc248-fedc-4b40-a6a2-a4d6d2775999",
    "pycharm": {
     "name": "#%%\n"
    }
   },
   "execution_count": 13,
   "outputs": [
    {
     "data": {
      "text/plain": "Teacher               21268\nManager               19472\nOwner                 10302\nRegistered Nurse       8774\nRN                     8522\n                      ...  \nPhysician              1082\nOfficer                1080\nPharmacist             1065\nCNA                    1046\nAccounting Manager     1010\nName: emp_title, Length: 78, dtype: int64"
     },
     "execution_count": 13,
     "metadata": {},
     "output_type": "execute_result"
    }
   ]
  },
  {
   "cell_type": "code",
   "execution_count": 14,
   "outputs": [
    {
     "data": {
      "text/plain": "Index(['loan_amnt', 'term', 'int_rate', 'emp_title', 'emp_length',\n       'home_ownership', 'annual_inc', 'verification_status', 'loan_status',\n       'purpose', 'addr_state', 'dti', 'earliest_cr_line', 'fico_range_high',\n       'inq_last_6mths', 'revol_bal', 'initial_list_status', 'out_prncp',\n       'total_rec_late_fee', 'collection_recovery_fee', 'last_fico_range_low',\n       'collections_12_mths_ex_med', 'application_type', 'tot_coll_amt',\n       'avg_cur_bal', 'bc_open_to_buy', 'chargeoff_within_12_mths',\n       'delinq_amnt', 'mo_sin_old_il_acct', 'mo_sin_old_rev_tl_op',\n       'mo_sin_rcnt_tl', 'mort_acc', 'mths_since_recent_bc',\n       'num_accts_ever_120_pd', 'num_actv_bc_tl', 'num_bc_tl', 'num_il_tl',\n       'num_sats', 'num_tl_120dpd_2m', 'num_tl_30dpd', 'num_tl_90g_dpd_24m',\n       'num_tl_op_past_12m', 'pct_tl_nvr_dlq', 'percent_bc_gt_75',\n       'pub_rec_bankruptcies', 'tax_liens', 'total_il_high_credit_limit',\n       'disbursement_method', 'label'],\n      dtype='object')"
     },
     "execution_count": 14,
     "metadata": {},
     "output_type": "execute_result"
    }
   ],
   "source": [
    "accepted.columns"
   ],
   "metadata": {
    "collapsed": false,
    "pycharm": {
     "name": "#%%\n"
    }
   }
  },
  {
   "cell_type": "code",
   "source": [
    "import yaml\n",
    "\n",
    "print(yaml.dump(accepted.columns.values.tolist(), explicit_start=True, default_flow_style=False))"
   ],
   "metadata": {
    "colab": {
     "base_uri": "https://localhost:8080/"
    },
    "id": "8D_PeQHM9_hj",
    "outputId": "3ae5e1c8-0056-49d8-e639-f521433f70b5",
    "pycharm": {
     "name": "#%%\n"
    }
   },
   "execution_count": 15,
   "outputs": [
    {
     "name": "stdout",
     "output_type": "stream",
     "text": [
      "---\n",
      "- loan_amnt\n",
      "- term\n",
      "- int_rate\n",
      "- emp_title\n",
      "- emp_length\n",
      "- home_ownership\n",
      "- annual_inc\n",
      "- verification_status\n",
      "- loan_status\n",
      "- purpose\n",
      "- addr_state\n",
      "- dti\n",
      "- earliest_cr_line\n",
      "- fico_range_high\n",
      "- inq_last_6mths\n",
      "- revol_bal\n",
      "- initial_list_status\n",
      "- out_prncp\n",
      "- total_rec_late_fee\n",
      "- collection_recovery_fee\n",
      "- last_fico_range_low\n",
      "- collections_12_mths_ex_med\n",
      "- application_type\n",
      "- tot_coll_amt\n",
      "- avg_cur_bal\n",
      "- bc_open_to_buy\n",
      "- chargeoff_within_12_mths\n",
      "- delinq_amnt\n",
      "- mo_sin_old_il_acct\n",
      "- mo_sin_old_rev_tl_op\n",
      "- mo_sin_rcnt_tl\n",
      "- mort_acc\n",
      "- mths_since_recent_bc\n",
      "- num_accts_ever_120_pd\n",
      "- num_actv_bc_tl\n",
      "- num_bc_tl\n",
      "- num_il_tl\n",
      "- num_sats\n",
      "- num_tl_120dpd_2m\n",
      "- num_tl_30dpd\n",
      "- num_tl_90g_dpd_24m\n",
      "- num_tl_op_past_12m\n",
      "- pct_tl_nvr_dlq\n",
      "- percent_bc_gt_75\n",
      "- pub_rec_bankruptcies\n",
      "- tax_liens\n",
      "- total_il_high_credit_limit\n",
      "- disbursement_method\n",
      "- label\n",
      "\n"
     ]
    }
   ]
  },
  {
   "cell_type": "code",
   "execution_count": 16,
   "outputs": [
    {
     "name": "stdout",
     "output_type": "stream",
     "text": [
      "---\n",
      "- loan_amnt\n",
      "- int_rate\n",
      "- annual_inc\n",
      "- dti\n",
      "- fico_range_high\n",
      "- inq_last_6mths\n",
      "- revol_bal\n",
      "- out_prncp\n",
      "- total_rec_late_fee\n",
      "- collection_recovery_fee\n",
      "- last_fico_range_low\n",
      "- collections_12_mths_ex_med\n",
      "- tot_coll_amt\n",
      "- avg_cur_bal\n",
      "- bc_open_to_buy\n",
      "- chargeoff_within_12_mths\n",
      "- delinq_amnt\n",
      "- mo_sin_old_il_acct\n",
      "- mo_sin_old_rev_tl_op\n",
      "- mo_sin_rcnt_tl\n",
      "- mort_acc\n",
      "- mths_since_recent_bc\n",
      "- num_accts_ever_120_pd\n",
      "- num_actv_bc_tl\n",
      "- num_bc_tl\n",
      "- num_il_tl\n",
      "- num_sats\n",
      "- num_tl_120dpd_2m\n",
      "- num_tl_30dpd\n",
      "- num_tl_90g_dpd_24m\n",
      "- num_tl_op_past_12m\n",
      "- pct_tl_nvr_dlq\n",
      "- percent_bc_gt_75\n",
      "- pub_rec_bankruptcies\n",
      "- tax_liens\n",
      "- total_il_high_credit_limit\n",
      "- label\n",
      "\n",
      "---\n",
      "- term\n",
      "- emp_title\n",
      "- emp_length\n",
      "- home_ownership\n",
      "- verification_status\n",
      "- loan_status\n",
      "- purpose\n",
      "- addr_state\n",
      "- earliest_cr_line\n",
      "- initial_list_status\n",
      "- application_type\n",
      "- disbursement_method\n",
      "\n"
     ]
    }
   ],
   "source": [
    "numeric = accepted.select_dtypes(include=np.number).columns.values.tolist()\n",
    "categorical = accepted.select_dtypes(exclude=np.number).columns.values.tolist()\n",
    "\n",
    "print(yaml.dump(numeric, explicit_start=True, default_flow_style=False))\n",
    "print(yaml.dump(categorical, explicit_start=True, default_flow_style=False))"
   ],
   "metadata": {
    "collapsed": false,
    "pycharm": {
     "name": "#%%\n"
    }
   }
  },
  {
   "cell_type": "code",
   "execution_count": 2,
   "outputs": [
    {
     "name": "stdout",
     "output_type": "stream",
     "text": [
      "preprocessing_pipeline:\n",
      "  _target_: pipeline.make_pipeline\n",
      "  steps_config:\n",
      "  - CSVReader:\n",
      "      _target_: pipeline.CSVReader\n",
      "      file: data/accepted_2007_to_2018Q4.csv\n",
      "      columns:\n",
      "      - loan_amnt\n",
      "      - term\n",
      "      - int_rate\n",
      "      - emp_title\n",
      "      - emp_length\n",
      "      - home_ownership\n",
      "      - annual_inc\n",
      "      - verification_status\n",
      "      - loan_status\n",
      "      - purpose\n",
      "      - addr_state\n",
      "      - dti\n",
      "      - earliest_cr_line\n",
      "      - fico_range_high\n",
      "      - inq_last_6mths\n",
      "      - revol_bal\n",
      "      - initial_list_status\n",
      "      - out_prncp\n",
      "      - total_rec_late_fee\n",
      "      - collection_recovery_fee\n",
      "      - last_fico_range_low\n",
      "      - collections_12_mths_ex_med\n",
      "      - application_type\n",
      "      - tot_coll_amt\n",
      "      - avg_cur_bal\n",
      "      - bc_open_to_buy\n",
      "      - chargeoff_within_12_mths\n",
      "      - delinq_amnt\n",
      "      - mo_sin_old_il_acct\n",
      "      - mo_sin_old_rev_tl_op\n",
      "      - mo_sin_rcnt_tl\n",
      "      - mort_acc\n",
      "      - mths_since_recent_bc\n",
      "      - num_accts_ever_120_pd\n",
      "      - num_actv_bc_tl\n",
      "      - num_bc_tl\n",
      "      - num_il_tl\n",
      "      - num_sats\n",
      "      - num_tl_120dpd_2m\n",
      "      - num_tl_30dpd\n",
      "      - num_tl_90g_dpd_24m\n",
      "      - num_tl_op_past_12m\n",
      "      - pct_tl_nvr_dlq\n",
      "      - percent_bc_gt_75\n",
      "      - pub_rec_bankruptcies\n",
      "      - tax_liens\n",
      "      - total_il_high_credit_limit\n",
      "      - disbursement_method\n",
      "  - LabelTransformer:\n",
      "      _target_: pipeline.LabelTransformer\n",
      "  - ImputeNumerical:\n",
      "      _target_: pipeline.ApplyToColumns\n",
      "      inner:\n",
      "        _target_: sklearn.impute.SimpleImputer\n",
      "        strategy: mean\n",
      "        verbose: 10\n",
      "      columns:\n",
      "      - loan_amnt\n",
      "      - int_rate\n",
      "      - annual_inc\n",
      "      - dti\n",
      "      - fico_range_high\n",
      "      - inq_last_6mths\n",
      "      - revol_bal\n",
      "      - out_prncp\n",
      "      - total_rec_late_fee\n",
      "      - collection_recovery_fee\n",
      "      - last_fico_range_low\n",
      "      - collections_12_mths_ex_med\n",
      "      - tot_coll_amt\n",
      "      - avg_cur_bal\n",
      "      - bc_open_to_buy\n",
      "      - chargeoff_within_12_mths\n",
      "      - delinq_amnt\n",
      "      - mo_sin_old_il_acct\n",
      "      - mo_sin_old_rev_tl_op\n",
      "      - mo_sin_rcnt_tl\n",
      "      - mort_acc\n",
      "      - mths_since_recent_bc\n",
      "      - num_accts_ever_120_pd\n",
      "      - num_actv_bc_tl\n",
      "      - num_bc_tl\n",
      "      - num_il_tl\n",
      "      - num_sats\n",
      "      - num_tl_120dpd_2m\n",
      "      - num_tl_30dpd\n",
      "      - num_tl_90g_dpd_24m\n",
      "      - num_tl_op_past_12m\n",
      "      - pct_tl_nvr_dlq\n",
      "      - percent_bc_gt_75\n",
      "      - pub_rec_bankruptcies\n",
      "      - tax_liens\n",
      "      - total_il_high_credit_limit\n",
      "  - ImputeCategorical:\n",
      "      _target_: pipeline.ApplyToColumns\n",
      "      inner:\n",
      "        _target_: sklearn.impute.SimpleImputer\n",
      "        strategy: most_frequent\n",
      "        verbose: 10\n",
      "      columns:\n",
      "      - term\n",
      "      - emp_title\n",
      "      - emp_length\n",
      "      - home_ownership\n",
      "      - verification_status\n",
      "      - purpose\n",
      "      - addr_state\n",
      "      - earliest_cr_line\n",
      "      - initial_list_status\n",
      "      - application_type\n",
      "      - disbursement_method\n",
      "  - WingsOfEvidence:\n",
      "      _target_: wing.WingsOfEvidence\n",
      "      bin_minimal_size: 0.05\n",
      "      bin_size_increase: 0.05\n",
      "      is_monotone: false\n",
      "      verbose: true\n",
      "      columns_to_apply:\n",
      "      - loan_amnt\n",
      "      - term\n",
      "      - int_rate\n",
      "      - emp_title\n",
      "      - emp_length\n",
      "      - home_ownership\n",
      "      - annual_inc\n",
      "      - verification_status\n",
      "      - purpose\n",
      "      - addr_state\n",
      "      - dti\n",
      "      - earliest_cr_line\n",
      "      - fico_range_high\n",
      "      - inq_last_6mths\n",
      "      - revol_bal\n",
      "      - initial_list_status\n",
      "      - out_prncp\n",
      "      - total_rec_late_fee\n",
      "      - collection_recovery_fee\n",
      "      - last_fico_range_low\n",
      "      - collections_12_mths_ex_med\n",
      "      - application_type\n",
      "      - tot_coll_amt\n",
      "      - avg_cur_bal\n",
      "      - bc_open_to_buy\n",
      "      - chargeoff_within_12_mths\n",
      "      - delinq_amnt\n",
      "      - mo_sin_old_il_acct\n",
      "      - mo_sin_old_rev_tl_op\n",
      "      - mo_sin_rcnt_tl\n",
      "      - mort_acc\n",
      "      - mths_since_recent_bc\n",
      "      - num_accts_ever_120_pd\n",
      "      - num_actv_bc_tl\n",
      "      - num_bc_tl\n",
      "      - num_il_tl\n",
      "      - num_sats\n",
      "      - num_tl_120dpd_2m\n",
      "      - num_tl_30dpd\n",
      "      - num_tl_90g_dpd_24m\n",
      "      - num_tl_op_past_12m\n",
      "      - pct_tl_nvr_dlq\n",
      "      - percent_bc_gt_75\n",
      "      - pub_rec_bankruptcies\n",
      "      - tax_liens\n",
      "      - total_il_high_credit_limit\n",
      "      - disbursement_method\n",
      "\n"
     ]
    },
    {
     "data": {
      "text/plain": "LabelInferPipeline(memory='./cache',\n                   steps=[('ImputeNumerical',\n                           ApplyToColumns(columns=['loan_amnt', 'int_rate', 'annual_inc', 'dti', 'fico_range_high', 'inq_last_6mths', 'revol_bal', 'out_prncp', 'total_rec_late_fee', 'collection_recovery_fee', 'last_fico_range_low', 'collections_12_mths_ex_med', 'tot_coll_amt', 'avg_cur_bal', 'bc_open_to_buy', 'chargeoff_within_1...\n                           WingsOfEvidence(columns_to_apply=['loan_amnt', 'term', 'int_rate', 'emp_title', 'emp_length', 'home_ownership', 'annual_inc', 'verification_status', 'purpose', 'addr_state', 'dti', 'earliest_cr_line', 'fico_range_high', 'inq_last_6mths', 'revol_bal', 'initial_list_status', 'out_prncp', 'total_rec_late_fee', 'collection_recovery_fee', 'last_fico_range_low', 'collections_12_mths_ex_med', 'application_type', 'tot_coll_amt', 'avg_cur_bal', 'bc_open_to_buy', 'chargeoff_within_12_mths', 'delinq_amnt', 'mo_sin_old_il_acct', 'mo_sin_old_rev_tl_op', 'mo_sin_rcnt_tl', 'mort_acc', 'mths_since_recent_bc', 'num_accts_ever_120_pd', 'num_actv_bc_tl', 'num_bc_tl', 'num_il_tl', 'num_sats', 'num_tl_120dpd_2m', 'num_tl_30dpd', 'num_tl_90g_dpd_24m', 'num_tl_op_past_12m', 'pct_tl_nvr_dlq', 'percent_bc_gt_75', 'pub_rec_bankruptcies', 'tax_liens', 'total_il_high_credit_limit', 'disbursement_method'],\n                                           verbose=True))])"
     },
     "execution_count": 2,
     "metadata": {},
     "output_type": "execute_result"
    }
   ],
   "source": [
    "from pipeline import get_preprocessing_pipeline\n",
    "\n",
    "pipeline = get_preprocessing_pipeline(\n",
    "    name='log_reg',\n",
    "    overrides=[\n",
    "        '+preprocessing_pipeline.steps_config.2.ImputeNumerical.inner.verbose=10',\n",
    "        '+preprocessing_pipeline.steps_config.3.ImputeCategorical.inner.verbose=10',\n",
    "    ],\n",
    "    debug=True\n",
    ")\n",
    "pipeline"
   ],
   "metadata": {
    "collapsed": false,
    "pycharm": {
     "name": "#%%\n"
    }
   }
  },
  {
   "cell_type": "code",
   "execution_count": null,
   "outputs": [],
   "source": [
    "X = pipeline.fit_transform([], y=[])"
   ],
   "metadata": {
    "collapsed": false,
    "pycharm": {
     "name": "#%%\n",
     "is_executing": true
    }
   }
  },
  {
   "cell_type": "code",
   "execution_count": null,
   "outputs": [],
   "source": [],
   "metadata": {
    "collapsed": false,
    "pycharm": {
     "name": "#%%\n"
    }
   }
  },
  {
   "cell_type": "code",
   "execution_count": null,
   "outputs": [],
   "source": [],
   "metadata": {
    "collapsed": false,
    "pycharm": {
     "name": "#%%\n"
    }
   }
  }
 ]
}