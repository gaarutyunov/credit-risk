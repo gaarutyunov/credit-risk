{
 "nbformat": 4,
 "nbformat_minor": 0,
 "metadata": {
  "colab": {
   "name": "lending club.ipynb",
   "provenance": [],
   "collapsed_sections": []
  },
  "kernelspec": {
   "name": "python3",
   "display_name": "Python 3"
  },
  "language_info": {
   "name": "python"
  }
 },
 "cells": [
  {
   "cell_type": "code",
   "execution_count": null,
   "outputs": [],
   "source": [
    "import pandas as pd\n",
    "import numpy as np\n",
    "import sklearn as sk\n",
    "import matplotlib.pyplot as plt\n",
    "\n",
    "%config InlineBackend.figure_format='retina'\n",
    "plt.rcParams[\"figure.dpi\"] = 70\n",
    "import seaborn as sns\n",
    "\n",
    "%load_ext autoreload\n",
    "%autoreload 2"
   ],
   "metadata": {
    "collapsed": false,
    "pycharm": {
     "name": "#%%\n"
    }
   }
  },
  {
   "cell_type": "code",
   "execution_count": null,
   "outputs": [],
   "source": [
    "from utils import load_csv_compressed\n",
    "\n",
    "accepted = load_csv_compressed(\"data/accepted_2007_to_2018Q4.csv\")"
   ],
   "metadata": {
    "collapsed": false,
    "pycharm": {
     "name": "#%%\n"
    }
   }
  },
  {
   "cell_type": "code",
   "execution_count": null,
   "outputs": [],
   "source": [
    "accepted[\"label\"] = accepted[\"loan_status\"].replace(\n",
    "    (\n",
    "        \"Fully Paid\",\n",
    "        \"Charged Off\",\n",
    "        \"Does not meet the credit policy. Status:Fully Paid\",\n",
    "        \"Does not meet the credit policy. Status:Charged Off\",\n",
    "        \"Default\",\n",
    "    ),\n",
    "    (0, 1, 0, 1, 1),\n",
    ")\n",
    "accepted.drop(index=accepted[~accepted.label.isin([0, 1])].index, inplace=True)\n",
    "\n",
    "accepted[\"label\"] = accepted[\"label\"].replace(\"Default\", 1)\n",
    "accepted[\"label\"] = pd.to_numeric(accepted[\"label\"])"
   ],
   "metadata": {
    "collapsed": false,
    "pycharm": {
     "name": "#%%\n"
    }
   }
  },
  {
   "cell_type": "code",
   "execution_count": null,
   "outputs": [],
   "source": [
    "cols_with_frequent_nan = accepted.columns[accepted.isna().mean() > 0.1]\n",
    "accepted.drop(columns=cols_with_frequent_nan, inplace=True)\n",
    "accepted.drop(columns=\"policy_code\", inplace=True)"
   ],
   "metadata": {
    "collapsed": false,
    "pycharm": {
     "name": "#%%\n"
    }
   }
  },
  {
   "cell_type": "code",
   "execution_count": null,
   "outputs": [],
   "source": [
    "numeric = accepted.select_dtypes(include=np.number).columns\n",
    "categorical = accepted.select_dtypes(exclude=np.number).columns"
   ],
   "metadata": {
    "collapsed": false,
    "pycharm": {
     "name": "#%%\n"
    }
   }
  },
  {
   "cell_type": "code",
   "execution_count": null,
   "outputs": [],
   "source": [
    "def calcDrop(res):\n",
    "    # All variables with correlation > cutoff\n",
    "    all_corr_vars = list(set(res[\"v1\"].tolist() + res[\"v2\"].tolist()))\n",
    "\n",
    "    # All unique variables in drop column\n",
    "    poss_drop = list(set(res[\"drop\"].tolist()))\n",
    "\n",
    "    # Keep any variable not in drop column\n",
    "    keep = list(set(all_corr_vars).difference(set(poss_drop)))\n",
    "\n",
    "    # Drop any variables in same row as a keep variable\n",
    "    p = res[res[\"v1\"].isin(keep) | res[\"v2\"].isin(keep)][[\"v1\", \"v2\"]]\n",
    "    q = list(set(p[\"v1\"].tolist() + p[\"v2\"].tolist()))\n",
    "    drop = list(set(q).difference(set(keep)))\n",
    "\n",
    "    # Remove drop variables from possible drop\n",
    "    poss_drop = list(set(poss_drop).difference(set(drop)))\n",
    "\n",
    "    # subset res dataframe to include possible drop pairs\n",
    "    m = res[res[\"v1\"].isin(poss_drop) | res[\"v2\"].isin(poss_drop)][[\"v1\", \"v2\", \"drop\"]]\n",
    "\n",
    "    # remove rows that are decided (drop), take set and add to drops\n",
    "    more_drop = set(list(m[~m[\"v1\"].isin(drop) & ~m[\"v2\"].isin(drop)][\"drop\"]))\n",
    "    for item in more_drop:\n",
    "        drop.append(item)\n",
    "\n",
    "    return drop\n",
    "\n",
    "\n",
    "def corrX(df, cut=0.9):\n",
    "    # Get correlation matrix and upper triagle\n",
    "    corr_mtx = df.corr().abs()\n",
    "    avg_corr = corr_mtx.mean(axis=1)\n",
    "    up = corr_mtx.where(np.triu(np.ones(corr_mtx.shape), k=1).astype(bool))\n",
    "\n",
    "    dropcols = list()\n",
    "\n",
    "    res = pd.DataFrame(columns=([\"v1\", \"v2\", \"v1.target\", \"v2.target\", \"corr\", \"drop\"]))\n",
    "\n",
    "    for row in range(len(up) - 1):\n",
    "        col_idx = row + 1\n",
    "        for col in range(col_idx, len(up)):\n",
    "            if corr_mtx.iloc[row, col] > cut:\n",
    "                if avg_corr.iloc[row] > avg_corr.iloc[col]:\n",
    "                    dropcols.append(row)\n",
    "                    drop = corr_mtx.columns[row]\n",
    "                else:\n",
    "                    dropcols.append(col)\n",
    "                    drop = corr_mtx.columns[col]\n",
    "\n",
    "                s = pd.Series(\n",
    "                    [\n",
    "                        corr_mtx.index[row],\n",
    "                        up.columns[col],\n",
    "                        avg_corr[row],\n",
    "                        avg_corr[col],\n",
    "                        up.iloc[row, col],\n",
    "                        drop,\n",
    "                    ],\n",
    "                    index=res.columns,\n",
    "                )\n",
    "\n",
    "                res = res.append(s, ignore_index=True)\n",
    "\n",
    "    dropcols_names = calcDrop(res)\n",
    "\n",
    "    return dropcols_names"
   ],
   "metadata": {
    "collapsed": false,
    "pycharm": {
     "name": "#%%\n"
    }
   }
  },
  {
   "cell_type": "code",
   "execution_count": null,
   "outputs": [],
   "source": [
    "to_drop = corrX(accepted, cut=0.6)\n",
    "to_drop.remove(\"loan_amnt\")\n",
    "\n",
    "to_drop += [\n",
    "    \"installment\",\n",
    "    \"total_rec_int\",\n",
    "    \"last_pymnt_amnt\",\n",
    "    \"id\",\n",
    "    \"grade\",\n",
    "    \"sub_grade\",\n",
    "]  # Результаты скоринга\n",
    "\n",
    "len(to_drop)"
   ],
   "metadata": {
    "collapsed": false,
    "pycharm": {
     "name": "#%%\n"
    }
   }
  },
  {
   "cell_type": "code",
   "execution_count": null,
   "outputs": [],
   "source": [
    "numeric = accepted.select_dtypes(include=np.number).columns\n",
    "categorical = accepted.select_dtypes(exclude=np.number).columns"
   ],
   "metadata": {
    "collapsed": false,
    "pycharm": {
     "name": "#%%\n"
    }
   }
  },
  {
   "cell_type": "code",
   "execution_count": null,
   "outputs": [],
   "source": [
    "# corr_new = accepted[numeric].drop(columns = to_drop).corr()\n",
    "# plt.figure(figsize=(50, 50))\n",
    "# mask = np.triu(np.ones_like(corr_new, dtype=bool))\n",
    "# sns.heatmap(corr_new, vmin=-1, vmax=1, annot=True, mask=mask)"
   ],
   "metadata": {
    "collapsed": false,
    "pycharm": {
     "name": "#%%\n"
    }
   }
  },
  {
   "cell_type": "code",
   "execution_count": null,
   "outputs": [],
   "source": [
    "to_drop_categorical = [\n",
    "    \"last_pymnt_d\",\n",
    "    \"last_credit_pull_d\",\n",
    "    \"url\",\n",
    "    \"issue_d\",\n",
    "    \"debt_settlement_flag\",\n",
    "    \"hardship_flag\",\n",
    "    \"zip_code\",\n",
    "    \"title\",\n",
    "    \"pymnt_plan\",\n",
    "]"
   ],
   "metadata": {
    "collapsed": false,
    "pycharm": {
     "name": "#%%\n"
    }
   }
  },
  {
   "cell_type": "code",
   "execution_count": null,
   "outputs": [],
   "source": [
    "accepted.drop(columns=to_drop + to_drop_categorical, inplace=True)"
   ],
   "metadata": {
    "collapsed": false,
    "pycharm": {
     "name": "#%%\n"
    }
   }
  },
  {
   "cell_type": "code",
   "execution_count": null,
   "outputs": [],
   "source": [
    "count = accepted[\"emp_title\"].value_counts().sort_values(ascending=False)\n",
    "count[count > 1000]"
   ],
   "metadata": {
    "collapsed": false,
    "pycharm": {
     "name": "#%%\n"
    }
   }
  },
  {
   "cell_type": "code",
   "execution_count": null,
   "outputs": [],
   "source": [
    "accepted.columns"
   ],
   "metadata": {
    "collapsed": false,
    "pycharm": {
     "name": "#%%\n"
    }
   }
  },
  {
   "cell_type": "code",
   "execution_count": null,
   "outputs": [],
   "source": [
    "import yaml\n",
    "\n",
    "print(\n",
    "    yaml.dump(\n",
    "        accepted.columns.values.tolist(), explicit_start=True, default_flow_style=False\n",
    "    )\n",
    ")"
   ],
   "metadata": {
    "collapsed": false,
    "pycharm": {
     "name": "#%%\n"
    }
   }
  },
  {
   "cell_type": "code",
   "execution_count": null,
   "outputs": [],
   "source": [
    "numeric = accepted.select_dtypes(include=np.number).columns.values.tolist()\n",
    "categorical = accepted.select_dtypes(exclude=np.number).columns.values.tolist()\n",
    "\n",
    "print(yaml.dump(numeric, explicit_start=True, default_flow_style=False))\n",
    "print(yaml.dump(categorical, explicit_start=True, default_flow_style=False))"
   ],
   "metadata": {
    "collapsed": false,
    "pycharm": {
     "name": "#%%\n"
    }
   }
  },
  {
   "cell_type": "code",
   "execution_count": null,
   "outputs": [],
   "source": [
    "from pipeline import get_preprocessing_pipeline\n",
    "\n",
    "pipeline = get_preprocessing_pipeline(\n",
    "    name=\"log_reg\",\n",
    "    overrides=[\n",
    "        \"+preprocessing_pipeline.steps_config.2.ImputeNumerical.inner.verbose=10\",\n",
    "        \"+preprocessing_pipeline.steps_config.3.ImputeCategorical.inner.verbose=10\",\n",
    "    ],\n",
    "    debug=True,\n",
    ")\n",
    "pipeline"
   ],
   "metadata": {
    "collapsed": false,
    "pycharm": {
     "name": "#%%\n"
    }
   }
  },
  {
   "cell_type": "code",
   "execution_count": null,
   "outputs": [],
   "source": [
    "X = pipeline.fit_transform([], y=[])"
   ],
   "metadata": {
    "collapsed": false,
    "pycharm": {
     "name": "#%%\n",
     "is_executing": true
    }
   }
  },
  {
   "cell_type": "code",
   "execution_count": null,
   "outputs": [],
   "source": [],
   "metadata": {
    "collapsed": false,
    "pycharm": {
     "name": "#%%\n"
    }
   }
  },
  {
   "cell_type": "code",
   "execution_count": null,
   "outputs": [],
   "source": [],
   "metadata": {
    "collapsed": false,
    "pycharm": {
     "name": "#%%\n"
    }
   }
  }
 ]
}