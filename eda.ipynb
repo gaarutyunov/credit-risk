{
 "cells": [
  {
   "cell_type": "code",
   "execution_count": 1,
   "metadata": {
    "pycharm": {
     "name": "#%%\n"
    }
   },
   "outputs": [],
   "source": [
    "import pandas as pd\n",
    "import numpy as np\n",
    "import sklearn as sk\n",
    "import matplotlib.pyplot as plt\n",
    "%config InlineBackend.figure_format='retina'\n",
    "plt.rcParams[\"figure.dpi\"] = 70\n",
    "import seaborn as sns\n",
    "\n",
    "%load_ext autoreload\n",
    "%autoreload 2"
   ]
  },
  {
   "cell_type": "code",
   "execution_count": 92,
   "metadata": {},
   "outputs": [],
   "source": [
    "import woe"
   ]
  },
  {
   "cell_type": "code",
   "execution_count": 3,
   "metadata": {
    "pycharm": {
     "name": "#%%\n"
    }
   },
   "outputs": [],
   "source": [
    "from utils import load_csv_compressed\n",
    "\n",
    "accepted = load_csv_compressed('data/accepted_2007_to_2018Q4.csv')"
   ]
  },
  {
   "cell_type": "markdown",
   "metadata": {
    "pycharm": {
     "name": "#%% md\n"
    }
   },
   "source": [
    "### Предобработка некоторых столбцов"
   ]
  },
  {
   "cell_type": "code",
   "execution_count": 4,
   "metadata": {
    "pycharm": {
     "name": "#%%\n"
    }
   },
   "outputs": [],
   "source": [
    "accepted.rename(columns={'loan_status': 'label'}, inplace=True)\n",
    "accepted['label'] = accepted['label'].replace(('Fully Paid',\n",
    "                                                'Charged Off',\n",
    "                                                'Does not meet the credit policy. Status:Fully Paid',\n",
    "                                                'Does not meet the credit policy. Status:Charged Off',\n",
    "                                                'Default'),\n",
    "                                                (0, 1, 0, 1, 1))\n",
    "\n",
    "rows_with_other_labels = accepted[~accepted.label.isin([0, 1])].index\n",
    "accepted.drop(index=rows_with_other_labels, inplace=True)\n",
    "\n",
    "accepted['label'] = pd.to_numeric(accepted['label'])\n",
    "\n",
    "for col in ['verification_status', 'verification_status_joint']:\n",
    "    accepted[col] = accepted[col].map({'Not Verified': False, 'Source Verified': True})\n",
    "    accepted[col] = accepted[col].astype(bool)"
   ]
  },
  {
   "cell_type": "code",
   "execution_count": 5,
   "metadata": {
    "pycharm": {
     "name": "#%%\n"
    }
   },
   "outputs": [],
   "source": [
    "# Трансформируем даты\n",
    "#def get_all_date_features(df):\n",
    "#\n",
    "#    date_features = []\n",
    "#    for col in df:\n",
    "#        if np.issubdtype(df[col].dtype, np.number):\n",
    "#            continue\n",
    "#\n",
    "#        try:\n",
    "#            pd.to_datetime(df[col].dropna().iloc[:10])\n",
    "#            date_features.append(col)\n",
    "#        except:\n",
    "#            pass\n",
    "#\n",
    "#    return date_features\n",
    "#\n",
    "#\n",
    "#date_features = get_all_date_features(accepted)\n",
    "#accepted[date_features].apply(pd.to_datetime, inplace=True)\n",
    "#accepted[date_features] = (accepted[date_features] - accepted['issue_d'])"
   ]
  },
  {
   "cell_type": "markdown",
   "metadata": {},
   "source": [
    "### Отбор признаков"
   ]
  },
  {
   "cell_type": "code",
   "execution_count": 6,
   "metadata": {},
   "outputs": [],
   "source": [
    "# Смотрим столбцы, которые необходимо удалить\n",
    "df_rejected = pd.read_csv('docs/accepted_columns_description.csv')[['Column_name', 'Rejected']]"
   ]
  },
  {
   "cell_type": "code",
   "execution_count": 7,
   "metadata": {},
   "outputs": [
    {
     "data": {
      "text/html": [
       "<div>\n",
       "<style scoped>\n",
       "    .dataframe tbody tr th:only-of-type {\n",
       "        vertical-align: middle;\n",
       "    }\n",
       "\n",
       "    .dataframe tbody tr th {\n",
       "        vertical-align: top;\n",
       "    }\n",
       "\n",
       "    .dataframe thead th {\n",
       "        text-align: right;\n",
       "    }\n",
       "</style>\n",
       "<table border=\"1\" class=\"dataframe\">\n",
       "  <thead>\n",
       "    <tr style=\"text-align: right;\">\n",
       "      <th></th>\n",
       "      <th>Column_name</th>\n",
       "      <th>Rejected</th>\n",
       "    </tr>\n",
       "  </thead>\n",
       "  <tbody>\n",
       "    <tr>\n",
       "      <th>0</th>\n",
       "      <td>acc_now_delinq</td>\n",
       "      <td>0</td>\n",
       "    </tr>\n",
       "    <tr>\n",
       "      <th>1</th>\n",
       "      <td>acc_open_past_24mths</td>\n",
       "      <td>0</td>\n",
       "    </tr>\n",
       "    <tr>\n",
       "      <th>2</th>\n",
       "      <td>addr_state</td>\n",
       "      <td>0</td>\n",
       "    </tr>\n",
       "    <tr>\n",
       "      <th>3</th>\n",
       "      <td>all_util</td>\n",
       "      <td>1</td>\n",
       "    </tr>\n",
       "    <tr>\n",
       "      <th>4</th>\n",
       "      <td>annual_inc</td>\n",
       "      <td>0</td>\n",
       "    </tr>\n",
       "    <tr>\n",
       "      <th>...</th>\n",
       "      <td>...</td>\n",
       "      <td>...</td>\n",
       "    </tr>\n",
       "    <tr>\n",
       "      <th>146</th>\n",
       "      <td>total_rev_hi_lim</td>\n",
       "      <td>0</td>\n",
       "    </tr>\n",
       "    <tr>\n",
       "      <th>147</th>\n",
       "      <td>url</td>\n",
       "      <td>1</td>\n",
       "    </tr>\n",
       "    <tr>\n",
       "      <th>148</th>\n",
       "      <td>verification_status</td>\n",
       "      <td>0</td>\n",
       "    </tr>\n",
       "    <tr>\n",
       "      <th>149</th>\n",
       "      <td>verified_status_joint</td>\n",
       "      <td>0</td>\n",
       "    </tr>\n",
       "    <tr>\n",
       "      <th>150</th>\n",
       "      <td>zip_code</td>\n",
       "      <td>1</td>\n",
       "    </tr>\n",
       "  </tbody>\n",
       "</table>\n",
       "<p>151 rows × 2 columns</p>\n",
       "</div>"
      ],
      "text/plain": [
       "               Column_name  Rejected\n",
       "0           acc_now_delinq         0\n",
       "1     acc_open_past_24mths         0\n",
       "2               addr_state         0\n",
       "3                 all_util         1\n",
       "4               annual_inc         0\n",
       "..                     ...       ...\n",
       "146       total_rev_hi_lim         0\n",
       "147                    url         1\n",
       "148    verification_status         0\n",
       "149  verified_status_joint         0\n",
       "150               zip_code         1\n",
       "\n",
       "[151 rows x 2 columns]"
      ]
     },
     "execution_count": 7,
     "metadata": {},
     "output_type": "execute_result"
    }
   ],
   "source": [
    "df_rejected"
   ]
  },
  {
   "cell_type": "code",
   "execution_count": 8,
   "metadata": {},
   "outputs": [],
   "source": [
    "to_drop = df_rejected[df_rejected['Rejected'] == 1]['Column_name'].values"
   ]
  },
  {
   "cell_type": "code",
   "execution_count": 9,
   "metadata": {},
   "outputs": [
    {
     "data": {
      "text/plain": [
       "array(['all_util', 'avg_cur_bal', 'debt_settlement_flag',\n",
       "       'debt_settlement_flag_date', 'deferral_term', 'desc',\n",
       "       'disbursement_method', 'dti', 'dti_joint', 'funded_amnt',\n",
       "       'funded_amnt_inv', 'grade', 'hardship_amount', 'hardship_dpd',\n",
       "       'hardship_end_date', 'hardship_flag',\n",
       "       'hardship_last_payment_amount', 'hardship_length',\n",
       "       'hardship_loan_status', 'hardship_payoff_balance_amount',\n",
       "       'hardship_reason', 'hardship_start_date', 'hardship_status',\n",
       "       'hardship_type', 'id', 'il_util', 'initial_list_status', 'inq_fi',\n",
       "       'inq_last_12m', 'inq_last_6mths', 'installment', 'int_rate',\n",
       "       'issue_d', 'last_credit_pull_d', 'last_fico_range_high',\n",
       "       'last_fico_range_low', 'last_pymnt_amnt', 'last_pymnt_d',\n",
       "       'loan_amnt', 'max_bal_bc', 'member_id', 'mths_since_last_delinq',\n",
       "       'mths_since_last_major_derog', 'mths_since_last_record',\n",
       "       'mths_since_rcnt_il', 'mths_since_recent_bc_dlq',\n",
       "       'mths_since_recent_revol_delinq', 'next_pymnt_d',\n",
       "       'num_rev_tl_bal_gt_0', 'num_tl_120dpd_2m', 'num_tl_30dpd',\n",
       "       'num_tl_90g_dpd_24m', 'open_acc_6m', 'open_act_il', 'open_il_12m',\n",
       "       'open_il_24m', 'open_rv_12m', 'open_rv_24m',\n",
       "       'orig_projected_additional_accrued_interest', 'out_prncp',\n",
       "       'out_prncp_inv', 'payment_plan_start_date', 'policy_code',\n",
       "       'pymnt_plan', 'recoveries', 'revol_bal', 'revol_bal_joint',\n",
       "       'revol_util', 'sec_app_chargeoff_within_12_mths',\n",
       "       'sec_app_collections_12_mths_ex_med', 'sec_app_earliest_cr_line',\n",
       "       'sec_app_fico_range_high', 'sec_app_fico_range_low',\n",
       "       'sec_app_inq_last_6mths', 'sec_app_mort_acc',\n",
       "       'sec_app_mths_since_last_major_derog', 'sec_app_num_rev_accts',\n",
       "       'sec_app_open_acc', 'sec_app_open_act_il', 'sec_app_revol_util',\n",
       "       'settlement_amount', 'settlement_date', 'settlement_percentage',\n",
       "       'settlement_status', 'settlement_term', 'sub_grade',\n",
       "       'total_bal_ex_mort', 'total_bal_il', 'total_cu_tl', 'total_pymnt',\n",
       "       'total_pymnt_inv', 'total_rec_int', 'total_rec_late_fee',\n",
       "       'total_rec_prncp', 'url', 'zip_code'], dtype=object)"
      ]
     },
     "execution_count": 9,
     "metadata": {},
     "output_type": "execute_result"
    }
   ],
   "source": [
    "to_drop"
   ]
  },
  {
   "cell_type": "code",
   "execution_count": 10,
   "metadata": {},
   "outputs": [],
   "source": [
    "accepted = accepted.drop(columns=to_drop)"
   ]
  },
  {
   "cell_type": "code",
   "execution_count": 103,
   "metadata": {},
   "outputs": [
    {
     "data": {
      "text/plain": [
       "Index(['term', 'home_ownership', 'annual_inc', 'verification_status', 'label',\n",
       "       'purpose', 'fico_range_low', 'tot_cur_bal', 'total_rev_hi_lim',\n",
       "       'acc_open_past_24mths', 'mths_since_recent_inq', 'num_actv_rev_tl',\n",
       "       'percent_bc_gt_75'],\n",
       "      dtype='object')"
      ]
     },
     "execution_count": 103,
     "metadata": {},
     "output_type": "execute_result"
    }
   ],
   "source": [
    "accepted.columns"
   ]
  },
  {
   "cell_type": "code",
   "execution_count": 11,
   "metadata": {
    "pycharm": {
     "name": "#%%\n"
    }
   },
   "outputs": [],
   "source": [
    "# # Используем словарь значений столбцов (файл docs/accepted_columns_description.xlsx)\n",
    "# to_drop = ['id', 'member_id', 'url', 'zip_code', 'desc', 'disbursement_method', # Useless\n",
    "#            'emp_length',  # Распределение по таргету и рок аук так себе\n",
    "#            'num_tl_120dpd_2m', 'policy_code',  # Одно значение\n",
    "#            'grade', 'sub_grade',  # Результаты скоринга / данные после начала кредитования\n",
    "#            'settlement_percentage', 'settlement_term', 'debt_settlement_flag',\n",
    "#            'settlement_status', 'settlement_amount', 'term',\n",
    "#            'loan_amnt', 'installment', 'total_rec_int', 'last_pymnt_amnt',\n",
    "#            'deferral_term', 'title', 'pymnt_plan',\n",
    "#            'sec_app_open_act_il', 'orig_projected_additional_accrued_interest',\n",
    "#            'hardship_amount', 'hardship_dpd', 'hardship_flag',\n",
    "#            'hardship_last_payment_amount', 'hardship_last_payment_amount',\n",
    "#            'hardship_length', 'hardship_loan_status', 'hardship_payoff_balance_amount',\n",
    "#            'hardship_reason', 'hardship_status', 'hardship_type',\n",
    "#            'initial_list_status',\n",
    "#            'earliest_cr_line', 'next_pymnt_d', 'sec_app_earliest_cr_line', 'hardship_start_date',  # Даты\n",
    "#            'hardship_end_date', 'payment_plan_start_date', 'debt_settlement_flag_date', 'settlement_date',\n",
    "#            'issue_d', 'last_pymnt_d', 'last_credit_pull_d',\n",
    "#            ]\n",
    "\n",
    "# # Пока что не выкинуты\n",
    "# probably_leakage = ['sec_app_fico_range_high', 'sec_app_fico_range_high']\n",
    "\n",
    "# accepted.drop(columns=to_drop, inplace=True, errors='ignore')"
   ]
  },
  {
   "cell_type": "code",
   "execution_count": 12,
   "metadata": {
    "pycharm": {
     "name": "#%%\n"
    },
    "scrolled": true
   },
   "outputs": [
    {
     "name": "stdout",
     "output_type": "stream",
     "text": [
      "Колво уникальных значений:\n"
     ]
    },
    {
     "data": {
      "text/html": [
       "<div>\n",
       "<style scoped>\n",
       "    .dataframe tbody tr th:only-of-type {\n",
       "        vertical-align: middle;\n",
       "    }\n",
       "\n",
       "    .dataframe tbody tr th {\n",
       "        vertical-align: top;\n",
       "    }\n",
       "\n",
       "    .dataframe thead th {\n",
       "        text-align: right;\n",
       "    }\n",
       "</style>\n",
       "<table border=\"1\" class=\"dataframe\">\n",
       "  <thead>\n",
       "    <tr style=\"text-align: right;\">\n",
       "      <th></th>\n",
       "      <th>col</th>\n",
       "      <th>unique_count</th>\n",
       "    </tr>\n",
       "  </thead>\n",
       "  <tbody>\n",
       "    <tr>\n",
       "      <th>0</th>\n",
       "      <td>term</td>\n",
       "      <td>2</td>\n",
       "    </tr>\n",
       "    <tr>\n",
       "      <th>5</th>\n",
       "      <td>verification_status</td>\n",
       "      <td>2</td>\n",
       "    </tr>\n",
       "    <tr>\n",
       "      <th>6</th>\n",
       "      <td>label</td>\n",
       "      <td>2</td>\n",
       "    </tr>\n",
       "    <tr>\n",
       "      <th>21</th>\n",
       "      <td>verification_status_joint</td>\n",
       "      <td>2</td>\n",
       "    </tr>\n",
       "    <tr>\n",
       "      <th>19</th>\n",
       "      <td>application_type</td>\n",
       "      <td>2</td>\n",
       "    </tr>\n",
       "    <tr>\n",
       "      <th>3</th>\n",
       "      <td>home_ownership</td>\n",
       "      <td>6</td>\n",
       "    </tr>\n",
       "    <tr>\n",
       "      <th>22</th>\n",
       "      <td>acc_now_delinq</td>\n",
       "      <td>8</td>\n",
       "    </tr>\n",
       "    <tr>\n",
       "      <th>29</th>\n",
       "      <td>chargeoff_within_12_mths</td>\n",
       "      <td>11</td>\n",
       "    </tr>\n",
       "    <tr>\n",
       "      <th>2</th>\n",
       "      <td>emp_length</td>\n",
       "      <td>11</td>\n",
       "    </tr>\n",
       "    <tr>\n",
       "      <th>50</th>\n",
       "      <td>pub_rec_bankruptcies</td>\n",
       "      <td>12</td>\n",
       "    </tr>\n",
       "    <tr>\n",
       "      <th>7</th>\n",
       "      <td>purpose</td>\n",
       "      <td>14</td>\n",
       "    </tr>\n",
       "    <tr>\n",
       "      <th>18</th>\n",
       "      <td>collections_12_mths_ex_med</td>\n",
       "      <td>15</td>\n",
       "    </tr>\n",
       "    <tr>\n",
       "      <th>37</th>\n",
       "      <td>mths_since_recent_inq</td>\n",
       "      <td>26</td>\n",
       "    </tr>\n",
       "    <tr>\n",
       "      <th>10</th>\n",
       "      <td>delinq_2yrs</td>\n",
       "      <td>31</td>\n",
       "    </tr>\n",
       "    <tr>\n",
       "      <th>47</th>\n",
       "      <td>num_tl_op_past_12m</td>\n",
       "      <td>32</td>\n",
       "    </tr>\n",
       "    <tr>\n",
       "      <th>39</th>\n",
       "      <td>num_actv_bc_tl</td>\n",
       "      <td>34</td>\n",
       "    </tr>\n",
       "    <tr>\n",
       "      <th>51</th>\n",
       "      <td>tax_liens</td>\n",
       "      <td>36</td>\n",
       "    </tr>\n",
       "    <tr>\n",
       "      <th>15</th>\n",
       "      <td>pub_rec</td>\n",
       "      <td>37</td>\n",
       "    </tr>\n",
       "    <tr>\n",
       "      <th>38</th>\n",
       "      <td>num_accts_ever_120_pd</td>\n",
       "      <td>39</td>\n",
       "    </tr>\n",
       "    <tr>\n",
       "      <th>35</th>\n",
       "      <td>mort_acc</td>\n",
       "      <td>39</td>\n",
       "    </tr>\n",
       "    <tr>\n",
       "      <th>12</th>\n",
       "      <td>fico_range_low</td>\n",
       "      <td>48</td>\n",
       "    </tr>\n",
       "    <tr>\n",
       "      <th>13</th>\n",
       "      <td>fico_range_high</td>\n",
       "      <td>48</td>\n",
       "    </tr>\n",
       "    <tr>\n",
       "      <th>9</th>\n",
       "      <td>addr_state</td>\n",
       "      <td>51</td>\n",
       "    </tr>\n",
       "    <tr>\n",
       "      <th>41</th>\n",
       "      <td>num_bc_sats</td>\n",
       "      <td>52</td>\n",
       "    </tr>\n",
       "    <tr>\n",
       "      <th>40</th>\n",
       "      <td>num_actv_rev_tl</td>\n",
       "      <td>52</td>\n",
       "    </tr>\n",
       "    <tr>\n",
       "      <th>26</th>\n",
       "      <td>acc_open_past_24mths</td>\n",
       "      <td>55</td>\n",
       "    </tr>\n",
       "    <tr>\n",
       "      <th>42</th>\n",
       "      <td>num_bc_tl</td>\n",
       "      <td>68</td>\n",
       "    </tr>\n",
       "    <tr>\n",
       "      <th>44</th>\n",
       "      <td>num_op_rev_tl</td>\n",
       "      <td>74</td>\n",
       "    </tr>\n",
       "    <tr>\n",
       "      <th>46</th>\n",
       "      <td>num_sats</td>\n",
       "      <td>83</td>\n",
       "    </tr>\n",
       "    <tr>\n",
       "      <th>14</th>\n",
       "      <td>open_acc</td>\n",
       "      <td>84</td>\n",
       "    </tr>\n",
       "    <tr>\n",
       "      <th>45</th>\n",
       "      <td>num_rev_accts</td>\n",
       "      <td>107</td>\n",
       "    </tr>\n",
       "    <tr>\n",
       "      <th>43</th>\n",
       "      <td>num_il_tl</td>\n",
       "      <td>114</td>\n",
       "    </tr>\n",
       "    <tr>\n",
       "      <th>16</th>\n",
       "      <td>total_acc</td>\n",
       "      <td>143</td>\n",
       "    </tr>\n",
       "    <tr>\n",
       "      <th>34</th>\n",
       "      <td>mo_sin_rcnt_tl</td>\n",
       "      <td>196</td>\n",
       "    </tr>\n",
       "    <tr>\n",
       "      <th>49</th>\n",
       "      <td>percent_bc_gt_75</td>\n",
       "      <td>245</td>\n",
       "    </tr>\n",
       "    <tr>\n",
       "      <th>33</th>\n",
       "      <td>mo_sin_rcnt_rev_tl_op</td>\n",
       "      <td>286</td>\n",
       "    </tr>\n",
       "    <tr>\n",
       "      <th>36</th>\n",
       "      <td>mths_since_recent_bc</td>\n",
       "      <td>491</td>\n",
       "    </tr>\n",
       "    <tr>\n",
       "      <th>31</th>\n",
       "      <td>mo_sin_old_il_acct</td>\n",
       "      <td>522</td>\n",
       "    </tr>\n",
       "    <tr>\n",
       "      <th>48</th>\n",
       "      <td>pct_tl_nvr_dlq</td>\n",
       "      <td>631</td>\n",
       "    </tr>\n",
       "    <tr>\n",
       "      <th>11</th>\n",
       "      <td>earliest_cr_line</td>\n",
       "      <td>739</td>\n",
       "    </tr>\n",
       "    <tr>\n",
       "      <th>32</th>\n",
       "      <td>mo_sin_old_rev_tl_op</td>\n",
       "      <td>756</td>\n",
       "    </tr>\n",
       "    <tr>\n",
       "      <th>28</th>\n",
       "      <td>bc_util</td>\n",
       "      <td>1444</td>\n",
       "    </tr>\n",
       "    <tr>\n",
       "      <th>30</th>\n",
       "      <td>delinq_amnt</td>\n",
       "      <td>2006</td>\n",
       "    </tr>\n",
       "    <tr>\n",
       "      <th>20</th>\n",
       "      <td>annual_inc_joint</td>\n",
       "      <td>5161</td>\n",
       "    </tr>\n",
       "    <tr>\n",
       "      <th>23</th>\n",
       "      <td>tot_coll_amt</td>\n",
       "      <td>12871</td>\n",
       "    </tr>\n",
       "    <tr>\n",
       "      <th>53</th>\n",
       "      <td>total_bc_limit</td>\n",
       "      <td>17086</td>\n",
       "    </tr>\n",
       "    <tr>\n",
       "      <th>25</th>\n",
       "      <td>total_rev_hi_lim</td>\n",
       "      <td>26799</td>\n",
       "    </tr>\n",
       "    <tr>\n",
       "      <th>8</th>\n",
       "      <td>title</td>\n",
       "      <td>63152</td>\n",
       "    </tr>\n",
       "    <tr>\n",
       "      <th>4</th>\n",
       "      <td>annual_inc</td>\n",
       "      <td>64462</td>\n",
       "    </tr>\n",
       "    <tr>\n",
       "      <th>27</th>\n",
       "      <td>bc_open_to_buy</td>\n",
       "      <td>74924</td>\n",
       "    </tr>\n",
       "    <tr>\n",
       "      <th>17</th>\n",
       "      <td>collection_recovery_fee</td>\n",
       "      <td>134696</td>\n",
       "    </tr>\n",
       "    <tr>\n",
       "      <th>54</th>\n",
       "      <td>total_il_high_credit_limit</td>\n",
       "      <td>162550</td>\n",
       "    </tr>\n",
       "    <tr>\n",
       "      <th>1</th>\n",
       "      <td>emp_title</td>\n",
       "      <td>379863</td>\n",
       "    </tr>\n",
       "    <tr>\n",
       "      <th>24</th>\n",
       "      <td>tot_cur_bal</td>\n",
       "      <td>400464</td>\n",
       "    </tr>\n",
       "    <tr>\n",
       "      <th>52</th>\n",
       "      <td>tot_hi_cred_lim</td>\n",
       "      <td>427447</td>\n",
       "    </tr>\n",
       "  </tbody>\n",
       "</table>\n",
       "</div>"
      ],
      "text/plain": [
       "                           col  unique_count\n",
       "0                         term             2\n",
       "5          verification_status             2\n",
       "6                        label             2\n",
       "21   verification_status_joint             2\n",
       "19            application_type             2\n",
       "3               home_ownership             6\n",
       "22              acc_now_delinq             8\n",
       "29    chargeoff_within_12_mths            11\n",
       "2                   emp_length            11\n",
       "50        pub_rec_bankruptcies            12\n",
       "7                      purpose            14\n",
       "18  collections_12_mths_ex_med            15\n",
       "37       mths_since_recent_inq            26\n",
       "10                 delinq_2yrs            31\n",
       "47          num_tl_op_past_12m            32\n",
       "39              num_actv_bc_tl            34\n",
       "51                   tax_liens            36\n",
       "15                     pub_rec            37\n",
       "38       num_accts_ever_120_pd            39\n",
       "35                    mort_acc            39\n",
       "12              fico_range_low            48\n",
       "13             fico_range_high            48\n",
       "9                   addr_state            51\n",
       "41                 num_bc_sats            52\n",
       "40             num_actv_rev_tl            52\n",
       "26        acc_open_past_24mths            55\n",
       "42                   num_bc_tl            68\n",
       "44               num_op_rev_tl            74\n",
       "46                    num_sats            83\n",
       "14                    open_acc            84\n",
       "45               num_rev_accts           107\n",
       "43                   num_il_tl           114\n",
       "16                   total_acc           143\n",
       "34              mo_sin_rcnt_tl           196\n",
       "49            percent_bc_gt_75           245\n",
       "33       mo_sin_rcnt_rev_tl_op           286\n",
       "36        mths_since_recent_bc           491\n",
       "31          mo_sin_old_il_acct           522\n",
       "48              pct_tl_nvr_dlq           631\n",
       "11            earliest_cr_line           739\n",
       "32        mo_sin_old_rev_tl_op           756\n",
       "28                     bc_util          1444\n",
       "30                 delinq_amnt          2006\n",
       "20            annual_inc_joint          5161\n",
       "23                tot_coll_amt         12871\n",
       "53              total_bc_limit         17086\n",
       "25            total_rev_hi_lim         26799\n",
       "8                        title         63152\n",
       "4                   annual_inc         64462\n",
       "27              bc_open_to_buy         74924\n",
       "17     collection_recovery_fee        134696\n",
       "54  total_il_high_credit_limit        162550\n",
       "1                    emp_title        379863\n",
       "24                 tot_cur_bal        400464\n",
       "52             tot_hi_cred_lim        427447"
      ]
     },
     "execution_count": 12,
     "metadata": {},
     "output_type": "execute_result"
    }
   ],
   "source": [
    "print('Колво уникальных значений:')\n",
    "\n",
    "unique_counts_df = pd.DataFrame({'col': col,\n",
    "                                 'unique_count': len(accepted[col].value_counts())} for col in accepted)\n",
    "\n",
    "unique_counts_df.sort_values('unique_count')"
   ]
  },
  {
   "cell_type": "markdown",
   "metadata": {
    "pycharm": {
     "name": "#%% md\n"
    }
   },
   "source": [
    "### Работа с пропущенными значениями"
   ]
  },
  {
   "cell_type": "code",
   "execution_count": 59,
   "metadata": {
    "pycharm": {
     "name": "#%%\n"
    }
   },
   "outputs": [],
   "source": [
    "fill_max = ['bc_open_to_buy',\n",
    "            'mths_since_last_delinq',\n",
    "            'mths_since_last_major_derog',\n",
    "            'mths_since_last_record',\n",
    "            'mths_since_rcnt_il',\n",
    "            'mths_since_recent_bc',\n",
    "            'mths_since_recent_bc_dlq',\n",
    "            'mths_since_recent_inq',\n",
    "            'mths_since_recent_revol_delinq',\n",
    "            'pct_tl_nvr_dlq',\n",
    "            'sec_app_mths_since_last_major_derog']\n",
    "\n",
    "fill_mean = ['annual_inc', 'dti', 'fico_range_low', 'fico_range_high',\n",
    "             'total_rev_hi_lim', 'total_bc_limit', 'total_il_high_credit_limit',\n",
    "             'tot_hi_cred_lim', 'il_util', 'sec_app_revol_util', 'bc_util', 'term',\n",
    "            'collection_recovery_fee', 'annual_inc_joint', 'acc_now_delinq', 'tot_coll_amt',\n",
    "             'tot_cur_bal', 'delinq_amnt', 'num_bc_tl', ''\n",
    "            ]\n",
    "\n",
    "fill_median = ['emp_title', 'emp_length', 'delinq_2yrs', 'earliest_cr_line', 'open_acc', 'pub_rec',\n",
    "              'total_acc', 'collections_12_mths_ex_med', 'acc_open_past_24mths', 'chargeoff_within_12_mths',\n",
    "              'mo_sin_old_il_acct', 'mo_sin_old_rev_tl_op', 'mo_sin_rcnt_rev_tl_op', 'mo_sin_rcnt_tl',\n",
    "               'mort_acc', 'num_accts_ever_120_pd', 'num_actv_bc_tl', 'num_actv_rev_tl', 'num_bc_sats', \n",
    "               'num_il_tl', 'num_op_rev_tl', 'num_rev_accts', 'num_sats', 'num_tl_op_past_12m', \n",
    "               'percent_bc_gt_75', 'pub_rec_bankruptcies', 'tax_liens', \n",
    "               ''\n",
    "              ]\n",
    "\n",
    "fill_min = list(set(accepted.columns) - set(fill_max) - set(fill_mean) - {'label'})\n",
    "\n",
    "\n",
    "for cols, func in zip([fill_min, fill_mean, fill_max],\n",
    "                      [lambda x: np.min(x, axis=0), lambda x: np.mean(x, axis=0), lambda x: np.max(x, axis=0)]):\n",
    "    try:\n",
    "        fillna_vals = func(accepted[cols])\n",
    "        accepted[cols] = accepted[cols].fillna(fillna_vals)\n",
    "    except KeyError:\n",
    "        continue"
   ]
  },
  {
   "cell_type": "code",
   "execution_count": 60,
   "metadata": {
    "pycharm": {
     "name": "#%%\n"
    },
    "scrolled": true
   },
   "outputs": [],
   "source": [
    "# # Смотрим описание столбцов\n",
    "# notes_df = pd.read_excel('docs/accepted_columns_description.xlsx', engine='openpyxl')[['Column_name', 'Description']]\n",
    "# notes_df = notes_df.dropna()\n",
    "\n",
    "# for col in fill_min:\n",
    "#     res = notes_df[notes_df['Column_name'].str.contains(col)]\n",
    "#     for i, row in res.iterrows():\n",
    "#         if accepted[col].isna().mean() == 0:\n",
    "#             continue\n",
    "\n",
    "#         print(row['Column_name'], '-', row['Description'])\n",
    "#         print()\n",
    "\n",
    "#     if not res.shape[0]:\n",
    "#         print(col, '- no description found')\n",
    "#         print()"
   ]
  },
  {
   "cell_type": "markdown",
   "metadata": {
    "pycharm": {
     "name": "#%% md\n"
    }
   },
   "source": [
    "### Трансформация признаков"
   ]
  },
  {
   "cell_type": "code",
   "execution_count": 61,
   "metadata": {
    "pycharm": {
     "name": "#%%\n"
    }
   },
   "outputs": [
    {
     "name": "stderr",
     "output_type": "stream",
     "text": [
      "/data/iasviridov/work/chest/chest/lib/python3.6/site-packages/ipykernel_launcher.py:2: SettingWithCopyWarning: \n",
      "A value is trying to be set on a copy of a slice from a DataFrame\n",
      "\n",
      "See the caveats in the documentation: https://pandas.pydata.org/pandas-docs/stable/user_guide/indexing.html#returning-a-view-versus-a-copy\n",
      "  \n"
     ]
    }
   ],
   "source": [
    "col = 'pub_rec_bankruptcies'\n",
    "accepted[col][accepted[col] == 'acc_now_delinq'] = 1\n",
    "accepted['was_person_bankrupt'] = (accepted[col].astype(int) >= 1)\n",
    "accepted.drop(columns=col, inplace=True)"
   ]
  },
  {
   "cell_type": "code",
   "execution_count": 62,
   "metadata": {
    "pycharm": {
     "name": "#%%\n"
    }
   },
   "outputs": [
    {
     "name": "stdout",
     "output_type": "stream",
     "text": [
      "Категориальные признаки: term, emp_title, emp_length, home_ownership, purpose, title, addr_state, earliest_cr_line, application_type\n"
     ]
    }
   ],
   "source": [
    "categorical = accepted.select_dtypes(exclude=[np.number, np.int64, bool]).columns\n",
    "print(f'Категориальные признаки: {\", \".join(categorical)}')"
   ]
  },
  {
   "cell_type": "markdown",
   "metadata": {
    "pycharm": {
     "name": "#%% md\n"
    }
   },
   "source": [
    "#### emp_title"
   ]
  },
  {
   "cell_type": "code",
   "execution_count": 63,
   "metadata": {
    "pycharm": {
     "name": "#%%\n"
    }
   },
   "outputs": [
    {
     "data": {
      "text/plain": [
       "teacher                                    25691\n",
       "manager                                    24898\n",
       "owner                                      15489\n",
       "registered nurse                           12092\n",
       "driver                                     11439\n",
       "                                           ...  \n",
       "state of maryland- salisbury university        1\n",
       "citringroup                                    1\n",
       "rba                                            1\n",
       "sr. acct exec                                  1\n",
       "tool & die manager                             1\n",
       "Name: emp_title, Length: 327845, dtype: int64"
      ]
     },
     "execution_count": 63,
     "metadata": {},
     "output_type": "execute_result"
    }
   ],
   "source": [
    "accepted['emp_title'] = accepted['emp_title'].str.lower()\n",
    "accepted['emp_title'].value_counts()"
   ]
  },
  {
   "cell_type": "code",
   "execution_count": 64,
   "metadata": {
    "pycharm": {
     "name": "#%%\n"
    }
   },
   "outputs": [
    {
     "data": {
      "text/plain": [
       "teacher                           25691\n",
       "manager                           24898\n",
       "registered nurse                  21697\n",
       "owner                             15489\n",
       "driver                            11439\n",
       "                                  ...  \n",
       "city of pasco                         1\n",
       "assembly/ property maintenence        1\n",
       "software asset mgr                    1\n",
       "surf club                             1\n",
       "tool & die manager                    1\n",
       "Name: emp_title, Length: 324167, dtype: int64"
      ]
     },
     "execution_count": 64,
     "metadata": {},
     "output_type": "execute_result"
    }
   ],
   "source": [
    "# Аббревиатура и расшифровка\n",
    "abbr_to_occupation = {}\n",
    "\n",
    "occupations = accepted['emp_title'].value_counts(ascending=True).index\n",
    "\n",
    "for occ in occupations:\n",
    "    occ_split = occ.split()\n",
    "\n",
    "    if len(occ_split) < 2:\n",
    "        continue\n",
    "\n",
    "    abbr = ''.join([s[0] for s in occ_split])\n",
    "    abbr_to_occupation[abbr] = occ\n",
    "\n",
    "accepted['emp_title'] = [abbr_to_occupation.get(occ, occ) for occ in accepted['emp_title']]\n",
    "accepted['emp_title'].value_counts()"
   ]
  },
  {
   "cell_type": "code",
   "execution_count": 65,
   "metadata": {
    "pycharm": {
     "name": "#%%\n"
    }
   },
   "outputs": [
    {
     "name": "stderr",
     "output_type": "stream",
     "text": [
      "/data/iasviridov/work/chest/chest/lib/python3.6/site-packages/ipykernel_launcher.py:4: SettingWithCopyWarning: \n",
      "A value is trying to be set on a copy of a slice from a DataFrame\n",
      "\n",
      "See the caveats in the documentation: https://pandas.pydata.org/pandas-docs/stable/user_guide/indexing.html#returning-a-view-versus-a-copy\n",
      "  after removing the cwd from sys.path.\n"
     ]
    },
    {
     "data": {
      "text/plain": [
       "other                 1157916\n",
       "teacher                 25691\n",
       "manager                 24898\n",
       "registered nurse        21697\n",
       "owner                   15489\n",
       "driver                  11439\n",
       "supervisor              11050\n",
       "sales                   10467\n",
       "project manager          7539\n",
       "general manager          7458\n",
       "office manager           7416\n",
       "truck driver             6034\n",
       "director                 5446\n",
       "engineer                 5088\n",
       "president                4961\n",
       "vice president           4943\n",
       "sales manager            4558\n",
       "operations manager       4232\n",
       "police officer           4132\n",
       "store manager            3886\n",
       "accountant               3759\n",
       "Name: emp_title, dtype: int64"
      ]
     },
     "execution_count": 65,
     "metadata": {},
     "output_type": "execute_result"
    }
   ],
   "source": [
    "selected_jobs = accepted['emp_title'].value_counts().index[:20]\n",
    "\n",
    "not_selected_jobs_mask = ~accepted['emp_title'].isin(selected_jobs)\n",
    "accepted['emp_title'][not_selected_jobs_mask] = 'other'\n",
    "accepted['emp_title'].value_counts()"
   ]
  },
  {
   "cell_type": "markdown",
   "metadata": {
    "pycharm": {
     "name": "#%% md\n"
    }
   },
   "source": [
    "#### purpose"
   ]
  },
  {
   "cell_type": "code",
   "execution_count": 66,
   "metadata": {
    "pycharm": {
     "name": "#%%\n"
    }
   },
   "outputs": [
    {
     "data": {
      "text/plain": [
       "debt_consolidation    781442\n",
       "credit_card           295625\n",
       "home_improvement       87721\n",
       "other                  78301\n",
       "major_purchase         29550\n",
       "medical                15614\n",
       "small_business         15577\n",
       "car                    14652\n",
       "moving                  9526\n",
       "vacation                9084\n",
       "house                   7298\n",
       "wedding                 2350\n",
       "renewable_energy         936\n",
       "educational              423\n",
       "Name: purpose, dtype: int64"
      ]
     },
     "execution_count": 66,
     "metadata": {},
     "output_type": "execute_result"
    }
   ],
   "source": [
    "accepted['purpose'].value_counts()"
   ]
  },
  {
   "cell_type": "code",
   "execution_count": 67,
   "metadata": {
    "pycharm": {
     "name": "#%%\n"
    }
   },
   "outputs": [
    {
     "data": {
      "text/plain": [
       "debt_consolidation    781442\n",
       "credit_card           295625\n",
       "consumer_expenses     113807\n",
       "other                  78301\n",
       "major_purchase         29550\n",
       "medical                15614\n",
       "small_business         15577\n",
       "moving                  9526\n",
       "house                   7298\n",
       "renewable_energy         936\n",
       "educational              423\n",
       "Name: purpose, dtype: int64"
      ]
     },
     "execution_count": 67,
     "metadata": {},
     "output_type": "execute_result"
    }
   ],
   "source": [
    "purpose_map = {purp: purp for purp\n",
    "                      in accepted['purpose'].value_counts().index}\n",
    "purpose_map['home_improvement'] = 'consumer_expenses'\n",
    "purpose_map['car'] = 'consumer_expenses'\n",
    "purpose_map['vacation'] = 'consumer_expenses'\n",
    "purpose_map['wedding'] = 'consumer_expenses'\n",
    "\n",
    "accepted['purpose'] = accepted['purpose'].map(purpose_map)\n",
    "accepted['purpose'].value_counts()"
   ]
  },
  {
   "cell_type": "markdown",
   "metadata": {
    "pycharm": {
     "name": "#%% md\n"
    }
   },
   "source": [
    "#### addr_state"
   ]
  },
  {
   "cell_type": "code",
   "execution_count": 68,
   "metadata": {
    "pycharm": {
     "name": "#%%\n"
    }
   },
   "outputs": [],
   "source": [
    "col = 'addr_state'\n",
    "\n",
    "us_state_to_urbanization = pd.read_excel('docs/us_urbanization.xlsx', index_col=0)['Urbanization']\n",
    "\n",
    "accepted['addr_urbanization'] = accepted[col].map(us_state_to_urbanization)\n",
    "accepted.drop(columns=col, inplace=True)"
   ]
  },
  {
   "cell_type": "markdown",
   "metadata": {
    "pycharm": {
     "name": "#%% md\n"
    }
   },
   "source": [
    "#### application_type"
   ]
  },
  {
   "cell_type": "code",
   "execution_count": 69,
   "metadata": {
    "pycharm": {
     "name": "#%%\n"
    }
   },
   "outputs": [],
   "source": [
    "col = 'application_type'\n",
    "\n",
    "accepted['is_joint'] = (accepted[col] == 'Joint App')\n",
    "accepted.drop(columns=col, inplace=True)"
   ]
  },
  {
   "cell_type": "code",
   "execution_count": 70,
   "metadata": {
    "pycharm": {
     "name": "#%%\n"
    }
   },
   "outputs": [
    {
     "name": "stdout",
     "output_type": "stream",
     "text": [
      "Категориальные признаки: term, emp_title, emp_length, home_ownership, purpose, title, earliest_cr_line\n"
     ]
    }
   ],
   "source": [
    "categorical = accepted.select_dtypes(exclude=[np.number, np.int64, bool]).columns\n",
    "print(f'Категориальные признаки: {\", \".join(categorical)}')"
   ]
  },
  {
   "cell_type": "markdown",
   "metadata": {},
   "source": [
    "#### title"
   ]
  },
  {
   "cell_type": "code",
   "execution_count": 71,
   "metadata": {},
   "outputs": [],
   "source": [
    "accepted.title.fillna('', inplace=True)"
   ]
  },
  {
   "cell_type": "code",
   "execution_count": 72,
   "metadata": {},
   "outputs": [],
   "source": [
    "def rename_col(x):\n",
    "    if x == '':\n",
    "        return 'other'\n",
    "    elif 'consolidation' in x.lower():\n",
    "        return 'consolidation'\n",
    "    elif 'home' in x.lower() or 'house' in x.lower():\n",
    "        return 'house'\n",
    "    elif 'car' in x.lower():\n",
    "        return 'car'\n",
    "    elif 'medic' in x.lower():\n",
    "        return 'medical'\n",
    "    elif 'vacation' in x.lower() or 'travel' in x.lower() or 'moving' in x.lower():\n",
    "        return 'travel'\n",
    "    elif 'major' in x.lower() or 'business' in x.lower():\n",
    "        return 'business'\n",
    "    else:\n",
    "        return 'other'"
   ]
  },
  {
   "cell_type": "code",
   "execution_count": 73,
   "metadata": {},
   "outputs": [],
   "source": [
    "accepted['title_classes'] = accepted['title'].apply(lambda x: rename_col(x))"
   ]
  },
  {
   "cell_type": "code",
   "execution_count": 74,
   "metadata": {},
   "outputs": [],
   "source": [
    "accepted.drop(columns = ['title'], inplace=True)"
   ]
  },
  {
   "cell_type": "code",
   "execution_count": 75,
   "metadata": {},
   "outputs": [
    {
     "data": {
      "text/plain": [
       "0          consolidation\n",
       "1               business\n",
       "2                  other\n",
       "4               business\n",
       "5          consolidation\n",
       "               ...      \n",
       "2260688            house\n",
       "2260690    consolidation\n",
       "2260691            house\n",
       "2260692          medical\n",
       "2260697    consolidation\n",
       "Name: title_classes, Length: 1348099, dtype: object"
      ]
     },
     "execution_count": 75,
     "metadata": {},
     "output_type": "execute_result"
    }
   ],
   "source": [
    "accepted['title_classes']"
   ]
  },
  {
   "cell_type": "markdown",
   "metadata": {},
   "source": [
    "#### earliest_cr_line"
   ]
  },
  {
   "cell_type": "code",
   "execution_count": 76,
   "metadata": {},
   "outputs": [],
   "source": [
    "accepted['earliest_cr_line_year'] = pd.to_datetime(accepted['earliest_cr_line']).dt.year\n",
    "accepted.drop(columns=['earliest_cr_line'], inplace=True)"
   ]
  },
  {
   "cell_type": "markdown",
   "metadata": {
    "pycharm": {
     "name": "#%% md\n"
    }
   },
   "source": [
    "### Отбор по корреляции"
   ]
  },
  {
   "cell_type": "code",
   "execution_count": 77,
   "metadata": {},
   "outputs": [],
   "source": [
    "# Смотрим корреляции Спирмена численных признаков\n",
    "corrs = accepted.drop(columns='label').corr(method='spearman').abs()\n",
    "# Формируем верхнетреугольную матрицу для устранения дубликатов\n",
    "triupper_mask = np.triu(np.full(corrs.shape, True))\n",
    "corrs = corrs.where(triupper_mask).stack().reset_index()\n",
    "# Переводим в удобный формат и сортируем, а также удаляем единичные корреляции\n",
    "corrs = corrs.rename(columns={\n",
    "    'level_0': '1_feature',\n",
    "    'level_1': '2_feature',\n",
    "    0: 'value'})\n",
    "corrs = corrs.sort_values(by='value', ascending=False)\n",
    "corrs = corrs[corrs['1_feature'] != corrs['2_feature']]"
   ]
  },
  {
   "cell_type": "code",
   "execution_count": 78,
   "metadata": {},
   "outputs": [
    {
     "data": {
      "text/html": [
       "<div>\n",
       "<style scoped>\n",
       "    .dataframe tbody tr th:only-of-type {\n",
       "        vertical-align: middle;\n",
       "    }\n",
       "\n",
       "    .dataframe tbody tr th {\n",
       "        vertical-align: top;\n",
       "    }\n",
       "\n",
       "    .dataframe thead th {\n",
       "        text-align: right;\n",
       "    }\n",
       "</style>\n",
       "<table border=\"1\" class=\"dataframe\">\n",
       "  <thead>\n",
       "    <tr style=\"text-align: right;\">\n",
       "      <th></th>\n",
       "      <th>1_feature</th>\n",
       "      <th>2_feature</th>\n",
       "      <th>value</th>\n",
       "    </tr>\n",
       "  </thead>\n",
       "  <tbody>\n",
       "    <tr>\n",
       "      <th>142</th>\n",
       "      <td>fico_range_low</td>\n",
       "      <td>fico_range_high</td>\n",
       "      <td>1.000000</td>\n",
       "    </tr>\n",
       "    <tr>\n",
       "      <th>607</th>\n",
       "      <td>tot_cur_bal</td>\n",
       "      <td>tot_hi_cred_lim</td>\n",
       "      <td>0.974669</td>\n",
       "    </tr>\n",
       "    <tr>\n",
       "      <th>261</th>\n",
       "      <td>open_acc</td>\n",
       "      <td>num_sats</td>\n",
       "      <td>0.942088</td>\n",
       "    </tr>\n",
       "    <tr>\n",
       "      <th>641</th>\n",
       "      <td>total_rev_hi_lim</td>\n",
       "      <td>total_bc_limit</td>\n",
       "      <td>0.868138</td>\n",
       "    </tr>\n",
       "    <tr>\n",
       "      <th>731</th>\n",
       "      <td>bc_util</td>\n",
       "      <td>percent_bc_gt_75</td>\n",
       "      <td>0.864988</td>\n",
       "    </tr>\n",
       "    <tr>\n",
       "      <th>987</th>\n",
       "      <td>num_actv_bc_tl</td>\n",
       "      <td>num_bc_sats</td>\n",
       "      <td>0.841202</td>\n",
       "    </tr>\n",
       "    <tr>\n",
       "      <th>1072</th>\n",
       "      <td>num_op_rev_tl</td>\n",
       "      <td>num_sats</td>\n",
       "      <td>0.833676</td>\n",
       "    </tr>\n",
       "    <tr>\n",
       "      <th>311</th>\n",
       "      <td>pub_rec</td>\n",
       "      <td>was_person_bankrupt</td>\n",
       "      <td>0.826226</td>\n",
       "    </tr>\n",
       "    <tr>\n",
       "      <th>1042</th>\n",
       "      <td>num_bc_tl</td>\n",
       "      <td>num_rev_accts</td>\n",
       "      <td>0.826183</td>\n",
       "    </tr>\n",
       "    <tr>\n",
       "      <th>1008</th>\n",
       "      <td>num_actv_rev_tl</td>\n",
       "      <td>num_op_rev_tl</td>\n",
       "      <td>0.813604</td>\n",
       "    </tr>\n",
       "  </tbody>\n",
       "</table>\n",
       "</div>"
      ],
      "text/plain": [
       "             1_feature            2_feature     value\n",
       "142     fico_range_low      fico_range_high  1.000000\n",
       "607        tot_cur_bal      tot_hi_cred_lim  0.974669\n",
       "261           open_acc             num_sats  0.942088\n",
       "641   total_rev_hi_lim       total_bc_limit  0.868138\n",
       "731            bc_util     percent_bc_gt_75  0.864988\n",
       "987     num_actv_bc_tl          num_bc_sats  0.841202\n",
       "1072     num_op_rev_tl             num_sats  0.833676\n",
       "311            pub_rec  was_person_bankrupt  0.826226\n",
       "1042         num_bc_tl        num_rev_accts  0.826183\n",
       "1008   num_actv_rev_tl        num_op_rev_tl  0.813604"
      ]
     },
     "execution_count": 78,
     "metadata": {},
     "output_type": "execute_result"
    }
   ],
   "source": [
    "corrs.head(10)"
   ]
  },
  {
   "cell_type": "code",
   "execution_count": 79,
   "metadata": {},
   "outputs": [],
   "source": [
    "# Если между признаками корреляция более 0.6 (эмпирический порог), то удаляем наименее коррелирующий с таргетом\n",
    "to_drop = []\n",
    "\n",
    "for _, row in corrs[corrs['value'] >= 0.6].iterrows():\n",
    "\n",
    "    feature1, feature2 = row[['1_feature', '2_feature']]\n",
    "    feature1_label_corr = accepted[[feature1, 'label']].corr(method='spearman')[feature1]['label']\n",
    "    feature2_label_corr = accepted[[feature2, 'label']].corr(method='spearman')[feature2]['label']\n",
    "\n",
    "    if feature1_label_corr >= feature2_label_corr:\n",
    "        to_drop.append(row['2_feature'])\n",
    "    else:\n",
    "        to_drop.append(row['1_feature'])\n",
    "\n",
    "to_drop = np.unique(to_drop)\n",
    "accepted.drop(columns=to_drop, inplace=True)"
   ]
  },
  {
   "cell_type": "code",
   "execution_count": 80,
   "metadata": {},
   "outputs": [
    {
     "name": "stdout",
     "output_type": "stream",
     "text": [
      "High correlation between target and collection_recovery_fee = 0.78!\n"
     ]
    }
   ],
   "source": [
    "# Также удалим фичи, сильно коррелирующие с таргетом по аналогичному порогу\n",
    "to_drop = []\n",
    "\n",
    "for col_name in (accepted.dtypes[accepted.dtypes == 'float32'].index):\n",
    "    corr_tmp = abs(accepted[[col_name, 'label']].corr(method='spearman')[col_name]['label'])\n",
    "    if corr_tmp >= 0.6:\n",
    "        print('High correlation between target and {0} = {1:1.2f}!'.format(col_name, corr_tmp))\n",
    "        to_drop.append(col_name)\n",
    "\n",
    "to_drop = np.unique(to_drop)\n",
    "accepted.drop(columns=to_drop, inplace=True) "
   ]
  },
  {
   "cell_type": "code",
   "execution_count": 81,
   "metadata": {
    "pycharm": {
     "name": "#%%\n"
    }
   },
   "outputs": [
    {
     "data": {
      "text/plain": [
       "(1348099, 31)"
      ]
     },
     "execution_count": 81,
     "metadata": {},
     "output_type": "execute_result"
    }
   ],
   "source": [
    "accepted.shape"
   ]
  },
  {
   "cell_type": "code",
   "execution_count": 82,
   "metadata": {
    "pycharm": {
     "name": "#%%\n"
    }
   },
   "outputs": [
    {
     "name": "stdout",
     "output_type": "stream",
     "text": [
      "['acc_open_past_24mths', 'addr_urbanization', 'annual_inc', 'chargeoff_within_12_mths', 'collections_12_mths_ex_med', 'delinq_2yrs', 'delinq_amnt', 'earliest_cr_line_year', 'emp_length', 'emp_title', 'fico_range_low', 'home_ownership', 'is_joint', 'label', 'mo_sin_old_il_acct', 'mo_sin_rcnt_rev_tl_op', 'mths_since_recent_inq', 'num_accts_ever_120_pd', 'num_actv_rev_tl', 'num_il_tl', 'pct_tl_nvr_dlq', 'percent_bc_gt_75', 'pub_rec', 'purpose', 'tax_liens', 'term', 'title_classes', 'tot_coll_amt', 'tot_cur_bal', 'total_rev_hi_lim', 'verification_status']\n"
     ]
    }
   ],
   "source": [
    "print(sorted(accepted.columns))"
   ]
  },
  {
   "cell_type": "markdown",
   "metadata": {},
   "source": [
    "### WoE для категориальных признаков"
   ]
  },
  {
   "cell_type": "code",
   "execution_count": 83,
   "metadata": {},
   "outputs": [],
   "source": [
    "# Получаем список категориальных признаков\n",
    "categ = list(accepted.dtypes[accepted.dtypes != 'float32'].index)\n",
    "categ.remove('label')"
   ]
  },
  {
   "cell_type": "code",
   "execution_count": 84,
   "metadata": {},
   "outputs": [
    {
     "data": {
      "text/plain": [
       "['term',\n",
       " 'emp_title',\n",
       " 'emp_length',\n",
       " 'home_ownership',\n",
       " 'verification_status',\n",
       " 'purpose',\n",
       " 'addr_urbanization',\n",
       " 'is_joint',\n",
       " 'title_classes',\n",
       " 'earliest_cr_line_year']"
      ]
     },
     "execution_count": 84,
     "metadata": {},
     "output_type": "execute_result"
    }
   ],
   "source": [
    "categ"
   ]
  },
  {
   "cell_type": "code",
   "execution_count": 85,
   "metadata": {},
   "outputs": [],
   "source": [
    "# Получаем WoE, а также Information value\n",
    "final_iv, IV = woe.data_vars(accepted[categ], accepted.label)"
   ]
  },
  {
   "cell_type": "code",
   "execution_count": 86,
   "metadata": {},
   "outputs": [
    {
     "data": {
      "text/html": [
       "<div>\n",
       "<style scoped>\n",
       "    .dataframe tbody tr th:only-of-type {\n",
       "        vertical-align: middle;\n",
       "    }\n",
       "\n",
       "    .dataframe tbody tr th {\n",
       "        vertical-align: top;\n",
       "    }\n",
       "\n",
       "    .dataframe thead th {\n",
       "        text-align: right;\n",
       "    }\n",
       "</style>\n",
       "<table border=\"1\" class=\"dataframe\">\n",
       "  <thead>\n",
       "    <tr style=\"text-align: right;\">\n",
       "      <th></th>\n",
       "      <th>VAR_NAME</th>\n",
       "      <th>IV</th>\n",
       "    </tr>\n",
       "  </thead>\n",
       "  <tbody>\n",
       "    <tr>\n",
       "      <th>0</th>\n",
       "      <td>addr_urbanization</td>\n",
       "      <td>0.001521</td>\n",
       "    </tr>\n",
       "    <tr>\n",
       "      <th>1</th>\n",
       "      <td>earliest_cr_line_year</td>\n",
       "      <td>0.015806</td>\n",
       "    </tr>\n",
       "    <tr>\n",
       "      <th>2</th>\n",
       "      <td>emp_length</td>\n",
       "      <td>0.012031</td>\n",
       "    </tr>\n",
       "    <tr>\n",
       "      <th>3</th>\n",
       "      <td>emp_title</td>\n",
       "      <td>0.008214</td>\n",
       "    </tr>\n",
       "    <tr>\n",
       "      <th>4</th>\n",
       "      <td>home_ownership</td>\n",
       "      <td>0.031179</td>\n",
       "    </tr>\n",
       "    <tr>\n",
       "      <th>5</th>\n",
       "      <td>is_joint</td>\n",
       "      <td>0.001515</td>\n",
       "    </tr>\n",
       "    <tr>\n",
       "      <th>6</th>\n",
       "      <td>purpose</td>\n",
       "      <td>0.018743</td>\n",
       "    </tr>\n",
       "    <tr>\n",
       "      <th>7</th>\n",
       "      <td>term</td>\n",
       "      <td>0.173622</td>\n",
       "    </tr>\n",
       "    <tr>\n",
       "      <th>8</th>\n",
       "      <td>title_classes</td>\n",
       "      <td>0.013989</td>\n",
       "    </tr>\n",
       "    <tr>\n",
       "      <th>9</th>\n",
       "      <td>verification_status</td>\n",
       "      <td>0.050035</td>\n",
       "    </tr>\n",
       "  </tbody>\n",
       "</table>\n",
       "</div>"
      ],
      "text/plain": [
       "                VAR_NAME        IV\n",
       "0      addr_urbanization  0.001521\n",
       "1  earliest_cr_line_year  0.015806\n",
       "2             emp_length  0.012031\n",
       "3              emp_title  0.008214\n",
       "4         home_ownership  0.031179\n",
       "5               is_joint  0.001515\n",
       "6                purpose  0.018743\n",
       "7                   term  0.173622\n",
       "8          title_classes  0.013989\n",
       "9    verification_status  0.050035"
      ]
     },
     "execution_count": 86,
     "metadata": {},
     "output_type": "execute_result"
    }
   ],
   "source": [
    "# Information value\n",
    "IV"
   ]
  },
  {
   "cell_type": "code",
   "execution_count": 93,
   "metadata": {
    "scrolled": true
   },
   "outputs": [
    {
     "data": {
      "image/png": "[encoded data removed]",
      "text/plain": [
       "<Figure size 700x350 with 1 Axes>"
      ]
     },
     "metadata": {
      "image/png": {
       "height": 422,
       "width": 688
      },
      "needs_background": "light"
     },
     "output_type": "display_data"
    },
    {
     "data": {
      "image/png": "[encoded data removed]",
      "text/plain": [
       "<Figure size 700x350 with 1 Axes>"
      ]
     },
     "metadata": {
      "image/png": {
       "height": 388,
       "width": 692
      },
      "needs_background": "light"
     },
     "output_type": "display_data"
    },
    {
     "data": {
      "image/png": "[encoded data removed]",
      "text/plain": [
       "<Figure size 700x350 with 1 Axes>"
      ]
     },
     "metadata": {
      "image/png": {
       "height": 392,
       "width": 692
      },
      "needs_background": "light"
     },
     "output_type": "display_data"
    },
    {
     "data": {
      "image/png": "[encoded data removed]",
      "text/plain": [
       "<Figure size 700x350 with 1 Axes>"
      ]
     },
     "metadata": {
      "image/png": {
       "height": 370,
       "width": 692
      },
      "needs_background": "light"
     },
     "output_type": "display_data"
    },
    {
     "data": {
      "image/png": "[encoded data removed]",
      "text/plain": [
       "<Figure size 700x350 with 1 Axes>"
      ]
     },
     "metadata": {
      "image/png": {
       "height": 422,
       "width": 686
      },
      "needs_background": "light"
     },
     "output_type": "display_data"
    },
    {
     "data": {
      "image/png": "[encoded data removed]",
      "text/plain": [
       "<Figure size 700x350 with 1 Axes>"
      ]
     },
     "metadata": {
      "image/png": {
       "height": 368,
       "width": 692
      },
      "needs_background": "light"
     },
     "output_type": "display_data"
    },
    {
     "data": {
      "image/png": "[encoded data removed]",
      "text/plain": [
       "<Figure size 700x350 with 1 Axes>"
      ]
     },
     "metadata": {
      "image/png": {
       "height": 370,
       "width": 692
      },
      "needs_background": "light"
     },
     "output_type": "display_data"
    },
    {
     "data": {
      "image/png": "[encoded data removed]",
      "text/plain": [
       "<Figure size 700x350 with 1 Axes>"
      ]
     },
     "metadata": {
      "image/png": {
       "height": 399,
       "width": 692
      },
      "needs_background": "light"
     },
     "output_type": "display_data"
    },
    {
     "data": {
      "image/png": "[encoded data removed]",
      "text/plain": [
       "<Figure size 700x350 with 1 Axes>"
      ]
     },
     "metadata": {
      "image/png": {
       "height": 375,
       "width": 692
      },
      "needs_background": "light"
     },
     "output_type": "display_data"
    }
   ],
   "source": [
    "for col_name in categ:\n",
    "    g = sns.catplot(x=\"MIN_VALUE\", y=\"WOE\", \n",
    "                    data=final_iv[final_iv['VAR_NAME'] == col_name].sort_values(by='WOE'), \n",
    "                    color='green', height=5, aspect=2).set(title='WoE distribution for ' + col_name)\n",
    "    g.set_xticklabels(rotation=45)\n",
    "    g.set(xlabel='Values', ylabel='WoE')"
   ]
  },
  {
   "cell_type": "code",
   "execution_count": 87,
   "metadata": {},
   "outputs": [],
   "source": [
    "to_drop = IV[~(IV['IV'] >= 0.018)&(IV['IV'] <= 0.52)]['VAR_NAME'].values"
   ]
  },
  {
   "cell_type": "code",
   "execution_count": 88,
   "metadata": {},
   "outputs": [
    {
     "data": {
      "text/plain": [
       "array(['addr_urbanization', 'earliest_cr_line_year', 'emp_length',\n",
       "       'emp_title', 'is_joint', 'title_classes'], dtype=object)"
      ]
     },
     "execution_count": 88,
     "metadata": {},
     "output_type": "execute_result"
    }
   ],
   "source": [
    "to_drop"
   ]
  },
  {
   "cell_type": "code",
   "execution_count": 89,
   "metadata": {},
   "outputs": [],
   "source": [
    "accepted.drop(columns=to_drop, inplace=True)"
   ]
  },
  {
   "cell_type": "markdown",
   "metadata": {},
   "source": [
    "## WoE для численных признаков"
   ]
  },
  {
   "cell_type": "code",
   "execution_count": 93,
   "metadata": {},
   "outputs": [],
   "source": [
    "# Получаем список численных признаков\n",
    "numeric = list(accepted.dtypes[accepted.dtypes == 'float32'].index)"
   ]
  },
  {
   "cell_type": "code",
   "execution_count": 94,
   "metadata": {},
   "outputs": [
    {
     "data": {
      "text/plain": [
       "['annual_inc',\n",
       " 'delinq_2yrs',\n",
       " 'fico_range_low',\n",
       " 'pub_rec',\n",
       " 'collections_12_mths_ex_med',\n",
       " 'tot_coll_amt',\n",
       " 'tot_cur_bal',\n",
       " 'total_rev_hi_lim',\n",
       " 'acc_open_past_24mths',\n",
       " 'chargeoff_within_12_mths',\n",
       " 'delinq_amnt',\n",
       " 'mo_sin_old_il_acct',\n",
       " 'mo_sin_rcnt_rev_tl_op',\n",
       " 'mths_since_recent_inq',\n",
       " 'num_accts_ever_120_pd',\n",
       " 'num_actv_rev_tl',\n",
       " 'num_il_tl',\n",
       " 'pct_tl_nvr_dlq',\n",
       " 'percent_bc_gt_75',\n",
       " 'tax_liens']"
      ]
     },
     "execution_count": 94,
     "metadata": {},
     "output_type": "execute_result"
    }
   ],
   "source": [
    "numeric"
   ]
  },
  {
   "cell_type": "code",
   "execution_count": 95,
   "metadata": {},
   "outputs": [
    {
     "name": "stderr",
     "output_type": "stream",
     "text": [
      "/data/iasviridov/work/chest/chest/lib/python3.6/site-packages/pandas/core/series.py:726: RuntimeWarning: divide by zero encountered in log\n",
      "  result = getattr(ufunc, method)(*inputs, **kwargs)\n"
     ]
    }
   ],
   "source": [
    "# Получаем WoE, а также Information value\n",
    "final_iv, IV = woe.data_vars(accepted[numeric], accepted.label)"
   ]
  },
  {
   "cell_type": "code",
   "execution_count": 96,
   "metadata": {},
   "outputs": [
    {
     "data": {
      "text/html": [
       "<div>\n",
       "<style scoped>\n",
       "    .dataframe tbody tr th:only-of-type {\n",
       "        vertical-align: middle;\n",
       "    }\n",
       "\n",
       "    .dataframe tbody tr th {\n",
       "        vertical-align: top;\n",
       "    }\n",
       "\n",
       "    .dataframe thead th {\n",
       "        text-align: right;\n",
       "    }\n",
       "</style>\n",
       "<table border=\"1\" class=\"dataframe\">\n",
       "  <thead>\n",
       "    <tr style=\"text-align: right;\">\n",
       "      <th></th>\n",
       "      <th>VAR_NAME</th>\n",
       "      <th>IV</th>\n",
       "    </tr>\n",
       "  </thead>\n",
       "  <tbody>\n",
       "    <tr>\n",
       "      <th>0</th>\n",
       "      <td>acc_open_past_24mths</td>\n",
       "      <td>6.373467e-02</td>\n",
       "    </tr>\n",
       "    <tr>\n",
       "      <th>1</th>\n",
       "      <td>annual_inc</td>\n",
       "      <td>2.876883e-02</td>\n",
       "    </tr>\n",
       "    <tr>\n",
       "      <th>2</th>\n",
       "      <td>chargeoff_within_12_mths</td>\n",
       "      <td>4.955945e-12</td>\n",
       "    </tr>\n",
       "    <tr>\n",
       "      <th>3</th>\n",
       "      <td>collections_12_mths_ex_med</td>\n",
       "      <td>1.884442e-04</td>\n",
       "    </tr>\n",
       "    <tr>\n",
       "      <th>4</th>\n",
       "      <td>delinq_2yrs</td>\n",
       "      <td>1.886255e-03</td>\n",
       "    </tr>\n",
       "    <tr>\n",
       "      <th>5</th>\n",
       "      <td>delinq_amnt</td>\n",
       "      <td>1.546421e-04</td>\n",
       "    </tr>\n",
       "    <tr>\n",
       "      <th>6</th>\n",
       "      <td>fico_range_low</td>\n",
       "      <td>1.215499e-01</td>\n",
       "    </tr>\n",
       "    <tr>\n",
       "      <th>7</th>\n",
       "      <td>mo_sin_old_il_acct</td>\n",
       "      <td>2.521786e-03</td>\n",
       "    </tr>\n",
       "    <tr>\n",
       "      <th>8</th>\n",
       "      <td>mo_sin_rcnt_rev_tl_op</td>\n",
       "      <td>1.627975e-02</td>\n",
       "    </tr>\n",
       "    <tr>\n",
       "      <th>9</th>\n",
       "      <td>mths_since_recent_inq</td>\n",
       "      <td>3.541078e-02</td>\n",
       "    </tr>\n",
       "    <tr>\n",
       "      <th>10</th>\n",
       "      <td>num_accts_ever_120_pd</td>\n",
       "      <td>7.011021e-04</td>\n",
       "    </tr>\n",
       "    <tr>\n",
       "      <th>11</th>\n",
       "      <td>num_actv_rev_tl</td>\n",
       "      <td>3.277029e-02</td>\n",
       "    </tr>\n",
       "    <tr>\n",
       "      <th>12</th>\n",
       "      <td>num_il_tl</td>\n",
       "      <td>2.572972e-04</td>\n",
       "    </tr>\n",
       "    <tr>\n",
       "      <th>13</th>\n",
       "      <td>pct_tl_nvr_dlq</td>\n",
       "      <td>5.254416e-03</td>\n",
       "    </tr>\n",
       "    <tr>\n",
       "      <th>14</th>\n",
       "      <td>percent_bc_gt_75</td>\n",
       "      <td>2.821213e-02</td>\n",
       "    </tr>\n",
       "    <tr>\n",
       "      <th>15</th>\n",
       "      <td>pub_rec</td>\n",
       "      <td>1.255611e-03</td>\n",
       "    </tr>\n",
       "    <tr>\n",
       "      <th>16</th>\n",
       "      <td>tax_liens</td>\n",
       "      <td>2.425914e-04</td>\n",
       "    </tr>\n",
       "    <tr>\n",
       "      <th>17</th>\n",
       "      <td>tot_coll_amt</td>\n",
       "      <td>6.764855e-03</td>\n",
       "    </tr>\n",
       "    <tr>\n",
       "      <th>18</th>\n",
       "      <td>tot_cur_bal</td>\n",
       "      <td>3.428304e-02</td>\n",
       "    </tr>\n",
       "    <tr>\n",
       "      <th>19</th>\n",
       "      <td>total_rev_hi_lim</td>\n",
       "      <td>3.055017e-02</td>\n",
       "    </tr>\n",
       "  </tbody>\n",
       "</table>\n",
       "</div>"
      ],
      "text/plain": [
       "                      VAR_NAME            IV\n",
       "0         acc_open_past_24mths  6.373467e-02\n",
       "1                   annual_inc  2.876883e-02\n",
       "2     chargeoff_within_12_mths  4.955945e-12\n",
       "3   collections_12_mths_ex_med  1.884442e-04\n",
       "4                  delinq_2yrs  1.886255e-03\n",
       "5                  delinq_amnt  1.546421e-04\n",
       "6               fico_range_low  1.215499e-01\n",
       "7           mo_sin_old_il_acct  2.521786e-03\n",
       "8        mo_sin_rcnt_rev_tl_op  1.627975e-02\n",
       "9        mths_since_recent_inq  3.541078e-02\n",
       "10       num_accts_ever_120_pd  7.011021e-04\n",
       "11             num_actv_rev_tl  3.277029e-02\n",
       "12                   num_il_tl  2.572972e-04\n",
       "13              pct_tl_nvr_dlq  5.254416e-03\n",
       "14            percent_bc_gt_75  2.821213e-02\n",
       "15                     pub_rec  1.255611e-03\n",
       "16                   tax_liens  2.425914e-04\n",
       "17                tot_coll_amt  6.764855e-03\n",
       "18                 tot_cur_bal  3.428304e-02\n",
       "19            total_rev_hi_lim  3.055017e-02"
      ]
     },
     "execution_count": 96,
     "metadata": {},
     "output_type": "execute_result"
    }
   ],
   "source": [
    "# Information value\n",
    "IV"
   ]
  },
  {
   "cell_type": "code",
   "execution_count": 97,
   "metadata": {},
   "outputs": [],
   "source": [
    "to_drop = IV[~(IV['IV'] >= 0.018)&(IV['IV'] <= 0.52)]['VAR_NAME'].values"
   ]
  },
  {
   "cell_type": "code",
   "execution_count": 98,
   "metadata": {},
   "outputs": [
    {
     "data": {
      "text/plain": [
       "array(['chargeoff_within_12_mths', 'collections_12_mths_ex_med',\n",
       "       'delinq_2yrs', 'delinq_amnt', 'mo_sin_old_il_acct',\n",
       "       'mo_sin_rcnt_rev_tl_op', 'num_accts_ever_120_pd', 'num_il_tl',\n",
       "       'pct_tl_nvr_dlq', 'pub_rec', 'tax_liens', 'tot_coll_amt'],\n",
       "      dtype=object)"
      ]
     },
     "execution_count": 98,
     "metadata": {},
     "output_type": "execute_result"
    }
   ],
   "source": [
    "to_drop"
   ]
  },
  {
   "cell_type": "code",
   "execution_count": 99,
   "metadata": {},
   "outputs": [],
   "source": [
    "accepted.drop(columns=to_drop, inplace=True)"
   ]
  },
  {
   "cell_type": "code",
   "execution_count": 100,
   "metadata": {},
   "outputs": [
    {
     "data": {
      "text/plain": [
       "Index(['term', 'home_ownership', 'annual_inc', 'verification_status', 'label',\n",
       "       'purpose', 'fico_range_low', 'tot_cur_bal', 'total_rev_hi_lim',\n",
       "       'acc_open_past_24mths', 'mths_since_recent_inq', 'num_actv_rev_tl',\n",
       "       'percent_bc_gt_75'],\n",
       "      dtype='object')"
      ]
     },
     "execution_count": 100,
     "metadata": {},
     "output_type": "execute_result"
    }
   ],
   "source": [
    "accepted.columns"
   ]
  },
  {
   "cell_type": "markdown",
   "metadata": {},
   "source": [
    "### Pipeline"
   ]
  },
  {
   "cell_type": "code",
   "execution_count": 73,
   "metadata": {
    "pycharm": {
     "name": "#%%\n"
    }
   },
   "outputs": [],
   "source": [
    "from sklearn.base import BaseEstimator, TransformerMixin\n",
    "\n",
    "class CustomColumnTransformer(BaseEstimator, TransformerMixin):\n",
    "\n",
    "    def __init__(self, us_urbanization_xlsx_path='docs/us_urbanization.xlsx'):\n",
    "        self.cols = ['funded_amnt', 'int_rate', 'emp_title', 'home_ownership', 'annual_inc',\n",
    "                     'verification_status', 'purpose', 'dti', 'delinq_2yrs',\n",
    "                     'fico_range_high', 'inq_last_6mths', 'pub_rec', 'revol_bal',\n",
    "                     'out_prncp', 'total_rec_late_fee', 'recoveries', 'last_fico_range_low',\n",
    "                     'collections_12_mths_ex_med', 'dti_joint', 'acc_now_delinq',\n",
    "                     'tot_coll_amt', 'il_util', 'open_rv_24m', 'total_cu_tl',\n",
    "                     'acc_open_past_24mths', 'chargeoff_within_12_mths',\n",
    "                     'mo_sin_old_il_acct', 'mo_sin_old_rev_tl_op', 'mo_sin_rcnt_rev_tl_op',\n",
    "                     'mths_since_recent_bc', 'mths_since_recent_revol_delinq',\n",
    "                     'num_accts_ever_120_pd', 'num_actv_rev_tl', 'num_il_tl',\n",
    "                     'num_tl_90g_dpd_24m', 'percent_bc_gt_75', 'tax_liens',\n",
    "                     'sec_app_fico_range_low', 'sec_app_inq_last_6mths',\n",
    "                     'sec_app_revol_util', 'sec_app_chargeoff_within_12_mths',\n",
    "                     'sec_app_collections_12_mths_ex_med',\n",
    "                     'sec_app_mths_since_last_major_derog', 'addr_state']\n",
    "\n",
    "        self.fill_max_cols = ['bc_open_to_buy',\n",
    "                              'mths_since_last_delinq', 'mths_since_last_major_derog',\n",
    "                              'mths_since_last_record', 'mths_since_rcnt_il',\n",
    "                              'mths_since_recent_bc', 'mths_since_recent_bc_dlq',\n",
    "                              'mths_since_recent_inq', 'mths_since_recent_revol_delinq',\n",
    "                              'pct_tl_nvr_dlq', 'sec_app_mths_since_last_major_derog']\n",
    "\n",
    "        self.fill_mean_cols = ['annual_inc', 'dti', 'sec_app_fico_range_low', 'sec_app_fico_range_high',\n",
    "                               'total_rev_hi_lim', 'total_bc_limit', 'total_il_high_credit_limit',\n",
    "                               'tot_hi_cred_lim', 'il_util', 'sec_app_revol_util', 'bc_util']\n",
    "\n",
    "        self.fill_min_cols = None\n",
    "\n",
    "        self.fill_dict = {}\n",
    "\n",
    "        self.purpose_map = {'home_improvement': 'consumer_expenses',\n",
    "                            'car': 'consumer_expenses',\n",
    "                            'vacation': 'consumer_expenses',\n",
    "                            'wedding': 'consumer_expenses'}\n",
    "\n",
    "        self.us_urbanization_xlsx_path = us_urbanization_xlsx_path\n",
    "        self.us_state_to_urbanization = pd.read_excel(us_urbanization_xlsx_path, index_col=0)['Urbanization']\n",
    "\n",
    "    def fit(self, X, y=None):\n",
    "        self.fit_or_transform(X, y, mode='fit')\n",
    "        return self\n",
    "\n",
    "    def transform(self, X, y=None):\n",
    "        return self.fit_or_transform(X, y, mode='transform')\n",
    "\n",
    "    def fit_or_transform(self, X, y=None, mode='fit'):\n",
    "        assert mode in ['fit', 'transform']\n",
    "\n",
    "        X = X[self.cols]\n",
    "\n",
    "        X = self.transform_verification_status(X, 'verification_status')\n",
    "        X = self.simple_impute(X, mode)\n",
    "        X = self.transform_emp_title(X, 'emp_title', mode)\n",
    "        X = self.transform_purpose(X, 'purpose')\n",
    "        X = self.transform_addr_state(X, 'addr_state')\n",
    "\n",
    "        return X\n",
    "\n",
    "    @staticmethod\n",
    "    def transform_verification_status(X, col):\n",
    "        X[col] = X[col].map({'Not Verified': False, 'Source Verified': True})\n",
    "        X[col] = X[col].astype(bool)\n",
    "        return X\n",
    "\n",
    "    def transform_emp_title(self, X, col, mode):\n",
    "        # Аббревиатура и расшифровка\n",
    "        if mode == 'fit':\n",
    "            self.abbr_to_occupation = {}\n",
    "\n",
    "            occupations = X['emp_title'].value_counts(ascending=True).index\n",
    "\n",
    "            for occ in occupations:\n",
    "                occ_split = occ.split()\n",
    "\n",
    "                if len(occ_split) < 2:\n",
    "                    continue\n",
    "\n",
    "                abbr = ''.join([s[0] for s in occ_split])\n",
    "                self.abbr_to_occupation[abbr] = occ\n",
    "\n",
    "        X[col] = [self.abbr_to_occupation.get(occ, occ) for occ in X['emp_title']]\n",
    "\n",
    "        if mode == 'fit':\n",
    "            self.selected_jobs = X['emp_title'].value_counts().index[:20]\n",
    "\n",
    "        not_selected_jobs_mask = ~X['emp_title'].isin(self.selected_jobs)\n",
    "        X['emp_title'][not_selected_jobs_mask] = 'other'\n",
    "\n",
    "        return X\n",
    "\n",
    "    def transform_purpose(self, X, col):\n",
    "        X[col] = [self.purpose_map.get(purp, purp) for purp in X[col]]\n",
    "        return X\n",
    "\n",
    "    def transform_addr_state(self, X, col):\n",
    "        X['addr_urbanization'] = X[col].map(self.us_state_to_urbanization)\n",
    "        X.drop(columns=col, inplace=True)\n",
    "        return X\n",
    "\n",
    "    def simple_impute(self, X, mode):\n",
    "\n",
    "        if mode == 'fit':\n",
    "            self.fill_max_cols = list(set(self.fill_max_cols) & set(X.columns))\n",
    "            self.fill_mean_cols = list(set(self.fill_mean_cols) & set(X.columns))\n",
    "            self.fill_min_cols = list(set(X.columns) - set(fill_max) - set(fill_mean))\n",
    "\n",
    "        for cols, kind in zip([self.fill_min_cols, self.fill_mean_cols, self.fill_max_cols],\n",
    "                              ['min', 'mean', 'max']):\n",
    "\n",
    "            if mode == 'fit':\n",
    "                self.fill_dict[kind] = eval(f'np.{kind}(X[cols], axis=0)')\n",
    "\n",
    "            fillna_vals = self.fill_dict[kind]\n",
    "            X[cols] = X[cols].fillna(fillna_vals)\n",
    "\n",
    "        return X"
   ]
  },
  {
   "cell_type": "code",
   "execution_count": 59,
   "metadata": {
    "id": "a2shuWru0Kwk",
    "pycharm": {
     "name": "#%%\n"
    }
   },
   "outputs": [],
   "source": [
    "numeric = accepted.select_dtypes(include=np.number).columns\n",
    "categorical = accepted.select_dtypes(exclude=np.number).columns"
   ]
  },
  {
   "cell_type": "code",
   "execution_count": 15,
   "metadata": {
    "colab": {
     "base_uri": "https://localhost:8080/"
    },
    "id": "8D_PeQHM9_hj",
    "outputId": "3ae5e1c8-0056-49d8-e639-f521433f70b5",
    "pycharm": {
     "name": "#%%\n"
    }
   },
   "outputs": [
    {
     "name": "stdout",
     "output_type": "stream",
     "text": [
      "---\n",
      "- loan_amnt\n",
      "- term\n",
      "- int_rate\n",
      "- emp_title\n",
      "- emp_length\n",
      "- home_ownership\n",
      "- annual_inc\n",
      "- verification_status\n",
      "- loan_status\n",
      "- purpose\n",
      "- addr_state\n",
      "- dti\n",
      "- earliest_cr_line\n",
      "- fico_range_high\n",
      "- inq_last_6mths\n",
      "- revol_bal\n",
      "- initial_list_status\n",
      "- out_prncp\n",
      "- total_rec_late_fee\n",
      "- collection_recovery_fee\n",
      "- last_fico_range_low\n",
      "- collections_12_mths_ex_med\n",
      "- application_type\n",
      "- tot_coll_amt\n",
      "- avg_cur_bal\n",
      "- bc_open_to_buy\n",
      "- chargeoff_within_12_mths\n",
      "- delinq_amnt\n",
      "- mo_sin_old_il_acct\n",
      "- mo_sin_old_rev_tl_op\n",
      "- mo_sin_rcnt_tl\n",
      "- mort_acc\n",
      "- mths_since_recent_bc\n",
      "- num_accts_ever_120_pd\n",
      "- num_actv_bc_tl\n",
      "- num_bc_tl\n",
      "- num_il_tl\n",
      "- num_sats\n",
      "- num_tl_120dpd_2m\n",
      "- num_tl_30dpd\n",
      "- num_tl_90g_dpd_24m\n",
      "- num_tl_op_past_12m\n",
      "- pct_tl_nvr_dlq\n",
      "- percent_bc_gt_75\n",
      "- pub_rec_bankruptcies\n",
      "- tax_liens\n",
      "- total_il_high_credit_limit\n",
      "- disbursement_method\n",
      "- label\n",
      "\n"
     ]
    }
   ],
   "source": [
    "import yaml\n",
    "\n",
    "print(yaml.dump(accepted.columns.values.tolist(), explicit_start=True, default_flow_style=False))"
   ]
  },
  {
   "cell_type": "code",
   "execution_count": 16,
   "metadata": {
    "pycharm": {
     "name": "#%%\n"
    }
   },
   "outputs": [
    {
     "name": "stdout",
     "output_type": "stream",
     "text": [
      "---\n",
      "- loan_amnt\n",
      "- int_rate\n",
      "- annual_inc\n",
      "- dti\n",
      "- fico_range_high\n",
      "- inq_last_6mths\n",
      "- revol_bal\n",
      "- out_prncp\n",
      "- total_rec_late_fee\n",
      "- collection_recovery_fee\n",
      "- last_fico_range_low\n",
      "- collections_12_mths_ex_med\n",
      "- tot_coll_amt\n",
      "- avg_cur_bal\n",
      "- bc_open_to_buy\n",
      "- chargeoff_within_12_mths\n",
      "- delinq_amnt\n",
      "- mo_sin_old_il_acct\n",
      "- mo_sin_old_rev_tl_op\n",
      "- mo_sin_rcnt_tl\n",
      "- mort_acc\n",
      "- mths_since_recent_bc\n",
      "- num_accts_ever_120_pd\n",
      "- num_actv_bc_tl\n",
      "- num_bc_tl\n",
      "- num_il_tl\n",
      "- num_sats\n",
      "- num_tl_120dpd_2m\n",
      "- num_tl_30dpd\n",
      "- num_tl_90g_dpd_24m\n",
      "- num_tl_op_past_12m\n",
      "- pct_tl_nvr_dlq\n",
      "- percent_bc_gt_75\n",
      "- pub_rec_bankruptcies\n",
      "- tax_liens\n",
      "- total_il_high_credit_limit\n",
      "- label\n",
      "\n",
      "---\n",
      "- term\n",
      "- emp_title\n",
      "- emp_length\n",
      "- home_ownership\n",
      "- verification_status\n",
      "- loan_status\n",
      "- purpose\n",
      "- addr_state\n",
      "- earliest_cr_line\n",
      "- initial_list_status\n",
      "- application_type\n",
      "- disbursement_method\n",
      "\n"
     ]
    }
   ],
   "source": [
    "numeric = accepted.select_dtypes(include=np.number).columns.values.tolist()\n",
    "categorical = accepted.select_dtypes(exclude=np.number).columns.values.tolist()\n",
    "\n",
    "print(yaml.dump(numeric, explicit_start=True, default_flow_style=False))\n",
    "print(yaml.dump(categorical, explicit_start=True, default_flow_style=False))"
   ]
  },
  {
   "cell_type": "code",
   "execution_count": 2,
   "metadata": {
    "pycharm": {
     "name": "#%%\n"
    }
   },
   "outputs": [
    {
     "name": "stdout",
     "output_type": "stream",
     "text": [
      "preprocessing_pipeline:\n",
      "  _target_: pipeline.make_pipeline\n",
      "  steps_config:\n",
      "  - CSVReader:\n",
      "      _target_: pipeline.CSVReader\n",
      "      file: data/accepted_2007_to_2018Q4.csv\n",
      "      columns:\n",
      "      - loan_amnt\n",
      "      - term\n",
      "      - int_rate\n",
      "      - emp_title\n",
      "      - emp_length\n",
      "      - home_ownership\n",
      "      - annual_inc\n",
      "      - verification_status\n",
      "      - loan_status\n",
      "      - purpose\n",
      "      - addr_state\n",
      "      - dti\n",
      "      - earliest_cr_line\n",
      "      - fico_range_high\n",
      "      - inq_last_6mths\n",
      "      - revol_bal\n",
      "      - initial_list_status\n",
      "      - out_prncp\n",
      "      - total_rec_late_fee\n",
      "      - collection_recovery_fee\n",
      "      - last_fico_range_low\n",
      "      - collections_12_mths_ex_med\n",
      "      - application_type\n",
      "      - tot_coll_amt\n",
      "      - avg_cur_bal\n",
      "      - bc_open_to_buy\n",
      "      - chargeoff_within_12_mths\n",
      "      - delinq_amnt\n",
      "      - mo_sin_old_il_acct\n",
      "      - mo_sin_old_rev_tl_op\n",
      "      - mo_sin_rcnt_tl\n",
      "      - mort_acc\n",
      "      - mths_since_recent_bc\n",
      "      - num_accts_ever_120_pd\n",
      "      - num_actv_bc_tl\n",
      "      - num_bc_tl\n",
      "      - num_il_tl\n",
      "      - num_sats\n",
      "      - num_tl_120dpd_2m\n",
      "      - num_tl_30dpd\n",
      "      - num_tl_90g_dpd_24m\n",
      "      - num_tl_op_past_12m\n",
      "      - pct_tl_nvr_dlq\n",
      "      - percent_bc_gt_75\n",
      "      - pub_rec_bankruptcies\n",
      "      - tax_liens\n",
      "      - total_il_high_credit_limit\n",
      "      - disbursement_method\n",
      "  - LabelTransformer:\n",
      "      _target_: pipeline.LabelTransformer\n",
      "  - ImputeNumerical:\n",
      "      _target_: pipeline.ApplyToColumns\n",
      "      inner:\n",
      "        _target_: sklearn.impute.SimpleImputer\n",
      "        strategy: mean\n",
      "        verbose: 10\n",
      "      columns:\n",
      "      - loan_amnt\n",
      "      - int_rate\n",
      "      - annual_inc\n",
      "      - dti\n",
      "      - fico_range_high\n",
      "      - inq_last_6mths\n",
      "      - revol_bal\n",
      "      - out_prncp\n",
      "      - total_rec_late_fee\n",
      "      - collection_recovery_fee\n",
      "      - last_fico_range_low\n",
      "      - collections_12_mths_ex_med\n",
      "      - tot_coll_amt\n",
      "      - avg_cur_bal\n",
      "      - bc_open_to_buy\n",
      "      - chargeoff_within_12_mths\n",
      "      - delinq_amnt\n",
      "      - mo_sin_old_il_acct\n",
      "      - mo_sin_old_rev_tl_op\n",
      "      - mo_sin_rcnt_tl\n",
      "      - mort_acc\n",
      "      - mths_since_recent_bc\n",
      "      - num_accts_ever_120_pd\n",
      "      - num_actv_bc_tl\n",
      "      - num_bc_tl\n",
      "      - num_il_tl\n",
      "      - num_sats\n",
      "      - num_tl_120dpd_2m\n",
      "      - num_tl_30dpd\n",
      "      - num_tl_90g_dpd_24m\n",
      "      - num_tl_op_past_12m\n",
      "      - pct_tl_nvr_dlq\n",
      "      - percent_bc_gt_75\n",
      "      - pub_rec_bankruptcies\n",
      "      - tax_liens\n",
      "      - total_il_high_credit_limit\n",
      "  - ImputeCategorical:\n",
      "      _target_: pipeline.ApplyToColumns\n",
      "      inner:\n",
      "        _target_: sklearn.impute.SimpleImputer\n",
      "        strategy: most_frequent\n",
      "        verbose: 10\n",
      "      columns:\n",
      "      - term\n",
      "      - emp_title\n",
      "      - emp_length\n",
      "      - home_ownership\n",
      "      - verification_status\n",
      "      - purpose\n",
      "      - addr_state\n",
      "      - earliest_cr_line\n",
      "      - initial_list_status\n",
      "      - application_type\n",
      "      - disbursement_method\n",
      "  - WingsOfEvidence:\n",
      "      _target_: wing.WingsOfEvidence\n",
      "      bin_minimal_size: 0.05\n",
      "      bin_size_increase: 0.05\n",
      "      is_monotone: false\n",
      "      verbose: true\n",
      "      columns_to_apply:\n",
      "      - loan_amnt\n",
      "      - term\n",
      "      - int_rate\n",
      "      - emp_title\n",
      "      - emp_length\n",
      "      - home_ownership\n",
      "      - annual_inc\n",
      "      - verification_status\n",
      "      - purpose\n",
      "      - addr_state\n",
      "      - dti\n",
      "      - earliest_cr_line\n",
      "      - fico_range_high\n",
      "      - inq_last_6mths\n",
      "      - revol_bal\n",
      "      - initial_list_status\n",
      "      - out_prncp\n",
      "      - total_rec_late_fee\n",
      "      - collection_recovery_fee\n",
      "      - last_fico_range_low\n",
      "      - collections_12_mths_ex_med\n",
      "      - application_type\n",
      "      - tot_coll_amt\n",
      "      - avg_cur_bal\n",
      "      - bc_open_to_buy\n",
      "      - chargeoff_within_12_mths\n",
      "      - delinq_amnt\n",
      "      - mo_sin_old_il_acct\n",
      "      - mo_sin_old_rev_tl_op\n",
      "      - mo_sin_rcnt_tl\n",
      "      - mort_acc\n",
      "      - mths_since_recent_bc\n",
      "      - num_accts_ever_120_pd\n",
      "      - num_actv_bc_tl\n",
      "      - num_bc_tl\n",
      "      - num_il_tl\n",
      "      - num_sats\n",
      "      - num_tl_120dpd_2m\n",
      "      - num_tl_30dpd\n",
      "      - num_tl_90g_dpd_24m\n",
      "      - num_tl_op_past_12m\n",
      "      - pct_tl_nvr_dlq\n",
      "      - percent_bc_gt_75\n",
      "      - pub_rec_bankruptcies\n",
      "      - tax_liens\n",
      "      - total_il_high_credit_limit\n",
      "      - disbursement_method\n",
      "\n"
     ]
    },
    {
     "data": {
      "text/plain": [
       "LabelInferPipeline(memory='./cache',\n",
       "                   steps=[('ImputeNumerical',\n",
       "                           ApplyToColumns(columns=['loan_amnt', 'int_rate', 'annual_inc', 'dti', 'fico_range_high', 'inq_last_6mths', 'revol_bal', 'out_prncp', 'total_rec_late_fee', 'collection_recovery_fee', 'last_fico_range_low', 'collections_12_mths_ex_med', 'tot_coll_amt', 'avg_cur_bal', 'bc_open_to_buy', 'chargeoff_within_1...\n",
       "                           WingsOfEvidence(columns_to_apply=['loan_amnt', 'term', 'int_rate', 'emp_title', 'emp_length', 'home_ownership', 'annual_inc', 'verification_status', 'purpose', 'addr_state', 'dti', 'earliest_cr_line', 'fico_range_high', 'inq_last_6mths', 'revol_bal', 'initial_list_status', 'out_prncp', 'total_rec_late_fee', 'collection_recovery_fee', 'last_fico_range_low', 'collections_12_mths_ex_med', 'application_type', 'tot_coll_amt', 'avg_cur_bal', 'bc_open_to_buy', 'chargeoff_within_12_mths', 'delinq_amnt', 'mo_sin_old_il_acct', 'mo_sin_old_rev_tl_op', 'mo_sin_rcnt_tl', 'mort_acc', 'mths_since_recent_bc', 'num_accts_ever_120_pd', 'num_actv_bc_tl', 'num_bc_tl', 'num_il_tl', 'num_sats', 'num_tl_120dpd_2m', 'num_tl_30dpd', 'num_tl_90g_dpd_24m', 'num_tl_op_past_12m', 'pct_tl_nvr_dlq', 'percent_bc_gt_75', 'pub_rec_bankruptcies', 'tax_liens', 'total_il_high_credit_limit', 'disbursement_method'],\n",
       "                                           verbose=True))])"
      ]
     },
     "execution_count": 2,
     "metadata": {},
     "output_type": "execute_result"
    }
   ],
   "source": [
    "from pipeline import get_preprocessing_pipeline\n",
    "\n",
    "pipeline = get_preprocessing_pipeline(\n",
    "    name='log_reg',\n",
    "    overrides=[\n",
    "        '+preprocessing_pipeline.steps_config.2.ImputeNumerical.inner.verbose=10',\n",
    "        '+preprocessing_pipeline.steps_config.3.ImputeCategorical.inner.verbose=10',\n",
    "    ],\n",
    "    debug=True\n",
    ")\n",
    "pipeline"
   ]
  },
  {
   "cell_type": "code",
   "execution_count": null,
   "metadata": {
    "pycharm": {
     "name": "#%%\n"
    }
   },
   "outputs": [],
   "source": [
    "X = pipeline.fit_transform([], y=[])"
   ]
  }
 ],
 "metadata": {
  "colab": {
   "collapsed_sections": [],
   "name": "lending club.ipynb",
   "provenance": []
  },
  "kernelspec": {
   "display_name": "Python 3",
   "language": "python",
   "name": "python3"
  },
  "language_info": {
   "codemirror_mode": {
    "name": "ipython",
    "version": 3
   },
   "file_extension": ".py",
   "mimetype": "text/x-python",
   "name": "python",
   "nbconvert_exporter": "python",
   "pygments_lexer": "ipython3",
   "version": "3.6.9"
  }
 },
 "nbformat": 4,
 "nbformat_minor": 1
}
