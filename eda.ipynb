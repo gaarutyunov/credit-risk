{
 "cells": [
  {
   "cell_type": "code",
   "execution_count": 1,
   "metadata": {
    "pycharm": {
     "name": "#%%\n"
    }
   },
   "outputs": [],
   "source": [
    "import pandas as pd\n",
    "import numpy as np\n",
    "import sklearn as sk\n",
    "import matplotlib.pyplot as plt\n",
    "%config InlineBackend.figure_format='retina'\n",
    "plt.rcParams[\"figure.dpi\"] = 70\n",
    "import seaborn as sns\n",
    "\n",
    "%load_ext autoreload\n",
    "%autoreload 2"
   ]
  },
  {
   "cell_type": "code",
   "execution_count": 2,
   "metadata": {},
   "outputs": [],
   "source": [
    "import woe"
   ]
  },
  {
   "cell_type": "code",
   "execution_count": 3,
   "metadata": {
    "pycharm": {
     "name": "#%%\n"
    }
   },
   "outputs": [],
   "source": [
    "from utils import load_csv_compressed\n",
    "\n",
    "accepted = load_csv_compressed('data/accepted_2007_to_2018Q4.csv')"
   ]
  },
  {
   "cell_type": "markdown",
   "metadata": {
    "pycharm": {
     "name": "#%% md\n"
    }
   },
   "source": [
    "### Предобработка некоторых столбцов"
   ]
  },
  {
   "cell_type": "code",
   "execution_count": 4,
   "metadata": {
    "pycharm": {
     "name": "#%%\n"
    }
   },
   "outputs": [],
   "source": [
    "accepted.rename(columns={'loan_status': 'label'}, inplace=True)\n",
    "accepted['label'] = accepted['label'].replace(('Fully Paid',\n",
    "                                                'Charged Off',\n",
    "                                                'Does not meet the credit policy. Status:Fully Paid',\n",
    "                                                'Does not meet the credit policy. Status:Charged Off',\n",
    "                                                'Default'),\n",
    "                                                (0, 1, 0, 1, 1))\n",
    "\n",
    "rows_with_other_labels = accepted[~accepted.label.isin([0, 1])].index\n",
    "accepted.drop(index=rows_with_other_labels, inplace=True)\n",
    "\n",
    "accepted['label'] = pd.to_numeric(accepted['label'])\n",
    "\n",
    "for col in ['verification_status', 'verification_status_joint']:\n",
    "    accepted[col] = accepted[col].map({'Not Verified': False, 'Source Verified': True})\n",
    "    accepted[col] = accepted[col].astype(bool)"
   ]
  },
  {
   "cell_type": "code",
   "execution_count": 5,
   "metadata": {
    "pycharm": {
     "name": "#%%\n"
    }
   },
   "outputs": [],
   "source": [
    "# Трансформируем даты\n",
    "#def get_all_date_features(df):\n",
    "#\n",
    "#    date_features = []\n",
    "#    for col in df:\n",
    "#        if np.issubdtype(df[col].dtype, np.number):\n",
    "#            continue\n",
    "#\n",
    "#        try:\n",
    "#            pd.to_datetime(df[col].dropna().iloc[:10])\n",
    "#            date_features.append(col)\n",
    "#        except:\n",
    "#            pass\n",
    "#\n",
    "#    return date_features\n",
    "#\n",
    "#\n",
    "#date_features = get_all_date_features(accepted)\n",
    "#accepted[date_features].apply(pd.to_datetime, inplace=True)\n",
    "#accepted[date_features] = (accepted[date_features] - accepted['issue_d'])"
   ]
  },
  {
   "cell_type": "markdown",
   "metadata": {},
   "source": [
    "### Отбор признаков"
   ]
  },
  {
   "cell_type": "code",
   "execution_count": 6,
   "metadata": {
    "pycharm": {
     "name": "#%%\n"
    }
   },
   "outputs": [],
   "source": [
    "# Используем словарь значений столбцов (файл docs/accepted_columns_description.xlsx)\n",
    "to_drop = ['id', 'member_id', 'url', 'zip_code', 'desc', 'disbursement_method', # Useless\n",
    "           'emp_length',  # Распределение по таргету и рок аук так себе\n",
    "           'num_tl_120dpd_2m', 'policy_code',  # Одно значение\n",
    "           'grade', 'sub_grade',  # Результаты скоринга / данные после начала кредитования\n",
    "           'settlement_percentage', 'settlement_term', 'debt_settlement_flag',\n",
    "           'settlement_status', 'settlement_amount', 'term',\n",
    "           'loan_amnt', 'installment', 'total_rec_int', 'last_pymnt_amnt',\n",
    "           'deferral_term', 'title', 'pymnt_plan',\n",
    "           'sec_app_open_act_il', 'orig_projected_additional_accrued_interest',\n",
    "           'hardship_amount', 'hardship_dpd', 'hardship_flag',\n",
    "           'hardship_last_payment_amount', 'hardship_last_payment_amount',\n",
    "           'hardship_length', 'hardship_loan_status', 'hardship_payoff_balance_amount',\n",
    "           'hardship_reason', 'hardship_status', 'hardship_type',\n",
    "           'initial_list_status',\n",
    "           'earliest_cr_line', 'next_pymnt_d', 'sec_app_earliest_cr_line', 'hardship_start_date',  # Даты\n",
    "           'hardship_end_date', 'payment_plan_start_date', 'debt_settlement_flag_date', 'settlement_date',\n",
    "           'issue_d', 'last_pymnt_d', 'last_credit_pull_d',\n",
    "           ]\n",
    "\n",
    "# Пока что не выкинуты\n",
    "probably_leakage = ['sec_app_fico_range_high', 'sec_app_fico_range_high']\n",
    "\n",
    "accepted.drop(columns=to_drop, inplace=True, errors='ignore')"
   ]
  },
  {
   "cell_type": "code",
   "execution_count": 7,
   "metadata": {
    "pycharm": {
     "name": "#%%\n"
    }
   },
   "outputs": [
    {
     "name": "stdout",
     "output_type": "stream",
     "text": [
      "Колво уникальных значений:\n"
     ]
    },
    {
     "data": {
      "text/html": [
       "<div>\n",
       "<style scoped>\n",
       "    .dataframe tbody tr th:only-of-type {\n",
       "        vertical-align: middle;\n",
       "    }\n",
       "\n",
       "    .dataframe tbody tr th {\n",
       "        vertical-align: top;\n",
       "    }\n",
       "\n",
       "    .dataframe thead th {\n",
       "        text-align: right;\n",
       "    }\n",
       "</style>\n",
       "<table border=\"1\" class=\"dataframe\">\n",
       "  <thead>\n",
       "    <tr style=\"text-align: right;\">\n",
       "      <th></th>\n",
       "      <th>col</th>\n",
       "      <th>unique_count</th>\n",
       "    </tr>\n",
       "  </thead>\n",
       "  <tbody>\n",
       "    <tr>\n",
       "      <th>34</th>\n",
       "      <td>application_type</td>\n",
       "      <td>2</td>\n",
       "    </tr>\n",
       "    <tr>\n",
       "      <th>37</th>\n",
       "      <td>verification_status_joint</td>\n",
       "      <td>2</td>\n",
       "    </tr>\n",
       "    <tr>\n",
       "      <th>6</th>\n",
       "      <td>verification_status</td>\n",
       "      <td>2</td>\n",
       "    </tr>\n",
       "    <tr>\n",
       "      <th>7</th>\n",
       "      <td>label</td>\n",
       "      <td>2</td>\n",
       "    </tr>\n",
       "    <tr>\n",
       "      <th>81</th>\n",
       "      <td>num_tl_30dpd</td>\n",
       "      <td>5</td>\n",
       "    </tr>\n",
       "    <tr>\n",
       "      <th>...</th>\n",
       "      <td>...</td>\n",
       "      <td>...</td>\n",
       "    </tr>\n",
       "    <tr>\n",
       "      <th>3</th>\n",
       "      <td>emp_title</td>\n",
       "      <td>379863</td>\n",
       "    </tr>\n",
       "    <tr>\n",
       "      <th>40</th>\n",
       "      <td>tot_cur_bal</td>\n",
       "      <td>400464</td>\n",
       "    </tr>\n",
       "    <tr>\n",
       "      <th>88</th>\n",
       "      <td>tot_hi_cred_lim</td>\n",
       "      <td>427447</td>\n",
       "    </tr>\n",
       "    <tr>\n",
       "      <th>25</th>\n",
       "      <td>total_pymnt_inv</td>\n",
       "      <td>1014400</td>\n",
       "    </tr>\n",
       "    <tr>\n",
       "      <th>24</th>\n",
       "      <td>total_pymnt</td>\n",
       "      <td>1157608</td>\n",
       "    </tr>\n",
       "  </tbody>\n",
       "</table>\n",
       "<p>103 rows × 2 columns</p>\n",
       "</div>"
      ],
      "text/plain": [
       "                          col  unique_count\n",
       "34           application_type             2\n",
       "37  verification_status_joint             2\n",
       "6         verification_status             2\n",
       "7                       label             2\n",
       "81               num_tl_30dpd             5\n",
       "..                        ...           ...\n",
       "3                   emp_title        379863\n",
       "40                tot_cur_bal        400464\n",
       "88            tot_hi_cred_lim        427447\n",
       "25            total_pymnt_inv       1014400\n",
       "24                total_pymnt       1157608\n",
       "\n",
       "[103 rows x 2 columns]"
      ]
     },
     "execution_count": 7,
     "metadata": {},
     "output_type": "execute_result"
    }
   ],
   "source": [
    "print('Колво уникальных значений:')\n",
    "\n",
    "unique_counts_df = pd.DataFrame({'col': col,\n",
    "                                 'unique_count': len(accepted[col].value_counts())} for col in accepted)\n",
    "\n",
    "unique_counts_df.sort_values('unique_count')"
   ]
  },
  {
   "cell_type": "markdown",
   "metadata": {
    "pycharm": {
     "name": "#%% md\n"
    }
   },
   "source": [
    "### Работа с пропущенными значениями"
   ]
  },
  {
   "cell_type": "code",
   "execution_count": 8,
   "metadata": {
    "pycharm": {
     "name": "#%%\n"
    }
   },
   "outputs": [],
   "source": [
    "fill_max = ['bc_open_to_buy',\n",
    "            'mths_since_last_delinq',\n",
    "            'mths_since_last_major_derog',\n",
    "            'mths_since_last_record',\n",
    "            'mths_since_rcnt_il',\n",
    "            'mths_since_recent_bc',\n",
    "            'mths_since_recent_bc_dlq',\n",
    "            'mths_since_recent_inq',\n",
    "            'mths_since_recent_revol_delinq',\n",
    "            'pct_tl_nvr_dlq',\n",
    "            'sec_app_mths_since_last_major_derog']\n",
    "\n",
    "fill_mean = ['annual_inc', 'dti', 'sec_app_fico_range_low', 'sec_app_fico_range_high',\n",
    "             'total_rev_hi_lim', 'total_bc_limit', 'total_il_high_credit_limit',\n",
    "             'tot_hi_cred_lim', 'il_util', 'sec_app_revol_util', 'bc_util']\n",
    "\n",
    "fill_min = list(set(accepted.columns) - set(fill_max) - set(fill_mean) - {'label'})\n",
    "\n",
    "for cols, func in zip([fill_min, fill_mean, fill_max],\n",
    "                      [lambda x: np.min(x, axis=0), lambda x: np.mean(x, axis=0), lambda x: np.max(x, axis=0)]):\n",
    "\n",
    "    fillna_vals = func(accepted[cols])\n",
    "    accepted[cols] = accepted[cols].fillna(fillna_vals)"
   ]
  },
  {
   "cell_type": "code",
   "execution_count": 9,
   "metadata": {
    "pycharm": {
     "name": "#%%\n"
    },
    "scrolled": true
   },
   "outputs": [
    {
     "name": "stdout",
     "output_type": "stream",
     "text": [
      "emp_title - The job title supplied by the Borrower when applying for the loan.*\n",
      "\n",
      "verification_status_joint - no description found\n",
      "\n"
     ]
    }
   ],
   "source": [
    "# Смотрим описание столбцов\n",
    "notes_df = pd.read_excel('docs/accepted_columns_description.xlsx', engine='openpyxl')[['Column_name', 'Description']]\n",
    "notes_df = notes_df.dropna()\n",
    "\n",
    "for col in fill_min:\n",
    "    res = notes_df[notes_df['Column_name'].str.contains(col)]\n",
    "    for i, row in res.iterrows():\n",
    "        if accepted[col].isna().mean() == 0:\n",
    "            continue\n",
    "\n",
    "        print(row['Column_name'], '-', row['Description'])\n",
    "        print()\n",
    "\n",
    "    if not res.shape[0]:\n",
    "        print(col, '- no description found')\n",
    "        print()"
   ]
  },
  {
   "cell_type": "markdown",
   "metadata": {
    "pycharm": {
     "name": "#%% md\n"
    }
   },
   "source": [
    "### Трансформация признаков"
   ]
  },
  {
   "cell_type": "code",
   "execution_count": 10,
   "metadata": {
    "pycharm": {
     "name": "#%%\n"
    }
   },
   "outputs": [
    {
     "name": "stderr",
     "output_type": "stream",
     "text": [
      "/data/iasviridov/work/chest/chest/lib/python3.6/site-packages/ipykernel_launcher.py:2: SettingWithCopyWarning: \n",
      "A value is trying to be set on a copy of a slice from a DataFrame\n",
      "\n",
      "See the caveats in the documentation: https://pandas.pydata.org/pandas-docs/stable/user_guide/indexing.html#returning-a-view-versus-a-copy\n",
      "  \n"
     ]
    }
   ],
   "source": [
    "col = 'pub_rec_bankruptcies'\n",
    "accepted[col][accepted[col] == 'acc_now_delinq'] = 1\n",
    "accepted['was_person_bankrupt'] = (accepted[col].astype(int) >= 1)\n",
    "accepted.drop(columns=col, inplace=True)"
   ]
  },
  {
   "cell_type": "code",
   "execution_count": 11,
   "metadata": {
    "pycharm": {
     "name": "#%%\n"
    }
   },
   "outputs": [
    {
     "name": "stdout",
     "output_type": "stream",
     "text": [
      "Категориальные признаки: emp_title, home_ownership, purpose, addr_state, application_type\n"
     ]
    }
   ],
   "source": [
    "categorical = accepted.select_dtypes(exclude=[np.number, np.int64, bool]).columns\n",
    "print(f'Категориальные признаки: {\", \".join(categorical)}')"
   ]
  },
  {
   "cell_type": "markdown",
   "metadata": {
    "pycharm": {
     "name": "#%% md\n"
    }
   },
   "source": [
    "#### emp_title"
   ]
  },
  {
   "cell_type": "code",
   "execution_count": 12,
   "metadata": {
    "pycharm": {
     "name": "#%%\n"
    }
   },
   "outputs": [
    {
     "data": {
      "text/plain": [
       "teacher                         25691\n",
       "manager                         24898\n",
       "owner                           15489\n",
       "registered nurse                12092\n",
       "driver                          11439\n",
       "                                ...  \n",
       "mndot                               1\n",
       "sharp decisions                     1\n",
       "special accounts coordinator        1\n",
       "rasoi                               1\n",
       "sr business assistant               1\n",
       "Name: emp_title, Length: 327845, dtype: int64"
      ]
     },
     "execution_count": 12,
     "metadata": {},
     "output_type": "execute_result"
    }
   ],
   "source": [
    "accepted['emp_title'] = accepted['emp_title'].str.lower()\n",
    "accepted['emp_title'].value_counts()"
   ]
  },
  {
   "cell_type": "code",
   "execution_count": 13,
   "metadata": {
    "pycharm": {
     "name": "#%%\n"
    }
   },
   "outputs": [
    {
     "data": {
      "text/plain": [
       "teacher                            25691\n",
       "manager                            24898\n",
       "registered nurse                   21697\n",
       "owner                              15489\n",
       "driver                             11439\n",
       "                                   ...  \n",
       "community supports inc                 1\n",
       "receiving team lead                    1\n",
       "materials processing specialist        1\n",
       "arkadin                                1\n",
       "sr business assistant                  1\n",
       "Name: emp_title, Length: 324167, dtype: int64"
      ]
     },
     "execution_count": 13,
     "metadata": {},
     "output_type": "execute_result"
    }
   ],
   "source": [
    "# Аббревиатура и расшифровка\n",
    "abbr_to_occupation = {}\n",
    "\n",
    "occupations = accepted['emp_title'].value_counts(ascending=True).index\n",
    "\n",
    "for occ in occupations:\n",
    "    occ_split = occ.split()\n",
    "\n",
    "    if len(occ_split) < 2:\n",
    "        continue\n",
    "\n",
    "    abbr = ''.join([s[0] for s in occ_split])\n",
    "    abbr_to_occupation[abbr] = occ\n",
    "\n",
    "accepted['emp_title'] = [abbr_to_occupation.get(occ, occ) for occ in accepted['emp_title']]\n",
    "accepted['emp_title'].value_counts()"
   ]
  },
  {
   "cell_type": "code",
   "execution_count": 14,
   "metadata": {
    "pycharm": {
     "name": "#%%\n"
    }
   },
   "outputs": [
    {
     "name": "stderr",
     "output_type": "stream",
     "text": [
      "/data/iasviridov/work/chest/chest/lib/python3.6/site-packages/ipykernel_launcher.py:4: SettingWithCopyWarning: \n",
      "A value is trying to be set on a copy of a slice from a DataFrame\n",
      "\n",
      "See the caveats in the documentation: https://pandas.pydata.org/pandas-docs/stable/user_guide/indexing.html#returning-a-view-versus-a-copy\n",
      "  after removing the cwd from sys.path.\n"
     ]
    },
    {
     "data": {
      "text/plain": [
       "other                 1157916\n",
       "teacher                 25691\n",
       "manager                 24898\n",
       "registered nurse        21697\n",
       "owner                   15489\n",
       "driver                  11439\n",
       "supervisor              11050\n",
       "sales                   10467\n",
       "project manager          7539\n",
       "general manager          7458\n",
       "office manager           7416\n",
       "truck driver             6034\n",
       "director                 5446\n",
       "engineer                 5088\n",
       "president                4961\n",
       "vice president           4943\n",
       "sales manager            4558\n",
       "operations manager       4232\n",
       "police officer           4132\n",
       "store manager            3886\n",
       "accountant               3759\n",
       "Name: emp_title, dtype: int64"
      ]
     },
     "execution_count": 14,
     "metadata": {},
     "output_type": "execute_result"
    }
   ],
   "source": [
    "selected_jobs = accepted['emp_title'].value_counts().index[:20]\n",
    "\n",
    "not_selected_jobs_mask = ~accepted['emp_title'].isin(selected_jobs)\n",
    "accepted['emp_title'][not_selected_jobs_mask] = 'other'\n",
    "accepted['emp_title'].value_counts()"
   ]
  },
  {
   "cell_type": "markdown",
   "metadata": {
    "pycharm": {
     "name": "#%% md\n"
    }
   },
   "source": [
    "#### purpose"
   ]
  },
  {
   "cell_type": "code",
   "execution_count": 15,
   "metadata": {
    "pycharm": {
     "name": "#%%\n"
    }
   },
   "outputs": [
    {
     "data": {
      "text/plain": [
       "debt_consolidation    781442\n",
       "credit_card           295625\n",
       "home_improvement       87721\n",
       "other                  78301\n",
       "major_purchase         29550\n",
       "medical                15614\n",
       "small_business         15577\n",
       "car                    14652\n",
       "moving                  9526\n",
       "vacation                9084\n",
       "house                   7298\n",
       "wedding                 2350\n",
       "renewable_energy         936\n",
       "educational              423\n",
       "Name: purpose, dtype: int64"
      ]
     },
     "execution_count": 15,
     "metadata": {},
     "output_type": "execute_result"
    }
   ],
   "source": [
    "accepted['purpose'].value_counts()"
   ]
  },
  {
   "cell_type": "code",
   "execution_count": 16,
   "metadata": {
    "pycharm": {
     "name": "#%%\n"
    }
   },
   "outputs": [
    {
     "data": {
      "text/plain": [
       "debt_consolidation    781442\n",
       "credit_card           295625\n",
       "consumer_expenses     113807\n",
       "other                  78301\n",
       "major_purchase         29550\n",
       "medical                15614\n",
       "small_business         15577\n",
       "moving                  9526\n",
       "house                   7298\n",
       "renewable_energy         936\n",
       "educational              423\n",
       "Name: purpose, dtype: int64"
      ]
     },
     "execution_count": 16,
     "metadata": {},
     "output_type": "execute_result"
    }
   ],
   "source": [
    "purpose_map = {purp: purp for purp\n",
    "                      in accepted['purpose'].value_counts().index}\n",
    "purpose_map['home_improvement'] = 'consumer_expenses'\n",
    "purpose_map['car'] = 'consumer_expenses'\n",
    "purpose_map['vacation'] = 'consumer_expenses'\n",
    "purpose_map['wedding'] = 'consumer_expenses'\n",
    "\n",
    "accepted['purpose'] = accepted['purpose'].map(purpose_map)\n",
    "accepted['purpose'].value_counts()"
   ]
  },
  {
   "cell_type": "markdown",
   "metadata": {
    "pycharm": {
     "name": "#%% md\n"
    }
   },
   "source": [
    "#### addr_state"
   ]
  },
  {
   "cell_type": "code",
   "execution_count": 17,
   "metadata": {
    "pycharm": {
     "name": "#%%\n"
    }
   },
   "outputs": [],
   "source": [
    "col = 'addr_state'\n",
    "\n",
    "us_state_to_urbanization = pd.read_excel('docs/us_urbanization.xlsx', index_col=0)['Urbanization']\n",
    "\n",
    "accepted['addr_urbanization'] = accepted[col].map(us_state_to_urbanization)\n",
    "accepted.drop(columns=col, inplace=True)"
   ]
  },
  {
   "cell_type": "markdown",
   "metadata": {
    "pycharm": {
     "name": "#%% md\n"
    }
   },
   "source": [
    "#### application_type"
   ]
  },
  {
   "cell_type": "code",
   "execution_count": 18,
   "metadata": {
    "pycharm": {
     "name": "#%%\n"
    }
   },
   "outputs": [],
   "source": [
    "col = 'application_type'\n",
    "\n",
    "accepted['is_joint'] = (accepted[col] == 'Joint App')\n",
    "accepted.drop(columns=col, inplace=True)"
   ]
  },
  {
   "cell_type": "code",
   "execution_count": 19,
   "metadata": {
    "pycharm": {
     "name": "#%%\n"
    }
   },
   "outputs": [
    {
     "name": "stdout",
     "output_type": "stream",
     "text": [
      "Категориальные признаки: emp_title, home_ownership, purpose\n"
     ]
    }
   ],
   "source": [
    "categorical = accepted.select_dtypes(exclude=[np.number, np.int64, bool]).columns\n",
    "print(f'Категориальные признаки: {\", \".join(categorical)}')"
   ]
  },
  {
   "cell_type": "markdown",
   "metadata": {
    "pycharm": {
     "name": "#%% md\n"
    }
   },
   "source": [
    "### Отбор по корреляции"
   ]
  },
  {
   "cell_type": "code",
   "execution_count": 20,
   "metadata": {},
   "outputs": [],
   "source": [
    "# Смотрим корреляции Спирмена численных признаков\n",
    "corrs = accepted.drop(columns='label').corr(method='spearman').abs()\n",
    "# Формируем верхнетреугольную матрицу для устранения дубликатов\n",
    "triupper_mask = np.triu(np.full(corrs.shape, True))\n",
    "corrs = corrs.where(triupper_mask).stack().reset_index()\n",
    "# Переводим в удобный формат и сортируем, а также удаляем единичные корреляции\n",
    "corrs = corrs.rename(columns={\n",
    "    'level_0': '1_feature',\n",
    "    'level_1': '2_feature',\n",
    "    0: 'value'})\n",
    "corrs = corrs.sort_values(by='value', ascending=False)\n",
    "corrs = corrs[corrs['1_feature'] != corrs['2_feature']]"
   ]
  },
  {
   "cell_type": "code",
   "execution_count": 21,
   "metadata": {},
   "outputs": [
    {
     "data": {
      "text/html": [
       "<div>\n",
       "<style scoped>\n",
       "    .dataframe tbody tr th:only-of-type {\n",
       "        vertical-align: middle;\n",
       "    }\n",
       "\n",
       "    .dataframe tbody tr th {\n",
       "        vertical-align: top;\n",
       "    }\n",
       "\n",
       "    .dataframe thead th {\n",
       "        text-align: right;\n",
       "    }\n",
       "</style>\n",
       "<table border=\"1\" class=\"dataframe\">\n",
       "  <thead>\n",
       "    <tr style=\"text-align: right;\">\n",
       "      <th></th>\n",
       "      <th>1_feature</th>\n",
       "      <th>2_feature</th>\n",
       "      <th>value</th>\n",
       "    </tr>\n",
       "  </thead>\n",
       "  <tbody>\n",
       "    <tr>\n",
       "      <th>673</th>\n",
       "      <td>fico_range_low</td>\n",
       "      <td>fico_range_high</td>\n",
       "      <td>1.000000</td>\n",
       "    </tr>\n",
       "    <tr>\n",
       "      <th>1548</th>\n",
       "      <td>out_prncp</td>\n",
       "      <td>out_prncp_inv</td>\n",
       "      <td>1.000000</td>\n",
       "    </tr>\n",
       "    <tr>\n",
       "      <th>4860</th>\n",
       "      <td>sec_app_fico_range_low</td>\n",
       "      <td>sec_app_fico_range_high</td>\n",
       "      <td>1.000000</td>\n",
       "    </tr>\n",
       "    <tr>\n",
       "      <th>2176</th>\n",
       "      <td>last_fico_range_high</td>\n",
       "      <td>last_fico_range_low</td>\n",
       "      <td>1.000000</td>\n",
       "    </tr>\n",
       "    <tr>\n",
       "      <th>2534</th>\n",
       "      <td>annual_inc_joint</td>\n",
       "      <td>is_joint</td>\n",
       "      <td>0.999918</td>\n",
       "    </tr>\n",
       "    <tr>\n",
       "      <th>2603</th>\n",
       "      <td>dti_joint</td>\n",
       "      <td>is_joint</td>\n",
       "      <td>0.999760</td>\n",
       "    </tr>\n",
       "    <tr>\n",
       "      <th>2466</th>\n",
       "      <td>annual_inc_joint</td>\n",
       "      <td>dti_joint</td>\n",
       "      <td>0.999659</td>\n",
       "    </tr>\n",
       "    <tr>\n",
       "      <th>1711</th>\n",
       "      <td>total_pymnt</td>\n",
       "      <td>total_pymnt_inv</td>\n",
       "      <td>0.998472</td>\n",
       "    </tr>\n",
       "    <tr>\n",
       "      <th>4850</th>\n",
       "      <td>revol_bal_joint</td>\n",
       "      <td>sec_app_open_acc</td>\n",
       "      <td>0.998359</td>\n",
       "    </tr>\n",
       "    <tr>\n",
       "      <th>1</th>\n",
       "      <td>funded_amnt</td>\n",
       "      <td>funded_amnt_inv</td>\n",
       "      <td>0.998147</td>\n",
       "    </tr>\n",
       "  </tbody>\n",
       "</table>\n",
       "</div>"
      ],
      "text/plain": [
       "                   1_feature                2_feature     value\n",
       "673           fico_range_low          fico_range_high  1.000000\n",
       "1548               out_prncp            out_prncp_inv  1.000000\n",
       "4860  sec_app_fico_range_low  sec_app_fico_range_high  1.000000\n",
       "2176    last_fico_range_high      last_fico_range_low  1.000000\n",
       "2534        annual_inc_joint                 is_joint  0.999918\n",
       "2603               dti_joint                 is_joint  0.999760\n",
       "2466        annual_inc_joint                dti_joint  0.999659\n",
       "1711             total_pymnt          total_pymnt_inv  0.998472\n",
       "4850         revol_bal_joint         sec_app_open_acc  0.998359\n",
       "1                funded_amnt          funded_amnt_inv  0.998147"
      ]
     },
     "execution_count": 21,
     "metadata": {},
     "output_type": "execute_result"
    }
   ],
   "source": [
    "corrs.head(10)"
   ]
  },
  {
   "cell_type": "code",
   "execution_count": 22,
   "metadata": {},
   "outputs": [],
   "source": [
    "# Если между признаками корреляция более 0.6 (эмпирический порог), то удаляем наименее коррелирующий с таргетом\n",
    "to_drop = []\n",
    "\n",
    "for _, row in corrs[corrs['value'] >= 0.6].iterrows():\n",
    "\n",
    "    feature1, feature2 = row[['1_feature', '2_feature']]\n",
    "    feature1_label_corr = accepted[[feature1, 'label']].corr(method='spearman')[feature1]['label']\n",
    "    feature2_label_corr = accepted[[feature2, 'label']].corr(method='spearman')[feature2]['label']\n",
    "\n",
    "    if feature1_label_corr >= feature2_label_corr:\n",
    "        to_drop.append(row['2_feature'])\n",
    "    else:\n",
    "        to_drop.append(row['1_feature'])\n",
    "\n",
    "to_drop = np.unique(to_drop)\n",
    "accepted.drop(columns=to_drop, inplace=True)"
   ]
  },
  {
   "cell_type": "code",
   "execution_count": 23,
   "metadata": {},
   "outputs": [
    {
     "name": "stdout",
     "output_type": "stream",
     "text": [
      "High correlation between target and recoveries = 0.80!\n",
      "High correlation between target and last_fico_range_high = 0.61!\n"
     ]
    }
   ],
   "source": [
    "# Также удалим фичи, сильно коррелирующие с таргетом по аналогичному порогу\n",
    "to_drop = []\n",
    "\n",
    "for col_name in (accepted.dtypes[accepted.dtypes == 'float32'].index):\n",
    "    corr_tmp = abs(accepted[[col_name, 'label']].corr(method='spearman')[col_name]['label'])\n",
    "    if corr_tmp >= 0.6:\n",
    "        print('High correlation between target and {0} = {1:1.2f}!'.format(col_name, corr_tmp))\n",
    "        to_drop.append(col_name)\n",
    "\n",
    "to_drop = np.unique(to_drop)\n",
    "accepted.drop(columns=to_drop, inplace=True) "
   ]
  },
  {
   "cell_type": "code",
   "execution_count": 24,
   "metadata": {
    "pycharm": {
     "name": "#%%\n"
    }
   },
   "outputs": [
    {
     "data": {
      "text/plain": [
       "(1348099, 43)"
      ]
     },
     "execution_count": 24,
     "metadata": {},
     "output_type": "execute_result"
    }
   ],
   "source": [
    "accepted.shape"
   ]
  },
  {
   "cell_type": "code",
   "execution_count": 36,
   "metadata": {
    "pycharm": {
     "name": "#%%\n"
    }
   },
   "outputs": [
    {
     "name": "stdout",
     "output_type": "stream",
     "text": [
      "['acc_open_past_24mths', 'addr_urbanization', 'annual_inc', 'chargeoff_within_12_mths', 'collections_12_mths_ex_med', 'delinq_2yrs', 'delinq_amnt', 'dti', 'dti_joint', 'emp_title', 'emp_title_new', 'fico_range_low', 'funded_amnt', 'home_ownership', 'il_util', 'inq_last_6mths', 'int_rate', 'label', 'mo_sin_old_il_acct', 'mo_sin_old_rev_tl_op', 'mo_sin_rcnt_rev_tl_op', 'mths_since_recent_bc', 'mths_since_recent_revol_delinq', 'num_accts_ever_120_pd', 'num_actv_rev_tl', 'num_tl_90g_dpd_24m', 'open_rv_24m', 'out_prncp', 'percent_bc_gt_75', 'pub_rec', 'purpose', 'revol_bal', 'sec_app_chargeoff_within_12_mths', 'sec_app_collections_12_mths_ex_med', 'sec_app_fico_range_low', 'sec_app_inq_last_6mths', 'sec_app_mths_since_last_major_derog', 'sec_app_revol_util', 'tax_liens', 'tot_coll_amt', 'total_bal_ex_mort', 'total_cu_tl', 'total_rec_late_fee', 'verification_status']\n"
     ]
    }
   ],
   "source": [
    "print(sorted(accepted.columns))"
   ]
  },
  {
   "cell_type": "markdown",
   "metadata": {},
   "source": [
    "### WoE для категориальных признаков"
   ]
  },
  {
   "cell_type": "code",
   "execution_count": 39,
   "metadata": {},
   "outputs": [],
   "source": [
    "# Получаем список категориальных признаков\n",
    "categ = list(accepted.dtypes[accepted.dtypes != 'float32'].index)\n",
    "categ.remove('label')"
   ]
  },
  {
   "cell_type": "code",
   "execution_count": 40,
   "metadata": {},
   "outputs": [
    {
     "data": {
      "text/plain": [
       "['emp_title',\n",
       " 'home_ownership',\n",
       " 'verification_status',\n",
       " 'purpose',\n",
       " 'addr_urbanization']"
      ]
     },
     "execution_count": 40,
     "metadata": {},
     "output_type": "execute_result"
    }
   ],
   "source": [
    "categ"
   ]
  },
  {
   "cell_type": "code",
   "execution_count": 41,
   "metadata": {},
   "outputs": [],
   "source": [
    "# Получаем WoE, а также Information value\n",
    "final_iv, IV = woe.data_vars(accepted[categ], accepted.label)"
   ]
  },
  {
   "cell_type": "code",
   "execution_count": 44,
   "metadata": {},
   "outputs": [
    {
     "data": {
      "text/html": [
       "<div>\n",
       "<style scoped>\n",
       "    .dataframe tbody tr th:only-of-type {\n",
       "        vertical-align: middle;\n",
       "    }\n",
       "\n",
       "    .dataframe tbody tr th {\n",
       "        vertical-align: top;\n",
       "    }\n",
       "\n",
       "    .dataframe thead th {\n",
       "        text-align: right;\n",
       "    }\n",
       "</style>\n",
       "<table border=\"1\" class=\"dataframe\">\n",
       "  <thead>\n",
       "    <tr style=\"text-align: right;\">\n",
       "      <th></th>\n",
       "      <th>VAR_NAME</th>\n",
       "      <th>IV</th>\n",
       "    </tr>\n",
       "  </thead>\n",
       "  <tbody>\n",
       "    <tr>\n",
       "      <th>0</th>\n",
       "      <td>addr_urbanization</td>\n",
       "      <td>0.001521</td>\n",
       "    </tr>\n",
       "    <tr>\n",
       "      <th>1</th>\n",
       "      <td>emp_title</td>\n",
       "      <td>0.008214</td>\n",
       "    </tr>\n",
       "    <tr>\n",
       "      <th>2</th>\n",
       "      <td>home_ownership</td>\n",
       "      <td>0.031179</td>\n",
       "    </tr>\n",
       "    <tr>\n",
       "      <th>3</th>\n",
       "      <td>purpose</td>\n",
       "      <td>0.018743</td>\n",
       "    </tr>\n",
       "    <tr>\n",
       "      <th>4</th>\n",
       "      <td>verification_status</td>\n",
       "      <td>0.050035</td>\n",
       "    </tr>\n",
       "  </tbody>\n",
       "</table>\n",
       "</div>"
      ],
      "text/plain": [
       "              VAR_NAME        IV\n",
       "0    addr_urbanization  0.001521\n",
       "1            emp_title  0.008214\n",
       "2       home_ownership  0.031179\n",
       "3              purpose  0.018743\n",
       "4  verification_status  0.050035"
      ]
     },
     "execution_count": 44,
     "metadata": {},
     "output_type": "execute_result"
    }
   ],
   "source": [
    "# Information value\n",
    "IV"
   ]
  },
  {
   "cell_type": "code",
   "execution_count": 43,
   "metadata": {
    "scrolled": true
   },
   "outputs": [
    {
     "data": {
      "image/png": "[encoded data removed]",
      "text/plain": [
       "<Figure size 700x350 with 1 Axes>"
      ]
     },
     "metadata": {
      "image/png": {
       "height": 422,
       "width": 688
      },
      "needs_background": "light"
     },
     "output_type": "display_data"
    },
    {
     "data": {
      "image/png": "[encoded data removed]",
      "text/plain": [
       "<Figure size 700x350 with 1 Axes>"
      ]
     },
     "metadata": {
      "image/png": {
       "height": 392,
       "width": 692
      },
      "needs_background": "light"
     },
     "output_type": "display_data"
    },
    {
     "data": {
      "image/png": "[encoded data removed]",
      "text/plain": [
       "<Figure size 700x350 with 1 Axes>"
      ]
     },
     "metadata": {
      "image/png": {
       "height": 370,
       "width": 692
      },
      "needs_background": "light"
     },
     "output_type": "display_data"
    },
    {
     "data": {
      "image/png": "[encoded data removed]",
      "text/plain": [
       "<Figure size 700x350 with 1 Axes>"
      ]
     },
     "metadata": {
      "image/png": {
       "height": 422,
       "width": 686
      },
      "needs_background": "light"
     },
     "output_type": "display_data"
    },
    {
     "data": {
      "image/png": "[encoded data removed]",
      "text/plain": [
       "<Figure size 700x350 with 1 Axes>"
      ]
     },
     "metadata": {
      "image/png": {
       "height": 368,
       "width": 692
      },
      "needs_background": "light"
     },
     "output_type": "display_data"
    }
   ],
   "source": [
    "for col_name in categ:\n",
    "    g = sns.catplot(x=\"MIN_VALUE\", y=\"WOE\", \n",
    "                    data=final_iv[final_iv['VAR_NAME'] == col_name].sort_values(by='WOE'), \n",
    "                    color='green', height=5, aspect=2).set(title='WoE distribution for ' + col_name)\n",
    "    g.set_xticklabels(rotation=45)\n",
    "    g.set(xlabel='Values', ylabel='WoE')"
   ]
  },
  {
   "cell_type": "markdown",
   "metadata": {},
   "source": [
    "### Pipeline"
   ]
  },
  {
   "cell_type": "code",
   "execution_count": 73,
   "metadata": {
    "pycharm": {
     "name": "#%%\n"
    }
   },
   "outputs": [],
   "source": [
    "from sklearn.base import BaseEstimator, TransformerMixin\n",
    "\n",
    "class CustomColumnTransformer(BaseEstimator, TransformerMixin):\n",
    "\n",
    "    def __init__(self, us_urbanization_xlsx_path='docs/us_urbanization.xlsx'):\n",
    "        self.cols = ['funded_amnt', 'int_rate', 'emp_title', 'home_ownership', 'annual_inc',\n",
    "                     'verification_status', 'purpose', 'dti', 'delinq_2yrs',\n",
    "                     'fico_range_high', 'inq_last_6mths', 'pub_rec', 'revol_bal',\n",
    "                     'out_prncp', 'total_rec_late_fee', 'recoveries', 'last_fico_range_low',\n",
    "                     'collections_12_mths_ex_med', 'dti_joint', 'acc_now_delinq',\n",
    "                     'tot_coll_amt', 'il_util', 'open_rv_24m', 'total_cu_tl',\n",
    "                     'acc_open_past_24mths', 'chargeoff_within_12_mths',\n",
    "                     'mo_sin_old_il_acct', 'mo_sin_old_rev_tl_op', 'mo_sin_rcnt_rev_tl_op',\n",
    "                     'mths_since_recent_bc', 'mths_since_recent_revol_delinq',\n",
    "                     'num_accts_ever_120_pd', 'num_actv_rev_tl', 'num_il_tl',\n",
    "                     'num_tl_90g_dpd_24m', 'percent_bc_gt_75', 'tax_liens',\n",
    "                     'sec_app_fico_range_low', 'sec_app_inq_last_6mths',\n",
    "                     'sec_app_revol_util', 'sec_app_chargeoff_within_12_mths',\n",
    "                     'sec_app_collections_12_mths_ex_med',\n",
    "                     'sec_app_mths_since_last_major_derog', 'addr_state']\n",
    "\n",
    "        self.fill_max_cols = ['bc_open_to_buy',\n",
    "                              'mths_since_last_delinq', 'mths_since_last_major_derog',\n",
    "                              'mths_since_last_record', 'mths_since_rcnt_il',\n",
    "                              'mths_since_recent_bc', 'mths_since_recent_bc_dlq',\n",
    "                              'mths_since_recent_inq', 'mths_since_recent_revol_delinq',\n",
    "                              'pct_tl_nvr_dlq', 'sec_app_mths_since_last_major_derog']\n",
    "\n",
    "        self.fill_mean_cols = ['annual_inc', 'dti', 'sec_app_fico_range_low', 'sec_app_fico_range_high',\n",
    "                               'total_rev_hi_lim', 'total_bc_limit', 'total_il_high_credit_limit',\n",
    "                               'tot_hi_cred_lim', 'il_util', 'sec_app_revol_util', 'bc_util']\n",
    "\n",
    "        self.fill_min_cols = None\n",
    "\n",
    "        self.fill_dict = {}\n",
    "\n",
    "        self.purpose_map = {'home_improvement': 'consumer_expenses',\n",
    "                            'car': 'consumer_expenses',\n",
    "                            'vacation': 'consumer_expenses',\n",
    "                            'wedding': 'consumer_expenses'}\n",
    "\n",
    "        self.us_urbanization_xlsx_path = us_urbanization_xlsx_path\n",
    "        self.us_state_to_urbanization = pd.read_excel(us_urbanization_xlsx_path, index_col=0)['Urbanization']\n",
    "\n",
    "    def fit(self, X, y=None):\n",
    "        self.fit_or_transform(X, y, mode='fit')\n",
    "        return self\n",
    "\n",
    "    def transform(self, X, y=None):\n",
    "        return self.fit_or_transform(X, y, mode='transform')\n",
    "\n",
    "    def fit_or_transform(self, X, y=None, mode='fit'):\n",
    "        assert mode in ['fit', 'transform']\n",
    "\n",
    "        X = X[self.cols]\n",
    "\n",
    "        X = self.transform_verification_status(X, 'verification_status')\n",
    "        X = self.simple_impute(X, mode)\n",
    "        X = self.transform_emp_title(X, 'emp_title', mode)\n",
    "        X = self.transform_purpose(X, 'purpose')\n",
    "        X = self.transform_addr_state(X, 'addr_state')\n",
    "\n",
    "        return X\n",
    "\n",
    "    @staticmethod\n",
    "    def transform_verification_status(X, col):\n",
    "        X[col] = X[col].map({'Not Verified': False, 'Source Verified': True})\n",
    "        X[col] = X[col].astype(bool)\n",
    "        return X\n",
    "\n",
    "    def transform_emp_title(self, X, col, mode):\n",
    "        # Аббревиатура и расшифровка\n",
    "        if mode == 'fit':\n",
    "            self.abbr_to_occupation = {}\n",
    "\n",
    "            occupations = X['emp_title'].value_counts(ascending=True).index\n",
    "\n",
    "            for occ in occupations:\n",
    "                occ_split = occ.split()\n",
    "\n",
    "                if len(occ_split) < 2:\n",
    "                    continue\n",
    "\n",
    "                abbr = ''.join([s[0] for s in occ_split])\n",
    "                self.abbr_to_occupation[abbr] = occ\n",
    "\n",
    "        X[col] = [self.abbr_to_occupation.get(occ, occ) for occ in X['emp_title']]\n",
    "\n",
    "        if mode == 'fit':\n",
    "            self.selected_jobs = X['emp_title'].value_counts().index[:20]\n",
    "\n",
    "        not_selected_jobs_mask = ~X['emp_title'].isin(self.selected_jobs)\n",
    "        X['emp_title'][not_selected_jobs_mask] = 'other'\n",
    "\n",
    "        return X\n",
    "\n",
    "    def transform_purpose(self, X, col):\n",
    "        X[col] = [self.purpose_map.get(purp, purp) for purp in X[col]]\n",
    "        return X\n",
    "\n",
    "    def transform_addr_state(self, X, col):\n",
    "        X['addr_urbanization'] = X[col].map(self.us_state_to_urbanization)\n",
    "        X.drop(columns=col, inplace=True)\n",
    "        return X\n",
    "\n",
    "    def simple_impute(self, X, mode):\n",
    "\n",
    "        if mode == 'fit':\n",
    "            self.fill_max_cols = list(set(self.fill_max_cols) & set(X.columns))\n",
    "            self.fill_mean_cols = list(set(self.fill_mean_cols) & set(X.columns))\n",
    "            self.fill_min_cols = list(set(X.columns) - set(fill_max) - set(fill_mean))\n",
    "\n",
    "        for cols, kind in zip([self.fill_min_cols, self.fill_mean_cols, self.fill_max_cols],\n",
    "                              ['min', 'mean', 'max']):\n",
    "\n",
    "            if mode == 'fit':\n",
    "                self.fill_dict[kind] = eval(f'np.{kind}(X[cols], axis=0)')\n",
    "\n",
    "            fillna_vals = self.fill_dict[kind]\n",
    "            X[cols] = X[cols].fillna(fillna_vals)\n",
    "\n",
    "        return X"
   ]
  },
  {
   "cell_type": "code",
   "execution_count": 59,
   "metadata": {
    "id": "a2shuWru0Kwk",
    "pycharm": {
     "name": "#%%\n"
    }
   },
   "outputs": [],
   "source": [
    "numeric = accepted.select_dtypes(include=np.number).columns\n",
    "categorical = accepted.select_dtypes(exclude=np.number).columns"
   ]
  },
  {
   "cell_type": "code",
   "execution_count": 15,
   "metadata": {
    "colab": {
     "base_uri": "https://localhost:8080/"
    },
    "id": "8D_PeQHM9_hj",
    "outputId": "3ae5e1c8-0056-49d8-e639-f521433f70b5",
    "pycharm": {
     "name": "#%%\n"
    }
   },
   "outputs": [
    {
     "name": "stdout",
     "output_type": "stream",
     "text": [
      "---\n",
      "- loan_amnt\n",
      "- term\n",
      "- int_rate\n",
      "- emp_title\n",
      "- emp_length\n",
      "- home_ownership\n",
      "- annual_inc\n",
      "- verification_status\n",
      "- loan_status\n",
      "- purpose\n",
      "- addr_state\n",
      "- dti\n",
      "- earliest_cr_line\n",
      "- fico_range_high\n",
      "- inq_last_6mths\n",
      "- revol_bal\n",
      "- initial_list_status\n",
      "- out_prncp\n",
      "- total_rec_late_fee\n",
      "- collection_recovery_fee\n",
      "- last_fico_range_low\n",
      "- collections_12_mths_ex_med\n",
      "- application_type\n",
      "- tot_coll_amt\n",
      "- avg_cur_bal\n",
      "- bc_open_to_buy\n",
      "- chargeoff_within_12_mths\n",
      "- delinq_amnt\n",
      "- mo_sin_old_il_acct\n",
      "- mo_sin_old_rev_tl_op\n",
      "- mo_sin_rcnt_tl\n",
      "- mort_acc\n",
      "- mths_since_recent_bc\n",
      "- num_accts_ever_120_pd\n",
      "- num_actv_bc_tl\n",
      "- num_bc_tl\n",
      "- num_il_tl\n",
      "- num_sats\n",
      "- num_tl_120dpd_2m\n",
      "- num_tl_30dpd\n",
      "- num_tl_90g_dpd_24m\n",
      "- num_tl_op_past_12m\n",
      "- pct_tl_nvr_dlq\n",
      "- percent_bc_gt_75\n",
      "- pub_rec_bankruptcies\n",
      "- tax_liens\n",
      "- total_il_high_credit_limit\n",
      "- disbursement_method\n",
      "- label\n",
      "\n"
     ]
    }
   ],
   "source": [
    "import yaml\n",
    "\n",
    "print(yaml.dump(accepted.columns.values.tolist(), explicit_start=True, default_flow_style=False))"
   ]
  },
  {
   "cell_type": "code",
   "execution_count": 16,
   "metadata": {
    "pycharm": {
     "name": "#%%\n"
    }
   },
   "outputs": [
    {
     "name": "stdout",
     "output_type": "stream",
     "text": [
      "---\n",
      "- loan_amnt\n",
      "- int_rate\n",
      "- annual_inc\n",
      "- dti\n",
      "- fico_range_high\n",
      "- inq_last_6mths\n",
      "- revol_bal\n",
      "- out_prncp\n",
      "- total_rec_late_fee\n",
      "- collection_recovery_fee\n",
      "- last_fico_range_low\n",
      "- collections_12_mths_ex_med\n",
      "- tot_coll_amt\n",
      "- avg_cur_bal\n",
      "- bc_open_to_buy\n",
      "- chargeoff_within_12_mths\n",
      "- delinq_amnt\n",
      "- mo_sin_old_il_acct\n",
      "- mo_sin_old_rev_tl_op\n",
      "- mo_sin_rcnt_tl\n",
      "- mort_acc\n",
      "- mths_since_recent_bc\n",
      "- num_accts_ever_120_pd\n",
      "- num_actv_bc_tl\n",
      "- num_bc_tl\n",
      "- num_il_tl\n",
      "- num_sats\n",
      "- num_tl_120dpd_2m\n",
      "- num_tl_30dpd\n",
      "- num_tl_90g_dpd_24m\n",
      "- num_tl_op_past_12m\n",
      "- pct_tl_nvr_dlq\n",
      "- percent_bc_gt_75\n",
      "- pub_rec_bankruptcies\n",
      "- tax_liens\n",
      "- total_il_high_credit_limit\n",
      "- label\n",
      "\n",
      "---\n",
      "- term\n",
      "- emp_title\n",
      "- emp_length\n",
      "- home_ownership\n",
      "- verification_status\n",
      "- loan_status\n",
      "- purpose\n",
      "- addr_state\n",
      "- earliest_cr_line\n",
      "- initial_list_status\n",
      "- application_type\n",
      "- disbursement_method\n",
      "\n"
     ]
    }
   ],
   "source": [
    "numeric = accepted.select_dtypes(include=np.number).columns.values.tolist()\n",
    "categorical = accepted.select_dtypes(exclude=np.number).columns.values.tolist()\n",
    "\n",
    "print(yaml.dump(numeric, explicit_start=True, default_flow_style=False))\n",
    "print(yaml.dump(categorical, explicit_start=True, default_flow_style=False))"
   ]
  },
  {
   "cell_type": "code",
   "execution_count": 2,
   "metadata": {
    "pycharm": {
     "name": "#%%\n"
    }
   },
   "outputs": [
    {
     "name": "stdout",
     "output_type": "stream",
     "text": [
      "preprocessing_pipeline:\n",
      "  _target_: pipeline.make_pipeline\n",
      "  steps_config:\n",
      "  - CSVReader:\n",
      "      _target_: pipeline.CSVReader\n",
      "      file: data/accepted_2007_to_2018Q4.csv\n",
      "      columns:\n",
      "      - loan_amnt\n",
      "      - term\n",
      "      - int_rate\n",
      "      - emp_title\n",
      "      - emp_length\n",
      "      - home_ownership\n",
      "      - annual_inc\n",
      "      - verification_status\n",
      "      - loan_status\n",
      "      - purpose\n",
      "      - addr_state\n",
      "      - dti\n",
      "      - earliest_cr_line\n",
      "      - fico_range_high\n",
      "      - inq_last_6mths\n",
      "      - revol_bal\n",
      "      - initial_list_status\n",
      "      - out_prncp\n",
      "      - total_rec_late_fee\n",
      "      - collection_recovery_fee\n",
      "      - last_fico_range_low\n",
      "      - collections_12_mths_ex_med\n",
      "      - application_type\n",
      "      - tot_coll_amt\n",
      "      - avg_cur_bal\n",
      "      - bc_open_to_buy\n",
      "      - chargeoff_within_12_mths\n",
      "      - delinq_amnt\n",
      "      - mo_sin_old_il_acct\n",
      "      - mo_sin_old_rev_tl_op\n",
      "      - mo_sin_rcnt_tl\n",
      "      - mort_acc\n",
      "      - mths_since_recent_bc\n",
      "      - num_accts_ever_120_pd\n",
      "      - num_actv_bc_tl\n",
      "      - num_bc_tl\n",
      "      - num_il_tl\n",
      "      - num_sats\n",
      "      - num_tl_120dpd_2m\n",
      "      - num_tl_30dpd\n",
      "      - num_tl_90g_dpd_24m\n",
      "      - num_tl_op_past_12m\n",
      "      - pct_tl_nvr_dlq\n",
      "      - percent_bc_gt_75\n",
      "      - pub_rec_bankruptcies\n",
      "      - tax_liens\n",
      "      - total_il_high_credit_limit\n",
      "      - disbursement_method\n",
      "  - LabelTransformer:\n",
      "      _target_: pipeline.LabelTransformer\n",
      "  - ImputeNumerical:\n",
      "      _target_: pipeline.ApplyToColumns\n",
      "      inner:\n",
      "        _target_: sklearn.impute.SimpleImputer\n",
      "        strategy: mean\n",
      "        verbose: 10\n",
      "      columns:\n",
      "      - loan_amnt\n",
      "      - int_rate\n",
      "      - annual_inc\n",
      "      - dti\n",
      "      - fico_range_high\n",
      "      - inq_last_6mths\n",
      "      - revol_bal\n",
      "      - out_prncp\n",
      "      - total_rec_late_fee\n",
      "      - collection_recovery_fee\n",
      "      - last_fico_range_low\n",
      "      - collections_12_mths_ex_med\n",
      "      - tot_coll_amt\n",
      "      - avg_cur_bal\n",
      "      - bc_open_to_buy\n",
      "      - chargeoff_within_12_mths\n",
      "      - delinq_amnt\n",
      "      - mo_sin_old_il_acct\n",
      "      - mo_sin_old_rev_tl_op\n",
      "      - mo_sin_rcnt_tl\n",
      "      - mort_acc\n",
      "      - mths_since_recent_bc\n",
      "      - num_accts_ever_120_pd\n",
      "      - num_actv_bc_tl\n",
      "      - num_bc_tl\n",
      "      - num_il_tl\n",
      "      - num_sats\n",
      "      - num_tl_120dpd_2m\n",
      "      - num_tl_30dpd\n",
      "      - num_tl_90g_dpd_24m\n",
      "      - num_tl_op_past_12m\n",
      "      - pct_tl_nvr_dlq\n",
      "      - percent_bc_gt_75\n",
      "      - pub_rec_bankruptcies\n",
      "      - tax_liens\n",
      "      - total_il_high_credit_limit\n",
      "  - ImputeCategorical:\n",
      "      _target_: pipeline.ApplyToColumns\n",
      "      inner:\n",
      "        _target_: sklearn.impute.SimpleImputer\n",
      "        strategy: most_frequent\n",
      "        verbose: 10\n",
      "      columns:\n",
      "      - term\n",
      "      - emp_title\n",
      "      - emp_length\n",
      "      - home_ownership\n",
      "      - verification_status\n",
      "      - purpose\n",
      "      - addr_state\n",
      "      - earliest_cr_line\n",
      "      - initial_list_status\n",
      "      - application_type\n",
      "      - disbursement_method\n",
      "  - WingsOfEvidence:\n",
      "      _target_: wing.WingsOfEvidence\n",
      "      bin_minimal_size: 0.05\n",
      "      bin_size_increase: 0.05\n",
      "      is_monotone: false\n",
      "      verbose: true\n",
      "      columns_to_apply:\n",
      "      - loan_amnt\n",
      "      - term\n",
      "      - int_rate\n",
      "      - emp_title\n",
      "      - emp_length\n",
      "      - home_ownership\n",
      "      - annual_inc\n",
      "      - verification_status\n",
      "      - purpose\n",
      "      - addr_state\n",
      "      - dti\n",
      "      - earliest_cr_line\n",
      "      - fico_range_high\n",
      "      - inq_last_6mths\n",
      "      - revol_bal\n",
      "      - initial_list_status\n",
      "      - out_prncp\n",
      "      - total_rec_late_fee\n",
      "      - collection_recovery_fee\n",
      "      - last_fico_range_low\n",
      "      - collections_12_mths_ex_med\n",
      "      - application_type\n",
      "      - tot_coll_amt\n",
      "      - avg_cur_bal\n",
      "      - bc_open_to_buy\n",
      "      - chargeoff_within_12_mths\n",
      "      - delinq_amnt\n",
      "      - mo_sin_old_il_acct\n",
      "      - mo_sin_old_rev_tl_op\n",
      "      - mo_sin_rcnt_tl\n",
      "      - mort_acc\n",
      "      - mths_since_recent_bc\n",
      "      - num_accts_ever_120_pd\n",
      "      - num_actv_bc_tl\n",
      "      - num_bc_tl\n",
      "      - num_il_tl\n",
      "      - num_sats\n",
      "      - num_tl_120dpd_2m\n",
      "      - num_tl_30dpd\n",
      "      - num_tl_90g_dpd_24m\n",
      "      - num_tl_op_past_12m\n",
      "      - pct_tl_nvr_dlq\n",
      "      - percent_bc_gt_75\n",
      "      - pub_rec_bankruptcies\n",
      "      - tax_liens\n",
      "      - total_il_high_credit_limit\n",
      "      - disbursement_method\n",
      "\n"
     ]
    },
    {
     "data": {
      "text/plain": [
       "LabelInferPipeline(memory='./cache',\n",
       "                   steps=[('ImputeNumerical',\n",
       "                           ApplyToColumns(columns=['loan_amnt', 'int_rate', 'annual_inc', 'dti', 'fico_range_high', 'inq_last_6mths', 'revol_bal', 'out_prncp', 'total_rec_late_fee', 'collection_recovery_fee', 'last_fico_range_low', 'collections_12_mths_ex_med', 'tot_coll_amt', 'avg_cur_bal', 'bc_open_to_buy', 'chargeoff_within_1...\n",
       "                           WingsOfEvidence(columns_to_apply=['loan_amnt', 'term', 'int_rate', 'emp_title', 'emp_length', 'home_ownership', 'annual_inc', 'verification_status', 'purpose', 'addr_state', 'dti', 'earliest_cr_line', 'fico_range_high', 'inq_last_6mths', 'revol_bal', 'initial_list_status', 'out_prncp', 'total_rec_late_fee', 'collection_recovery_fee', 'last_fico_range_low', 'collections_12_mths_ex_med', 'application_type', 'tot_coll_amt', 'avg_cur_bal', 'bc_open_to_buy', 'chargeoff_within_12_mths', 'delinq_amnt', 'mo_sin_old_il_acct', 'mo_sin_old_rev_tl_op', 'mo_sin_rcnt_tl', 'mort_acc', 'mths_since_recent_bc', 'num_accts_ever_120_pd', 'num_actv_bc_tl', 'num_bc_tl', 'num_il_tl', 'num_sats', 'num_tl_120dpd_2m', 'num_tl_30dpd', 'num_tl_90g_dpd_24m', 'num_tl_op_past_12m', 'pct_tl_nvr_dlq', 'percent_bc_gt_75', 'pub_rec_bankruptcies', 'tax_liens', 'total_il_high_credit_limit', 'disbursement_method'],\n",
       "                                           verbose=True))])"
      ]
     },
     "execution_count": 2,
     "metadata": {},
     "output_type": "execute_result"
    }
   ],
   "source": [
    "from pipeline import get_preprocessing_pipeline\n",
    "\n",
    "pipeline = get_preprocessing_pipeline(\n",
    "    name='log_reg',\n",
    "    overrides=[\n",
    "        '+preprocessing_pipeline.steps_config.2.ImputeNumerical.inner.verbose=10',\n",
    "        '+preprocessing_pipeline.steps_config.3.ImputeCategorical.inner.verbose=10',\n",
    "    ],\n",
    "    debug=True\n",
    ")\n",
    "pipeline"
   ]
  },
  {
   "cell_type": "code",
   "execution_count": null,
   "metadata": {
    "pycharm": {
     "name": "#%%\n"
    }
   },
   "outputs": [],
   "source": [
    "X = pipeline.fit_transform([], y=[])"
   ]
  }
 ],
 "metadata": {
  "colab": {
   "collapsed_sections": [],
   "name": "lending club.ipynb",
   "provenance": []
  },
  "kernelspec": {
   "display_name": "Python 3",
   "language": "python",
   "name": "python3"
  },
  "language_info": {
   "codemirror_mode": {
    "name": "ipython",
    "version": 3
   },
   "file_extension": ".py",
   "mimetype": "text/x-python",
   "name": "python",
   "nbconvert_exporter": "python",
   "pygments_lexer": "ipython3",
   "version": "3.6.9"
  }
 },
 "nbformat": 4,
 "nbformat_minor": 1
}
