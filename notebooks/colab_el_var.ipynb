{
  "cells": [
    {
      "cell_type": "markdown",
      "source": [
        "# Expected losses and VaR\n",
        "\n",
        "[![Open In Colab](https://colab.research.google.com/assets/colab-badge.svg)](https://colab.research.google.com/github/gaarutyunov/credit-risk/blob/master/notebooks/colab_el_var.ipynb)"
      ],
      "metadata": {
        "collapsed": false,
        "pycharm": {
          "name": "#%% md\n"
        },
        "id": "oH-FJhyrHZls"
      }
    },
    {
      "cell_type": "markdown",
      "source": [
        "## Environment settings\n",
        "\n",
        "For better performance change Colab runtime type to GPU"
      ],
      "metadata": {
        "collapsed": false,
        "pycharm": {
          "name": "#%% md\n"
        },
        "id": "h3aUcBiWbQc-"
      }
    },
    {
      "cell_type": "code",
      "execution_count": 1,
      "outputs": [
        {
          "output_type": "stream",
          "name": "stdout",
          "text": [
            "Cloning into 'credit-risk'...\n",
            "remote: Enumerating objects: 431, done.\u001b[K\n",
            "remote: Counting objects: 100% (97/97), done.\u001b[K\n",
            "remote: Compressing objects: 100% (67/67), done.\u001b[K\n",
            "remote: Total 431 (delta 50), reused 74 (delta 30), pack-reused 334\u001b[K\n",
            "Receiving objects: 100% (431/431), 10.94 MiB | 15.34 MiB/s, done.\n",
            "Resolving deltas: 100% (254/254), done.\n"
          ]
        }
      ],
      "source": [
        "import numpy as np\n",
        "import scipy.stats\n",
        "!git clone https://github.com/gaarutyunov/credit-risk.git"
      ],
      "metadata": {
        "pycharm": {
          "name": "#%%\n"
        },
        "id": "zVFQLOHObQc-",
        "outputId": "044d8eaf-ea6e-4997-a2f5-6f2f515916a8",
        "colab": {
          "base_uri": "https://localhost:8080/"
        }
      }
    },
    {
      "cell_type": "code",
      "execution_count": 2,
      "outputs": [
        {
          "output_type": "stream",
          "name": "stdout",
          "text": [
            "/content/credit-risk\n"
          ]
        }
      ],
      "source": [
        "%cd credit-risk"
      ],
      "metadata": {
        "pycharm": {
          "name": "#%%\n"
        },
        "id": "ubx-NpiIbQc_",
        "outputId": "2714f65b-2740-4398-9ec7-11f38ef1a415",
        "colab": {
          "base_uri": "https://localhost:8080/"
        }
      }
    },
    {
      "cell_type": "code",
      "execution_count": 3,
      "outputs": [
        {
          "output_type": "stream",
          "name": "stdout",
          "text": [
            "Looking in indexes: https://pypi.org/simple, https://us-python.pkg.dev/colab-wheels/public/simple/\n",
            "Collecting wing\n",
            "  Cloning https://github.com/sberbank-ai/wing.git (to revision master) to /tmp/pip-install-4dhu6sqg/wing_83adb08c7aed4405b07c4f7de6ed9eed\n",
            "  Running command git clone -q https://github.com/sberbank-ai/wing.git /tmp/pip-install-4dhu6sqg/wing_83adb08c7aed4405b07c4f7de6ed9eed\n",
            "Requirement already satisfied: scikit-learn in /usr/local/lib/python3.7/dist-packages (from -r requirements.txt (line 1)) (1.0.2)\n",
            "Collecting hydra-core\n",
            "  Downloading hydra_core-1.2.0-py3-none-any.whl (151 kB)\n",
            "\u001b[K     |████████████████████████████████| 151 kB 5.1 MB/s \n",
            "\u001b[?25hCollecting omegaconf\n",
            "  Downloading omegaconf-2.2.2-py3-none-any.whl (79 kB)\n",
            "\u001b[K     |████████████████████████████████| 79 kB 7.0 MB/s \n",
            "\u001b[?25hRequirement already satisfied: numpy in /usr/local/lib/python3.7/dist-packages (from -r requirements.txt (line 4)) (1.21.6)\n",
            "Requirement already satisfied: pandas in /usr/local/lib/python3.7/dist-packages (from -r requirements.txt (line 5)) (1.3.5)\n",
            "Collecting catboost\n",
            "  Downloading catboost-1.0.6-cp37-none-manylinux1_x86_64.whl (76.6 MB)\n",
            "\u001b[K     |████████████████████████████████| 76.6 MB 102 kB/s \n",
            "\u001b[?25hRequirement already satisfied: kaggle in /usr/local/lib/python3.7/dist-packages (from -r requirements.txt (line 8)) (1.5.12)\n",
            "Requirement already satisfied: joblib in /usr/local/lib/python3.7/dist-packages (from -r requirements.txt (line 9)) (1.1.0)\n",
            "Requirement already satisfied: matplotlib in /usr/local/lib/python3.7/dist-packages (from -r requirements.txt (line 10)) (3.2.2)\n",
            "Requirement already satisfied: scipy in /usr/local/lib/python3.7/dist-packages (from -r requirements.txt (line 11)) (1.4.1)\n",
            "Requirement already satisfied: threadpoolctl>=2.0.0 in /usr/local/lib/python3.7/dist-packages (from scikit-learn->-r requirements.txt (line 1)) (3.1.0)\n",
            "Collecting antlr4-python3-runtime==4.9.*\n",
            "  Downloading antlr4-python3-runtime-4.9.3.tar.gz (117 kB)\n",
            "\u001b[K     |████████████████████████████████| 117 kB 54.1 MB/s \n",
            "\u001b[?25hRequirement already satisfied: packaging in /usr/local/lib/python3.7/dist-packages (from hydra-core->-r requirements.txt (line 2)) (21.3)\n",
            "Requirement already satisfied: importlib-resources in /usr/local/lib/python3.7/dist-packages (from hydra-core->-r requirements.txt (line 2)) (5.7.1)\n",
            "Collecting PyYAML>=5.1.0\n",
            "  Downloading PyYAML-6.0-cp37-cp37m-manylinux_2_5_x86_64.manylinux1_x86_64.manylinux_2_12_x86_64.manylinux2010_x86_64.whl (596 kB)\n",
            "\u001b[K     |████████████████████████████████| 596 kB 48.8 MB/s \n",
            "\u001b[?25hRequirement already satisfied: python-dateutil>=2.7.3 in /usr/local/lib/python3.7/dist-packages (from pandas->-r requirements.txt (line 5)) (2.8.2)\n",
            "Requirement already satisfied: pytz>=2017.3 in /usr/local/lib/python3.7/dist-packages (from pandas->-r requirements.txt (line 5)) (2022.1)\n",
            "Requirement already satisfied: six>=1.5 in /usr/local/lib/python3.7/dist-packages (from python-dateutil>=2.7.3->pandas->-r requirements.txt (line 5)) (1.15.0)\n",
            "Requirement already satisfied: graphviz in /usr/local/lib/python3.7/dist-packages (from catboost->-r requirements.txt (line 6)) (0.10.1)\n",
            "Requirement already satisfied: plotly in /usr/local/lib/python3.7/dist-packages (from catboost->-r requirements.txt (line 6)) (5.5.0)\n",
            "Requirement already satisfied: python-slugify in /usr/local/lib/python3.7/dist-packages (from kaggle->-r requirements.txt (line 8)) (6.1.2)\n",
            "Requirement already satisfied: requests in /usr/local/lib/python3.7/dist-packages (from kaggle->-r requirements.txt (line 8)) (2.23.0)\n",
            "Requirement already satisfied: urllib3 in /usr/local/lib/python3.7/dist-packages (from kaggle->-r requirements.txt (line 8)) (1.24.3)\n",
            "Requirement already satisfied: certifi in /usr/local/lib/python3.7/dist-packages (from kaggle->-r requirements.txt (line 8)) (2022.6.15)\n",
            "Requirement already satisfied: tqdm in /usr/local/lib/python3.7/dist-packages (from kaggle->-r requirements.txt (line 8)) (4.64.0)\n",
            "Requirement already satisfied: kiwisolver>=1.0.1 in /usr/local/lib/python3.7/dist-packages (from matplotlib->-r requirements.txt (line 10)) (1.4.3)\n",
            "Requirement already satisfied: pyparsing!=2.0.4,!=2.1.2,!=2.1.6,>=2.0.1 in /usr/local/lib/python3.7/dist-packages (from matplotlib->-r requirements.txt (line 10)) (3.0.9)\n",
            "Requirement already satisfied: cycler>=0.10 in /usr/local/lib/python3.7/dist-packages (from matplotlib->-r requirements.txt (line 10)) (0.11.0)\n",
            "Requirement already satisfied: typing-extensions in /usr/local/lib/python3.7/dist-packages (from kiwisolver>=1.0.1->matplotlib->-r requirements.txt (line 10)) (4.1.1)\n",
            "Requirement already satisfied: zipp>=3.1.0 in /usr/local/lib/python3.7/dist-packages (from importlib-resources->hydra-core->-r requirements.txt (line 2)) (3.8.0)\n",
            "Requirement already satisfied: tenacity>=6.2.0 in /usr/local/lib/python3.7/dist-packages (from plotly->catboost->-r requirements.txt (line 6)) (8.0.1)\n",
            "Requirement already satisfied: text-unidecode>=1.3 in /usr/local/lib/python3.7/dist-packages (from python-slugify->kaggle->-r requirements.txt (line 8)) (1.3)\n",
            "Requirement already satisfied: chardet<4,>=3.0.2 in /usr/local/lib/python3.7/dist-packages (from requests->kaggle->-r requirements.txt (line 8)) (3.0.4)\n",
            "Requirement already satisfied: idna<3,>=2.5 in /usr/local/lib/python3.7/dist-packages (from requests->kaggle->-r requirements.txt (line 8)) (2.10)\n",
            "Building wheels for collected packages: wing, antlr4-python3-runtime\n",
            "  Building wheel for wing (setup.py) ... \u001b[?25l\u001b[?25hdone\n",
            "  Created wheel for wing: filename=wing-0.1.6-py3-none-any.whl size=12768 sha256=41b49e4684f11dcc3e79517dfa923c66d56b12211164dc38c6ec4741edda11ea\n",
            "  Stored in directory: /tmp/pip-ephem-wheel-cache-ucme3aom/wheels/d0/d3/78/d1cb5717341968f8319fa57765f68a894fc1b21d4f4068b519\n",
            "  Building wheel for antlr4-python3-runtime (setup.py) ... \u001b[?25l\u001b[?25hdone\n",
            "  Created wheel for antlr4-python3-runtime: filename=antlr4_python3_runtime-4.9.3-py3-none-any.whl size=144575 sha256=97606f12b8e5610cffca4ab22212779408354dd090895e5c7c8e5366c195d578\n",
            "  Stored in directory: /root/.cache/pip/wheels/8b/8d/53/2af8772d9aec614e3fc65e53d4a993ad73c61daa8bbd85a873\n",
            "Successfully built wing antlr4-python3-runtime\n",
            "Installing collected packages: PyYAML, antlr4-python3-runtime, omegaconf, wing, hydra-core, catboost\n",
            "  Attempting uninstall: PyYAML\n",
            "    Found existing installation: PyYAML 3.13\n",
            "    Uninstalling PyYAML-3.13:\n",
            "      Successfully uninstalled PyYAML-3.13\n",
            "Successfully installed PyYAML-6.0 antlr4-python3-runtime-4.9.3 catboost-1.0.6 hydra-core-1.2.0 omegaconf-2.2.2 wing-0.1.6\n"
          ]
        },
        {
          "output_type": "display_data",
          "data": {
            "application/vnd.colab-display-data+json": {
              "pip_warning": {
                "packages": [
                  "pydevd_plugins"
                ]
              }
            }
          },
          "metadata": {}
        }
      ],
      "source": [
        "!pip install -r requirements.txt"
      ],
      "metadata": {
        "pycharm": {
          "name": "#%%\n"
        },
        "id": "Rq8ug33CbQdA",
        "outputId": "1d779bbb-4204-4c47-e85c-49bfe2e1512d",
        "colab": {
          "base_uri": "https://localhost:8080/",
          "height": 1000
        }
      }
    },
    {
      "cell_type": "markdown",
      "source": [
        "To get username and key follow instructions in [readme](https://github.com/Kaggle/kaggle-api)"
      ],
      "metadata": {
        "collapsed": false,
        "pycharm": {
          "name": "#%% md\n"
        },
        "id": "GcqpSUGGbQdA"
      }
    },
    {
      "cell_type": "code",
      "execution_count": null,
      "outputs": [],
      "source": [
        "%env KAGGLE_USERNAME=<username>\n",
        "%env KAGGLE_KEY=<key>"
      ],
      "metadata": {
        "pycharm": {
          "name": "#%%\n",
          "is_executing": true
        },
        "id": "xZ-baIlfbQdA"
      }
    },
    {
      "cell_type": "code",
      "execution_count": 5,
      "outputs": [
        {
          "output_type": "stream",
          "name": "stdout",
          "text": [
            "Downloading lending-club.zip to /content/credit-risk\n",
            " 99% 1.25G/1.26G [00:08<00:00, 114MB/s]\n",
            "100% 1.26G/1.26G [00:08<00:00, 164MB/s]\n"
          ]
        }
      ],
      "source": [
        "!kaggle datasets download wordsforthewise/lending-club"
      ],
      "metadata": {
        "pycharm": {
          "name": "#%%\n"
        },
        "id": "jck0imM_HZlz",
        "outputId": "41f317de-30c4-422b-9f73-f73253bf9b78",
        "colab": {
          "base_uri": "https://localhost:8080/"
        }
      }
    },
    {
      "cell_type": "code",
      "execution_count": 6,
      "outputs": [
        {
          "output_type": "stream",
          "name": "stdout",
          "text": [
            "Archive:  lending-club.zip\n",
            "  inflating: accepted_2007_to_2018Q4.csv.gz  \n",
            "  inflating: accepted_2007_to_2018q4.csv/accepted_2007_to_2018Q4.csv  \n",
            "  inflating: rejected_2007_to_2018Q4.csv.gz  \n",
            "  inflating: rejected_2007_to_2018q4.csv/rejected_2007_to_2018Q4.csv  \n"
          ]
        }
      ],
      "source": [
        "!unzip lending-club.zip"
      ],
      "metadata": {
        "pycharm": {
          "name": "#%%\n"
        },
        "id": "BzJ08YcvHZl0",
        "outputId": "a69ae03d-4967-42f1-b68e-1abc4b1da8b9",
        "colab": {
          "base_uri": "https://localhost:8080/"
        }
      }
    },
    {
      "cell_type": "code",
      "execution_count": 7,
      "outputs": [],
      "source": [
        "!mkdir data"
      ],
      "metadata": {
        "pycharm": {
          "name": "#%%\n"
        },
        "id": "Vi9C1dN3HZl0"
      }
    },
    {
      "cell_type": "code",
      "execution_count": 8,
      "outputs": [],
      "source": [
        "!mv accepted_2007_to_2018q4.csv/accepted_2007_to_2018Q4.csv data/accepted_2007_to_2018Q4.csv\n",
        "!mv rejected_2007_to_2018q4.csv/rejected_2007_to_2018Q4.csv data/rejected_2007_to_2018Q4.csv"
      ],
      "metadata": {
        "pycharm": {
          "name": "#%%\n"
        },
        "id": "SjDl54zuHZl2"
      }
    },
    {
      "cell_type": "markdown",
      "source": [
        "## Preprocessing"
      ],
      "metadata": {
        "collapsed": false,
        "pycharm": {
          "name": "#%% md\n"
        },
        "id": "tVW1i3w7bQdE"
      }
    },
    {
      "cell_type": "code",
      "execution_count": 10,
      "outputs": [
        {
          "output_type": "stream",
          "name": "stdout",
          "text": [
            "_target_: pipeline.ReaderPipeline\n",
            "memory: ./cache/preprocessing/raw\n",
            "steps:\n",
            "- - CSVReader\n",
            "  - _target_: pipeline.CSVReader\n",
            "    _convert_: all\n",
            "    file: data/accepted_2007_to_2018Q4.csv\n",
            "    columns:\n",
            "    - loan_amnt\n",
            "    - term\n",
            "    - emp_title\n",
            "    - emp_length\n",
            "    - home_ownership\n",
            "    - verification_status\n",
            "    - purpose\n",
            "    - zip_code\n",
            "    - addr_state\n",
            "    - earliest_cr_line\n",
            "    - fico_range_low\n",
            "    - fico_range_high\n",
            "    - revol_bal\n",
            "    - application_type\n",
            "    - verification_status_joint\n",
            "    - sec_app_earliest_cr_line\n",
            "    - loan_status\n",
            "    - issue_d\n",
            "    - funded_amnt\n",
            "    - disbursement_method\n",
            "- - EmpTitle\n",
            "  - _target_: pipeline.JobTransformer\n",
            "    _convert_: all\n",
            "    max_jobs: 20\n",
            "- - ImputeNumerical\n",
            "  - _target_: pipeline.ApplyToColumns\n",
            "    _convert_: all\n",
            "    inner:\n",
            "      _target_: sklearn.impute.SimpleImputer\n",
            "      strategy: mean\n",
            "    columns:\n",
            "    - loan_amnt\n",
            "    - fico_range_low\n",
            "    - fico_range_high\n",
            "    - revol_bal\n",
            "- - ImputeCategorical\n",
            "  - _target_: pipeline.ApplyToColumns\n",
            "    _convert_: all\n",
            "    inner:\n",
            "      _target_: sklearn.impute.SimpleImputer\n",
            "      strategy: most_frequent\n",
            "    columns:\n",
            "    - term\n",
            "    - emp_length\n",
            "    - home_ownership\n",
            "    - verification_status\n",
            "    - purpose\n",
            "    - zip_code\n",
            "    - addr_state\n",
            "    - earliest_cr_line\n",
            "    - application_type\n",
            "    - verification_status_joint\n",
            "    - sec_app_earliest_cr_line\n",
            "    - disbursement_method\n",
            "\n"
          ]
        }
      ],
      "source": [
        "from pipeline import get_pipeline\n",
        "\n",
        "preprocessing = get_pipeline(\n",
        "    name=\"cat_boost\",\n",
        "    group=\"preprocessing\",\n",
        "    overrides=[\n",
        "        \"preprocessing_pipeline=raw_data\"\n",
        "    ],\n",
        "    debug=True,\n",
        ")"
      ],
      "metadata": {
        "pycharm": {
          "name": "#%%\n"
        },
        "id": "HlxEE4RzYaxx",
        "outputId": "66fe142e-75c6-4bd8-c1d6-665a51623fb4",
        "colab": {
          "base_uri": "https://localhost:8080/"
        }
      }
    },
    {
      "cell_type": "code",
      "execution_count": 11,
      "outputs": [
        {
          "output_type": "stream",
          "name": "stderr",
          "text": [
            "/usr/local/lib/python3.7/dist-packages/sklearn/pipeline.py:355: UserWarning: Persisting input arguments took 118.02s to run.\n",
            "If this happens often in your code, it can cause performance problems \n",
            "(results will be correct in all cases). \n",
            "The reason for this is probably some large input arguments for a wrapped\n",
            " function (e.g. large strings).\n",
            "THIS IS A JOBLIB ISSUE. If you can, kindly provide the joblib's team with an\n",
            " example so that they can fix the problem.\n",
            "  **fit_params_steps[name],\n",
            "/usr/local/lib/python3.7/dist-packages/sklearn/pipeline.py:355: UserWarning: Persisting input arguments took 119.18s to run.\n",
            "If this happens often in your code, it can cause performance problems \n",
            "(results will be correct in all cases). \n",
            "The reason for this is probably some large input arguments for a wrapped\n",
            " function (e.g. large strings).\n",
            "THIS IS A JOBLIB ISSUE. If you can, kindly provide the joblib's team with an\n",
            " example so that they can fix the problem.\n",
            "  **fit_params_steps[name],\n"
          ]
        }
      ],
      "source": [
        "X = preprocessing.fit_transform([], y=[])"
      ],
      "metadata": {
        "pycharm": {
          "name": "#%%\n"
        },
        "id": "RC8Q75CKYaxy",
        "outputId": "70fd5e9c-4d40-4301-d88f-e79526c78871",
        "colab": {
          "base_uri": "https://localhost:8080/"
        }
      }
    },
    {
      "cell_type": "code",
      "execution_count": 12,
      "outputs": [],
      "source": [
        "import pandas as pd\n",
        "\n",
        "X['issue_d'] = pd.to_datetime(X['issue_d'])"
      ],
      "metadata": {
        "pycharm": {
          "name": "#%%\n"
        },
        "id": "jNVe1f4hYaxy"
      }
    },
    {
      "cell_type": "code",
      "execution_count": 13,
      "outputs": [],
      "source": [
        "X = X[X['issue_d'] >= '01.01.2017']"
      ],
      "metadata": {
        "pycharm": {
          "name": "#%%\n"
        },
        "id": "Xx-Stp8xYaxy"
      }
    },
    {
      "cell_type": "code",
      "execution_count": 14,
      "outputs": [
        {
          "output_type": "stream",
          "name": "stderr",
          "text": [
            "/usr/local/lib/python3.7/dist-packages/ipykernel_launcher.py:1: SettingWithCopyWarning: \n",
            "A value is trying to be set on a copy of a slice from a DataFrame.\n",
            "Try using .loc[row_indexer,col_indexer] = value instead\n",
            "\n",
            "See the caveats in the documentation: https://pandas.pydata.org/pandas-docs/stable/user_guide/indexing.html#returning-a-view-versus-a-copy\n",
            "  \"\"\"Entry point for launching an IPython kernel.\n"
          ]
        }
      ],
      "source": [
        "X['issue_d'] = X['issue_d'].dt.strftime('%b-%Y')"
      ],
      "metadata": {
        "pycharm": {
          "name": "#%%\n"
        },
        "id": "BDnGdmlQYaxz",
        "outputId": "2c642ea0-fbdd-4ab0-f814-8d5b12b609bf",
        "colab": {
          "base_uri": "https://localhost:8080/"
        }
      }
    },
    {
      "cell_type": "code",
      "execution_count": 15,
      "outputs": [],
      "source": [
        "import numpy as np\n",
        "import scipy.stats\n",
        "\n",
        "\n",
        "def vasicek(PD, rho, alpha):\n",
        "    return ( scipy.stats.norm.ppf(PD) + np.sqrt(rho) * scipy.stats.norm.ppf(alpha) ) / np.sqrt(1 - rho)\n",
        "\n",
        "\n",
        "def mean_confidence_interval(data, confidence=0.999):\n",
        "    a = 1.0 * np.array(data)\n",
        "    n = len(a)\n",
        "    m, se = np.mean(a), scipy.stats.sem(a)\n",
        "    h = se * scipy.stats.t.ppf((1 + confidence) / 2., n-1)\n",
        "    return h"
      ],
      "metadata": {
        "pycharm": {
          "name": "#%%\n"
        },
        "id": "p2g8JONPYaxz"
      }
    },
    {
      "cell_type": "markdown",
      "source": [
        "## Cat Boost"
      ],
      "metadata": {
        "collapsed": false,
        "pycharm": {
          "name": "#%% md\n"
        },
        "id": "RM4lmgvaYaxz"
      }
    },
    {
      "cell_type": "code",
      "execution_count": 16,
      "outputs": [
        {
          "output_type": "stream",
          "name": "stdout",
          "text": [
            "_target_: sklearn.pipeline.Pipeline\n",
            "memory: ./cache/prediction/cat_boost\n",
            "steps:\n",
            "- - Predictor\n",
            "  - _target_: pipeline.CatBoostLoader\n",
            "    _convert_: all\n",
            "    load: models/cat_boost\n",
            "\n"
          ]
        }
      ],
      "source": [
        "from pipeline import get_pipeline\n",
        "\n",
        "catboost = get_pipeline(\n",
        "    name=\"cat_boost\",\n",
        "    group=\"prediction\",\n",
        "    debug=True,\n",
        ")"
      ],
      "metadata": {
        "pycharm": {
          "name": "#%%\n"
        },
        "id": "r-gqO8vFYaxz",
        "outputId": "c73c1313-146d-410c-b5f5-14b6f0b5b24a",
        "colab": {
          "base_uri": "https://localhost:8080/"
        }
      }
    },
    {
      "cell_type": "code",
      "execution_count": 18,
      "outputs": [
        {
          "output_type": "stream",
          "name": "stderr",
          "text": [
            "/usr/local/lib/python3.7/dist-packages/ipykernel_launcher.py:1: SettingWithCopyWarning: \n",
            "A value is trying to be set on a copy of a slice from a DataFrame.\n",
            "Try using .loc[row_indexer,col_indexer] = value instead\n",
            "\n",
            "See the caveats in the documentation: https://pandas.pydata.org/pandas-docs/stable/user_guide/indexing.html#returning-a-view-versus-a-copy\n",
            "  \"\"\"Entry point for launching an IPython kernel.\n"
          ]
        }
      ],
      "source": [
        "X[\"PD_CB\"] = catboost.predict_proba(X.drop(columns=[\"funded_amnt\", \"issue_d\", \"loan_status\"]))[:, 1]"
      ],
      "metadata": {
        "pycharm": {
          "name": "#%%\n"
        },
        "id": "0cRl75tuYax0",
        "outputId": "6c9db587-79f4-4af4-812e-2d254374d4bd",
        "colab": {
          "base_uri": "https://localhost:8080/"
        }
      }
    },
    {
      "cell_type": "code",
      "source": [
        ""
      ],
      "metadata": {
        "id": "8GvcDygXisBX",
        "outputId": "20a504bb-52dd-4a19-c57d-18b869ef5949",
        "colab": {
          "base_uri": "https://localhost:8080/"
        }
      },
      "execution_count": 36,
      "outputs": [
        {
          "output_type": "execute_result",
          "data": {
            "text/plain": [
              "421097      True\n",
              "421098      True\n",
              "421099     False\n",
              "421100     False\n",
              "421101      True\n",
              "           ...  \n",
              "2157146    False\n",
              "2157147    False\n",
              "2157148     True\n",
              "2157149    False\n",
              "2157150    False\n",
              "Name: term, Length: 938821, dtype: bool"
            ]
          },
          "metadata": {},
          "execution_count": 36
        }
      ]
    },
    {
      "cell_type": "code",
      "execution_count": 19,
      "outputs": [],
      "source": [
        "LGD = 1.0"
      ],
      "metadata": {
        "pycharm": {
          "name": "#%%\n"
        },
        "id": "la6CmTy_Yax0"
      }
    },
    {
      "cell_type": "code",
      "execution_count": 20,
      "outputs": [
        {
          "output_type": "stream",
          "name": "stdout",
          "text": [
            "Expected losses: 3167199365.80\n"
          ]
        },
        {
          "output_type": "stream",
          "name": "stderr",
          "text": [
            "/usr/local/lib/python3.7/dist-packages/ipykernel_launcher.py:1: SettingWithCopyWarning: \n",
            "A value is trying to be set on a copy of a slice from a DataFrame.\n",
            "Try using .loc[row_indexer,col_indexer] = value instead\n",
            "\n",
            "See the caveats in the documentation: https://pandas.pydata.org/pandas-docs/stable/user_guide/indexing.html#returning-a-view-versus-a-copy\n",
            "  \"\"\"Entry point for launching an IPython kernel.\n"
          ]
        }
      ],
      "source": [
        "X[\"EL_CB\"] = LGD * X[\"PD_CB\"] * X[\"funded_amnt\"]\n",
        "\n",
        "print(f\"Expected losses: {X['EL_CB'].sum():.2f}\")"
      ],
      "metadata": {
        "pycharm": {
          "name": "#%%\n"
        },
        "id": "-yPpAskzA5_P",
        "outputId": "5af2a38d-557b-4383-d24a-329e053cb15e",
        "colab": {
          "base_uri": "https://localhost:8080/"
        }
      }
    },
    {
      "cell_type": "code",
      "source": [
        "term_36_mask = X.term.str.strip().str.startswith('36')"
      ],
      "metadata": {
        "id": "4eoT4Qc7aeBd"
      },
      "execution_count": 37,
      "outputs": []
    },
    {
      "cell_type": "code",
      "execution_count": 42,
      "outputs": [],
      "source": [
        "VaR_1 = vasicek(X.loc[term_36_mask, \"PD_CB\"], 0, .999) * X.loc[term_36_mask, \"funded_amnt\"]\n",
        "VaR_6_1 = vasicek(X.loc[term_36_mask, \"PD_CB\"], .06, .999) * X.loc[term_36_mask, \"funded_amnt\"]"
      ],
      "metadata": {
        "pycharm": {
          "name": "#%%\n"
        },
        "id": "HDH0klJrYax0"
      }
    },
    {
      "cell_type": "code",
      "source": [
        "VaR = vasicek(X[\"PD_CB\"], 0, .999) * X[\"funded_amnt\"]\n",
        "-VaR.sum()"
      ],
      "metadata": {
        "id": "DDh8oDcDmVFh",
        "outputId": "65e8242a-86e7-4f21-b1aa-665aa4de7ae1",
        "colab": {
          "base_uri": "https://localhost:8080/"
        }
      },
      "execution_count": 63,
      "outputs": [
        {
          "output_type": "execute_result",
          "data": {
            "text/plain": [
              "12079836133.868872"
            ]
          },
          "metadata": {},
          "execution_count": 63
        }
      ]
    },
    {
      "cell_type": "code",
      "source": [
        "mean_confidence_interval(VaR)"
      ],
      "metadata": {
        "id": "4gEsDVLNnkRu",
        "outputId": "37304f12-2156-4dd3-983d-c9c81bed53b9",
        "colab": {
          "base_uri": "https://localhost:8080/"
        }
      },
      "execution_count": 64,
      "outputs": [
        {
          "output_type": "execute_result",
          "data": {
            "text/plain": [
              "34.16002142350049"
            ]
          },
          "metadata": {},
          "execution_count": 64
        }
      ]
    },
    {
      "cell_type": "code",
      "source": [
        "X[\"EL_CB\"].sum()"
      ],
      "metadata": {
        "id": "-gaeflj7mosx",
        "outputId": "7595f852-6a5f-451f-c76a-a63fc7c25f85",
        "colab": {
          "base_uri": "https://localhost:8080/"
        }
      },
      "execution_count": 65,
      "outputs": [
        {
          "output_type": "execute_result",
          "data": {
            "text/plain": [
              "3167199365.797802"
            ]
          },
          "metadata": {},
          "execution_count": 65
        }
      ]
    },
    {
      "cell_type": "code",
      "source": [
        "C = -VaR.sum() - X[\"EL_CB\"].sum()\n",
        "C"
      ],
      "metadata": {
        "id": "yUMQr_VOm-1I",
        "outputId": "57313fd7-213c-49b3-aad5-824e62a35a68",
        "colab": {
          "base_uri": "https://localhost:8080/"
        }
      },
      "execution_count": 66,
      "outputs": [
        {
          "output_type": "execute_result",
          "data": {
            "text/plain": [
              "8912636768.07107"
            ]
          },
          "metadata": {},
          "execution_count": 66
        }
      ]
    },
    {
      "cell_type": "code",
      "source": [
        "VaR_6 = vasicek(X[\"PD_CB\"], 0.06, .999) * X[\"funded_amnt\"]\n",
        "-VaR_6.sum()"
      ],
      "metadata": {
        "id": "MJzi0JhOnai3",
        "outputId": "c595cab5-36ea-4972-f79c-75972e1500a8",
        "colab": {
          "base_uri": "https://localhost:8080/"
        }
      },
      "execution_count": 67,
      "outputs": [
        {
          "output_type": "execute_result",
          "data": {
            "text/plain": [
              "1122196230.4585857"
            ]
          },
          "metadata": {},
          "execution_count": 67
        }
      ]
    },
    {
      "cell_type": "code",
      "source": [
        "mean_confidence_interval(VaR_6)"
      ],
      "metadata": {
        "id": "26-QDcWfnuG4",
        "outputId": "21bac98c-69f8-4d3a-e731-e9e15f95ef99",
        "colab": {
          "base_uri": "https://localhost:8080/"
        }
      },
      "execution_count": 68,
      "outputs": [
        {
          "output_type": "execute_result",
          "data": {
            "text/plain": [
              "24.04852008398609"
            ]
          },
          "metadata": {},
          "execution_count": 68
        }
      ]
    },
    {
      "cell_type": "code",
      "source": [
        "C = -VaR_6.sum() - X[\"EL_CB\"].sum()\n",
        "C"
      ],
      "metadata": {
        "id": "Lx2238I3ncfE",
        "outputId": "9ecbbe88-ee7d-4633-b9b8-838c035baa73",
        "colab": {
          "base_uri": "https://localhost:8080/"
        }
      },
      "execution_count": 69,
      "outputs": [
        {
          "output_type": "execute_result",
          "data": {
            "text/plain": [
              "-2045003135.3392162"
            ]
          },
          "metadata": {},
          "execution_count": 69
        }
      ]
    }
  ],
  "metadata": {
    "kernelspec": {
      "display_name": "Python 3",
      "language": "python",
      "name": "python3"
    },
    "language_info": {
      "codemirror_mode": {
        "name": "ipython",
        "version": 2
      },
      "file_extension": ".py",
      "mimetype": "text/x-python",
      "name": "python",
      "nbconvert_exporter": "python",
      "pygments_lexer": "ipython2",
      "version": "2.7.6"
    },
    "colab": {
      "name": "colab_cat_boost.ipynb",
      "provenance": []
    },
    "gpuClass": "standard"
  },
  "nbformat": 4,
  "nbformat_minor": 0
}