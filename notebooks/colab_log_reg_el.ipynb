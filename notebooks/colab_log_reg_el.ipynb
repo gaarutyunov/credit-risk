{
 "cells": [
  {
   "cell_type": "markdown",
   "source": [
    "# Expected losses with Log Reg\n",
    "\n",
    "[![Open In Colab](https://colab.research.google.com/assets/colab-badge.svg)](https://colab.research.google.com/github/gaarutyunov/credit-risk/blob/master/notebooks/colab_log_reg_el.ipynb)"
   ],
   "metadata": {
    "collapsed": false,
    "pycharm": {
     "name": "#%% md\n"
    },
    "id": "oH-FJhyrHZls"
   }
  },
  {
   "cell_type": "markdown",
   "source": [
    "## Environment settings\n",
    "\n",
    "For better performance change Colab runtime type to GPU"
   ],
   "metadata": {
    "collapsed": false,
    "pycharm": {
     "name": "#%% md\n"
    },
    "id": "h3aUcBiWbQc-"
   }
  },
  {
   "cell_type": "code",
   "execution_count": 1,
   "outputs": [
    {
     "output_type": "stream",
     "name": "stdout",
     "text": [
      "Cloning into 'credit-risk'...\n",
      "remote: Enumerating objects: 151, done.\u001B[K\n",
      "remote: Counting objects: 100% (151/151), done.\u001B[K\n",
      "remote: Compressing objects: 100% (98/98), done.\u001B[K\n",
      "remote: Total 151 (delta 75), reused 122 (delta 46), pack-reused 0\u001B[K\n",
      "Receiving objects: 100% (151/151), 718.34 KiB | 22.45 MiB/s, done.\n",
      "Resolving deltas: 100% (75/75), done.\n"
     ]
    }
   ],
   "source": [
    "!git clone https://github.com/gaarutyunov/credit-risk.git"
   ],
   "metadata": {
    "pycharm": {
     "name": "#%%\n"
    },
    "id": "zVFQLOHObQc-",
    "outputId": "9de306f0-f213-45d1-c953-07c412fb9fcc",
    "colab": {
     "base_uri": "https://localhost:8080/"
    }
   }
  },
  {
   "cell_type": "code",
   "execution_count": 2,
   "outputs": [
    {
     "output_type": "stream",
     "name": "stdout",
     "text": [
      "/content/credit-risk\n"
     ]
    }
   ],
   "source": [
    "%cd credit-risk"
   ],
   "metadata": {
    "pycharm": {
     "name": "#%%\n"
    },
    "id": "ubx-NpiIbQc_",
    "outputId": "c05c8abe-3ef0-44d0-9c65-fef10a46f49b",
    "colab": {
     "base_uri": "https://localhost:8080/"
    }
   }
  },
  {
   "cell_type": "code",
   "execution_count": 3,
   "outputs": [
    {
     "output_type": "stream",
     "name": "stdout",
     "text": [
      "Looking in indexes: https://pypi.org/simple, https://us-python.pkg.dev/colab-wheels/public/simple/\n",
      "Collecting wing\n",
      "  Cloning https://github.com/sberbank-ai/wing.git (to revision master) to /tmp/pip-install-9alfp8je/wing_c3df516b633e44f097ed3fd3c1df879a\n",
      "  Running command git clone -q https://github.com/sberbank-ai/wing.git /tmp/pip-install-9alfp8je/wing_c3df516b633e44f097ed3fd3c1df879a\n",
      "Requirement already satisfied: scikit-learn in /usr/local/lib/python3.7/dist-packages (from -r requirements.txt (line 1)) (1.0.2)\n",
      "Collecting hydra-core\n",
      "  Downloading hydra_core-1.2.0-py3-none-any.whl (151 kB)\n",
      "\u001B[K     |████████████████████████████████| 151 kB 28.1 MB/s \n",
      "\u001B[?25hCollecting omegaconf\n",
      "  Downloading omegaconf-2.2.2-py3-none-any.whl (79 kB)\n",
      "\u001B[K     |████████████████████████████████| 79 kB 9.7 MB/s \n",
      "\u001B[?25hRequirement already satisfied: numpy in /usr/local/lib/python3.7/dist-packages (from -r requirements.txt (line 4)) (1.21.6)\n",
      "Requirement already satisfied: pandas in /usr/local/lib/python3.7/dist-packages (from -r requirements.txt (line 5)) (1.3.5)\n",
      "Collecting catboost\n",
      "  Downloading catboost-1.0.6-cp37-none-manylinux1_x86_64.whl (76.6 MB)\n",
      "\u001B[K     |████████████████████████████████| 76.6 MB 1.8 MB/s \n",
      "\u001B[?25hRequirement already satisfied: kaggle in /usr/local/lib/python3.7/dist-packages (from -r requirements.txt (line 8)) (1.5.12)\n",
      "Collecting skorch\n",
      "  Downloading skorch-0.11.0-py3-none-any.whl (155 kB)\n",
      "\u001B[K     |████████████████████████████████| 155 kB 55.4 MB/s \n",
      "\u001B[?25hRequirement already satisfied: torch in /usr/local/lib/python3.7/dist-packages (from -r requirements.txt (line 10)) (1.11.0+cu113)\n",
      "Requirement already satisfied: threadpoolctl>=2.0.0 in /usr/local/lib/python3.7/dist-packages (from scikit-learn->-r requirements.txt (line 1)) (3.1.0)\n",
      "Requirement already satisfied: scipy>=1.1.0 in /usr/local/lib/python3.7/dist-packages (from scikit-learn->-r requirements.txt (line 1)) (1.4.1)\n",
      "Requirement already satisfied: joblib>=0.11 in /usr/local/lib/python3.7/dist-packages (from scikit-learn->-r requirements.txt (line 1)) (1.1.0)\n",
      "Requirement already satisfied: packaging in /usr/local/lib/python3.7/dist-packages (from hydra-core->-r requirements.txt (line 2)) (21.3)\n",
      "Collecting antlr4-python3-runtime==4.9.*\n",
      "  Downloading antlr4-python3-runtime-4.9.3.tar.gz (117 kB)\n",
      "\u001B[K     |████████████████████████████████| 117 kB 56.0 MB/s \n",
      "\u001B[?25hRequirement already satisfied: importlib-resources in /usr/local/lib/python3.7/dist-packages (from hydra-core->-r requirements.txt (line 2)) (5.7.1)\n",
      "Collecting PyYAML>=5.1.0\n",
      "  Downloading PyYAML-6.0-cp37-cp37m-manylinux_2_5_x86_64.manylinux1_x86_64.manylinux_2_12_x86_64.manylinux2010_x86_64.whl (596 kB)\n",
      "\u001B[K     |████████████████████████████████| 596 kB 38.5 MB/s \n",
      "\u001B[?25hRequirement already satisfied: python-dateutil>=2.7.3 in /usr/local/lib/python3.7/dist-packages (from pandas->-r requirements.txt (line 5)) (2.8.2)\n",
      "Requirement already satisfied: pytz>=2017.3 in /usr/local/lib/python3.7/dist-packages (from pandas->-r requirements.txt (line 5)) (2022.1)\n",
      "Requirement already satisfied: six>=1.5 in /usr/local/lib/python3.7/dist-packages (from python-dateutil>=2.7.3->pandas->-r requirements.txt (line 5)) (1.15.0)\n",
      "Requirement already satisfied: graphviz in /usr/local/lib/python3.7/dist-packages (from catboost->-r requirements.txt (line 6)) (0.10.1)\n",
      "Requirement already satisfied: matplotlib in /usr/local/lib/python3.7/dist-packages (from catboost->-r requirements.txt (line 6)) (3.2.2)\n",
      "Requirement already satisfied: plotly in /usr/local/lib/python3.7/dist-packages (from catboost->-r requirements.txt (line 6)) (5.5.0)\n",
      "Requirement already satisfied: python-slugify in /usr/local/lib/python3.7/dist-packages (from kaggle->-r requirements.txt (line 8)) (6.1.2)\n",
      "Requirement already satisfied: tqdm in /usr/local/lib/python3.7/dist-packages (from kaggle->-r requirements.txt (line 8)) (4.64.0)\n",
      "Requirement already satisfied: urllib3 in /usr/local/lib/python3.7/dist-packages (from kaggle->-r requirements.txt (line 8)) (1.24.3)\n",
      "Requirement already satisfied: requests in /usr/local/lib/python3.7/dist-packages (from kaggle->-r requirements.txt (line 8)) (2.23.0)\n",
      "Requirement already satisfied: certifi in /usr/local/lib/python3.7/dist-packages (from kaggle->-r requirements.txt (line 8)) (2022.5.18.1)\n",
      "Requirement already satisfied: tabulate>=0.7.7 in /usr/local/lib/python3.7/dist-packages (from skorch->-r requirements.txt (line 9)) (0.8.9)\n",
      "Requirement already satisfied: typing-extensions in /usr/local/lib/python3.7/dist-packages (from torch->-r requirements.txt (line 10)) (4.2.0)\n",
      "Requirement already satisfied: zipp>=3.1.0 in /usr/local/lib/python3.7/dist-packages (from importlib-resources->hydra-core->-r requirements.txt (line 2)) (3.8.0)\n",
      "Requirement already satisfied: pyparsing!=2.0.4,!=2.1.2,!=2.1.6,>=2.0.1 in /usr/local/lib/python3.7/dist-packages (from matplotlib->catboost->-r requirements.txt (line 6)) (3.0.9)\n",
      "Requirement already satisfied: kiwisolver>=1.0.1 in /usr/local/lib/python3.7/dist-packages (from matplotlib->catboost->-r requirements.txt (line 6)) (1.4.2)\n",
      "Requirement already satisfied: cycler>=0.10 in /usr/local/lib/python3.7/dist-packages (from matplotlib->catboost->-r requirements.txt (line 6)) (0.11.0)\n",
      "Requirement already satisfied: tenacity>=6.2.0 in /usr/local/lib/python3.7/dist-packages (from plotly->catboost->-r requirements.txt (line 6)) (8.0.1)\n",
      "Requirement already satisfied: text-unidecode>=1.3 in /usr/local/lib/python3.7/dist-packages (from python-slugify->kaggle->-r requirements.txt (line 8)) (1.3)\n",
      "Requirement already satisfied: chardet<4,>=3.0.2 in /usr/local/lib/python3.7/dist-packages (from requests->kaggle->-r requirements.txt (line 8)) (3.0.4)\n",
      "Requirement already satisfied: idna<3,>=2.5 in /usr/local/lib/python3.7/dist-packages (from requests->kaggle->-r requirements.txt (line 8)) (2.10)\n",
      "Building wheels for collected packages: wing, antlr4-python3-runtime\n",
      "  Building wheel for wing (setup.py) ... \u001B[?25l\u001B[?25hdone\n",
      "  Created wheel for wing: filename=wing-0.1.6-py3-none-any.whl size=12768 sha256=0cadc3fb3724310978ec3688da6f2b6ca37141e7a2f2abc7cd4a928d17f2c053\n",
      "  Stored in directory: /tmp/pip-ephem-wheel-cache-vroomznh/wheels/d0/d3/78/d1cb5717341968f8319fa57765f68a894fc1b21d4f4068b519\n",
      "  Building wheel for antlr4-python3-runtime (setup.py) ... \u001B[?25l\u001B[?25hdone\n",
      "  Created wheel for antlr4-python3-runtime: filename=antlr4_python3_runtime-4.9.3-py3-none-any.whl size=144575 sha256=ffa15ec508509aae8473f56546e4d811603e270b63eb045451e0f9d8f43416f5\n",
      "  Stored in directory: /root/.cache/pip/wheels/8b/8d/53/2af8772d9aec614e3fc65e53d4a993ad73c61daa8bbd85a873\n",
      "Successfully built wing antlr4-python3-runtime\n",
      "Installing collected packages: PyYAML, antlr4-python3-runtime, omegaconf, wing, skorch, hydra-core, catboost\n",
      "  Attempting uninstall: PyYAML\n",
      "    Found existing installation: PyYAML 3.13\n",
      "    Uninstalling PyYAML-3.13:\n",
      "      Successfully uninstalled PyYAML-3.13\n",
      "Successfully installed PyYAML-6.0 antlr4-python3-runtime-4.9.3 catboost-1.0.6 hydra-core-1.2.0 omegaconf-2.2.2 skorch-0.11.0 wing-0.1.6\n"
     ]
    },
    {
     "output_type": "display_data",
     "data": {
      "application/vnd.colab-display-data+json": {
       "pip_warning": {
        "packages": [
         "pydevd_plugins"
        ]
       }
      }
     },
     "metadata": {}
    }
   ],
   "source": [
    "!pip install -r requirements.txt"
   ],
   "metadata": {
    "pycharm": {
     "name": "#%%\n"
    },
    "id": "Rq8ug33CbQdA",
    "outputId": "bb952fef-124b-46e6-f192-e1fa869782b4",
    "colab": {
     "base_uri": "https://localhost:8080/",
     "height": 1000
    }
   }
  },
  {
   "cell_type": "markdown",
   "source": [
    "To get username and key follow instructions in [readme](https://github.com/Kaggle/kaggle-api)"
   ],
   "metadata": {
    "collapsed": false,
    "pycharm": {
     "name": "#%% md\n"
    },
    "id": "GcqpSUGGbQdA"
   }
  },
  {
   "cell_type": "code",
   "execution_count": null,
   "outputs": [],
   "source": [
    "%env KAGGLE_USERNAME=<username>\n",
    "%env KAGGLE_KEY=<key>"
   ],
   "metadata": {
    "pycharm": {
     "name": "#%%\n",
     "is_executing": true
    },
    "id": "xZ-baIlfbQdA",
    "outputId": "db9531ac-9430-4087-df31-ab5a4744e9a1",
    "colab": {
     "base_uri": "https://localhost:8080/"
    }
   }
  },
  {
   "cell_type": "code",
   "execution_count": 5,
   "outputs": [
    {
     "output_type": "stream",
     "name": "stdout",
     "text": [
      "Downloading lending-club.zip to /content/credit-risk\n",
      "100% 1.26G/1.26G [00:10<00:00, 127MB/s]\n",
      "100% 1.26G/1.26G [00:10<00:00, 135MB/s]\n"
     ]
    }
   ],
   "source": [
    "!kaggle datasets download wordsforthewise/lending-club"
   ],
   "metadata": {
    "pycharm": {
     "name": "#%%\n"
    },
    "id": "jck0imM_HZlz",
    "outputId": "d37d4818-cfdc-42f6-ca08-44a1fc331b21",
    "colab": {
     "base_uri": "https://localhost:8080/"
    }
   }
  },
  {
   "cell_type": "code",
   "execution_count": 6,
   "outputs": [
    {
     "output_type": "stream",
     "name": "stdout",
     "text": [
      "Archive:  lending-club.zip\n",
      "  inflating: accepted_2007_to_2018Q4.csv.gz  \n",
      "  inflating: accepted_2007_to_2018q4.csv/accepted_2007_to_2018Q4.csv  \n",
      "  inflating: rejected_2007_to_2018Q4.csv.gz  \n",
      "  inflating: rejected_2007_to_2018q4.csv/rejected_2007_to_2018Q4.csv  \n"
     ]
    }
   ],
   "source": [
    "!unzip lending-club.zip"
   ],
   "metadata": {
    "pycharm": {
     "name": "#%%\n"
    },
    "id": "BzJ08YcvHZl0",
    "outputId": "3ef98a1a-634f-4d0b-fd4a-3a28bcd96893",
    "colab": {
     "base_uri": "https://localhost:8080/"
    }
   }
  },
  {
   "cell_type": "code",
   "execution_count": 7,
   "outputs": [],
   "source": [
    "!mkdir data"
   ],
   "metadata": {
    "pycharm": {
     "name": "#%%\n"
    },
    "id": "Vi9C1dN3HZl0"
   }
  },
  {
   "cell_type": "code",
   "execution_count": 8,
   "outputs": [],
   "source": [
    "!mv accepted_2007_to_2018q4.csv/accepted_2007_to_2018Q4.csv data/accepted_2007_to_2018Q4.csv\n",
    "!mv rejected_2007_to_2018q4.csv/rejected_2007_to_2018Q4.csv data/rejected_2007_to_2018Q4.csv"
   ],
   "metadata": {
    "pycharm": {
     "name": "#%%\n"
    },
    "id": "SjDl54zuHZl2"
   }
  },
  {
   "cell_type": "markdown",
   "source": [
    "## Preprocessing"
   ],
   "metadata": {
    "collapsed": false,
    "pycharm": {
     "name": "#%% md\n"
    },
    "id": "tVW1i3w7bQdE"
   }
  },
  {
   "cell_type": "code",
   "execution_count": 9,
   "outputs": [
    {
     "output_type": "stream",
     "name": "stdout",
     "text": [
      "_target_: pipeline.make_preprocessing_pipeline\n",
      "steps_config:\n",
      "- CSVReader:\n",
      "    _target_: pipeline.CSVReader\n",
      "    _convert_: all\n",
      "    file: data/accepted_2007_to_2018Q4.csv\n",
      "    columns:\n",
      "    - loan_amnt\n",
      "    - term\n",
      "    - int_rate\n",
      "    - emp_title\n",
      "    - emp_length\n",
      "    - home_ownership\n",
      "    - annual_inc\n",
      "    - verification_status\n",
      "    - loan_status\n",
      "    - purpose\n",
      "    - addr_state\n",
      "    - dti\n",
      "    - earliest_cr_line\n",
      "    - fico_range_high\n",
      "    - inq_last_6mths\n",
      "    - revol_bal\n",
      "    - initial_list_status\n",
      "    - out_prncp\n",
      "    - total_rec_late_fee\n",
      "    - collection_recovery_fee\n",
      "    - last_fico_range_low\n",
      "    - collections_12_mths_ex_med\n",
      "    - application_type\n",
      "    - tot_coll_amt\n",
      "    - avg_cur_bal\n",
      "    - bc_open_to_buy\n",
      "    - chargeoff_within_12_mths\n",
      "    - delinq_amnt\n",
      "    - mo_sin_old_il_acct\n",
      "    - mo_sin_old_rev_tl_op\n",
      "    - mo_sin_rcnt_tl\n",
      "    - mort_acc\n",
      "    - mths_since_recent_bc\n",
      "    - num_accts_ever_120_pd\n",
      "    - num_actv_bc_tl\n",
      "    - num_bc_tl\n",
      "    - num_il_tl\n",
      "    - num_sats\n",
      "    - num_tl_120dpd_2m\n",
      "    - num_tl_30dpd\n",
      "    - num_tl_90g_dpd_24m\n",
      "    - num_tl_op_past_12m\n",
      "    - pct_tl_nvr_dlq\n",
      "    - percent_bc_gt_75\n",
      "    - pub_rec_bankruptcies\n",
      "    - tax_liens\n",
      "    - total_il_high_credit_limit\n",
      "    - disbursement_method\n",
      "    - loan_status\n",
      "- LabelTransformer:\n",
      "    _target_: pipeline.LabelTransformer\n",
      "    _convert_: all\n",
      "- ImputeNumerical:\n",
      "    _target_: pipeline.ApplyToColumns\n",
      "    _convert_: all\n",
      "    inner:\n",
      "      _target_: sklearn.impute.SimpleImputer\n",
      "      strategy: mean\n",
      "    columns:\n",
      "    - loan_amnt\n",
      "    - int_rate\n",
      "    - annual_inc\n",
      "    - dti\n",
      "    - fico_range_high\n",
      "    - inq_last_6mths\n",
      "    - revol_bal\n",
      "    - out_prncp\n",
      "    - total_rec_late_fee\n",
      "    - collection_recovery_fee\n",
      "    - last_fico_range_low\n",
      "    - collections_12_mths_ex_med\n",
      "    - tot_coll_amt\n",
      "    - avg_cur_bal\n",
      "    - bc_open_to_buy\n",
      "    - chargeoff_within_12_mths\n",
      "    - delinq_amnt\n",
      "    - mo_sin_old_il_acct\n",
      "    - mo_sin_old_rev_tl_op\n",
      "    - mo_sin_rcnt_tl\n",
      "    - mort_acc\n",
      "    - mths_since_recent_bc\n",
      "    - num_accts_ever_120_pd\n",
      "    - num_actv_bc_tl\n",
      "    - num_bc_tl\n",
      "    - num_il_tl\n",
      "    - num_sats\n",
      "    - num_tl_120dpd_2m\n",
      "    - num_tl_30dpd\n",
      "    - num_tl_90g_dpd_24m\n",
      "    - num_tl_op_past_12m\n",
      "    - pct_tl_nvr_dlq\n",
      "    - percent_bc_gt_75\n",
      "    - pub_rec_bankruptcies\n",
      "    - tax_liens\n",
      "    - total_il_high_credit_limit\n",
      "- ImputeCategorical:\n",
      "    _target_: pipeline.ApplyToColumns\n",
      "    _convert_: all\n",
      "    inner:\n",
      "      _target_: sklearn.impute.SimpleImputer\n",
      "      strategy: most_frequent\n",
      "    columns:\n",
      "    - term\n",
      "    - emp_title\n",
      "    - emp_length\n",
      "    - home_ownership\n",
      "    - verification_status\n",
      "    - purpose\n",
      "    - addr_state\n",
      "    - earliest_cr_line\n",
      "    - initial_list_status\n",
      "    - application_type\n",
      "    - disbursement_method\n",
      "\n"
     ]
    }
   ],
   "source": [
    "from pipeline import get_pipeline\n",
    "\n",
    "preprocessing = get_pipeline(\n",
    "    name=\"log_reg\",\n",
    "    group=\"preprocessing\",\n",
    "    debug=True,\n",
    ")"
   ],
   "metadata": {
    "pycharm": {
     "name": "#%%\n"
    },
    "id": "OYMgN9lwbQdE",
    "outputId": "6a00ab4b-54a1-4e97-f752-e49bc439d80c",
    "colab": {
     "base_uri": "https://localhost:8080/"
    }
   }
  },
  {
   "cell_type": "code",
   "execution_count": 10,
   "outputs": [
    {
     "output_type": "stream",
     "name": "stderr",
     "text": [
      "/usr/local/lib/python3.7/dist-packages/sklearn/pipeline.py:355: UserWarning: Persisting input arguments took 46.21s to run.\n",
      "If this happens often in your code, it can cause performance problems \n",
      "(results will be correct in all cases). \n",
      "The reason for this is probably some large input arguments for a wrapped\n",
      " function (e.g. large strings).\n",
      "THIS IS A JOBLIB ISSUE. If you can, kindly provide the joblib's team with an\n",
      " example so that they can fix the problem.\n",
      "  **fit_params_steps[name],\n"
     ]
    }
   ],
   "source": [
    "X = preprocessing.fit_transform([], y=[])\n",
    "y = preprocessing.label_transformer.label"
   ],
   "metadata": {
    "pycharm": {
     "name": "#%%\n"
    },
    "id": "B-AOGz6VbQdE",
    "outputId": "f77eabbd-c8a3-4f5d-8626-d052711e01ce",
    "colab": {
     "base_uri": "https://localhost:8080/"
    }
   }
  },
  {
   "cell_type": "markdown",
   "source": [
    "## Evaluation"
   ],
   "metadata": {
    "collapsed": false,
    "pycharm": {
     "name": "#%% md\n"
    }
   }
  },
  {
   "cell_type": "code",
   "execution_count": null,
   "outputs": [],
   "source": [
    "from pipeline import get_pipeline\n",
    "\n",
    "prediction = get_pipeline(\n",
    "    name=\"log_reg\",\n",
    "    group=\"prediction\",\n",
    "    debug=True,\n",
    ")"
   ],
   "metadata": {
    "collapsed": false,
    "pycharm": {
     "name": "#%%\n"
    }
   }
  },
  {
   "cell_type": "code",
   "execution_count": null,
   "outputs": [],
   "source": [
    "PD = prediction.predict_proba(X)"
   ],
   "metadata": {
    "collapsed": false,
    "pycharm": {
     "name": "#%%\n"
    }
   }
  },
  {
   "cell_type": "code",
   "execution_count": null,
   "outputs": [],
   "source": [
    "LGD = 1.0"
   ],
   "metadata": {
    "collapsed": false,
    "pycharm": {
     "name": "#%%\n"
    }
   }
  },
  {
   "cell_type": "code",
   "execution_count": null,
   "outputs": [],
   "source": [
    "from pipeline import get_pipeline\n",
    "\n",
    "preprocessing = get_pipeline(\n",
    "    name=\"log_reg\",\n",
    "    group=\"preprocessing\",\n",
    "    overrides=[\n",
    "        \"preprocessing_pipeline=raw_data\"\n",
    "    ],\n",
    "    debug=True,\n",
    ")\n",
    "\n",
    "X_el = preprocessing.fit_transform([], y=[])"
   ],
   "metadata": {
    "collapsed": false,
    "pycharm": {
     "name": "#%%\n"
    }
   }
  },
  {
   "cell_type": "code",
   "execution_count": null,
   "outputs": [],
   "source": [
    "EL = LGD * PD[:, 1] * X_el[\"funded_amnt\"]\n",
    "\n",
    "print(f\"Expected losses: {EL:.2f}\")"
   ],
   "metadata": {
    "collapsed": false,
    "pycharm": {
     "name": "#%%\n"
    }
   }
  }
 ],
 "metadata": {
  "kernelspec": {
   "display_name": "Python 3",
   "language": "python",
   "name": "python3"
  },
  "language_info": {
   "codemirror_mode": {
    "name": "ipython",
    "version": 2
   },
   "file_extension": ".py",
   "mimetype": "text/x-python",
   "name": "python",
   "nbconvert_exporter": "python",
   "pygments_lexer": "ipython2",
   "version": "2.7.6"
  },
  "colab": {
   "name": "colab_cat_boost.ipynb",
   "provenance": []
  },
  "accelerator": "GPU",
  "gpuClass": "standard"
 },
 "nbformat": 4,
 "nbformat_minor": 0
}