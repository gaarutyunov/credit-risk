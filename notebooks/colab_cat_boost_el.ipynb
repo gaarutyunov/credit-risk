{
 "cells": [
  {
   "cell_type": "markdown",
   "source": [
    "# Expected losses with Cat Boost\n",
    "\n",
    "[![Open In Colab](https://colab.research.google.com/assets/colab-badge.svg)](https://colab.research.google.com/github/gaarutyunov/credit-risk/blob/master/notebooks/colab_cat_boost_el.ipynb)"
   ],
   "metadata": {
    "collapsed": false,
    "pycharm": {
     "name": "#%% md\n"
    },
    "id": "oH-FJhyrHZls"
   }
  },
  {
   "cell_type": "markdown",
   "source": [
    "## Environment settings\n",
    "\n",
    "For better performance change Colab runtime type to GPU"
   ],
   "metadata": {
    "collapsed": false,
    "pycharm": {
     "name": "#%% md\n"
    },
    "id": "h3aUcBiWbQc-"
   }
  },
  {
   "cell_type": "code",
   "execution_count": 13,
   "outputs": [
    {
     "output_type": "stream",
     "name": "stdout",
     "text": [
      "Cloning into 'credit-risk'...\n",
      "remote: Enumerating objects: 267, done.\u001B[K\n",
      "remote: Counting objects: 100% (267/267), done.\u001B[K\n",
      "remote: Compressing objects: 100% (171/171), done.\u001B[K\n",
      "remote: Total 267 (delta 158), reused 198 (delta 89), pack-reused 0\u001B[K\n",
      "Receiving objects: 100% (267/267), 2.89 MiB | 8.02 MiB/s, done.\n",
      "Resolving deltas: 100% (158/158), done.\n"
     ]
    }
   ],
   "source": [
    "import numpy as np\n",
    "import scipy.stats\n",
    "!git clone https://github.com/gaarutyunov/credit-risk.git"
   ],
   "metadata": {
    "pycharm": {
     "name": "#%%\n"
    },
    "id": "zVFQLOHObQc-",
    "outputId": "7bdf8424-6019-4fca-c3f8-e68f2ab45e90",
    "colab": {
     "base_uri": "https://localhost:8080/"
    }
   }
  },
  {
   "cell_type": "code",
   "execution_count": 10,
   "outputs": [
    {
     "output_type": "stream",
     "name": "stdout",
     "text": [
      "[Errno 2] No such file or directory: 'credit-risk'\n",
      "/content/credit-risk/credit-risk\n"
     ]
    }
   ],
   "source": [
    "%cd credit-risk"
   ],
   "metadata": {
    "pycharm": {
     "name": "#%%\n"
    },
    "id": "ubx-NpiIbQc_",
    "outputId": "21090ba6-f9a9-4b30-d014-213ce4178b1b",
    "colab": {
     "base_uri": "https://localhost:8080/"
    }
   }
  },
  {
   "cell_type": "code",
   "execution_count": 15,
   "outputs": [
    {
     "output_type": "stream",
     "name": "stdout",
     "text": [
      "Looking in indexes: https://pypi.org/simple, https://us-python.pkg.dev/colab-wheels/public/simple/\n",
      "Collecting wing\n",
      "  Cloning https://github.com/sberbank-ai/wing.git (to revision master) to /tmp/pip-install-6d5raia5/wing_74980b844825470a98b6c81a30adc786\n",
      "  Running command git clone -q https://github.com/sberbank-ai/wing.git /tmp/pip-install-6d5raia5/wing_74980b844825470a98b6c81a30adc786\n",
      "Requirement already satisfied: scikit-learn in /usr/local/lib/python3.7/dist-packages (from -r requirements.txt (line 1)) (1.0.2)\n",
      "Requirement already satisfied: hydra-core in /usr/local/lib/python3.7/dist-packages (from -r requirements.txt (line 2)) (1.2.0)\n",
      "Requirement already satisfied: omegaconf in /usr/local/lib/python3.7/dist-packages (from -r requirements.txt (line 3)) (2.2.2)\n",
      "Requirement already satisfied: numpy in /usr/local/lib/python3.7/dist-packages (from -r requirements.txt (line 4)) (1.21.6)\n",
      "Requirement already satisfied: pandas in /usr/local/lib/python3.7/dist-packages (from -r requirements.txt (line 5)) (1.3.5)\n",
      "Requirement already satisfied: catboost in /usr/local/lib/python3.7/dist-packages (from -r requirements.txt (line 6)) (1.0.6)\n",
      "Requirement already satisfied: kaggle in /usr/local/lib/python3.7/dist-packages (from -r requirements.txt (line 8)) (1.5.12)\n",
      "Requirement already satisfied: joblib in /usr/local/lib/python3.7/dist-packages (from -r requirements.txt (line 9)) (1.1.0)\n",
      "Requirement already satisfied: threadpoolctl>=2.0.0 in /usr/local/lib/python3.7/dist-packages (from scikit-learn->-r requirements.txt (line 1)) (3.1.0)\n",
      "Requirement already satisfied: scipy>=1.1.0 in /usr/local/lib/python3.7/dist-packages (from scikit-learn->-r requirements.txt (line 1)) (1.4.1)\n",
      "Requirement already satisfied: importlib-resources in /usr/local/lib/python3.7/dist-packages (from hydra-core->-r requirements.txt (line 2)) (5.7.1)\n",
      "Requirement already satisfied: antlr4-python3-runtime==4.9.* in /usr/local/lib/python3.7/dist-packages (from hydra-core->-r requirements.txt (line 2)) (4.9.3)\n",
      "Requirement already satisfied: packaging in /usr/local/lib/python3.7/dist-packages (from hydra-core->-r requirements.txt (line 2)) (21.3)\n",
      "Requirement already satisfied: PyYAML>=5.1.0 in /usr/local/lib/python3.7/dist-packages (from omegaconf->-r requirements.txt (line 3)) (6.0)\n",
      "Requirement already satisfied: python-dateutil>=2.7.3 in /usr/local/lib/python3.7/dist-packages (from pandas->-r requirements.txt (line 5)) (2.8.2)\n",
      "Requirement already satisfied: pytz>=2017.3 in /usr/local/lib/python3.7/dist-packages (from pandas->-r requirements.txt (line 5)) (2022.1)\n",
      "Requirement already satisfied: six>=1.5 in /usr/local/lib/python3.7/dist-packages (from python-dateutil>=2.7.3->pandas->-r requirements.txt (line 5)) (1.15.0)\n",
      "Requirement already satisfied: graphviz in /usr/local/lib/python3.7/dist-packages (from catboost->-r requirements.txt (line 6)) (0.10.1)\n",
      "Requirement already satisfied: matplotlib in /usr/local/lib/python3.7/dist-packages (from catboost->-r requirements.txt (line 6)) (3.2.2)\n",
      "Requirement already satisfied: plotly in /usr/local/lib/python3.7/dist-packages (from catboost->-r requirements.txt (line 6)) (5.5.0)\n",
      "Requirement already satisfied: tqdm in /usr/local/lib/python3.7/dist-packages (from kaggle->-r requirements.txt (line 8)) (4.64.0)\n",
      "Requirement already satisfied: requests in /usr/local/lib/python3.7/dist-packages (from kaggle->-r requirements.txt (line 8)) (2.23.0)\n",
      "Requirement already satisfied: python-slugify in /usr/local/lib/python3.7/dist-packages (from kaggle->-r requirements.txt (line 8)) (6.1.2)\n",
      "Requirement already satisfied: urllib3 in /usr/local/lib/python3.7/dist-packages (from kaggle->-r requirements.txt (line 8)) (1.24.3)\n",
      "Requirement already satisfied: certifi in /usr/local/lib/python3.7/dist-packages (from kaggle->-r requirements.txt (line 8)) (2022.6.15)\n",
      "Requirement already satisfied: zipp>=3.1.0 in /usr/local/lib/python3.7/dist-packages (from importlib-resources->hydra-core->-r requirements.txt (line 2)) (3.8.0)\n",
      "Requirement already satisfied: kiwisolver>=1.0.1 in /usr/local/lib/python3.7/dist-packages (from matplotlib->catboost->-r requirements.txt (line 6)) (1.4.3)\n",
      "Requirement already satisfied: cycler>=0.10 in /usr/local/lib/python3.7/dist-packages (from matplotlib->catboost->-r requirements.txt (line 6)) (0.11.0)\n",
      "Requirement already satisfied: pyparsing!=2.0.4,!=2.1.2,!=2.1.6,>=2.0.1 in /usr/local/lib/python3.7/dist-packages (from matplotlib->catboost->-r requirements.txt (line 6)) (3.0.9)\n",
      "Requirement already satisfied: typing-extensions in /usr/local/lib/python3.7/dist-packages (from kiwisolver>=1.0.1->matplotlib->catboost->-r requirements.txt (line 6)) (4.1.1)\n",
      "Requirement already satisfied: tenacity>=6.2.0 in /usr/local/lib/python3.7/dist-packages (from plotly->catboost->-r requirements.txt (line 6)) (8.0.1)\n",
      "Requirement already satisfied: text-unidecode>=1.3 in /usr/local/lib/python3.7/dist-packages (from python-slugify->kaggle->-r requirements.txt (line 8)) (1.3)\n",
      "Requirement already satisfied: chardet<4,>=3.0.2 in /usr/local/lib/python3.7/dist-packages (from requests->kaggle->-r requirements.txt (line 8)) (3.0.4)\n",
      "Requirement already satisfied: idna<3,>=2.5 in /usr/local/lib/python3.7/dist-packages (from requests->kaggle->-r requirements.txt (line 8)) (2.10)\n"
     ]
    }
   ],
   "source": [
    "!pip install -r requirements.txt"
   ],
   "metadata": {
    "pycharm": {
     "name": "#%%\n"
    },
    "id": "Rq8ug33CbQdA",
    "outputId": "ea107465-44b9-4f92-d0ea-8d365a43a47a",
    "colab": {
     "base_uri": "https://localhost:8080/"
    }
   }
  },
  {
   "cell_type": "markdown",
   "source": [
    "To get username and key follow instructions in [readme](https://github.com/Kaggle/kaggle-api)"
   ],
   "metadata": {
    "collapsed": false,
    "pycharm": {
     "name": "#%% md\n"
    },
    "id": "GcqpSUGGbQdA"
   }
  },
  {
   "cell_type": "code",
   "execution_count": null,
   "outputs": [],
   "source": [
    "%env KAGGLE_USERNAME=<username>\n",
    "%env KAGGLE_KEY=<key>"
   ],
   "metadata": {
    "pycharm": {
     "name": "#%%\n",
     "is_executing": true
    },
    "id": "xZ-baIlfbQdA"
   }
  },
  {
   "cell_type": "code",
   "execution_count": 17,
   "outputs": [
    {
     "output_type": "stream",
     "name": "stdout",
     "text": [
      "Downloading lending-club.zip to /content/credit-risk/credit-risk\n",
      " 99% 1.25G/1.26G [00:07<00:00, 198MB/s]\n",
      "100% 1.26G/1.26G [00:07<00:00, 178MB/s]\n"
     ]
    }
   ],
   "source": [
    "!kaggle datasets download wordsforthewise/lending-club"
   ],
   "metadata": {
    "pycharm": {
     "name": "#%%\n"
    },
    "id": "jck0imM_HZlz",
    "outputId": "2344492f-3b17-4078-8e55-d5251699ebfc",
    "colab": {
     "base_uri": "https://localhost:8080/"
    }
   }
  },
  {
   "cell_type": "code",
   "execution_count": 18,
   "outputs": [
    {
     "output_type": "stream",
     "name": "stdout",
     "text": [
      "Archive:  lending-club.zip\n",
      "  inflating: accepted_2007_to_2018Q4.csv.gz  \n",
      "  inflating: accepted_2007_to_2018q4.csv/accepted_2007_to_2018Q4.csv  \n",
      "  inflating: rejected_2007_to_2018Q4.csv.gz  \n",
      "  inflating: rejected_2007_to_2018q4.csv/rejected_2007_to_2018Q4.csv  \n"
     ]
    }
   ],
   "source": [
    "!unzip lending-club.zip"
   ],
   "metadata": {
    "pycharm": {
     "name": "#%%\n"
    },
    "id": "BzJ08YcvHZl0",
    "outputId": "51ff4e23-2f66-4c32-ad08-de07f9e9d48c",
    "colab": {
     "base_uri": "https://localhost:8080/"
    }
   }
  },
  {
   "cell_type": "code",
   "execution_count": 19,
   "outputs": [],
   "source": [
    "!mkdir data"
   ],
   "metadata": {
    "pycharm": {
     "name": "#%%\n"
    },
    "id": "Vi9C1dN3HZl0"
   }
  },
  {
   "cell_type": "code",
   "execution_count": 20,
   "outputs": [],
   "source": [
    "!mv accepted_2007_to_2018q4.csv/accepted_2007_to_2018Q4.csv data/accepted_2007_to_2018Q4.csv\n",
    "!mv rejected_2007_to_2018q4.csv/rejected_2007_to_2018Q4.csv data/rejected_2007_to_2018Q4.csv"
   ],
   "metadata": {
    "pycharm": {
     "name": "#%%\n"
    },
    "id": "SjDl54zuHZl2"
   }
  },
  {
   "cell_type": "markdown",
   "source": [
    "## Preprocessing"
   ],
   "metadata": {
    "collapsed": false,
    "pycharm": {
     "name": "#%% md\n"
    },
    "id": "tVW1i3w7bQdE"
   }
  },
  {
   "cell_type": "code",
   "execution_count": null,
   "outputs": [],
   "source": [
    "from pipeline import get_pipeline\n",
    "\n",
    "preprocessing = get_pipeline(\n",
    "    name=\"cat_boost\",\n",
    "    group=\"preprocessing\",\n",
    "    overrides=[\n",
    "        \"preprocessing_pipeline=raw_data\"\n",
    "    ],\n",
    "    debug=True,\n",
    ")"
   ],
   "metadata": {
    "collapsed": false,
    "pycharm": {
     "name": "#%%\n"
    }
   }
  },
  {
   "cell_type": "code",
   "execution_count": null,
   "outputs": [],
   "source": [
    "X = preprocessing.fit_transform([], y=[])"
   ],
   "metadata": {
    "collapsed": false,
    "pycharm": {
     "name": "#%%\n"
    }
   }
  },
  {
   "cell_type": "code",
   "execution_count": null,
   "outputs": [],
   "source": [
    "import pandas as pd\n",
    "\n",
    "X['issue_d'] = pd.to_datetime(X['issue_d'])"
   ],
   "metadata": {
    "collapsed": false,
    "pycharm": {
     "name": "#%%\n"
    }
   }
  },
  {
   "cell_type": "code",
   "execution_count": null,
   "outputs": [],
   "source": [
    "X = X[X['issue_d'] >= '01.01.2017']"
   ],
   "metadata": {
    "collapsed": false,
    "pycharm": {
     "name": "#%%\n"
    }
   }
  },
  {
   "cell_type": "code",
   "execution_count": null,
   "outputs": [],
   "source": [
    "X['issue_d'] = X['issue_d'].dt.strftime('%b-%Y')"
   ],
   "metadata": {
    "collapsed": false,
    "pycharm": {
     "name": "#%%\n"
    }
   }
  },
  {
   "cell_type": "markdown",
   "source": [
    "## Evaluation"
   ],
   "metadata": {
    "collapsed": false,
    "pycharm": {
     "name": "#%% md\n"
    }
   }
  },
  {
   "cell_type": "code",
   "execution_count": null,
   "outputs": [],
   "source": [
    "from pipeline import get_pipeline\n",
    "\n",
    "prediction = get_pipeline(\n",
    "    name=\"cat_boost\",\n",
    "    group=\"prediction\",\n",
    "    debug=True,\n",
    ")"
   ],
   "metadata": {
    "collapsed": false,
    "pycharm": {
     "name": "#%%\n"
    }
   }
  },
  {
   "cell_type": "code",
   "execution_count": null,
   "outputs": [],
   "source": [
    "X[\"PD\"] = prediction.predict_proba(X.drop(columns=[\"funded_amnt\", \"issue_d\"]))[:, 1]"
   ],
   "metadata": {
    "collapsed": false,
    "pycharm": {
     "name": "#%%\n"
    }
   }
  },
  {
   "cell_type": "code",
   "execution_count": null,
   "outputs": [],
   "source": [
    "LGD = 1.0"
   ],
   "metadata": {
    "collapsed": false,
    "pycharm": {
     "name": "#%%\n"
    }
   }
  },
  {
   "cell_type": "code",
   "execution_count": 58,
   "outputs": [
    {
     "output_type": "stream",
     "name": "stdout",
     "text": [
      "Expected losses: 1788118282.23\n"
     ]
    }
   ],
   "source": [
    "X[\"EL\"] = LGD * X[\"PD\"] * X[\"funded_amnt\"]\n",
    "\n",
    "print(f\"Expected losses: {X['EL'].sum():.2f}\")"
   ],
   "metadata": {
    "pycharm": {
     "name": "#%%\n"
    },
    "id": "-yPpAskzA5_P",
    "outputId": "8dfb1754-e2a0-4616-9f62-73109d8e5acb",
    "colab": {
     "base_uri": "https://localhost:8080/"
    }
   }
  },
  {
   "cell_type": "code",
   "execution_count": null,
   "outputs": [],
   "source": [
    "def vasicek(PD, rho, alpha):\n",
    "    return ( scipy.stats.norm.ppf(PD) + np.sqrt(rho) * scipy.stats.norm.ppf(alpha) ) / np.sqrt(1 - rho)"
   ],
   "metadata": {
    "collapsed": false,
    "pycharm": {
     "name": "#%%\n"
    }
   }
  },
  {
   "cell_type": "code",
   "execution_count": null,
   "outputs": [],
   "source": [
    "X[\"VaR\"] = vasicek(X[\"PD\"], 0, .999)\n",
    "X[\"VaR_6\"] = vasicek(X[\"PD\"], .06, .999)"
   ],
   "metadata": {
    "collapsed": false,
    "pycharm": {
     "name": "#%%\n"
    }
   }
  },
  {
   "cell_type": "code",
   "source": [
    "print(f\"VaR at 99.9% (no correlation): {X['VaR'].sum():.2f}\")\n",
    "print(f\"VaR at 99.9% (6% correlation): {X['VaR_6'].sum():.2f}\")"
   ],
   "metadata": {
    "id": "lyp6TpxqMtSM",
    "outputId": "0bd6a0bd-235b-478b-9b9f-618ad171d0fb",
    "colab": {
     "base_uri": "https://localhost:8080/"
    },
    "pycharm": {
     "name": "#%%\n"
    }
   },
   "execution_count": 63,
   "outputs": [
    {
     "output_type": "stream",
     "name": "stdout",
     "text": [
      "VaR at 99.9%: 14501883904.00\n"
     ]
    }
   ]
  },
  {
   "cell_type": "code",
   "source": [
    "print(f\"Required capital (no correlation): f{(X['VaR'] - X['EL']).sum():.2f}\")\n",
    "print(f\"Required capital (6% correlation): f{(X['VaR_6'] - X['EL']).sum():.2f}\")"
   ],
   "metadata": {
    "id": "xjcloOO3Y9w-",
    "pycharm": {
     "name": "#%%\n"
    }
   },
   "execution_count": null,
   "outputs": []
  }
 ],
 "metadata": {
  "kernelspec": {
   "display_name": "Python 3",
   "language": "python",
   "name": "python3"
  },
  "language_info": {
   "codemirror_mode": {
    "name": "ipython",
    "version": 2
   },
   "file_extension": ".py",
   "mimetype": "text/x-python",
   "name": "python",
   "nbconvert_exporter": "python",
   "pygments_lexer": "ipython2",
   "version": "2.7.6"
  },
  "colab": {
   "name": "colab_cat_boost.ipynb",
   "provenance": []
  },
  "gpuClass": "standard"
 },
 "nbformat": 4,
 "nbformat_minor": 0
}