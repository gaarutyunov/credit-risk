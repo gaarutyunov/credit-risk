{
  "cells": [
    {
      "cell_type": "markdown",
      "source": [
        "# Expected losses with Cat Boost\n",
        "\n",
        "[![Open In Colab](https://colab.research.google.com/assets/colab-badge.svg)](https://colab.research.google.com/github/gaarutyunov/credit-risk/blob/master/notebooks/colab_cat_boost_el.ipynb)"
      ],
      "metadata": {
        "collapsed": false,
        "pycharm": {
          "name": "#%% md\n"
        },
        "id": "oH-FJhyrHZls"
      }
    },
    {
      "cell_type": "markdown",
      "source": [
        "## Environment settings\n",
        "\n",
        "For better performance change Colab runtime type to GPU"
      ],
      "metadata": {
        "collapsed": false,
        "pycharm": {
          "name": "#%% md\n"
        },
        "id": "h3aUcBiWbQc-"
      }
    },
    {
      "cell_type": "code",
      "execution_count": 13,
      "outputs": [
        {
          "output_type": "stream",
          "name": "stdout",
          "text": [
            "Cloning into 'credit-risk'...\n",
            "remote: Enumerating objects: 267, done.\u001b[K\n",
            "remote: Counting objects: 100% (267/267), done.\u001b[K\n",
            "remote: Compressing objects: 100% (171/171), done.\u001b[K\n",
            "remote: Total 267 (delta 158), reused 198 (delta 89), pack-reused 0\u001b[K\n",
            "Receiving objects: 100% (267/267), 2.89 MiB | 8.02 MiB/s, done.\n",
            "Resolving deltas: 100% (158/158), done.\n"
          ]
        }
      ],
      "source": [
        "!git clone https://github.com/gaarutyunov/credit-risk.git"
      ],
      "metadata": {
        "pycharm": {
          "name": "#%%\n"
        },
        "id": "zVFQLOHObQc-",
        "outputId": "7bdf8424-6019-4fca-c3f8-e68f2ab45e90",
        "colab": {
          "base_uri": "https://localhost:8080/"
        }
      }
    },
    {
      "cell_type": "code",
      "execution_count": 10,
      "outputs": [
        {
          "output_type": "stream",
          "name": "stdout",
          "text": [
            "[Errno 2] No such file or directory: 'credit-risk'\n",
            "/content/credit-risk/credit-risk\n"
          ]
        }
      ],
      "source": [
        "%cd credit-risk"
      ],
      "metadata": {
        "pycharm": {
          "name": "#%%\n"
        },
        "id": "ubx-NpiIbQc_",
        "outputId": "21090ba6-f9a9-4b30-d014-213ce4178b1b",
        "colab": {
          "base_uri": "https://localhost:8080/"
        }
      }
    },
    {
      "cell_type": "code",
      "execution_count": 15,
      "outputs": [
        {
          "output_type": "stream",
          "name": "stdout",
          "text": [
            "Looking in indexes: https://pypi.org/simple, https://us-python.pkg.dev/colab-wheels/public/simple/\n",
            "Collecting wing\n",
            "  Cloning https://github.com/sberbank-ai/wing.git (to revision master) to /tmp/pip-install-6d5raia5/wing_74980b844825470a98b6c81a30adc786\n",
            "  Running command git clone -q https://github.com/sberbank-ai/wing.git /tmp/pip-install-6d5raia5/wing_74980b844825470a98b6c81a30adc786\n",
            "Requirement already satisfied: scikit-learn in /usr/local/lib/python3.7/dist-packages (from -r requirements.txt (line 1)) (1.0.2)\n",
            "Requirement already satisfied: hydra-core in /usr/local/lib/python3.7/dist-packages (from -r requirements.txt (line 2)) (1.2.0)\n",
            "Requirement already satisfied: omegaconf in /usr/local/lib/python3.7/dist-packages (from -r requirements.txt (line 3)) (2.2.2)\n",
            "Requirement already satisfied: numpy in /usr/local/lib/python3.7/dist-packages (from -r requirements.txt (line 4)) (1.21.6)\n",
            "Requirement already satisfied: pandas in /usr/local/lib/python3.7/dist-packages (from -r requirements.txt (line 5)) (1.3.5)\n",
            "Requirement already satisfied: catboost in /usr/local/lib/python3.7/dist-packages (from -r requirements.txt (line 6)) (1.0.6)\n",
            "Requirement already satisfied: kaggle in /usr/local/lib/python3.7/dist-packages (from -r requirements.txt (line 8)) (1.5.12)\n",
            "Requirement already satisfied: joblib in /usr/local/lib/python3.7/dist-packages (from -r requirements.txt (line 9)) (1.1.0)\n",
            "Requirement already satisfied: threadpoolctl>=2.0.0 in /usr/local/lib/python3.7/dist-packages (from scikit-learn->-r requirements.txt (line 1)) (3.1.0)\n",
            "Requirement already satisfied: scipy>=1.1.0 in /usr/local/lib/python3.7/dist-packages (from scikit-learn->-r requirements.txt (line 1)) (1.4.1)\n",
            "Requirement already satisfied: importlib-resources in /usr/local/lib/python3.7/dist-packages (from hydra-core->-r requirements.txt (line 2)) (5.7.1)\n",
            "Requirement already satisfied: antlr4-python3-runtime==4.9.* in /usr/local/lib/python3.7/dist-packages (from hydra-core->-r requirements.txt (line 2)) (4.9.3)\n",
            "Requirement already satisfied: packaging in /usr/local/lib/python3.7/dist-packages (from hydra-core->-r requirements.txt (line 2)) (21.3)\n",
            "Requirement already satisfied: PyYAML>=5.1.0 in /usr/local/lib/python3.7/dist-packages (from omegaconf->-r requirements.txt (line 3)) (6.0)\n",
            "Requirement already satisfied: python-dateutil>=2.7.3 in /usr/local/lib/python3.7/dist-packages (from pandas->-r requirements.txt (line 5)) (2.8.2)\n",
            "Requirement already satisfied: pytz>=2017.3 in /usr/local/lib/python3.7/dist-packages (from pandas->-r requirements.txt (line 5)) (2022.1)\n",
            "Requirement already satisfied: six>=1.5 in /usr/local/lib/python3.7/dist-packages (from python-dateutil>=2.7.3->pandas->-r requirements.txt (line 5)) (1.15.0)\n",
            "Requirement already satisfied: graphviz in /usr/local/lib/python3.7/dist-packages (from catboost->-r requirements.txt (line 6)) (0.10.1)\n",
            "Requirement already satisfied: matplotlib in /usr/local/lib/python3.7/dist-packages (from catboost->-r requirements.txt (line 6)) (3.2.2)\n",
            "Requirement already satisfied: plotly in /usr/local/lib/python3.7/dist-packages (from catboost->-r requirements.txt (line 6)) (5.5.0)\n",
            "Requirement already satisfied: tqdm in /usr/local/lib/python3.7/dist-packages (from kaggle->-r requirements.txt (line 8)) (4.64.0)\n",
            "Requirement already satisfied: requests in /usr/local/lib/python3.7/dist-packages (from kaggle->-r requirements.txt (line 8)) (2.23.0)\n",
            "Requirement already satisfied: python-slugify in /usr/local/lib/python3.7/dist-packages (from kaggle->-r requirements.txt (line 8)) (6.1.2)\n",
            "Requirement already satisfied: urllib3 in /usr/local/lib/python3.7/dist-packages (from kaggle->-r requirements.txt (line 8)) (1.24.3)\n",
            "Requirement already satisfied: certifi in /usr/local/lib/python3.7/dist-packages (from kaggle->-r requirements.txt (line 8)) (2022.6.15)\n",
            "Requirement already satisfied: zipp>=3.1.0 in /usr/local/lib/python3.7/dist-packages (from importlib-resources->hydra-core->-r requirements.txt (line 2)) (3.8.0)\n",
            "Requirement already satisfied: kiwisolver>=1.0.1 in /usr/local/lib/python3.7/dist-packages (from matplotlib->catboost->-r requirements.txt (line 6)) (1.4.3)\n",
            "Requirement already satisfied: cycler>=0.10 in /usr/local/lib/python3.7/dist-packages (from matplotlib->catboost->-r requirements.txt (line 6)) (0.11.0)\n",
            "Requirement already satisfied: pyparsing!=2.0.4,!=2.1.2,!=2.1.6,>=2.0.1 in /usr/local/lib/python3.7/dist-packages (from matplotlib->catboost->-r requirements.txt (line 6)) (3.0.9)\n",
            "Requirement already satisfied: typing-extensions in /usr/local/lib/python3.7/dist-packages (from kiwisolver>=1.0.1->matplotlib->catboost->-r requirements.txt (line 6)) (4.1.1)\n",
            "Requirement already satisfied: tenacity>=6.2.0 in /usr/local/lib/python3.7/dist-packages (from plotly->catboost->-r requirements.txt (line 6)) (8.0.1)\n",
            "Requirement already satisfied: text-unidecode>=1.3 in /usr/local/lib/python3.7/dist-packages (from python-slugify->kaggle->-r requirements.txt (line 8)) (1.3)\n",
            "Requirement already satisfied: chardet<4,>=3.0.2 in /usr/local/lib/python3.7/dist-packages (from requests->kaggle->-r requirements.txt (line 8)) (3.0.4)\n",
            "Requirement already satisfied: idna<3,>=2.5 in /usr/local/lib/python3.7/dist-packages (from requests->kaggle->-r requirements.txt (line 8)) (2.10)\n"
          ]
        }
      ],
      "source": [
        "!pip install -r requirements.txt"
      ],
      "metadata": {
        "pycharm": {
          "name": "#%%\n"
        },
        "id": "Rq8ug33CbQdA",
        "outputId": "ea107465-44b9-4f92-d0ea-8d365a43a47a",
        "colab": {
          "base_uri": "https://localhost:8080/"
        }
      }
    },
    {
      "cell_type": "markdown",
      "source": [
        "To get username and key follow instructions in [readme](https://github.com/Kaggle/kaggle-api)"
      ],
      "metadata": {
        "collapsed": false,
        "pycharm": {
          "name": "#%% md\n"
        },
        "id": "GcqpSUGGbQdA"
      }
    },
    {
      "cell_type": "code",
      "execution_count": null,
      "outputs": [],
      "source": [
        "%env KAGGLE_USERNAME=<username>\n",
        "%env KAGGLE_KEY=<key>"
      ],
      "metadata": {
        "pycharm": {
          "name": "#%%\n",
          "is_executing": true
        },
        "id": "xZ-baIlfbQdA"
      }
    },
    {
      "cell_type": "code",
      "execution_count": 17,
      "outputs": [
        {
          "output_type": "stream",
          "name": "stdout",
          "text": [
            "Downloading lending-club.zip to /content/credit-risk/credit-risk\n",
            " 99% 1.25G/1.26G [00:07<00:00, 198MB/s]\n",
            "100% 1.26G/1.26G [00:07<00:00, 178MB/s]\n"
          ]
        }
      ],
      "source": [
        "!kaggle datasets download wordsforthewise/lending-club"
      ],
      "metadata": {
        "pycharm": {
          "name": "#%%\n"
        },
        "id": "jck0imM_HZlz",
        "outputId": "2344492f-3b17-4078-8e55-d5251699ebfc",
        "colab": {
          "base_uri": "https://localhost:8080/"
        }
      }
    },
    {
      "cell_type": "code",
      "execution_count": 18,
      "outputs": [
        {
          "output_type": "stream",
          "name": "stdout",
          "text": [
            "Archive:  lending-club.zip\n",
            "  inflating: accepted_2007_to_2018Q4.csv.gz  \n",
            "  inflating: accepted_2007_to_2018q4.csv/accepted_2007_to_2018Q4.csv  \n",
            "  inflating: rejected_2007_to_2018Q4.csv.gz  \n",
            "  inflating: rejected_2007_to_2018q4.csv/rejected_2007_to_2018Q4.csv  \n"
          ]
        }
      ],
      "source": [
        "!unzip lending-club.zip"
      ],
      "metadata": {
        "pycharm": {
          "name": "#%%\n"
        },
        "id": "BzJ08YcvHZl0",
        "outputId": "51ff4e23-2f66-4c32-ad08-de07f9e9d48c",
        "colab": {
          "base_uri": "https://localhost:8080/"
        }
      }
    },
    {
      "cell_type": "code",
      "execution_count": 19,
      "outputs": [],
      "source": [
        "!mkdir data"
      ],
      "metadata": {
        "pycharm": {
          "name": "#%%\n"
        },
        "id": "Vi9C1dN3HZl0"
      }
    },
    {
      "cell_type": "code",
      "execution_count": 20,
      "outputs": [],
      "source": [
        "!mv accepted_2007_to_2018q4.csv/accepted_2007_to_2018Q4.csv data/accepted_2007_to_2018Q4.csv\n",
        "!mv rejected_2007_to_2018q4.csv/rejected_2007_to_2018Q4.csv data/rejected_2007_to_2018Q4.csv"
      ],
      "metadata": {
        "pycharm": {
          "name": "#%%\n"
        },
        "id": "SjDl54zuHZl2"
      }
    },
    {
      "cell_type": "markdown",
      "source": [
        "## Preprocessing"
      ],
      "metadata": {
        "collapsed": false,
        "pycharm": {
          "name": "#%% md\n"
        },
        "id": "tVW1i3w7bQdE"
      }
    },
    {
      "cell_type": "code",
      "execution_count": 3,
      "outputs": [
        {
          "output_type": "stream",
          "name": "stdout",
          "text": [
            "_target_: pipeline.ReaderPipeline\n",
            "memory: ./cache/preprocessing/raw\n",
            "steps:\n",
            "- - CSVReader\n",
            "  - _target_: pipeline.CSVReader\n",
            "    _convert_: all\n",
            "    file: data/accepted_2007_to_2018Q4.csv\n",
            "    columns:\n",
            "    - loan_amnt\n",
            "    - term\n",
            "    - int_rate\n",
            "    - emp_title\n",
            "    - emp_length\n",
            "    - home_ownership\n",
            "    - annual_inc\n",
            "    - verification_status\n",
            "    - loan_status\n",
            "    - purpose\n",
            "    - addr_state\n",
            "    - dti\n",
            "    - earliest_cr_line\n",
            "    - fico_range_high\n",
            "    - inq_last_6mths\n",
            "    - revol_bal\n",
            "    - initial_list_status\n",
            "    - out_prncp\n",
            "    - total_rec_late_fee\n",
            "    - collection_recovery_fee\n",
            "    - last_fico_range_low\n",
            "    - collections_12_mths_ex_med\n",
            "    - application_type\n",
            "    - tot_coll_amt\n",
            "    - avg_cur_bal\n",
            "    - bc_open_to_buy\n",
            "    - chargeoff_within_12_mths\n",
            "    - delinq_amnt\n",
            "    - mo_sin_old_il_acct\n",
            "    - mo_sin_old_rev_tl_op\n",
            "    - mo_sin_rcnt_tl\n",
            "    - mort_acc\n",
            "    - mths_since_recent_bc\n",
            "    - num_accts_ever_120_pd\n",
            "    - num_actv_bc_tl\n",
            "    - num_bc_tl\n",
            "    - num_il_tl\n",
            "    - num_sats\n",
            "    - num_tl_120dpd_2m\n",
            "    - num_tl_30dpd\n",
            "    - num_tl_90g_dpd_24m\n",
            "    - num_tl_op_past_12m\n",
            "    - pct_tl_nvr_dlq\n",
            "    - percent_bc_gt_75\n",
            "    - pub_rec_bankruptcies\n",
            "    - tax_liens\n",
            "    - total_il_high_credit_limit\n",
            "    - disbursement_method\n",
            "    - funded_amnt\n",
            "    - issue_d\n",
            "- - ImputeNumerical\n",
            "  - _target_: pipeline.ApplyToColumns\n",
            "    _convert_: all\n",
            "    inner:\n",
            "      _target_: sklearn.impute.SimpleImputer\n",
            "      strategy: mean\n",
            "    columns:\n",
            "    - loan_amnt\n",
            "    - int_rate\n",
            "    - annual_inc\n",
            "    - dti\n",
            "    - fico_range_high\n",
            "    - inq_last_6mths\n",
            "    - revol_bal\n",
            "    - out_prncp\n",
            "    - total_rec_late_fee\n",
            "    - collection_recovery_fee\n",
            "    - last_fico_range_low\n",
            "    - collections_12_mths_ex_med\n",
            "    - tot_coll_amt\n",
            "    - avg_cur_bal\n",
            "    - bc_open_to_buy\n",
            "    - chargeoff_within_12_mths\n",
            "    - delinq_amnt\n",
            "    - mo_sin_old_il_acct\n",
            "    - mo_sin_old_rev_tl_op\n",
            "    - mo_sin_rcnt_tl\n",
            "    - mort_acc\n",
            "    - mths_since_recent_bc\n",
            "    - num_accts_ever_120_pd\n",
            "    - num_actv_bc_tl\n",
            "    - num_bc_tl\n",
            "    - num_il_tl\n",
            "    - num_sats\n",
            "    - num_tl_120dpd_2m\n",
            "    - num_tl_30dpd\n",
            "    - num_tl_90g_dpd_24m\n",
            "    - num_tl_op_past_12m\n",
            "    - pct_tl_nvr_dlq\n",
            "    - percent_bc_gt_75\n",
            "    - pub_rec_bankruptcies\n",
            "    - tax_liens\n",
            "    - total_il_high_credit_limit\n",
            "- - ImputeCategorical\n",
            "  - _target_: pipeline.ApplyToColumns\n",
            "    _convert_: all\n",
            "    inner:\n",
            "      _target_: sklearn.impute.SimpleImputer\n",
            "      strategy: most_frequent\n",
            "    columns:\n",
            "    - term\n",
            "    - emp_title\n",
            "    - emp_length\n",
            "    - home_ownership\n",
            "    - verification_status\n",
            "    - purpose\n",
            "    - addr_state\n",
            "    - earliest_cr_line\n",
            "    - initial_list_status\n",
            "    - application_type\n",
            "    - disbursement_method\n",
            "\n"
          ]
        }
      ],
      "source": [
        "from pipeline import get_pipeline\n",
        "\n",
        "preprocessing = get_pipeline(\n",
        "    name=\"cat_boost\",\n",
        "    group=\"preprocessing\",\n",
        "    overrides=[\n",
        "        \"preprocessing_pipeline=raw_data\"\n",
        "    ],\n",
        "    debug=True,\n",
        ")"
      ],
      "metadata": {
        "pycharm": {
          "name": "#%%\n"
        },
        "id": "OYMgN9lwbQdE",
        "outputId": "2b358d73-2a2d-47b5-b63f-e84fea1f3342",
        "colab": {
          "base_uri": "https://localhost:8080/"
        }
      }
    },
    {
      "cell_type": "code",
      "execution_count": 4,
      "outputs": [],
      "source": [
        "X = preprocessing.fit_transform([], y=[])"
      ],
      "metadata": {
        "pycharm": {
          "name": "#%%\n"
        },
        "id": "B-AOGz6VbQdE"
      }
    },
    {
      "cell_type": "code",
      "source": [
        "import pandas as pd\n",
        "\n",
        "X['issue_d'] = pd.to_datetime(X['issue_d'])"
      ],
      "metadata": {
        "id": "ex414I_PA9fr"
      },
      "execution_count": 5,
      "outputs": []
    },
    {
      "cell_type": "code",
      "source": [
        "X = X[X['issue_d'] >= '01.01.2017']"
      ],
      "metadata": {
        "id": "s0O5fYoSNejo"
      },
      "execution_count": 6,
      "outputs": []
    },
    {
      "cell_type": "code",
      "source": [
        "X['issue_d'] = X['issue_d'].dt.strftime('%b-%Y')"
      ],
      "metadata": {
        "id": "se768aKZPKn5",
        "outputId": "5abb0c89-9718-4923-8af4-a879589accd7",
        "colab": {
          "base_uri": "https://localhost:8080/"
        }
      },
      "execution_count": 7,
      "outputs": [
        {
          "metadata": {
            "tags": null
          },
          "name": "stderr",
          "output_type": "stream",
          "text": [
            "/usr/local/lib/python3.7/dist-packages/ipykernel_launcher.py:1: SettingWithCopyWarning: \n",
            "A value is trying to be set on a copy of a slice from a DataFrame.\n",
            "Try using .loc[row_indexer,col_indexer] = value instead\n",
            "\n",
            "See the caveats in the documentation: https://pandas.pydata.org/pandas-docs/stable/user_guide/indexing.html#returning-a-view-versus-a-copy\n",
            "  \"\"\"Entry point for launching an IPython kernel.\n"
          ]
        }
      ]
    },
    {
      "cell_type": "markdown",
      "source": [
        "## Evaluation"
      ],
      "metadata": {
        "collapsed": false,
        "pycharm": {
          "name": "#%% md\n"
        },
        "id": "i3fbzBLYbhch"
      }
    },
    {
      "cell_type": "code",
      "execution_count": 12,
      "outputs": [
        {
          "output_type": "stream",
          "name": "stdout",
          "text": [
            "_target_: sklearn.pipeline.Pipeline\n",
            "memory: ./cache/prediction/cat_boost\n",
            "steps:\n",
            "- - Predictor\n",
            "  - _target_: pipeline.CatBoostLoader\n",
            "    _convert_: all\n",
            "    load: models/cat_boost\n",
            "    cat_features:\n",
            "    - term\n",
            "    - emp_title\n",
            "    - emp_length\n",
            "    - home_ownership\n",
            "    - verification_status\n",
            "    - purpose\n",
            "    - addr_state\n",
            "    - earliest_cr_line\n",
            "    - initial_list_status\n",
            "    - application_type\n",
            "    - disbursement_method\n",
            "\n"
          ]
        }
      ],
      "source": [
        "from pipeline import get_pipeline\n",
        "\n",
        "prediction = get_pipeline(\n",
        "    name=\"cat_boost\",\n",
        "    group=\"prediction\",\n",
        "    debug=True,\n",
        ")"
      ],
      "metadata": {
        "pycharm": {
          "name": "#%%\n"
        },
        "id": "EoTegrA3bhch",
        "outputId": "8a2b86bf-676d-44ba-98f6-bfc7d0b14241",
        "colab": {
          "base_uri": "https://localhost:8080/"
        }
      }
    },
    {
      "cell_type": "code",
      "execution_count": 56,
      "outputs": [
        {
          "output_type": "stream",
          "name": "stderr",
          "text": [
            "/usr/local/lib/python3.7/dist-packages/ipykernel_launcher.py:1: SettingWithCopyWarning: \n",
            "A value is trying to be set on a copy of a slice from a DataFrame.\n",
            "Try using .loc[row_indexer,col_indexer] = value instead\n",
            "\n",
            "See the caveats in the documentation: https://pandas.pydata.org/pandas-docs/stable/user_guide/indexing.html#returning-a-view-versus-a-copy\n",
            "  \"\"\"Entry point for launching an IPython kernel.\n"
          ]
        }
      ],
      "source": [
        "X[\"PD\"] = prediction.predict_proba(X.drop(columns=[\"funded_amnt\", \"issue_d\"]))[:, 1]"
      ],
      "metadata": {
        "pycharm": {
          "name": "#%%\n"
        },
        "id": "PeUXNpYRbhch",
        "outputId": "8e0a6637-5c77-4f4a-f39a-407f86e31fb9",
        "colab": {
          "base_uri": "https://localhost:8080/"
        }
      }
    },
    {
      "cell_type": "code",
      "execution_count": 57,
      "outputs": [],
      "source": [
        "LGD = 1.0"
      ],
      "metadata": {
        "pycharm": {
          "name": "#%%\n"
        },
        "id": "444wZSvlA5_O"
      }
    },
    {
      "cell_type": "code",
      "execution_count": 58,
      "outputs": [
        {
          "output_type": "stream",
          "name": "stdout",
          "text": [
            "Expected losses: 1788118282.23\n"
          ]
        }
      ],
      "source": [
        "EL = LGD * X[\"PD\"] * X[\"funded_amnt\"]\n",
        "\n",
        "print(f\"Expected losses: {EL.sum():.2f}\")"
      ],
      "metadata": {
        "pycharm": {
          "name": "#%%\n"
        },
        "id": "-yPpAskzA5_P",
        "outputId": "8dfb1754-e2a0-4616-9f62-73109d8e5acb",
        "colab": {
          "base_uri": "https://localhost:8080/"
        }
      }
    },
    {
      "cell_type": "code",
      "source": [
        "quant = X[\"PD\"].quantile(.999)\n",
        "\n",
        "quant_df = pd.DataFrame(data=quant, columns=['PD'], index=X.index)\n",
        "\n",
        "VaR = LGD * quant * X['funded_amnt'][quant_df.index]\n",
        "\n",
        "print(f\"VaR at 99.9%: {VaR.sum():.2f}\")"
      ],
      "metadata": {
        "id": "lyp6TpxqMtSM",
        "outputId": "0bd6a0bd-235b-478b-9b9f-618ad171d0fb",
        "colab": {
          "base_uri": "https://localhost:8080/"
        }
      },
      "execution_count": 63,
      "outputs": [
        {
          "output_type": "stream",
          "name": "stdout",
          "text": [
            "VaR at 99.9%: 14501883904.00\n"
          ]
        }
      ]
    },
    {
      "cell_type": "code",
      "source": [
        "K = VaR.sum() - EL.sum()\n",
        "\n",
        "print(f\"Required capital: {K:.2f}\")"
      ],
      "metadata": {
        "id": "tp3zGviDSxTK",
        "outputId": "f5626cd4-b2e8-43ea-9803-e17216d933aa",
        "colab": {
          "base_uri": "https://localhost:8080/"
        }
      },
      "execution_count": 67,
      "outputs": [
        {
          "output_type": "stream",
          "name": "stdout",
          "text": [
            "Required capital: 12713765621.77\n"
          ]
        }
      ]
    },
    {
      "cell_type": "code",
      "source": [
        ""
      ],
      "metadata": {
        "id": "xjcloOO3Y9w-"
      },
      "execution_count": null,
      "outputs": []
    }
  ],
  "metadata": {
    "kernelspec": {
      "display_name": "Python 3",
      "language": "python",
      "name": "python3"
    },
    "language_info": {
      "codemirror_mode": {
        "name": "ipython",
        "version": 2
      },
      "file_extension": ".py",
      "mimetype": "text/x-python",
      "name": "python",
      "nbconvert_exporter": "python",
      "pygments_lexer": "ipython2",
      "version": "2.7.6"
    },
    "colab": {
      "name": "colab_cat_boost.ipynb",
      "provenance": []
    },
    "gpuClass": "standard"
  },
  "nbformat": 4,
  "nbformat_minor": 0
}