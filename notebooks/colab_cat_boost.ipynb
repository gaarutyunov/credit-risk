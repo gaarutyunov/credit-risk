{
  "cells": [
    {
      "cell_type": "markdown",
      "source": [
        "# Cat Boost for default prediction\n",
        "\n",
        "[![Open In Colab](https://colab.research.google.com/assets/colab-badge.svg)](https://colab.research.google.com/github/gaarutyunov/credit-risk/blob/master/notebooks/colab_cat_boost.ipynb)"
      ],
      "metadata": {
        "collapsed": false,
        "pycharm": {
          "name": "#%% md\n"
        },
        "id": "oH-FJhyrHZls"
      }
    },
    {
      "cell_type": "markdown",
      "source": [
        "## Environment settings\n",
        "\n",
        "For better performance change Colab runtime type to GPU"
      ],
      "metadata": {
        "collapsed": false,
        "pycharm": {
          "name": "#%% md\n"
        },
        "id": "h3aUcBiWbQc-"
      }
    },
    {
      "cell_type": "code",
      "execution_count": 1,
      "outputs": [
        {
          "output_type": "stream",
          "name": "stdout",
          "text": [
            "Cloning into 'credit-risk'...\n",
            "remote: Enumerating objects: 406, done.\u001b[K\n",
            "remote: Counting objects: 100% (72/72), done.\u001b[K\n",
            "remote: Compressing objects: 100% (49/49), done.\u001b[K\n",
            "remote: Total 406 (delta 38), reused 54 (delta 23), pack-reused 334\u001b[K\n",
            "Receiving objects: 100% (406/406), 3.44 MiB | 28.88 MiB/s, done.\n",
            "Resolving deltas: 100% (242/242), done.\n"
          ]
        }
      ],
      "source": [
        "!git clone https://github.com/gaarutyunov/credit-risk.git"
      ],
      "metadata": {
        "pycharm": {
          "name": "#%%\n"
        },
        "id": "zVFQLOHObQc-",
        "outputId": "aea8bfc5-c49f-48f0-d106-4f69cc8fba03",
        "colab": {
          "base_uri": "https://localhost:8080/"
        }
      }
    },
    {
      "cell_type": "code",
      "execution_count": 2,
      "outputs": [
        {
          "output_type": "stream",
          "name": "stdout",
          "text": [
            "/content/credit-risk\n"
          ]
        }
      ],
      "source": [
        "%cd credit-risk"
      ],
      "metadata": {
        "pycharm": {
          "name": "#%%\n"
        },
        "id": "ubx-NpiIbQc_",
        "outputId": "a746ef0c-6ccd-44b7-aa31-4e864740057b",
        "colab": {
          "base_uri": "https://localhost:8080/"
        }
      }
    },
    {
      "cell_type": "code",
      "execution_count": 3,
      "outputs": [
        {
          "output_type": "stream",
          "name": "stdout",
          "text": [
            "Looking in indexes: https://pypi.org/simple, https://us-python.pkg.dev/colab-wheels/public/simple/\n",
            "Collecting wing\n",
            "  Cloning https://github.com/sberbank-ai/wing.git (to revision master) to /tmp/pip-install-dlrk1q7a/wing_ec1f2c5e162a47b5b50101bd98169ed2\n",
            "  Running command git clone -q https://github.com/sberbank-ai/wing.git /tmp/pip-install-dlrk1q7a/wing_ec1f2c5e162a47b5b50101bd98169ed2\n",
            "Requirement already satisfied: scikit-learn in /usr/local/lib/python3.7/dist-packages (from -r requirements.txt (line 1)) (1.0.2)\n",
            "Collecting hydra-core\n",
            "  Downloading hydra_core-1.2.0-py3-none-any.whl (151 kB)\n",
            "\u001b[K     |████████████████████████████████| 151 kB 13.2 MB/s \n",
            "\u001b[?25hCollecting omegaconf\n",
            "  Downloading omegaconf-2.2.2-py3-none-any.whl (79 kB)\n",
            "\u001b[K     |████████████████████████████████| 79 kB 4.4 MB/s \n",
            "\u001b[?25hRequirement already satisfied: numpy in /usr/local/lib/python3.7/dist-packages (from -r requirements.txt (line 4)) (1.21.6)\n",
            "Requirement already satisfied: pandas in /usr/local/lib/python3.7/dist-packages (from -r requirements.txt (line 5)) (1.3.5)\n",
            "Collecting catboost\n",
            "  Downloading catboost-1.0.6-cp37-none-manylinux1_x86_64.whl (76.6 MB)\n",
            "\u001b[K     |████████████████████████████████| 76.6 MB 73 kB/s \n",
            "\u001b[?25hRequirement already satisfied: kaggle in /usr/local/lib/python3.7/dist-packages (from -r requirements.txt (line 8)) (1.5.12)\n",
            "Requirement already satisfied: joblib in /usr/local/lib/python3.7/dist-packages (from -r requirements.txt (line 9)) (1.1.0)\n",
            "Requirement already satisfied: matplotlib in /usr/local/lib/python3.7/dist-packages (from -r requirements.txt (line 10)) (3.2.2)\n",
            "Requirement already satisfied: scipy in /usr/local/lib/python3.7/dist-packages (from -r requirements.txt (line 11)) (1.4.1)\n",
            "Requirement already satisfied: threadpoolctl>=2.0.0 in /usr/local/lib/python3.7/dist-packages (from scikit-learn->-r requirements.txt (line 1)) (3.1.0)\n",
            "Collecting antlr4-python3-runtime==4.9.*\n",
            "  Downloading antlr4-python3-runtime-4.9.3.tar.gz (117 kB)\n",
            "\u001b[K     |████████████████████████████████| 117 kB 54.4 MB/s \n",
            "\u001b[?25hRequirement already satisfied: importlib-resources in /usr/local/lib/python3.7/dist-packages (from hydra-core->-r requirements.txt (line 2)) (5.7.1)\n",
            "Requirement already satisfied: packaging in /usr/local/lib/python3.7/dist-packages (from hydra-core->-r requirements.txt (line 2)) (21.3)\n",
            "Collecting PyYAML>=5.1.0\n",
            "  Downloading PyYAML-6.0-cp37-cp37m-manylinux_2_5_x86_64.manylinux1_x86_64.manylinux_2_12_x86_64.manylinux2010_x86_64.whl (596 kB)\n",
            "\u001b[K     |████████████████████████████████| 596 kB 16.2 MB/s \n",
            "\u001b[?25hRequirement already satisfied: python-dateutil>=2.7.3 in /usr/local/lib/python3.7/dist-packages (from pandas->-r requirements.txt (line 5)) (2.8.2)\n",
            "Requirement already satisfied: pytz>=2017.3 in /usr/local/lib/python3.7/dist-packages (from pandas->-r requirements.txt (line 5)) (2022.1)\n",
            "Requirement already satisfied: six>=1.5 in /usr/local/lib/python3.7/dist-packages (from python-dateutil>=2.7.3->pandas->-r requirements.txt (line 5)) (1.15.0)\n",
            "Requirement already satisfied: plotly in /usr/local/lib/python3.7/dist-packages (from catboost->-r requirements.txt (line 6)) (5.5.0)\n",
            "Requirement already satisfied: graphviz in /usr/local/lib/python3.7/dist-packages (from catboost->-r requirements.txt (line 6)) (0.10.1)\n",
            "Requirement already satisfied: tqdm in /usr/local/lib/python3.7/dist-packages (from kaggle->-r requirements.txt (line 8)) (4.64.0)\n",
            "Requirement already satisfied: urllib3 in /usr/local/lib/python3.7/dist-packages (from kaggle->-r requirements.txt (line 8)) (1.24.3)\n",
            "Requirement already satisfied: requests in /usr/local/lib/python3.7/dist-packages (from kaggle->-r requirements.txt (line 8)) (2.23.0)\n",
            "Requirement already satisfied: certifi in /usr/local/lib/python3.7/dist-packages (from kaggle->-r requirements.txt (line 8)) (2022.6.15)\n",
            "Requirement already satisfied: python-slugify in /usr/local/lib/python3.7/dist-packages (from kaggle->-r requirements.txt (line 8)) (6.1.2)\n",
            "Requirement already satisfied: cycler>=0.10 in /usr/local/lib/python3.7/dist-packages (from matplotlib->-r requirements.txt (line 10)) (0.11.0)\n",
            "Requirement already satisfied: pyparsing!=2.0.4,!=2.1.2,!=2.1.6,>=2.0.1 in /usr/local/lib/python3.7/dist-packages (from matplotlib->-r requirements.txt (line 10)) (3.0.9)\n",
            "Requirement already satisfied: kiwisolver>=1.0.1 in /usr/local/lib/python3.7/dist-packages (from matplotlib->-r requirements.txt (line 10)) (1.4.3)\n",
            "Requirement already satisfied: typing-extensions in /usr/local/lib/python3.7/dist-packages (from kiwisolver>=1.0.1->matplotlib->-r requirements.txt (line 10)) (4.1.1)\n",
            "Requirement already satisfied: zipp>=3.1.0 in /usr/local/lib/python3.7/dist-packages (from importlib-resources->hydra-core->-r requirements.txt (line 2)) (3.8.0)\n",
            "Requirement already satisfied: tenacity>=6.2.0 in /usr/local/lib/python3.7/dist-packages (from plotly->catboost->-r requirements.txt (line 6)) (8.0.1)\n",
            "Requirement already satisfied: text-unidecode>=1.3 in /usr/local/lib/python3.7/dist-packages (from python-slugify->kaggle->-r requirements.txt (line 8)) (1.3)\n",
            "Requirement already satisfied: idna<3,>=2.5 in /usr/local/lib/python3.7/dist-packages (from requests->kaggle->-r requirements.txt (line 8)) (2.10)\n",
            "Requirement already satisfied: chardet<4,>=3.0.2 in /usr/local/lib/python3.7/dist-packages (from requests->kaggle->-r requirements.txt (line 8)) (3.0.4)\n",
            "Building wheels for collected packages: wing, antlr4-python3-runtime\n",
            "  Building wheel for wing (setup.py) ... \u001b[?25l\u001b[?25hdone\n",
            "  Created wheel for wing: filename=wing-0.1.6-py3-none-any.whl size=12768 sha256=18283bd5f936b5d05d087cd25b6990585396337784b64aad38cf751e8bc4ef4c\n",
            "  Stored in directory: /tmp/pip-ephem-wheel-cache-6_10tuz4/wheels/d0/d3/78/d1cb5717341968f8319fa57765f68a894fc1b21d4f4068b519\n",
            "  Building wheel for antlr4-python3-runtime (setup.py) ... \u001b[?25l\u001b[?25hdone\n",
            "  Created wheel for antlr4-python3-runtime: filename=antlr4_python3_runtime-4.9.3-py3-none-any.whl size=144575 sha256=603e3a4e562c09b892fe2fad62b9e58596116c13a13d9f2bfcce810b82e864d4\n",
            "  Stored in directory: /root/.cache/pip/wheels/8b/8d/53/2af8772d9aec614e3fc65e53d4a993ad73c61daa8bbd85a873\n",
            "Successfully built wing antlr4-python3-runtime\n",
            "Installing collected packages: PyYAML, antlr4-python3-runtime, omegaconf, wing, hydra-core, catboost\n",
            "  Attempting uninstall: PyYAML\n",
            "    Found existing installation: PyYAML 3.13\n",
            "    Uninstalling PyYAML-3.13:\n",
            "      Successfully uninstalled PyYAML-3.13\n",
            "Successfully installed PyYAML-6.0 antlr4-python3-runtime-4.9.3 catboost-1.0.6 hydra-core-1.2.0 omegaconf-2.2.2 wing-0.1.6\n"
          ]
        },
        {
          "output_type": "display_data",
          "data": {
            "application/vnd.colab-display-data+json": {
              "pip_warning": {
                "packages": [
                  "pydevd_plugins"
                ]
              }
            }
          },
          "metadata": {}
        }
      ],
      "source": [
        "!pip install -r requirements.txt"
      ],
      "metadata": {
        "pycharm": {
          "name": "#%%\n"
        },
        "id": "Rq8ug33CbQdA",
        "outputId": "457e514a-2dbc-41ce-c38e-dd6f46d037e0",
        "colab": {
          "base_uri": "https://localhost:8080/",
          "height": 1000
        }
      }
    },
    {
      "cell_type": "markdown",
      "source": [
        "To get username and key follow instructions in [readme](https://github.com/Kaggle/kaggle-api)"
      ],
      "metadata": {
        "collapsed": false,
        "pycharm": {
          "name": "#%% md\n"
        },
        "id": "GcqpSUGGbQdA"
      }
    },
    {
      "cell_type": "code",
      "execution_count": null,
      "outputs": [],
      "source": [
        "%env KAGGLE_USERNAME=<username>\n",
        "%env KAGGLE_KEY=<key>"
      ],
      "metadata": {
        "pycharm": {
          "name": "#%%\n",
          "is_executing": true
        },
        "id": "xZ-baIlfbQdA"
      }
    },
    {
      "cell_type": "code",
      "execution_count": 5,
      "outputs": [
        {
          "output_type": "stream",
          "name": "stdout",
          "text": [
            "Downloading lending-club.zip to /content/credit-risk\n",
            " 98% 1.24G/1.26G [00:05<00:00, 209MB/s]\n",
            "100% 1.26G/1.26G [00:05<00:00, 261MB/s]\n"
          ]
        }
      ],
      "source": [
        "!kaggle datasets download wordsforthewise/lending-club"
      ],
      "metadata": {
        "pycharm": {
          "name": "#%%\n"
        },
        "id": "jck0imM_HZlz",
        "outputId": "2ea7532a-0748-4a72-8dd3-67250d4890e5",
        "colab": {
          "base_uri": "https://localhost:8080/"
        }
      }
    },
    {
      "cell_type": "code",
      "execution_count": 6,
      "outputs": [
        {
          "output_type": "stream",
          "name": "stdout",
          "text": [
            "Archive:  lending-club.zip\n",
            "  inflating: accepted_2007_to_2018Q4.csv.gz  \n",
            "  inflating: accepted_2007_to_2018q4.csv/accepted_2007_to_2018Q4.csv  \n",
            "  inflating: rejected_2007_to_2018Q4.csv.gz  \n",
            "  inflating: rejected_2007_to_2018q4.csv/rejected_2007_to_2018Q4.csv  \n"
          ]
        }
      ],
      "source": [
        "!unzip lending-club.zip"
      ],
      "metadata": {
        "pycharm": {
          "name": "#%%\n"
        },
        "id": "BzJ08YcvHZl0",
        "outputId": "5be8aebb-1aa6-4b24-f7bb-f18191de9307",
        "colab": {
          "base_uri": "https://localhost:8080/"
        }
      }
    },
    {
      "cell_type": "code",
      "execution_count": 7,
      "outputs": [],
      "source": [
        "!mkdir data"
      ],
      "metadata": {
        "pycharm": {
          "name": "#%%\n"
        },
        "id": "Vi9C1dN3HZl0"
      }
    },
    {
      "cell_type": "code",
      "execution_count": 8,
      "outputs": [],
      "source": [
        "!mv accepted_2007_to_2018q4.csv/accepted_2007_to_2018Q4.csv data/accepted_2007_to_2018Q4.csv\n",
        "!mv rejected_2007_to_2018q4.csv/rejected_2007_to_2018Q4.csv data/rejected_2007_to_2018Q4.csv"
      ],
      "metadata": {
        "pycharm": {
          "name": "#%%\n"
        },
        "id": "SjDl54zuHZl2"
      }
    },
    {
      "cell_type": "markdown",
      "source": [
        "## Preprocessing"
      ],
      "metadata": {
        "collapsed": false,
        "pycharm": {
          "name": "#%% md\n"
        },
        "id": "tVW1i3w7bQdE"
      }
    },
    {
      "cell_type": "code",
      "execution_count": 9,
      "outputs": [
        {
          "output_type": "stream",
          "name": "stdout",
          "text": [
            "_target_: pipeline.LabelInferPipeline\n",
            "memory: ./cache/preprocessing/cat_boost\n",
            "steps:\n",
            "- - CSVReader\n",
            "  - _target_: pipeline.CSVReader\n",
            "    _convert_: all\n",
            "    file: data/accepted_2007_to_2018Q4.csv\n",
            "    columns:\n",
            "    - term\n",
            "    - emp_length\n",
            "    - home_ownership\n",
            "    - verification_status\n",
            "    - purpose\n",
            "    - zip_code\n",
            "    - addr_state\n",
            "    - earliest_cr_line\n",
            "    - application_type\n",
            "    - verification_status_joint\n",
            "    - sec_app_earliest_cr_line\n",
            "    - disbursement_method\n",
            "    - loan_amnt\n",
            "    - fico_range_low\n",
            "    - fico_range_high\n",
            "    - revol_bal\n",
            "    - emp_title\n",
            "    - loan_status\n",
            "- - LabelTransformer\n",
            "  - _target_: pipeline.LabelTransformer\n",
            "    _convert_: all\n",
            "- - EmpTitle\n",
            "  - _target_: pipeline.JobTransformer\n",
            "    _convert_: all\n",
            "    max_jobs: 20\n",
            "- - ImputeNumerical\n",
            "  - _target_: pipeline.ApplyToColumns\n",
            "    _convert_: all\n",
            "    inner:\n",
            "      _target_: sklearn.impute.SimpleImputer\n",
            "      strategy: mean\n",
            "    columns:\n",
            "    - loan_amnt\n",
            "    - fico_range_low\n",
            "    - fico_range_high\n",
            "    - revol_bal\n",
            "- - ImputeCategorical\n",
            "  - _target_: pipeline.ApplyToColumns\n",
            "    _convert_: all\n",
            "    inner:\n",
            "      _target_: sklearn.impute.SimpleImputer\n",
            "      strategy: most_frequent\n",
            "    columns:\n",
            "    - term\n",
            "    - emp_length\n",
            "    - home_ownership\n",
            "    - verification_status\n",
            "    - purpose\n",
            "    - zip_code\n",
            "    - addr_state\n",
            "    - earliest_cr_line\n",
            "    - application_type\n",
            "    - verification_status_joint\n",
            "    - sec_app_earliest_cr_line\n",
            "    - disbursement_method\n",
            "\n"
          ]
        }
      ],
      "source": [
        "from pipeline import get_pipeline\n",
        "\n",
        "preprocessing = get_pipeline(\n",
        "    name=\"cat_boost\",\n",
        "    group='preprocessing',\n",
        "    debug=True,\n",
        ")"
      ],
      "metadata": {
        "pycharm": {
          "name": "#%%\n"
        },
        "id": "OYMgN9lwbQdE",
        "outputId": "4a82edd1-8a0d-40fc-85ef-bbcac3705275",
        "colab": {
          "base_uri": "https://localhost:8080/"
        }
      }
    },
    {
      "cell_type": "code",
      "execution_count": 10,
      "outputs": [
        {
          "output_type": "stream",
          "name": "stderr",
          "text": [
            "/usr/local/lib/python3.7/dist-packages/sklearn/pipeline.py:355: UserWarning: Persisting input arguments took 51.28s to run.\n",
            "If this happens often in your code, it can cause performance problems \n",
            "(results will be correct in all cases). \n",
            "The reason for this is probably some large input arguments for a wrapped\n",
            " function (e.g. large strings).\n",
            "THIS IS A JOBLIB ISSUE. If you can, kindly provide the joblib's team with an\n",
            " example so that they can fix the problem.\n",
            "  **fit_params_steps[name],\n",
            "/usr/local/lib/python3.7/dist-packages/sklearn/pipeline.py:355: UserWarning: Persisting input arguments took 52.45s to run.\n",
            "If this happens often in your code, it can cause performance problems \n",
            "(results will be correct in all cases). \n",
            "The reason for this is probably some large input arguments for a wrapped\n",
            " function (e.g. large strings).\n",
            "THIS IS A JOBLIB ISSUE. If you can, kindly provide the joblib's team with an\n",
            " example so that they can fix the problem.\n",
            "  **fit_params_steps[name],\n"
          ]
        }
      ],
      "source": [
        "X = preprocessing.fit_transform([], y=[])\n",
        "y = preprocessing.label_transformer.label"
      ],
      "metadata": {
        "pycharm": {
          "name": "#%%\n"
        },
        "id": "B-AOGz6VbQdE",
        "outputId": "f46ce997-7317-43a7-94e7-3df89f2104d2",
        "colab": {
          "base_uri": "https://localhost:8080/"
        }
      }
    },
    {
      "cell_type": "code",
      "execution_count": 11,
      "outputs": [],
      "source": [
        "from sklearn.model_selection import train_test_split\n",
        "\n",
        "X_train, X_test, y_train, y_test = train_test_split(\n",
        "    X, y, test_size=0.33, random_state=42, shuffle=True\n",
        ")"
      ],
      "metadata": {
        "pycharm": {
          "name": "#%%\n"
        },
        "id": "PForRZvGbQdF"
      }
    },
    {
      "cell_type": "markdown",
      "source": [
        "## Training\n",
        "\n",
        "To train with CPU remove overrides"
      ],
      "metadata": {
        "collapsed": false,
        "pycharm": {
          "name": "#%% md\n"
        },
        "id": "iz-EA0WobQdF"
      }
    },
    {
      "cell_type": "code",
      "execution_count": 12,
      "outputs": [
        {
          "output_type": "stream",
          "name": "stdout",
          "text": [
            "_target_: sklearn.pipeline.Pipeline\n",
            "memory: ./cache/classifier/cat_boost\n",
            "steps:\n",
            "- - Classifier\n",
            "  - _target_: catboost.CatBoostClassifier\n",
            "    _convert_: all\n",
            "    iterations: 500\n",
            "    learning_rate: 0.01\n",
            "    cat_features:\n",
            "    - term\n",
            "    - emp_length\n",
            "    - emp_title\n",
            "    - home_ownership\n",
            "    - verification_status\n",
            "    - purpose\n",
            "    - zip_code\n",
            "    - addr_state\n",
            "    - earliest_cr_line\n",
            "    - application_type\n",
            "    - verification_status_joint\n",
            "    - sec_app_earliest_cr_line\n",
            "    - disbursement_method\n",
            "    task_type: GPU\n",
            "\n"
          ]
        }
      ],
      "source": [
        "from pipeline import get_pipeline\n",
        "\n",
        "classifier = get_pipeline(\n",
        "    name=\"cat_boost\",\n",
        "    group='classifier',\n",
        "    overrides=[\"+classifier_pipeline.steps.0.1.task_type=GPU\"],\n",
        "    debug=True,\n",
        ")"
      ],
      "metadata": {
        "pycharm": {
          "name": "#%%\n"
        },
        "id": "gtY1vzOVbQdF",
        "outputId": "0206df63-00a1-4b20-cff8-c9c0573c6a56",
        "colab": {
          "base_uri": "https://localhost:8080/"
        }
      }
    },
    {
      "cell_type": "code",
      "execution_count": 13,
      "outputs": [
        {
          "output_type": "stream",
          "name": "stdout",
          "text": [
            "0:\tlearn: 0.6881192\ttotal: 160ms\tremaining: 1m 19s\n",
            "1:\tlearn: 0.6832210\ttotal: 303ms\tremaining: 1m 15s\n",
            "2:\tlearn: 0.6784056\ttotal: 437ms\tremaining: 1m 12s\n",
            "3:\tlearn: 0.6737492\ttotal: 561ms\tremaining: 1m 9s\n",
            "4:\tlearn: 0.6692096\ttotal: 689ms\tremaining: 1m 8s\n",
            "5:\tlearn: 0.6647525\ttotal: 820ms\tremaining: 1m 7s\n",
            "6:\tlearn: 0.6603708\ttotal: 953ms\tremaining: 1m 7s\n",
            "7:\tlearn: 0.6561160\ttotal: 1.09s\tremaining: 1m 6s\n",
            "8:\tlearn: 0.6519210\ttotal: 1.23s\tremaining: 1m 6s\n",
            "9:\tlearn: 0.6478165\ttotal: 1.36s\tremaining: 1m 6s\n",
            "10:\tlearn: 0.6438222\ttotal: 1.49s\tremaining: 1m 6s\n",
            "11:\tlearn: 0.6399670\ttotal: 1.62s\tremaining: 1m 5s\n",
            "12:\tlearn: 0.6361929\ttotal: 1.74s\tremaining: 1m 5s\n",
            "13:\tlearn: 0.6324647\ttotal: 1.87s\tremaining: 1m 5s\n",
            "14:\tlearn: 0.6288491\ttotal: 1.99s\tremaining: 1m 4s\n",
            "15:\tlearn: 0.6253334\ttotal: 2.12s\tremaining: 1m 4s\n",
            "16:\tlearn: 0.6218837\ttotal: 2.27s\tremaining: 1m 4s\n",
            "17:\tlearn: 0.6184892\ttotal: 2.39s\tremaining: 1m 4s\n",
            "18:\tlearn: 0.6152109\ttotal: 2.52s\tremaining: 1m 3s\n",
            "19:\tlearn: 0.6119885\ttotal: 2.65s\tremaining: 1m 3s\n",
            "20:\tlearn: 0.6088146\ttotal: 2.79s\tremaining: 1m 3s\n",
            "21:\tlearn: 0.6057565\ttotal: 2.9s\tremaining: 1m 3s\n",
            "22:\tlearn: 0.6027480\ttotal: 3.05s\tremaining: 1m 3s\n",
            "23:\tlearn: 0.5998387\ttotal: 3.17s\tremaining: 1m 2s\n",
            "24:\tlearn: 0.5969432\ttotal: 3.31s\tremaining: 1m 2s\n",
            "25:\tlearn: 0.5942644\ttotal: 3.37s\tremaining: 1m 1s\n",
            "26:\tlearn: 0.5915457\ttotal: 3.47s\tremaining: 1m\n",
            "27:\tlearn: 0.5888921\ttotal: 3.61s\tremaining: 1m\n",
            "28:\tlearn: 0.5862553\ttotal: 3.71s\tremaining: 1m\n",
            "29:\tlearn: 0.5836881\ttotal: 3.84s\tremaining: 1m\n",
            "30:\tlearn: 0.5811722\ttotal: 3.97s\tremaining: 1m\n",
            "31:\tlearn: 0.5787642\ttotal: 4.08s\tremaining: 59.7s\n",
            "32:\tlearn: 0.5763832\ttotal: 4.2s\tremaining: 59.4s\n",
            "33:\tlearn: 0.5740716\ttotal: 4.34s\tremaining: 59.5s\n",
            "34:\tlearn: 0.5718058\ttotal: 4.47s\tremaining: 59.4s\n",
            "35:\tlearn: 0.5696092\ttotal: 4.57s\tremaining: 58.9s\n",
            "36:\tlearn: 0.5674186\ttotal: 4.71s\tremaining: 58.9s\n",
            "37:\tlearn: 0.5652626\ttotal: 4.84s\tremaining: 58.9s\n",
            "38:\tlearn: 0.5631645\ttotal: 4.98s\tremaining: 58.9s\n",
            "39:\tlearn: 0.5611129\ttotal: 5.11s\tremaining: 58.8s\n",
            "40:\tlearn: 0.5591099\ttotal: 5.25s\tremaining: 58.7s\n",
            "41:\tlearn: 0.5571535\ttotal: 5.39s\tremaining: 58.8s\n",
            "42:\tlearn: 0.5552843\ttotal: 5.5s\tremaining: 58.5s\n",
            "43:\tlearn: 0.5534399\ttotal: 5.64s\tremaining: 58.4s\n",
            "44:\tlearn: 0.5516372\ttotal: 5.77s\tremaining: 58.4s\n",
            "45:\tlearn: 0.5498445\ttotal: 5.92s\tremaining: 58.4s\n",
            "46:\tlearn: 0.5481003\ttotal: 6.05s\tremaining: 58.3s\n",
            "47:\tlearn: 0.5464318\ttotal: 6.18s\tremaining: 58.2s\n",
            "48:\tlearn: 0.5447714\ttotal: 6.31s\tremaining: 58.1s\n",
            "49:\tlearn: 0.5431604\ttotal: 6.46s\tremaining: 58.1s\n",
            "50:\tlearn: 0.5415805\ttotal: 6.59s\tremaining: 58s\n",
            "51:\tlearn: 0.5400818\ttotal: 6.67s\tremaining: 57.5s\n",
            "52:\tlearn: 0.5385630\ttotal: 6.81s\tremaining: 57.4s\n",
            "53:\tlearn: 0.5370892\ttotal: 6.93s\tremaining: 57.2s\n",
            "54:\tlearn: 0.5356647\ttotal: 7.07s\tremaining: 57.2s\n",
            "55:\tlearn: 0.5342482\ttotal: 7.2s\tremaining: 57.1s\n",
            "56:\tlearn: 0.5328535\ttotal: 7.33s\tremaining: 57s\n",
            "57:\tlearn: 0.5315021\ttotal: 7.49s\tremaining: 57s\n",
            "58:\tlearn: 0.5301736\ttotal: 7.62s\tremaining: 56.9s\n",
            "59:\tlearn: 0.5288823\ttotal: 7.76s\tremaining: 56.9s\n",
            "60:\tlearn: 0.5276080\ttotal: 7.9s\tremaining: 56.8s\n",
            "61:\tlearn: 0.5263917\ttotal: 8.04s\tremaining: 56.8s\n",
            "62:\tlearn: 0.5251891\ttotal: 8.15s\tremaining: 56.5s\n",
            "63:\tlearn: 0.5239956\ttotal: 8.29s\tremaining: 56.5s\n",
            "64:\tlearn: 0.5228388\ttotal: 8.43s\tremaining: 56.4s\n",
            "65:\tlearn: 0.5216987\ttotal: 8.56s\tremaining: 56.3s\n",
            "66:\tlearn: 0.5205967\ttotal: 8.69s\tremaining: 56.2s\n",
            "67:\tlearn: 0.5195185\ttotal: 8.83s\tremaining: 56.1s\n",
            "68:\tlearn: 0.5184489\ttotal: 8.96s\tremaining: 56s\n",
            "69:\tlearn: 0.5174343\ttotal: 9.11s\tremaining: 55.9s\n",
            "70:\tlearn: 0.5164111\ttotal: 9.24s\tremaining: 55.8s\n",
            "71:\tlearn: 0.5154174\ttotal: 9.38s\tremaining: 55.8s\n",
            "72:\tlearn: 0.5144696\ttotal: 9.52s\tremaining: 55.7s\n",
            "73:\tlearn: 0.5134993\ttotal: 9.66s\tremaining: 55.6s\n",
            "74:\tlearn: 0.5125898\ttotal: 9.79s\tremaining: 55.5s\n",
            "75:\tlearn: 0.5116858\ttotal: 9.92s\tremaining: 55.3s\n",
            "76:\tlearn: 0.5108234\ttotal: 10s\tremaining: 55.2s\n",
            "77:\tlearn: 0.5099546\ttotal: 10.2s\tremaining: 55.1s\n",
            "78:\tlearn: 0.5091149\ttotal: 10.3s\tremaining: 55s\n",
            "79:\tlearn: 0.5083006\ttotal: 10.4s\tremaining: 54.9s\n",
            "80:\tlearn: 0.5074764\ttotal: 10.6s\tremaining: 54.7s\n",
            "81:\tlearn: 0.5066936\ttotal: 10.7s\tremaining: 54.6s\n",
            "82:\tlearn: 0.5059290\ttotal: 10.8s\tremaining: 54.5s\n",
            "83:\tlearn: 0.5051655\ttotal: 11s\tremaining: 54.3s\n",
            "84:\tlearn: 0.5044081\ttotal: 11.1s\tremaining: 54.2s\n",
            "85:\tlearn: 0.5036847\ttotal: 11.2s\tremaining: 54.1s\n",
            "86:\tlearn: 0.5029731\ttotal: 11.4s\tremaining: 54s\n",
            "87:\tlearn: 0.5022697\ttotal: 11.5s\tremaining: 53.9s\n",
            "88:\tlearn: 0.5015805\ttotal: 11.6s\tremaining: 53.8s\n",
            "89:\tlearn: 0.5009071\ttotal: 11.7s\tremaining: 53.5s\n",
            "90:\tlearn: 0.5002541\ttotal: 11.9s\tremaining: 53.4s\n",
            "91:\tlearn: 0.4996210\ttotal: 12s\tremaining: 53.2s\n",
            "92:\tlearn: 0.4990202\ttotal: 12.1s\tremaining: 53s\n",
            "93:\tlearn: 0.4984264\ttotal: 12.3s\tremaining: 53s\n",
            "94:\tlearn: 0.4978330\ttotal: 12.4s\tremaining: 52.9s\n",
            "95:\tlearn: 0.4972465\ttotal: 12.5s\tremaining: 52.7s\n",
            "96:\tlearn: 0.4966846\ttotal: 12.7s\tremaining: 52.6s\n",
            "97:\tlearn: 0.4961244\ttotal: 12.8s\tremaining: 52.6s\n",
            "98:\tlearn: 0.4955897\ttotal: 12.9s\tremaining: 52.4s\n",
            "99:\tlearn: 0.4950528\ttotal: 13.1s\tremaining: 52.3s\n",
            "100:\tlearn: 0.4945178\ttotal: 13.2s\tremaining: 52.2s\n",
            "101:\tlearn: 0.4939933\ttotal: 13.3s\tremaining: 52.1s\n",
            "102:\tlearn: 0.4934907\ttotal: 13.5s\tremaining: 51.9s\n",
            "103:\tlearn: 0.4930257\ttotal: 13.6s\tremaining: 51.8s\n",
            "104:\tlearn: 0.4925465\ttotal: 13.7s\tremaining: 51.6s\n",
            "105:\tlearn: 0.4920989\ttotal: 13.9s\tremaining: 51.5s\n",
            "106:\tlearn: 0.4916495\ttotal: 14s\tremaining: 51.4s\n",
            "107:\tlearn: 0.4911824\ttotal: 14.1s\tremaining: 51.2s\n",
            "108:\tlearn: 0.4907311\ttotal: 14.3s\tremaining: 51.1s\n",
            "109:\tlearn: 0.4903049\ttotal: 14.4s\tremaining: 51s\n",
            "110:\tlearn: 0.4898790\ttotal: 14.5s\tremaining: 50.9s\n",
            "111:\tlearn: 0.4894655\ttotal: 14.7s\tremaining: 50.8s\n",
            "112:\tlearn: 0.4890506\ttotal: 14.8s\tremaining: 50.7s\n",
            "113:\tlearn: 0.4886472\ttotal: 14.9s\tremaining: 50.6s\n",
            "114:\tlearn: 0.4882733\ttotal: 15s\tremaining: 50.4s\n",
            "115:\tlearn: 0.4878868\ttotal: 15.2s\tremaining: 50.2s\n",
            "116:\tlearn: 0.4875469\ttotal: 15.3s\tremaining: 50s\n",
            "117:\tlearn: 0.4871703\ttotal: 15.4s\tremaining: 49.8s\n",
            "118:\tlearn: 0.4867982\ttotal: 15.5s\tremaining: 49.7s\n",
            "119:\tlearn: 0.4864495\ttotal: 15.6s\tremaining: 49.6s\n",
            "120:\tlearn: 0.4861105\ttotal: 15.8s\tremaining: 49.4s\n",
            "121:\tlearn: 0.4857688\ttotal: 15.9s\tremaining: 49.3s\n",
            "122:\tlearn: 0.4854232\ttotal: 16s\tremaining: 49.2s\n",
            "123:\tlearn: 0.4851009\ttotal: 16.2s\tremaining: 49.1s\n",
            "124:\tlearn: 0.4847843\ttotal: 16.3s\tremaining: 48.9s\n",
            "125:\tlearn: 0.4844855\ttotal: 16.5s\tremaining: 48.8s\n",
            "126:\tlearn: 0.4841707\ttotal: 16.6s\tremaining: 48.8s\n",
            "127:\tlearn: 0.4838582\ttotal: 16.7s\tremaining: 48.7s\n",
            "128:\tlearn: 0.4835672\ttotal: 16.9s\tremaining: 48.6s\n",
            "129:\tlearn: 0.4832787\ttotal: 17s\tremaining: 48.4s\n",
            "130:\tlearn: 0.4830056\ttotal: 17.2s\tremaining: 48.3s\n",
            "131:\tlearn: 0.4827497\ttotal: 17.2s\tremaining: 48s\n",
            "132:\tlearn: 0.4824770\ttotal: 17.4s\tremaining: 47.9s\n",
            "133:\tlearn: 0.4822260\ttotal: 17.5s\tremaining: 47.8s\n",
            "134:\tlearn: 0.4819777\ttotal: 17.6s\tremaining: 47.6s\n",
            "135:\tlearn: 0.4817283\ttotal: 17.7s\tremaining: 47.4s\n",
            "136:\tlearn: 0.4814971\ttotal: 17.9s\tremaining: 47.3s\n",
            "137:\tlearn: 0.4812546\ttotal: 18s\tremaining: 47.2s\n",
            "138:\tlearn: 0.4810101\ttotal: 18.1s\tremaining: 47.1s\n",
            "139:\tlearn: 0.4807743\ttotal: 18.3s\tremaining: 47s\n",
            "140:\tlearn: 0.4805349\ttotal: 18.4s\tremaining: 46.8s\n",
            "141:\tlearn: 0.4803006\ttotal: 18.5s\tremaining: 46.7s\n",
            "142:\tlearn: 0.4800818\ttotal: 18.6s\tremaining: 46.5s\n",
            "143:\tlearn: 0.4798512\ttotal: 18.8s\tremaining: 46.4s\n",
            "144:\tlearn: 0.4796282\ttotal: 18.9s\tremaining: 46.3s\n",
            "145:\tlearn: 0.4794254\ttotal: 19s\tremaining: 46.2s\n",
            "146:\tlearn: 0.4792300\ttotal: 19.2s\tremaining: 46s\n",
            "147:\tlearn: 0.4790124\ttotal: 19.3s\tremaining: 45.9s\n",
            "148:\tlearn: 0.4788207\ttotal: 19.4s\tremaining: 45.7s\n",
            "149:\tlearn: 0.4786184\ttotal: 19.6s\tremaining: 45.6s\n",
            "150:\tlearn: 0.4784120\ttotal: 19.7s\tremaining: 45.5s\n",
            "151:\tlearn: 0.4782177\ttotal: 19.8s\tremaining: 45.4s\n",
            "152:\tlearn: 0.4780493\ttotal: 19.9s\tremaining: 45.2s\n",
            "153:\tlearn: 0.4778644\ttotal: 20.1s\tremaining: 45.1s\n",
            "154:\tlearn: 0.4776838\ttotal: 20.2s\tremaining: 45s\n",
            "155:\tlearn: 0.4775033\ttotal: 20.4s\tremaining: 44.9s\n",
            "156:\tlearn: 0.4773344\ttotal: 20.5s\tremaining: 44.8s\n",
            "157:\tlearn: 0.4771678\ttotal: 20.6s\tremaining: 44.7s\n",
            "158:\tlearn: 0.4770028\ttotal: 20.8s\tremaining: 44.6s\n",
            "159:\tlearn: 0.4768387\ttotal: 20.9s\tremaining: 44.4s\n",
            "160:\tlearn: 0.4766680\ttotal: 21s\tremaining: 44.3s\n",
            "161:\tlearn: 0.4765013\ttotal: 21.2s\tremaining: 44.2s\n",
            "162:\tlearn: 0.4763369\ttotal: 21.3s\tremaining: 44.1s\n",
            "163:\tlearn: 0.4761827\ttotal: 21.4s\tremaining: 43.9s\n",
            "164:\tlearn: 0.4760223\ttotal: 21.6s\tremaining: 43.8s\n",
            "165:\tlearn: 0.4758834\ttotal: 21.7s\tremaining: 43.6s\n",
            "166:\tlearn: 0.4757443\ttotal: 21.8s\tremaining: 43.5s\n",
            "167:\tlearn: 0.4755988\ttotal: 21.9s\tremaining: 43.3s\n",
            "168:\tlearn: 0.4754623\ttotal: 22.1s\tremaining: 43.2s\n",
            "169:\tlearn: 0.4753216\ttotal: 22.2s\tremaining: 43s\n",
            "170:\tlearn: 0.4752042\ttotal: 22.3s\tremaining: 42.8s\n",
            "171:\tlearn: 0.4750698\ttotal: 22.4s\tremaining: 42.7s\n",
            "172:\tlearn: 0.4749432\ttotal: 22.5s\tremaining: 42.6s\n",
            "173:\tlearn: 0.4748227\ttotal: 22.7s\tremaining: 42.5s\n",
            "174:\tlearn: 0.4747094\ttotal: 22.8s\tremaining: 42.3s\n",
            "175:\tlearn: 0.4745806\ttotal: 22.9s\tremaining: 42.2s\n",
            "176:\tlearn: 0.4744596\ttotal: 23s\tremaining: 42.1s\n",
            "177:\tlearn: 0.4743383\ttotal: 23.2s\tremaining: 42s\n",
            "178:\tlearn: 0.4742151\ttotal: 23.3s\tremaining: 41.8s\n",
            "179:\tlearn: 0.4740935\ttotal: 23.5s\tremaining: 41.7s\n",
            "180:\tlearn: 0.4739745\ttotal: 23.6s\tremaining: 41.6s\n",
            "181:\tlearn: 0.4738659\ttotal: 23.7s\tremaining: 41.4s\n",
            "182:\tlearn: 0.4737577\ttotal: 23.8s\tremaining: 41.3s\n",
            "183:\tlearn: 0.4736475\ttotal: 24s\tremaining: 41.2s\n",
            "184:\tlearn: 0.4735417\ttotal: 24.1s\tremaining: 41s\n",
            "185:\tlearn: 0.4734410\ttotal: 24.2s\tremaining: 40.9s\n",
            "186:\tlearn: 0.4733368\ttotal: 24.4s\tremaining: 40.8s\n",
            "187:\tlearn: 0.4732382\ttotal: 24.5s\tremaining: 40.6s\n",
            "188:\tlearn: 0.4731449\ttotal: 24.6s\tremaining: 40.5s\n",
            "189:\tlearn: 0.4730501\ttotal: 24.8s\tremaining: 40.4s\n",
            "190:\tlearn: 0.4729578\ttotal: 24.9s\tremaining: 40.2s\n",
            "191:\tlearn: 0.4728636\ttotal: 25s\tremaining: 40.1s\n",
            "192:\tlearn: 0.4727654\ttotal: 25.1s\tremaining: 40s\n",
            "193:\tlearn: 0.4726738\ttotal: 25.3s\tremaining: 39.8s\n",
            "194:\tlearn: 0.4725939\ttotal: 25.4s\tremaining: 39.7s\n",
            "195:\tlearn: 0.4725027\ttotal: 25.5s\tremaining: 39.6s\n",
            "196:\tlearn: 0.4724215\ttotal: 25.6s\tremaining: 39.4s\n",
            "197:\tlearn: 0.4723329\ttotal: 25.8s\tremaining: 39.3s\n",
            "198:\tlearn: 0.4722442\ttotal: 25.9s\tremaining: 39.1s\n",
            "199:\tlearn: 0.4721649\ttotal: 26s\tremaining: 39s\n",
            "200:\tlearn: 0.4720839\ttotal: 26.1s\tremaining: 38.8s\n",
            "201:\tlearn: 0.4720077\ttotal: 26.2s\tremaining: 38.7s\n",
            "202:\tlearn: 0.4719279\ttotal: 26.4s\tremaining: 38.6s\n",
            "203:\tlearn: 0.4718605\ttotal: 26.5s\tremaining: 38.4s\n",
            "204:\tlearn: 0.4717899\ttotal: 26.6s\tremaining: 38.2s\n",
            "205:\tlearn: 0.4717147\ttotal: 26.7s\tremaining: 38.1s\n",
            "206:\tlearn: 0.4716345\ttotal: 26.8s\tremaining: 37.9s\n",
            "207:\tlearn: 0.4715604\ttotal: 27s\tremaining: 37.8s\n",
            "208:\tlearn: 0.4714891\ttotal: 27.1s\tremaining: 37.7s\n",
            "209:\tlearn: 0.4714235\ttotal: 27.2s\tremaining: 37.6s\n",
            "210:\tlearn: 0.4713592\ttotal: 27.4s\tremaining: 37.5s\n",
            "211:\tlearn: 0.4712938\ttotal: 27.5s\tremaining: 37.3s\n",
            "212:\tlearn: 0.4712333\ttotal: 27.6s\tremaining: 37.2s\n",
            "213:\tlearn: 0.4711637\ttotal: 27.7s\tremaining: 37s\n",
            "214:\tlearn: 0.4710940\ttotal: 27.9s\tremaining: 36.9s\n",
            "215:\tlearn: 0.4710286\ttotal: 28s\tremaining: 36.8s\n",
            "216:\tlearn: 0.4709633\ttotal: 28.1s\tremaining: 36.7s\n",
            "217:\tlearn: 0.4708994\ttotal: 28.2s\tremaining: 36.5s\n",
            "218:\tlearn: 0.4708353\ttotal: 28.4s\tremaining: 36.4s\n",
            "219:\tlearn: 0.4707731\ttotal: 28.5s\tremaining: 36.3s\n",
            "220:\tlearn: 0.4707127\ttotal: 28.6s\tremaining: 36.1s\n",
            "221:\tlearn: 0.4706538\ttotal: 28.8s\tremaining: 36s\n",
            "222:\tlearn: 0.4705940\ttotal: 28.9s\tremaining: 35.9s\n",
            "223:\tlearn: 0.4705355\ttotal: 29s\tremaining: 35.8s\n",
            "224:\tlearn: 0.4704819\ttotal: 29.2s\tremaining: 35.7s\n",
            "225:\tlearn: 0.4704221\ttotal: 29.3s\tremaining: 35.5s\n",
            "226:\tlearn: 0.4703652\ttotal: 29.4s\tremaining: 35.4s\n",
            "227:\tlearn: 0.4703152\ttotal: 29.6s\tremaining: 35.3s\n",
            "228:\tlearn: 0.4702645\ttotal: 29.7s\tremaining: 35.1s\n",
            "229:\tlearn: 0.4702098\ttotal: 29.8s\tremaining: 35s\n",
            "230:\tlearn: 0.4701600\ttotal: 30s\tremaining: 34.9s\n",
            "231:\tlearn: 0.4701151\ttotal: 30.1s\tremaining: 34.7s\n",
            "232:\tlearn: 0.4700611\ttotal: 30.2s\tremaining: 34.6s\n",
            "233:\tlearn: 0.4700127\ttotal: 30.3s\tremaining: 34.5s\n",
            "234:\tlearn: 0.4699641\ttotal: 30.4s\tremaining: 34.3s\n",
            "235:\tlearn: 0.4699181\ttotal: 30.6s\tremaining: 34.2s\n",
            "236:\tlearn: 0.4698605\ttotal: 30.7s\tremaining: 34.1s\n",
            "237:\tlearn: 0.4698238\ttotal: 30.8s\tremaining: 33.9s\n",
            "238:\tlearn: 0.4697756\ttotal: 31s\tremaining: 33.8s\n",
            "239:\tlearn: 0.4697323\ttotal: 31.1s\tremaining: 33.7s\n",
            "240:\tlearn: 0.4696851\ttotal: 31.2s\tremaining: 33.6s\n",
            "241:\tlearn: 0.4696406\ttotal: 31.3s\tremaining: 33.4s\n",
            "242:\tlearn: 0.4695937\ttotal: 31.5s\tremaining: 33.3s\n",
            "243:\tlearn: 0.4695549\ttotal: 31.6s\tremaining: 33.1s\n",
            "244:\tlearn: 0.4695098\ttotal: 31.7s\tremaining: 33s\n",
            "245:\tlearn: 0.4694663\ttotal: 31.8s\tremaining: 32.9s\n",
            "246:\tlearn: 0.4694286\ttotal: 32s\tremaining: 32.7s\n",
            "247:\tlearn: 0.4693844\ttotal: 32.1s\tremaining: 32.6s\n",
            "248:\tlearn: 0.4693441\ttotal: 32.2s\tremaining: 32.5s\n",
            "249:\tlearn: 0.4693072\ttotal: 32.3s\tremaining: 32.3s\n",
            "250:\tlearn: 0.4692653\ttotal: 32.5s\tremaining: 32.2s\n",
            "251:\tlearn: 0.4692295\ttotal: 32.6s\tremaining: 32s\n",
            "252:\tlearn: 0.4691842\ttotal: 32.7s\tremaining: 31.9s\n",
            "253:\tlearn: 0.4691472\ttotal: 32.8s\tremaining: 31.8s\n",
            "254:\tlearn: 0.4691063\ttotal: 33s\tremaining: 31.7s\n",
            "255:\tlearn: 0.4690721\ttotal: 33.1s\tremaining: 31.5s\n",
            "256:\tlearn: 0.4690374\ttotal: 33.2s\tremaining: 31.4s\n",
            "257:\tlearn: 0.4689988\ttotal: 33.4s\tremaining: 31.3s\n",
            "258:\tlearn: 0.4689663\ttotal: 33.5s\tremaining: 31.2s\n",
            "259:\tlearn: 0.4689336\ttotal: 33.7s\tremaining: 31.1s\n",
            "260:\tlearn: 0.4688994\ttotal: 33.8s\tremaining: 31s\n",
            "261:\tlearn: 0.4688593\ttotal: 34s\tremaining: 30.9s\n",
            "262:\tlearn: 0.4688256\ttotal: 34.1s\tremaining: 30.7s\n",
            "263:\tlearn: 0.4687993\ttotal: 34.3s\tremaining: 30.6s\n",
            "264:\tlearn: 0.4687667\ttotal: 34.4s\tremaining: 30.5s\n",
            "265:\tlearn: 0.4687400\ttotal: 34.5s\tremaining: 30.4s\n",
            "266:\tlearn: 0.4687086\ttotal: 34.6s\tremaining: 30.2s\n",
            "267:\tlearn: 0.4686815\ttotal: 34.7s\tremaining: 30.1s\n",
            "268:\tlearn: 0.4686504\ttotal: 34.9s\tremaining: 30s\n",
            "269:\tlearn: 0.4686208\ttotal: 35s\tremaining: 29.8s\n",
            "270:\tlearn: 0.4685883\ttotal: 35.1s\tremaining: 29.7s\n",
            "271:\tlearn: 0.4685575\ttotal: 35.3s\tremaining: 29.6s\n",
            "272:\tlearn: 0.4685224\ttotal: 35.4s\tremaining: 29.5s\n",
            "273:\tlearn: 0.4684919\ttotal: 35.6s\tremaining: 29.4s\n",
            "274:\tlearn: 0.4684626\ttotal: 35.7s\tremaining: 29.2s\n",
            "275:\tlearn: 0.4684334\ttotal: 35.8s\tremaining: 29.1s\n",
            "276:\tlearn: 0.4684056\ttotal: 36s\tremaining: 29s\n",
            "277:\tlearn: 0.4683737\ttotal: 36.1s\tremaining: 28.8s\n",
            "278:\tlearn: 0.4683440\ttotal: 36.2s\tremaining: 28.7s\n",
            "279:\tlearn: 0.4683138\ttotal: 36.4s\tremaining: 28.6s\n",
            "280:\tlearn: 0.4682830\ttotal: 36.5s\tremaining: 28.5s\n",
            "281:\tlearn: 0.4682581\ttotal: 36.6s\tremaining: 28.3s\n",
            "282:\tlearn: 0.4682303\ttotal: 36.8s\tremaining: 28.2s\n",
            "283:\tlearn: 0.4681993\ttotal: 36.9s\tremaining: 28.1s\n",
            "284:\tlearn: 0.4681769\ttotal: 37s\tremaining: 27.9s\n",
            "285:\tlearn: 0.4681494\ttotal: 37.2s\tremaining: 27.8s\n",
            "286:\tlearn: 0.4681218\ttotal: 37.3s\tremaining: 27.7s\n",
            "287:\tlearn: 0.4680968\ttotal: 37.4s\tremaining: 27.6s\n",
            "288:\tlearn: 0.4680762\ttotal: 37.5s\tremaining: 27.4s\n",
            "289:\tlearn: 0.4680518\ttotal: 37.7s\tremaining: 27.3s\n",
            "290:\tlearn: 0.4680273\ttotal: 37.8s\tremaining: 27.1s\n",
            "291:\tlearn: 0.4680054\ttotal: 37.9s\tremaining: 27s\n",
            "292:\tlearn: 0.4679784\ttotal: 38.1s\tremaining: 26.9s\n",
            "293:\tlearn: 0.4679523\ttotal: 38.2s\tremaining: 26.8s\n",
            "294:\tlearn: 0.4679289\ttotal: 38.3s\tremaining: 26.6s\n",
            "295:\tlearn: 0.4679057\ttotal: 38.4s\tremaining: 26.5s\n",
            "296:\tlearn: 0.4678821\ttotal: 38.6s\tremaining: 26.4s\n",
            "297:\tlearn: 0.4678632\ttotal: 38.7s\tremaining: 26.2s\n",
            "298:\tlearn: 0.4678412\ttotal: 38.8s\tremaining: 26.1s\n",
            "299:\tlearn: 0.4678223\ttotal: 39s\tremaining: 26s\n",
            "300:\tlearn: 0.4677992\ttotal: 39.1s\tremaining: 25.9s\n",
            "301:\tlearn: 0.4677760\ttotal: 39.2s\tremaining: 25.7s\n",
            "302:\tlearn: 0.4677563\ttotal: 39.3s\tremaining: 25.6s\n",
            "303:\tlearn: 0.4677375\ttotal: 39.5s\tremaining: 25.5s\n",
            "304:\tlearn: 0.4677161\ttotal: 39.6s\tremaining: 25.3s\n",
            "305:\tlearn: 0.4676929\ttotal: 39.8s\tremaining: 25.2s\n",
            "306:\tlearn: 0.4676670\ttotal: 39.9s\tremaining: 25.1s\n",
            "307:\tlearn: 0.4676485\ttotal: 40.1s\tremaining: 25s\n",
            "308:\tlearn: 0.4676297\ttotal: 40.2s\tremaining: 24.8s\n",
            "309:\tlearn: 0.4676083\ttotal: 40.3s\tremaining: 24.7s\n",
            "310:\tlearn: 0.4675851\ttotal: 40.4s\tremaining: 24.6s\n",
            "311:\tlearn: 0.4675662\ttotal: 40.6s\tremaining: 24.4s\n",
            "312:\tlearn: 0.4675519\ttotal: 40.6s\tremaining: 24.3s\n",
            "313:\tlearn: 0.4675345\ttotal: 40.7s\tremaining: 24.1s\n",
            "314:\tlearn: 0.4675128\ttotal: 40.9s\tremaining: 24s\n",
            "315:\tlearn: 0.4674943\ttotal: 41s\tremaining: 23.9s\n",
            "316:\tlearn: 0.4674763\ttotal: 41.1s\tremaining: 23.7s\n",
            "317:\tlearn: 0.4674551\ttotal: 41.3s\tremaining: 23.6s\n",
            "318:\tlearn: 0.4674352\ttotal: 41.4s\tremaining: 23.5s\n",
            "319:\tlearn: 0.4674185\ttotal: 41.5s\tremaining: 23.4s\n",
            "320:\tlearn: 0.4673972\ttotal: 41.7s\tremaining: 23.2s\n",
            "321:\tlearn: 0.4673778\ttotal: 41.8s\tremaining: 23.1s\n",
            "322:\tlearn: 0.4673565\ttotal: 42s\tremaining: 23s\n",
            "323:\tlearn: 0.4673393\ttotal: 42.1s\tremaining: 22.8s\n",
            "324:\tlearn: 0.4673221\ttotal: 42.2s\tremaining: 22.7s\n",
            "325:\tlearn: 0.4673075\ttotal: 42.3s\tremaining: 22.6s\n",
            "326:\tlearn: 0.4672863\ttotal: 42.4s\tremaining: 22.5s\n",
            "327:\tlearn: 0.4672626\ttotal: 42.6s\tremaining: 22.3s\n",
            "328:\tlearn: 0.4672409\ttotal: 42.7s\tremaining: 22.2s\n",
            "329:\tlearn: 0.4672246\ttotal: 42.9s\tremaining: 22.1s\n",
            "330:\tlearn: 0.4672074\ttotal: 43s\tremaining: 22s\n",
            "331:\tlearn: 0.4671909\ttotal: 43.1s\tremaining: 21.8s\n",
            "332:\tlearn: 0.4671726\ttotal: 43.3s\tremaining: 21.7s\n",
            "333:\tlearn: 0.4671584\ttotal: 43.4s\tremaining: 21.6s\n",
            "334:\tlearn: 0.4671432\ttotal: 43.5s\tremaining: 21.4s\n",
            "335:\tlearn: 0.4671286\ttotal: 43.6s\tremaining: 21.3s\n",
            "336:\tlearn: 0.4671163\ttotal: 43.7s\tremaining: 21.2s\n",
            "337:\tlearn: 0.4671005\ttotal: 43.9s\tremaining: 21s\n",
            "338:\tlearn: 0.4670873\ttotal: 44s\tremaining: 20.9s\n",
            "339:\tlearn: 0.4670716\ttotal: 44.2s\tremaining: 20.8s\n",
            "340:\tlearn: 0.4670561\ttotal: 44.3s\tremaining: 20.6s\n",
            "341:\tlearn: 0.4670396\ttotal: 44.4s\tremaining: 20.5s\n",
            "342:\tlearn: 0.4670260\ttotal: 44.5s\tremaining: 20.4s\n",
            "343:\tlearn: 0.4670096\ttotal: 44.7s\tremaining: 20.3s\n",
            "344:\tlearn: 0.4669947\ttotal: 44.8s\tremaining: 20.1s\n",
            "345:\tlearn: 0.4669801\ttotal: 45s\tremaining: 20s\n",
            "346:\tlearn: 0.4669656\ttotal: 45.1s\tremaining: 19.9s\n",
            "347:\tlearn: 0.4669512\ttotal: 45.2s\tremaining: 19.7s\n",
            "348:\tlearn: 0.4669375\ttotal: 45.3s\tremaining: 19.6s\n",
            "349:\tlearn: 0.4669231\ttotal: 45.4s\tremaining: 19.5s\n",
            "350:\tlearn: 0.4669078\ttotal: 45.6s\tremaining: 19.4s\n",
            "351:\tlearn: 0.4668921\ttotal: 45.7s\tremaining: 19.2s\n",
            "352:\tlearn: 0.4668801\ttotal: 45.8s\tremaining: 19.1s\n",
            "353:\tlearn: 0.4668683\ttotal: 46s\tremaining: 19s\n",
            "354:\tlearn: 0.4668534\ttotal: 46.1s\tremaining: 18.8s\n",
            "355:\tlearn: 0.4668379\ttotal: 46.2s\tremaining: 18.7s\n",
            "356:\tlearn: 0.4668243\ttotal: 46.4s\tremaining: 18.6s\n",
            "357:\tlearn: 0.4668115\ttotal: 46.5s\tremaining: 18.4s\n",
            "358:\tlearn: 0.4667985\ttotal: 46.6s\tremaining: 18.3s\n",
            "359:\tlearn: 0.4667857\ttotal: 46.7s\tremaining: 18.2s\n",
            "360:\tlearn: 0.4667709\ttotal: 46.9s\tremaining: 18.1s\n",
            "361:\tlearn: 0.4667585\ttotal: 47s\tremaining: 17.9s\n",
            "362:\tlearn: 0.4667460\ttotal: 47.2s\tremaining: 17.8s\n",
            "363:\tlearn: 0.4667312\ttotal: 47.3s\tremaining: 17.7s\n",
            "364:\tlearn: 0.4667194\ttotal: 47.4s\tremaining: 17.5s\n",
            "365:\tlearn: 0.4667062\ttotal: 47.6s\tremaining: 17.4s\n",
            "366:\tlearn: 0.4666944\ttotal: 47.7s\tremaining: 17.3s\n",
            "367:\tlearn: 0.4666769\ttotal: 47.8s\tremaining: 17.1s\n",
            "368:\tlearn: 0.4666596\ttotal: 48s\tremaining: 17s\n",
            "369:\tlearn: 0.4666464\ttotal: 48.1s\tremaining: 16.9s\n",
            "370:\tlearn: 0.4666344\ttotal: 48.2s\tremaining: 16.8s\n",
            "371:\tlearn: 0.4666211\ttotal: 48.4s\tremaining: 16.6s\n",
            "372:\tlearn: 0.4666077\ttotal: 48.5s\tremaining: 16.5s\n",
            "373:\tlearn: 0.4665922\ttotal: 48.6s\tremaining: 16.4s\n",
            "374:\tlearn: 0.4665840\ttotal: 48.8s\tremaining: 16.3s\n",
            "375:\tlearn: 0.4665692\ttotal: 48.9s\tremaining: 16.1s\n",
            "376:\tlearn: 0.4665559\ttotal: 49s\tremaining: 16s\n",
            "377:\tlearn: 0.4665408\ttotal: 49.2s\tremaining: 15.9s\n",
            "378:\tlearn: 0.4665308\ttotal: 49.3s\tremaining: 15.7s\n",
            "379:\tlearn: 0.4665195\ttotal: 49.4s\tremaining: 15.6s\n",
            "380:\tlearn: 0.4665084\ttotal: 49.6s\tremaining: 15.5s\n",
            "381:\tlearn: 0.4664969\ttotal: 49.7s\tremaining: 15.3s\n",
            "382:\tlearn: 0.4664852\ttotal: 49.8s\tremaining: 15.2s\n",
            "383:\tlearn: 0.4664739\ttotal: 50s\tremaining: 15.1s\n",
            "384:\tlearn: 0.4664643\ttotal: 50.1s\tremaining: 15s\n",
            "385:\tlearn: 0.4664520\ttotal: 50.2s\tremaining: 14.8s\n",
            "386:\tlearn: 0.4664421\ttotal: 50.3s\tremaining: 14.7s\n",
            "387:\tlearn: 0.4664289\ttotal: 50.5s\tremaining: 14.6s\n",
            "388:\tlearn: 0.4664151\ttotal: 50.6s\tremaining: 14.4s\n",
            "389:\tlearn: 0.4664043\ttotal: 50.8s\tremaining: 14.3s\n",
            "390:\tlearn: 0.4663919\ttotal: 50.9s\tremaining: 14.2s\n",
            "391:\tlearn: 0.4663814\ttotal: 51s\tremaining: 14.1s\n",
            "392:\tlearn: 0.4663696\ttotal: 51.1s\tremaining: 13.9s\n",
            "393:\tlearn: 0.4663586\ttotal: 51.3s\tremaining: 13.8s\n",
            "394:\tlearn: 0.4663508\ttotal: 51.4s\tremaining: 13.7s\n",
            "395:\tlearn: 0.4663397\ttotal: 51.5s\tremaining: 13.5s\n",
            "396:\tlearn: 0.4663278\ttotal: 51.7s\tremaining: 13.4s\n",
            "397:\tlearn: 0.4663205\ttotal: 51.8s\tremaining: 13.3s\n",
            "398:\tlearn: 0.4663088\ttotal: 51.9s\tremaining: 13.1s\n",
            "399:\tlearn: 0.4662974\ttotal: 52s\tremaining: 13s\n",
            "400:\tlearn: 0.4662855\ttotal: 52.2s\tremaining: 12.9s\n",
            "401:\tlearn: 0.4662725\ttotal: 52.3s\tremaining: 12.7s\n",
            "402:\tlearn: 0.4662620\ttotal: 52.4s\tremaining: 12.6s\n",
            "403:\tlearn: 0.4662524\ttotal: 52.6s\tremaining: 12.5s\n",
            "404:\tlearn: 0.4662417\ttotal: 52.7s\tremaining: 12.4s\n",
            "405:\tlearn: 0.4662314\ttotal: 52.8s\tremaining: 12.2s\n",
            "406:\tlearn: 0.4662227\ttotal: 53s\tremaining: 12.1s\n",
            "407:\tlearn: 0.4662145\ttotal: 53.1s\tremaining: 12s\n",
            "408:\tlearn: 0.4662034\ttotal: 53.3s\tremaining: 11.9s\n",
            "409:\tlearn: 0.4661935\ttotal: 53.4s\tremaining: 11.7s\n",
            "410:\tlearn: 0.4661836\ttotal: 53.5s\tremaining: 11.6s\n",
            "411:\tlearn: 0.4661725\ttotal: 53.6s\tremaining: 11.5s\n",
            "412:\tlearn: 0.4661636\ttotal: 53.8s\tremaining: 11.3s\n",
            "413:\tlearn: 0.4661538\ttotal: 53.9s\tremaining: 11.2s\n",
            "414:\tlearn: 0.4661433\ttotal: 54.1s\tremaining: 11.1s\n",
            "415:\tlearn: 0.4661322\ttotal: 54.2s\tremaining: 10.9s\n",
            "416:\tlearn: 0.4661219\ttotal: 54.3s\tremaining: 10.8s\n",
            "417:\tlearn: 0.4661132\ttotal: 54.5s\tremaining: 10.7s\n",
            "418:\tlearn: 0.4661056\ttotal: 54.6s\tremaining: 10.6s\n",
            "419:\tlearn: 0.4660954\ttotal: 54.7s\tremaining: 10.4s\n",
            "420:\tlearn: 0.4660850\ttotal: 54.9s\tremaining: 10.3s\n",
            "421:\tlearn: 0.4660758\ttotal: 55s\tremaining: 10.2s\n",
            "422:\tlearn: 0.4660641\ttotal: 55.2s\tremaining: 10s\n",
            "423:\tlearn: 0.4660553\ttotal: 55.3s\tremaining: 9.91s\n",
            "424:\tlearn: 0.4660474\ttotal: 55.4s\tremaining: 9.78s\n",
            "425:\tlearn: 0.4660377\ttotal: 55.6s\tremaining: 9.66s\n",
            "426:\tlearn: 0.4660283\ttotal: 55.7s\tremaining: 9.53s\n",
            "427:\tlearn: 0.4660209\ttotal: 55.9s\tremaining: 9.39s\n",
            "428:\tlearn: 0.4660132\ttotal: 56s\tremaining: 9.26s\n",
            "429:\tlearn: 0.4660051\ttotal: 56.1s\tremaining: 9.13s\n",
            "430:\tlearn: 0.4659976\ttotal: 56.2s\tremaining: 9s\n",
            "431:\tlearn: 0.4659886\ttotal: 56.4s\tremaining: 8.87s\n",
            "432:\tlearn: 0.4659786\ttotal: 56.5s\tremaining: 8.74s\n",
            "433:\tlearn: 0.4659714\ttotal: 56.6s\tremaining: 8.61s\n",
            "434:\tlearn: 0.4659613\ttotal: 56.7s\tremaining: 8.48s\n",
            "435:\tlearn: 0.4659544\ttotal: 56.8s\tremaining: 8.34s\n",
            "436:\tlearn: 0.4659448\ttotal: 57s\tremaining: 8.21s\n",
            "437:\tlearn: 0.4659364\ttotal: 57.1s\tremaining: 8.08s\n",
            "438:\tlearn: 0.4659259\ttotal: 57.3s\tremaining: 7.96s\n",
            "439:\tlearn: 0.4659166\ttotal: 57.4s\tremaining: 7.83s\n",
            "440:\tlearn: 0.4659093\ttotal: 57.5s\tremaining: 7.7s\n",
            "441:\tlearn: 0.4659017\ttotal: 57.7s\tremaining: 7.57s\n",
            "442:\tlearn: 0.4658933\ttotal: 57.8s\tremaining: 7.44s\n",
            "443:\tlearn: 0.4658872\ttotal: 57.9s\tremaining: 7.3s\n",
            "444:\tlearn: 0.4658788\ttotal: 58.1s\tremaining: 7.17s\n",
            "445:\tlearn: 0.4658699\ttotal: 58.2s\tremaining: 7.05s\n",
            "446:\tlearn: 0.4658613\ttotal: 58.3s\tremaining: 6.91s\n",
            "447:\tlearn: 0.4658539\ttotal: 58.4s\tremaining: 6.78s\n",
            "448:\tlearn: 0.4658471\ttotal: 58.6s\tremaining: 6.65s\n",
            "449:\tlearn: 0.4658384\ttotal: 58.7s\tremaining: 6.52s\n",
            "450:\tlearn: 0.4658307\ttotal: 58.8s\tremaining: 6.39s\n",
            "451:\tlearn: 0.4658231\ttotal: 58.9s\tremaining: 6.26s\n",
            "452:\tlearn: 0.4658163\ttotal: 59s\tremaining: 6.13s\n",
            "453:\tlearn: 0.4658081\ttotal: 59.2s\tremaining: 6s\n",
            "454:\tlearn: 0.4657996\ttotal: 59.3s\tremaining: 5.86s\n",
            "455:\tlearn: 0.4657891\ttotal: 59.4s\tremaining: 5.73s\n",
            "456:\tlearn: 0.4657815\ttotal: 59.5s\tremaining: 5.6s\n",
            "457:\tlearn: 0.4657727\ttotal: 59.7s\tremaining: 5.47s\n",
            "458:\tlearn: 0.4657638\ttotal: 59.8s\tremaining: 5.34s\n",
            "459:\tlearn: 0.4657551\ttotal: 60s\tremaining: 5.21s\n",
            "460:\tlearn: 0.4657476\ttotal: 1m\tremaining: 5.08s\n",
            "461:\tlearn: 0.4657394\ttotal: 1m\tremaining: 4.95s\n",
            "462:\tlearn: 0.4657333\ttotal: 1m\tremaining: 4.82s\n",
            "463:\tlearn: 0.4657272\ttotal: 1m\tremaining: 4.69s\n",
            "464:\tlearn: 0.4657195\ttotal: 1m\tremaining: 4.56s\n",
            "465:\tlearn: 0.4657114\ttotal: 1m\tremaining: 4.43s\n",
            "466:\tlearn: 0.4657050\ttotal: 1m\tremaining: 4.3s\n",
            "467:\tlearn: 0.4656983\ttotal: 1m\tremaining: 4.17s\n",
            "468:\tlearn: 0.4656936\ttotal: 1m 1s\tremaining: 4.04s\n",
            "469:\tlearn: 0.4656866\ttotal: 1m 1s\tremaining: 3.9s\n",
            "470:\tlearn: 0.4656797\ttotal: 1m 1s\tremaining: 3.77s\n",
            "471:\tlearn: 0.4656729\ttotal: 1m 1s\tremaining: 3.64s\n",
            "472:\tlearn: 0.4656651\ttotal: 1m 1s\tremaining: 3.51s\n",
            "473:\tlearn: 0.4656578\ttotal: 1m 1s\tremaining: 3.38s\n",
            "474:\tlearn: 0.4656519\ttotal: 1m 1s\tremaining: 3.25s\n",
            "475:\tlearn: 0.4656442\ttotal: 1m 1s\tremaining: 3.12s\n",
            "476:\tlearn: 0.4656367\ttotal: 1m 2s\tremaining: 2.99s\n",
            "477:\tlearn: 0.4656298\ttotal: 1m 2s\tremaining: 2.86s\n",
            "478:\tlearn: 0.4656239\ttotal: 1m 2s\tremaining: 2.73s\n",
            "479:\tlearn: 0.4656163\ttotal: 1m 2s\tremaining: 2.6s\n",
            "480:\tlearn: 0.4656096\ttotal: 1m 2s\tremaining: 2.47s\n",
            "481:\tlearn: 0.4656005\ttotal: 1m 2s\tremaining: 2.34s\n",
            "482:\tlearn: 0.4655919\ttotal: 1m 2s\tremaining: 2.21s\n",
            "483:\tlearn: 0.4655844\ttotal: 1m 2s\tremaining: 2.08s\n",
            "484:\tlearn: 0.4655767\ttotal: 1m 3s\tremaining: 1.95s\n",
            "485:\tlearn: 0.4655684\ttotal: 1m 3s\tremaining: 1.82s\n",
            "486:\tlearn: 0.4655586\ttotal: 1m 3s\tremaining: 1.69s\n",
            "487:\tlearn: 0.4655521\ttotal: 1m 3s\tremaining: 1.56s\n",
            "488:\tlearn: 0.4655439\ttotal: 1m 3s\tremaining: 1.43s\n",
            "489:\tlearn: 0.4655373\ttotal: 1m 3s\tremaining: 1.3s\n",
            "490:\tlearn: 0.4655311\ttotal: 1m 3s\tremaining: 1.17s\n",
            "491:\tlearn: 0.4655265\ttotal: 1m 3s\tremaining: 1.04s\n",
            "492:\tlearn: 0.4655188\ttotal: 1m 4s\tremaining: 910ms\n",
            "493:\tlearn: 0.4655128\ttotal: 1m 4s\tremaining: 780ms\n",
            "494:\tlearn: 0.4655064\ttotal: 1m 4s\tremaining: 650ms\n",
            "495:\tlearn: 0.4655002\ttotal: 1m 4s\tremaining: 520ms\n",
            "496:\tlearn: 0.4654919\ttotal: 1m 4s\tremaining: 390ms\n",
            "497:\tlearn: 0.4654835\ttotal: 1m 4s\tremaining: 260ms\n",
            "498:\tlearn: 0.4654782\ttotal: 1m 4s\tremaining: 130ms\n",
            "499:\tlearn: 0.4654702\ttotal: 1m 4s\tremaining: 0us\n"
          ]
        },
        {
          "output_type": "execute_result",
          "data": {
            "text/plain": [
              "Pipeline(memory='./cache/classifier/cat_boost',\n",
              "         steps=[['Classifier', <catboost.core.CatBoostClassifier object at 0x7f8e54611810>]])"
            ]
          },
          "metadata": {},
          "execution_count": 13
        }
      ],
      "source": [
        "classifier.fit(X_train, y_train)"
      ],
      "metadata": {
        "pycharm": {
          "name": "#%%\n"
        },
        "id": "wcYEbZ6YbQdG",
        "outputId": "197372d5-f94b-4f4a-f24e-a7449a5640a2",
        "colab": {
          "base_uri": "https://localhost:8080/"
        }
      }
    },
    {
      "cell_type": "code",
      "execution_count": 16,
      "outputs": [],
      "source": [
        "y_pred = classifier.predict(X_test)"
      ],
      "metadata": {
        "pycharm": {
          "name": "#%%\n"
        },
        "id": "7OIEM2bkbQdG"
      }
    },
    {
      "cell_type": "code",
      "execution_count": 17,
      "outputs": [
        {
          "output_type": "execute_result",
          "data": {
            "text/plain": [
              "0.8003992150568814"
            ]
          },
          "metadata": {},
          "execution_count": 17
        }
      ],
      "source": [
        "from sklearn.metrics import accuracy_score\n",
        "\n",
        "accuracy_score(y_test, y_pred)"
      ],
      "metadata": {
        "pycharm": {
          "name": "#%%\n"
        },
        "id": "46cJwDj4bQdG",
        "outputId": "813ee588-006b-4c84-95c5-942779d7b1cc",
        "colab": {
          "base_uri": "https://localhost:8080/"
        }
      }
    },
    {
      "cell_type": "code",
      "execution_count": 18,
      "outputs": [
        {
          "output_type": "execute_result",
          "data": {
            "text/plain": [
              "0.5044118867933927"
            ]
          },
          "metadata": {},
          "execution_count": 18
        }
      ],
      "source": [
        "from sklearn.metrics import balanced_accuracy_score\n",
        "\n",
        "balanced_accuracy_score(y_test, y_pred)"
      ],
      "metadata": {
        "pycharm": {
          "name": "#%%\n"
        },
        "id": "vehzUo_0bQdG",
        "outputId": "30d0bed6-7c54-4298-aab5-08d53cee3700",
        "colab": {
          "base_uri": "https://localhost:8080/"
        }
      }
    },
    {
      "cell_type": "code",
      "execution_count": 19,
      "outputs": [
        {
          "output_type": "execute_result",
          "data": {
            "text/plain": [
              "0.2042559010457584"
            ]
          },
          "metadata": {},
          "execution_count": 19
        }
      ],
      "source": [
        "from sklearn.metrics import average_precision_score\n",
        "\n",
        "average_precision_score(y_test, y_pred)"
      ],
      "metadata": {
        "pycharm": {
          "name": "#%%\n"
        },
        "id": "rf8jwC5lbQdH",
        "outputId": "fb0facf7-69d8-498d-9f13-1ba621b47f02",
        "colab": {
          "base_uri": "https://localhost:8080/"
        }
      }
    },
    {
      "cell_type": "code",
      "source": [
        "from sklearn.metrics import f1_score\n",
        "\n",
        "f1_score(y_test, y_pred)"
      ],
      "metadata": {
        "colab": {
          "base_uri": "https://localhost:8080/"
        },
        "id": "wdUtg7JABqGR",
        "outputId": "af4c1ab8-ff2d-4dd9-92ef-ea117284e9ce"
      },
      "execution_count": 20,
      "outputs": [
        {
          "output_type": "execute_result",
          "data": {
            "text/plain": [
              "0.02120787910186175"
            ]
          },
          "metadata": {},
          "execution_count": 20
        }
      ]
    },
    {
      "cell_type": "code",
      "source": [
        "y_pred = classifier.predict_proba(X_test)[:, 1]"
      ],
      "metadata": {
        "id": "pKO6IpJrOGtU"
      },
      "execution_count": 23,
      "outputs": []
    },
    {
      "cell_type": "code",
      "execution_count": 24,
      "outputs": [
        {
          "output_type": "execute_result",
          "data": {
            "text/plain": [
              "<sklearn.metrics._plot.roc_curve.RocCurveDisplay at 0x7f8e5ccb8090>"
            ]
          },
          "metadata": {},
          "execution_count": 24
        },
        {
          "output_type": "display_data",
          "data": {
            "text/plain": [
              "<Figure size 432x288 with 1 Axes>"
            ],
            "image/png": "[encoded data removed]"
          },
          "metadata": {
            "needs_background": "light"
          }
        }
      ],
      "source": [
        "from sklearn.metrics import RocCurveDisplay\n",
        "\n",
        "RocCurveDisplay.from_predictions(y_test, y_pred)"
      ],
      "metadata": {
        "pycharm": {
          "name": "#%%\n"
        },
        "id": "AfcQzHLpbQdG",
        "outputId": "bb88967f-bbaa-43fa-8b93-144c9e08886b",
        "colab": {
          "base_uri": "https://localhost:8080/",
          "height": 297
        }
      }
    },
    {
      "cell_type": "code",
      "execution_count": 25,
      "outputs": [
        {
          "output_type": "execute_result",
          "data": {
            "text/plain": [
              "<sklearn.metrics._plot.precision_recall_curve.PrecisionRecallDisplay at 0x7f8e5cd05b90>"
            ]
          },
          "metadata": {},
          "execution_count": 25
        },
        {
          "output_type": "display_data",
          "data": {
            "text/plain": [
              "<Figure size 432x288 with 1 Axes>"
            ],
            "image/png": "[encoded data removed]"
          },
          "metadata": {
            "needs_background": "light"
          }
        }
      ],
      "source": [
        "from sklearn.metrics import PrecisionRecallDisplay\n",
        "\n",
        "PrecisionRecallDisplay.from_predictions(y_test, y_pred)"
      ],
      "metadata": {
        "pycharm": {
          "name": "#%%\n"
        },
        "id": "vKT7oEqIbQdH",
        "outputId": "9b5756eb-a611-46b1-f0d3-5582eaff5ef9",
        "colab": {
          "base_uri": "https://localhost:8080/",
          "height": 297
        }
      }
    },
    {
      "cell_type": "code",
      "source": [
        "from utils import capcurve\n",
        "\n",
        "capcurve(y_test, y_pred)"
      ],
      "metadata": {
        "colab": {
          "base_uri": "https://localhost:8080/",
          "height": 295
        },
        "id": "Tcu0DeYq-Ime",
        "outputId": "fb7a8154-b298-427a-86ac-e21a9325e58e"
      },
      "execution_count": 26,
      "outputs": [
        {
          "output_type": "display_data",
          "data": {
            "text/plain": [
              "<Figure size 432x288 with 1 Axes>"
            ],
            "image/png": "[encoded data removed]"
          },
          "metadata": {
            "needs_background": "light"
          }
        }
      ]
    },
    {
      "cell_type": "code",
      "execution_count": 27,
      "outputs": [],
      "source": [
        "classifier.steps[0][1].save_model(\"models/cat_boost\")"
      ],
      "metadata": {
        "pycharm": {
          "name": "#%%\n"
        },
        "id": "t3TKT-pnbQdH"
      }
    },
    {
      "cell_type": "code",
      "source": [
        ""
      ],
      "metadata": {
        "id": "q-im621kI25T"
      },
      "execution_count": null,
      "outputs": []
    }
  ],
  "metadata": {
    "kernelspec": {
      "display_name": "Python 3",
      "language": "python",
      "name": "python3"
    },
    "language_info": {
      "codemirror_mode": {
        "name": "ipython",
        "version": 2
      },
      "file_extension": ".py",
      "mimetype": "text/x-python",
      "name": "python",
      "nbconvert_exporter": "python",
      "pygments_lexer": "ipython2",
      "version": "2.7.6"
    },
    "colab": {
      "name": "colab_cat_boost.ipynb",
      "provenance": []
    },
    "accelerator": "GPU",
    "gpuClass": "standard"
  },
  "nbformat": 4,
  "nbformat_minor": 0
}