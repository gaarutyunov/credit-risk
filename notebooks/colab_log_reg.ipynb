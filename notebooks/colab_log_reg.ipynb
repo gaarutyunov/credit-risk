{
 "cells": [
  {
   "cell_type": "markdown",
   "source": [
    "# Logistic regression for default prediction\n",
    "\n",
    "[![Open In Colab](https://colab.research.google.com/assets/colab-badge.svg)](https://colab.research.google.com/github/gaarutyunov/credit-risk/blob/master/notebooks/colab_log_reg.ipynb)"
   ],
   "metadata": {
    "collapsed": false,
    "pycharm": {
     "name": "#%% md\n"
    },
    "id": "oH-FJhyrHZls"
   }
  },
  {
   "cell_type": "markdown",
   "source": [
    "## Environment settings\n",
    "\n",
    "For better performance change Colab runtime type to GPU"
   ],
   "metadata": {
    "collapsed": false,
    "pycharm": {
     "name": "#%% md\n"
    },
    "id": "MhMt8PWnPRwt"
   }
  },
  {
   "cell_type": "code",
   "execution_count": 1,
   "outputs": [
    {
     "output_type": "stream",
     "name": "stdout",
     "text": [
      "Cloning into 'credit-risk'...\n",
      "remote: Enumerating objects: 186, done.\u001B[K\n",
      "remote: Counting objects: 100% (186/186), done.\u001B[K\n",
      "remote: Compressing objects: 100% (123/123), done.\u001B[K\n",
      "remote: Total 186 (delta 99), reused 143 (delta 56), pack-reused 0\u001B[K\n",
      "Receiving objects: 100% (186/186), 739.81 KiB | 12.75 MiB/s, done.\n",
      "Resolving deltas: 100% (99/99), done.\n"
     ]
    }
   ],
   "source": [
    "!git clone https://github.com/gaarutyunov/credit-risk.git"
   ],
   "metadata": {
    "pycharm": {
     "name": "#%%\n"
    },
    "colab": {
     "base_uri": "https://localhost:8080/"
    },
    "id": "-xcP3LUGPRwt",
    "outputId": "136700ab-2d33-4d73-f302-7187887a309a"
   }
  },
  {
   "cell_type": "code",
   "execution_count": 2,
   "outputs": [
    {
     "output_type": "stream",
     "name": "stdout",
     "text": [
      "/content/credit-risk\n"
     ]
    }
   ],
   "source": [
    "%cd credit-risk"
   ],
   "metadata": {
    "pycharm": {
     "name": "#%%\n"
    },
    "colab": {
     "base_uri": "https://localhost:8080/"
    },
    "id": "d_pbSAEHPRwu",
    "outputId": "c614c1d5-ee2e-4886-87a1-2aacea9a8dcf"
   }
  },
  {
   "cell_type": "code",
   "execution_count": 3,
   "outputs": [
    {
     "output_type": "stream",
     "name": "stdout",
     "text": [
      "Looking in indexes: https://pypi.org/simple, https://us-python.pkg.dev/colab-wheels/public/simple/\n",
      "Collecting wing\n",
      "  Cloning https://github.com/sberbank-ai/wing.git (to revision master) to /tmp/pip-install-xzkdjoyg/wing_f9ae902b47084ab689ebb423d2237f3b\n",
      "  Running command git clone -q https://github.com/sberbank-ai/wing.git /tmp/pip-install-xzkdjoyg/wing_f9ae902b47084ab689ebb423d2237f3b\n",
      "Requirement already satisfied: scikit-learn in /usr/local/lib/python3.7/dist-packages (from -r requirements.txt (line 1)) (1.0.2)\n",
      "Collecting hydra-core\n",
      "  Downloading hydra_core-1.2.0-py3-none-any.whl (151 kB)\n",
      "\u001B[K     |████████████████████████████████| 151 kB 5.1 MB/s \n",
      "\u001B[?25hCollecting omegaconf\n",
      "  Downloading omegaconf-2.2.2-py3-none-any.whl (79 kB)\n",
      "\u001B[K     |████████████████████████████████| 79 kB 8.1 MB/s \n",
      "\u001B[?25hRequirement already satisfied: numpy in /usr/local/lib/python3.7/dist-packages (from -r requirements.txt (line 4)) (1.21.6)\n",
      "Requirement already satisfied: pandas in /usr/local/lib/python3.7/dist-packages (from -r requirements.txt (line 5)) (1.3.5)\n",
      "Collecting catboost\n",
      "  Downloading catboost-1.0.6-cp37-none-manylinux1_x86_64.whl (76.6 MB)\n",
      "\u001B[K     |████████████████████████████████| 76.6 MB 1.1 MB/s \n",
      "\u001B[?25hRequirement already satisfied: kaggle in /usr/local/lib/python3.7/dist-packages (from -r requirements.txt (line 8)) (1.5.12)\n",
      "Collecting skorch\n",
      "  Downloading skorch-0.11.0-py3-none-any.whl (155 kB)\n",
      "\u001B[K     |████████████████████████████████| 155 kB 66.7 MB/s \n",
      "\u001B[?25hRequirement already satisfied: torch in /usr/local/lib/python3.7/dist-packages (from -r requirements.txt (line 10)) (1.11.0+cu113)\n",
      "Requirement already satisfied: joblib in /usr/local/lib/python3.7/dist-packages (from -r requirements.txt (line 11)) (1.1.0)\n",
      "Requirement already satisfied: threadpoolctl>=2.0.0 in /usr/local/lib/python3.7/dist-packages (from scikit-learn->-r requirements.txt (line 1)) (3.1.0)\n",
      "Requirement already satisfied: scipy>=1.1.0 in /usr/local/lib/python3.7/dist-packages (from scikit-learn->-r requirements.txt (line 1)) (1.4.1)\n",
      "Requirement already satisfied: importlib-resources in /usr/local/lib/python3.7/dist-packages (from hydra-core->-r requirements.txt (line 2)) (5.7.1)\n",
      "Collecting antlr4-python3-runtime==4.9.*\n",
      "  Downloading antlr4-python3-runtime-4.9.3.tar.gz (117 kB)\n",
      "\u001B[K     |████████████████████████████████| 117 kB 70.8 MB/s \n",
      "\u001B[?25hRequirement already satisfied: packaging in /usr/local/lib/python3.7/dist-packages (from hydra-core->-r requirements.txt (line 2)) (21.3)\n",
      "Collecting PyYAML>=5.1.0\n",
      "  Downloading PyYAML-6.0-cp37-cp37m-manylinux_2_5_x86_64.manylinux1_x86_64.manylinux_2_12_x86_64.manylinux2010_x86_64.whl (596 kB)\n",
      "\u001B[K     |████████████████████████████████| 596 kB 67.3 MB/s \n",
      "\u001B[?25hRequirement already satisfied: pytz>=2017.3 in /usr/local/lib/python3.7/dist-packages (from pandas->-r requirements.txt (line 5)) (2022.1)\n",
      "Requirement already satisfied: python-dateutil>=2.7.3 in /usr/local/lib/python3.7/dist-packages (from pandas->-r requirements.txt (line 5)) (2.8.2)\n",
      "Requirement already satisfied: six>=1.5 in /usr/local/lib/python3.7/dist-packages (from python-dateutil>=2.7.3->pandas->-r requirements.txt (line 5)) (1.15.0)\n",
      "Requirement already satisfied: graphviz in /usr/local/lib/python3.7/dist-packages (from catboost->-r requirements.txt (line 6)) (0.10.1)\n",
      "Requirement already satisfied: plotly in /usr/local/lib/python3.7/dist-packages (from catboost->-r requirements.txt (line 6)) (5.5.0)\n",
      "Requirement already satisfied: matplotlib in /usr/local/lib/python3.7/dist-packages (from catboost->-r requirements.txt (line 6)) (3.2.2)\n",
      "Requirement already satisfied: tqdm in /usr/local/lib/python3.7/dist-packages (from kaggle->-r requirements.txt (line 8)) (4.64.0)\n",
      "Requirement already satisfied: certifi in /usr/local/lib/python3.7/dist-packages (from kaggle->-r requirements.txt (line 8)) (2022.5.18.1)\n",
      "Requirement already satisfied: requests in /usr/local/lib/python3.7/dist-packages (from kaggle->-r requirements.txt (line 8)) (2.23.0)\n",
      "Requirement already satisfied: urllib3 in /usr/local/lib/python3.7/dist-packages (from kaggle->-r requirements.txt (line 8)) (1.24.3)\n",
      "Requirement already satisfied: python-slugify in /usr/local/lib/python3.7/dist-packages (from kaggle->-r requirements.txt (line 8)) (6.1.2)\n",
      "Requirement already satisfied: tabulate>=0.7.7 in /usr/local/lib/python3.7/dist-packages (from skorch->-r requirements.txt (line 9)) (0.8.9)\n",
      "Requirement already satisfied: typing-extensions in /usr/local/lib/python3.7/dist-packages (from torch->-r requirements.txt (line 10)) (4.2.0)\n",
      "Requirement already satisfied: zipp>=3.1.0 in /usr/local/lib/python3.7/dist-packages (from importlib-resources->hydra-core->-r requirements.txt (line 2)) (3.8.0)\n",
      "Requirement already satisfied: cycler>=0.10 in /usr/local/lib/python3.7/dist-packages (from matplotlib->catboost->-r requirements.txt (line 6)) (0.11.0)\n",
      "Requirement already satisfied: kiwisolver>=1.0.1 in /usr/local/lib/python3.7/dist-packages (from matplotlib->catboost->-r requirements.txt (line 6)) (1.4.2)\n",
      "Requirement already satisfied: pyparsing!=2.0.4,!=2.1.2,!=2.1.6,>=2.0.1 in /usr/local/lib/python3.7/dist-packages (from matplotlib->catboost->-r requirements.txt (line 6)) (3.0.9)\n",
      "Requirement already satisfied: tenacity>=6.2.0 in /usr/local/lib/python3.7/dist-packages (from plotly->catboost->-r requirements.txt (line 6)) (8.0.1)\n",
      "Requirement already satisfied: text-unidecode>=1.3 in /usr/local/lib/python3.7/dist-packages (from python-slugify->kaggle->-r requirements.txt (line 8)) (1.3)\n",
      "Requirement already satisfied: idna<3,>=2.5 in /usr/local/lib/python3.7/dist-packages (from requests->kaggle->-r requirements.txt (line 8)) (2.10)\n",
      "Requirement already satisfied: chardet<4,>=3.0.2 in /usr/local/lib/python3.7/dist-packages (from requests->kaggle->-r requirements.txt (line 8)) (3.0.4)\n",
      "Building wheels for collected packages: wing, antlr4-python3-runtime\n",
      "  Building wheel for wing (setup.py) ... \u001B[?25l\u001B[?25hdone\n",
      "  Created wheel for wing: filename=wing-0.1.6-py3-none-any.whl size=12768 sha256=fbba1e47ceca4d7050116ae2c4ffce62c295a832a66096262da672972f62031d\n",
      "  Stored in directory: /tmp/pip-ephem-wheel-cache-heitlasf/wheels/d0/d3/78/d1cb5717341968f8319fa57765f68a894fc1b21d4f4068b519\n",
      "  Building wheel for antlr4-python3-runtime (setup.py) ... \u001B[?25l\u001B[?25hdone\n",
      "  Created wheel for antlr4-python3-runtime: filename=antlr4_python3_runtime-4.9.3-py3-none-any.whl size=144575 sha256=baafb23bc50a02f1bab04b996be61914fd787f06567c66451234d96cf49c7afd\n",
      "  Stored in directory: /root/.cache/pip/wheels/8b/8d/53/2af8772d9aec614e3fc65e53d4a993ad73c61daa8bbd85a873\n",
      "Successfully built wing antlr4-python3-runtime\n",
      "Installing collected packages: PyYAML, antlr4-python3-runtime, omegaconf, wing, skorch, hydra-core, catboost\n",
      "  Attempting uninstall: PyYAML\n",
      "    Found existing installation: PyYAML 3.13\n",
      "    Uninstalling PyYAML-3.13:\n",
      "      Successfully uninstalled PyYAML-3.13\n",
      "Successfully installed PyYAML-6.0 antlr4-python3-runtime-4.9.3 catboost-1.0.6 hydra-core-1.2.0 omegaconf-2.2.2 skorch-0.11.0 wing-0.1.6\n"
     ]
    },
    {
     "output_type": "display_data",
     "data": {
      "application/vnd.colab-display-data+json": {
       "pip_warning": {
        "packages": [
         "pydevd_plugins"
        ]
       }
      }
     },
     "metadata": {}
    }
   ],
   "source": [
    "!pip install -r requirements.txt"
   ],
   "metadata": {
    "pycharm": {
     "name": "#%%\n"
    },
    "colab": {
     "base_uri": "https://localhost:8080/",
     "height": 1000
    },
    "id": "w0F__a41PRwv",
    "outputId": "487346c9-477c-421f-8758-cc7ef16204c3"
   }
  },
  {
   "cell_type": "markdown",
   "source": [
    "To get username and key follow instructions in [readme](https://github.com/Kaggle/kaggle-api)"
   ],
   "metadata": {
    "collapsed": false,
    "pycharm": {
     "name": "#%% md\n"
    },
    "id": "qt9T2uE4PRwv"
   }
  },
  {
   "cell_type": "code",
   "execution_count": null,
   "outputs": [],
   "source": [
    "%env KAGGLE_USERNAME=<username>\n",
    "%env KAGGLE_KEY=<key>"
   ],
   "metadata": {
    "pycharm": {
     "name": "#%%\n"
    },
    "id": "M2e2U54-PRwv"
   }
  },
  {
   "cell_type": "code",
   "execution_count": 5,
   "outputs": [
    {
     "output_type": "stream",
     "name": "stdout",
     "text": [
      "Downloading lending-club.zip to /content/credit-risk\n",
      "100% 1.26G/1.26G [00:09<00:00, 172MB/s]\n",
      "100% 1.26G/1.26G [00:09<00:00, 145MB/s]\n"
     ]
    }
   ],
   "source": [
    "!kaggle datasets download wordsforthewise/lending-club"
   ],
   "metadata": {
    "pycharm": {
     "name": "#%%\n"
    },
    "id": "jck0imM_HZlz",
    "outputId": "8f75bd94-3084-4e0e-9e57-37e95e800cd6",
    "colab": {
     "base_uri": "https://localhost:8080/"
    }
   }
  },
  {
   "cell_type": "code",
   "execution_count": 6,
   "outputs": [
    {
     "output_type": "stream",
     "name": "stdout",
     "text": [
      "Archive:  lending-club.zip\n",
      "  inflating: accepted_2007_to_2018Q4.csv.gz  \n",
      "  inflating: accepted_2007_to_2018q4.csv/accepted_2007_to_2018Q4.csv  \n",
      "  inflating: rejected_2007_to_2018Q4.csv.gz  \n",
      "  inflating: rejected_2007_to_2018q4.csv/rejected_2007_to_2018Q4.csv  \n"
     ]
    }
   ],
   "source": [
    "!unzip lending-club.zip"
   ],
   "metadata": {
    "pycharm": {
     "name": "#%%\n"
    },
    "id": "BzJ08YcvHZl0",
    "outputId": "577ce595-989a-4d66-b05b-72489aad8b0f",
    "colab": {
     "base_uri": "https://localhost:8080/"
    }
   }
  },
  {
   "cell_type": "code",
   "execution_count": 7,
   "outputs": [],
   "source": [
    "!mkdir data"
   ],
   "metadata": {
    "pycharm": {
     "name": "#%%\n"
    },
    "id": "Vi9C1dN3HZl0"
   }
  },
  {
   "cell_type": "code",
   "execution_count": 8,
   "outputs": [],
   "source": [
    "!mv accepted_2007_to_2018q4.csv/accepted_2007_to_2018Q4.csv data/accepted_2007_to_2018Q4.csv\n",
    "!mv rejected_2007_to_2018q4.csv/rejected_2007_to_2018Q4.csv data/rejected_2007_to_2018Q4.csv"
   ],
   "metadata": {
    "pycharm": {
     "name": "#%%\n"
    },
    "id": "SjDl54zuHZl2"
   }
  },
  {
   "cell_type": "markdown",
   "source": [
    "## Preprocessing"
   ],
   "metadata": {
    "collapsed": false,
    "pycharm": {
     "name": "#%% md\n"
    },
    "id": "Ftq2U4h0PRwz"
   }
  },
  {
   "cell_type": "code",
   "execution_count": 9,
   "outputs": [
    {
     "output_type": "stream",
     "name": "stdout",
     "text": [
      "_target_: pipeline.make_preprocessing_pipeline\n",
      "steps_config:\n",
      "- CSVReader:\n",
      "    _target_: pipeline.CSVReader\n",
      "    _convert_: all\n",
      "    file: data/accepted_2007_to_2018Q4.csv\n",
      "    columns:\n",
      "    - loan_amnt\n",
      "    - term\n",
      "    - int_rate\n",
      "    - emp_title\n",
      "    - emp_length\n",
      "    - home_ownership\n",
      "    - annual_inc\n",
      "    - verification_status\n",
      "    - loan_status\n",
      "    - purpose\n",
      "    - addr_state\n",
      "    - dti\n",
      "    - earliest_cr_line\n",
      "    - fico_range_high\n",
      "    - inq_last_6mths\n",
      "    - revol_bal\n",
      "    - initial_list_status\n",
      "    - out_prncp\n",
      "    - total_rec_late_fee\n",
      "    - collection_recovery_fee\n",
      "    - last_fico_range_low\n",
      "    - collections_12_mths_ex_med\n",
      "    - application_type\n",
      "    - tot_coll_amt\n",
      "    - avg_cur_bal\n",
      "    - bc_open_to_buy\n",
      "    - chargeoff_within_12_mths\n",
      "    - delinq_amnt\n",
      "    - mo_sin_old_il_acct\n",
      "    - mo_sin_old_rev_tl_op\n",
      "    - mo_sin_rcnt_tl\n",
      "    - mort_acc\n",
      "    - mths_since_recent_bc\n",
      "    - num_accts_ever_120_pd\n",
      "    - num_actv_bc_tl\n",
      "    - num_bc_tl\n",
      "    - num_il_tl\n",
      "    - num_sats\n",
      "    - num_tl_120dpd_2m\n",
      "    - num_tl_30dpd\n",
      "    - num_tl_90g_dpd_24m\n",
      "    - num_tl_op_past_12m\n",
      "    - pct_tl_nvr_dlq\n",
      "    - percent_bc_gt_75\n",
      "    - pub_rec_bankruptcies\n",
      "    - tax_liens\n",
      "    - total_il_high_credit_limit\n",
      "    - disbursement_method\n",
      "- LabelTransformer:\n",
      "    _target_: pipeline.LabelTransformer\n",
      "    _convert_: all\n",
      "- ImputeNumerical:\n",
      "    _target_: pipeline.ApplyToColumns\n",
      "    _convert_: all\n",
      "    inner:\n",
      "      _target_: sklearn.impute.SimpleImputer\n",
      "      strategy: mean\n",
      "    columns:\n",
      "    - loan_amnt\n",
      "    - int_rate\n",
      "    - annual_inc\n",
      "    - dti\n",
      "    - fico_range_high\n",
      "    - inq_last_6mths\n",
      "    - revol_bal\n",
      "    - out_prncp\n",
      "    - total_rec_late_fee\n",
      "    - collection_recovery_fee\n",
      "    - last_fico_range_low\n",
      "    - collections_12_mths_ex_med\n",
      "    - tot_coll_amt\n",
      "    - avg_cur_bal\n",
      "    - bc_open_to_buy\n",
      "    - chargeoff_within_12_mths\n",
      "    - delinq_amnt\n",
      "    - mo_sin_old_il_acct\n",
      "    - mo_sin_old_rev_tl_op\n",
      "    - mo_sin_rcnt_tl\n",
      "    - mort_acc\n",
      "    - mths_since_recent_bc\n",
      "    - num_accts_ever_120_pd\n",
      "    - num_actv_bc_tl\n",
      "    - num_bc_tl\n",
      "    - num_il_tl\n",
      "    - num_sats\n",
      "    - num_tl_120dpd_2m\n",
      "    - num_tl_30dpd\n",
      "    - num_tl_90g_dpd_24m\n",
      "    - num_tl_op_past_12m\n",
      "    - pct_tl_nvr_dlq\n",
      "    - percent_bc_gt_75\n",
      "    - pub_rec_bankruptcies\n",
      "    - tax_liens\n",
      "    - total_il_high_credit_limit\n",
      "- ImputeCategorical:\n",
      "    _target_: pipeline.ApplyToColumns\n",
      "    _convert_: all\n",
      "    inner:\n",
      "      _target_: sklearn.impute.SimpleImputer\n",
      "      strategy: most_frequent\n",
      "    columns:\n",
      "    - term\n",
      "    - emp_title\n",
      "    - emp_length\n",
      "    - home_ownership\n",
      "    - verification_status\n",
      "    - purpose\n",
      "    - addr_state\n",
      "    - earliest_cr_line\n",
      "    - initial_list_status\n",
      "    - application_type\n",
      "    - disbursement_method\n",
      "- ColumnTransformer:\n",
      "    _target_: sklearn.compose.ColumnTransformer\n",
      "    _convert_: all\n",
      "    transformers:\n",
      "    - - one_hot\n",
      "      - _target_: sklearn.preprocessing.OneHotEncoder\n",
      "      - - term\n",
      "        - emp_title\n",
      "        - emp_length\n",
      "        - home_ownership\n",
      "        - verification_status\n",
      "        - purpose\n",
      "        - addr_state\n",
      "        - earliest_cr_line\n",
      "        - initial_list_status\n",
      "        - application_type\n",
      "        - disbursement_method\n",
      "    - - scaler\n",
      "      - _target_: sklearn.preprocessing.StandardScaler\n",
      "      - - loan_amnt\n",
      "        - int_rate\n",
      "        - annual_inc\n",
      "        - dti\n",
      "        - fico_range_high\n",
      "        - inq_last_6mths\n",
      "        - revol_bal\n",
      "        - out_prncp\n",
      "        - total_rec_late_fee\n",
      "        - collection_recovery_fee\n",
      "        - last_fico_range_low\n",
      "        - collections_12_mths_ex_med\n",
      "        - tot_coll_amt\n",
      "        - avg_cur_bal\n",
      "        - bc_open_to_buy\n",
      "        - chargeoff_within_12_mths\n",
      "        - delinq_amnt\n",
      "        - mo_sin_old_il_acct\n",
      "        - mo_sin_old_rev_tl_op\n",
      "        - mo_sin_rcnt_tl\n",
      "        - mort_acc\n",
      "        - mths_since_recent_bc\n",
      "        - num_accts_ever_120_pd\n",
      "        - num_actv_bc_tl\n",
      "        - num_bc_tl\n",
      "        - num_il_tl\n",
      "        - num_sats\n",
      "        - num_tl_120dpd_2m\n",
      "        - num_tl_30dpd\n",
      "        - num_tl_90g_dpd_24m\n",
      "        - num_tl_op_past_12m\n",
      "        - pct_tl_nvr_dlq\n",
      "        - percent_bc_gt_75\n",
      "        - pub_rec_bankruptcies\n",
      "        - tax_liens\n",
      "        - total_il_high_credit_limit\n",
      "\n"
     ]
    }
   ],
   "source": [
    "from pipeline import get_pipeline\n",
    "\n",
    "preprocessing = get_pipeline(\n",
    "    name=\"log_reg\",\n",
    "    group='preprocessing',\n",
    "    debug=True,\n",
    ")"
   ],
   "metadata": {
    "pycharm": {
     "name": "#%%\n"
    },
    "colab": {
     "base_uri": "https://localhost:8080/"
    },
    "id": "WjOpkIXjPRwz",
    "outputId": "9fb22dea-9320-4d5d-e299-f504840adbf1"
   }
  },
  {
   "cell_type": "code",
   "execution_count": 10,
   "outputs": [
    {
     "output_type": "stream",
     "name": "stderr",
     "text": [
      "/usr/local/lib/python3.7/dist-packages/sklearn/pipeline.py:355: UserWarning: Persisting input arguments took 45.21s to run.\n",
      "If this happens often in your code, it can cause performance problems \n",
      "(results will be correct in all cases). \n",
      "The reason for this is probably some large input arguments for a wrapped\n",
      " function (e.g. large strings).\n",
      "THIS IS A JOBLIB ISSUE. If you can, kindly provide the joblib's team with an\n",
      " example so that they can fix the problem.\n",
      "  **fit_params_steps[name],\n",
      "/usr/local/lib/python3.7/dist-packages/sklearn/pipeline.py:355: UserWarning: Persisting input arguments took 45.44s to run.\n",
      "If this happens often in your code, it can cause performance problems \n",
      "(results will be correct in all cases). \n",
      "The reason for this is probably some large input arguments for a wrapped\n",
      " function (e.g. large strings).\n",
      "THIS IS A JOBLIB ISSUE. If you can, kindly provide the joblib's team with an\n",
      " example so that they can fix the problem.\n",
      "  **fit_params_steps[name],\n"
     ]
    }
   ],
   "source": [
    "X = preprocessing.fit_transform([], y=[])\n",
    "y = preprocessing.label_transformer.label"
   ],
   "metadata": {
    "pycharm": {
     "name": "#%%\n"
    },
    "colab": {
     "base_uri": "https://localhost:8080/"
    },
    "id": "uznS7fUpPRwz",
    "outputId": "3828423b-951b-49c1-c74d-bb5396095551"
   }
  },
  {
   "cell_type": "code",
   "execution_count": 11,
   "outputs": [],
   "source": [
    "from sklearn.model_selection import train_test_split\n",
    "\n",
    "X_train, X_test, y_train, y_test = train_test_split(\n",
    "    X, y, test_size=0.33, random_state=42, shuffle=True\n",
    ")"
   ],
   "metadata": {
    "pycharm": {
     "name": "#%%\n"
    },
    "id": "fbsctirGPRw0"
   }
  },
  {
   "cell_type": "markdown",
   "source": [
    "## Training\n",
    "\n",
    "To train with CPU remove overrides"
   ],
   "metadata": {
    "collapsed": false,
    "pycharm": {
     "name": "#%% md\n"
    },
    "id": "Nta8riaxPRw0"
   }
  },
  {
   "cell_type": "code",
   "execution_count": 12,
   "outputs": [
    {
     "output_type": "stream",
     "name": "stdout",
     "text": [
      "_target_: pipeline.make_pipeline\n",
      "name: classifier\n",
      "steps_config:\n",
      "- Classifier:\n",
      "    _target_: sklearn.linear_model.LogisticRegression\n",
      "    _convert_: all\n",
      "    class_weight: balanced\n",
      "\n"
     ]
    }
   ],
   "source": [
    "from pipeline import get_pipeline\n",
    "\n",
    "classifier = get_pipeline(\n",
    "    name=\"log_reg\",\n",
    "    group='classifier',\n",
    "    debug=True,\n",
    ")"
   ],
   "metadata": {
    "pycharm": {
     "name": "#%%\n"
    },
    "colab": {
     "base_uri": "https://localhost:8080/"
    },
    "id": "RQbsL-SFPRw0",
    "outputId": "75f48107-7a9a-4870-e31b-2238c3314646"
   }
  },
  {
   "cell_type": "code",
   "execution_count": 13,
   "outputs": [
    {
     "output_type": "stream",
     "name": "stderr",
     "text": [
      "/usr/local/lib/python3.7/dist-packages/sklearn/linear_model/_logistic.py:818: ConvergenceWarning: lbfgs failed to converge (status=1):\n",
      "STOP: TOTAL NO. of ITERATIONS REACHED LIMIT.\n",
      "\n",
      "Increase the number of iterations (max_iter) or scale the data as shown in:\n",
      "    https://scikit-learn.org/stable/modules/preprocessing.html\n",
      "Please also refer to the documentation for alternative solver options:\n",
      "    https://scikit-learn.org/stable/modules/linear_model.html#logistic-regression\n",
      "  extra_warning_msg=_LOGISTIC_SOLVER_CONVERGENCE_MSG,\n"
     ]
    },
    {
     "output_type": "execute_result",
     "data": {
      "text/plain": [
       "Pipeline(memory='./.cache/classifier',\n",
       "         steps=[('Classifier', LogisticRegression(class_weight='balanced'))])"
      ]
     },
     "metadata": {},
     "execution_count": 13
    }
   ],
   "source": [
    "classifier.fit(X_train, y_train)"
   ],
   "metadata": {
    "pycharm": {
     "name": "#%%\n"
    },
    "colab": {
     "base_uri": "https://localhost:8080/"
    },
    "id": "uIREp3tIPRw1",
    "outputId": "076d4457-484a-4a7b-f1c8-546e70175716"
   }
  },
  {
   "cell_type": "code",
   "execution_count": 14,
   "outputs": [],
   "source": [
    "y_pred = classifier.predict(X_test)"
   ],
   "metadata": {
    "pycharm": {
     "name": "#%%\n"
    },
    "id": "WcxFnHkzPRw1"
   }
  },
  {
   "cell_type": "code",
   "execution_count": 15,
   "outputs": [
    {
     "output_type": "execute_result",
     "data": {
      "text/plain": [
       "0.9376720996778856"
      ]
     },
     "metadata": {},
     "execution_count": 15
    }
   ],
   "source": [
    "from sklearn.metrics import accuracy_score\n",
    "\n",
    "accuracy_score(y_test, y_pred)"
   ],
   "metadata": {
    "pycharm": {
     "name": "#%%\n"
    },
    "colab": {
     "base_uri": "https://localhost:8080/"
    },
    "id": "qEkhR0wJPRw1",
    "outputId": "b4c404d1-d754-4d33-f4e2-11d94c84269c"
   }
  },
  {
   "cell_type": "code",
   "execution_count": 16,
   "outputs": [
    {
     "output_type": "execute_result",
     "data": {
      "text/plain": [
       "0.9227695582558155"
      ]
     },
     "metadata": {},
     "execution_count": 16
    }
   ],
   "source": [
    "from sklearn.metrics import balanced_accuracy_score\n",
    "\n",
    "balanced_accuracy_score(y_test, y_pred)"
   ],
   "metadata": {
    "pycharm": {
     "name": "#%%\n"
    },
    "colab": {
     "base_uri": "https://localhost:8080/"
    },
    "id": "h3au7i-JPRw1",
    "outputId": "4b613b67-c245-47ba-f23b-fcdebe5b4865"
   }
  },
  {
   "cell_type": "code",
   "execution_count": 17,
   "outputs": [
    {
     "output_type": "execute_result",
     "data": {
      "text/plain": [
       "<sklearn.metrics._plot.roc_curve.RocCurveDisplay at 0x7f5ebe6fe6d0>"
      ]
     },
     "metadata": {},
     "execution_count": 17
    },
    {
     "output_type": "display_data",
     "data": {
      "text/plain": [
       "<Figure size 432x288 with 1 Axes>"
      ],
      "image/png": "[encoded data removed]"
     },
     "metadata": {
      "needs_background": "light"
     }
    }
   ],
   "source": [
    "from sklearn.metrics import RocCurveDisplay\n",
    "\n",
    "RocCurveDisplay.from_predictions(y_test, y_pred)"
   ],
   "metadata": {
    "pycharm": {
     "name": "#%%\n"
    },
    "colab": {
     "base_uri": "https://localhost:8080/",
     "height": 297
    },
    "id": "cQi0mQa-PRw2",
    "outputId": "deac5932-cbd0-423c-a82e-c32ce3ea25e6"
   }
  },
  {
   "cell_type": "code",
   "execution_count": 18,
   "outputs": [
    {
     "output_type": "execute_result",
     "data": {
      "text/plain": [
       "<sklearn.metrics._plot.precision_recall_curve.PrecisionRecallDisplay at 0x7f5ebe260a50>"
      ]
     },
     "metadata": {},
     "execution_count": 18
    },
    {
     "output_type": "display_data",
     "data": {
      "text/plain": [
       "<Figure size 432x288 with 1 Axes>"
      ],
      "image/png": "[encoded data removed]"
     },
     "metadata": {
      "needs_background": "light"
     }
    }
   ],
   "source": [
    "from sklearn.metrics import PrecisionRecallDisplay\n",
    "\n",
    "PrecisionRecallDisplay.from_predictions(y_test, y_pred)"
   ],
   "metadata": {
    "pycharm": {
     "name": "#%%\n"
    },
    "colab": {
     "base_uri": "https://localhost:8080/",
     "height": 297
    },
    "id": "N-yPYj1TPRw2",
    "outputId": "3a0abaf4-925a-4491-cd62-db8ae32794b2"
   }
  },
  {
   "cell_type": "code",
   "execution_count": 19,
   "outputs": [
    {
     "output_type": "execute_result",
     "data": {
      "text/plain": [
       "0.7486328973875749"
      ]
     },
     "metadata": {},
     "execution_count": 19
    }
   ],
   "source": [
    "from sklearn.metrics import average_precision_score\n",
    "\n",
    "average_precision_score(y_test, y_pred)"
   ],
   "metadata": {
    "pycharm": {
     "name": "#%%\n"
    },
    "colab": {
     "base_uri": "https://localhost:8080/"
    },
    "id": "bIeG9df4PRw2",
    "outputId": "fc5d3ecb-cf6d-4be2-b57a-262c413f258e"
   }
  },
  {
   "cell_type": "code",
   "execution_count": 20,
   "outputs": [
    {
     "output_type": "execute_result",
     "data": {
      "text/plain": [
       "['models/log_reg.joblib']"
      ]
     },
     "metadata": {},
     "execution_count": 20
    }
   ],
   "source": [
    "from joblib import dump\n",
    "\n",
    "dump(classifier, 'models/log_reg.joblib')"
   ],
   "metadata": {
    "pycharm": {
     "name": "#%%\n"
    },
    "colab": {
     "base_uri": "https://localhost:8080/"
    },
    "id": "a6U9iPYyPRw2",
    "outputId": "99c48836-c4c2-45d0-d85d-9e61331d0458"
   }
  }
 ],
 "metadata": {
  "kernelspec": {
   "display_name": "Python 3",
   "language": "python",
   "name": "python3"
  },
  "language_info": {
   "codemirror_mode": {
    "name": "ipython",
    "version": 2
   },
   "file_extension": ".py",
   "mimetype": "text/x-python",
   "name": "python",
   "nbconvert_exporter": "python",
   "pygments_lexer": "ipython2",
   "version": "2.7.6"
  },
  "colab": {
   "name": "colab_cat_boost.ipynb",
   "provenance": []
  },
  "accelerator": "GPU",
  "gpuClass": "standard"
 },
 "nbformat": 4,
 "nbformat_minor": 0
}